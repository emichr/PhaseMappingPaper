{
 "cells": [
  {
   "cell_type": "code",
   "execution_count": 2,
   "id": "7a07a166",
   "metadata": {},
   "outputs": [],
   "source": [
    "%matplotlib qt\n",
    "import hyperspy.api as hs\n",
    "import pyxem as pxm\n",
    "import matplotlib.pyplot as plt\n",
    "import numpy as np\n",
    "from pathlib import Path"
   ]
  },
  {
   "cell_type": "code",
   "execution_count": 76,
   "id": "87a5afa2",
   "metadata": {},
   "outputs": [],
   "source": [
    "SMALL_SIZE = 6\n",
    "MEDIUM_SIZE = 8\n",
    "BIGGER_SIZE = 10\n",
    "\n",
    "plt.rc('font', size=SMALL_SIZE)          # controls default text sizes\n",
    "plt.rc('axes', titlesize=SMALL_SIZE)     # fontsize of the axes title\n",
    "plt.rc('axes', labelsize=MEDIUM_SIZE)    # fontsize of the x and y labels\n",
    "plt.rc('xtick', labelsize=SMALL_SIZE)    # fontsize of the tick labels\n",
    "plt.rc('ytick', labelsize=SMALL_SIZE)    # fontsize of the tick labels\n",
    "plt.rc('legend', fontsize=SMALL_SIZE)    # legend fontsize\n",
    "plt.rc('figure', titlesize=BIGGER_SIZE)  # fontsize of the figure title"
   ]
  },
  {
   "cell_type": "code",
   "execution_count": 60,
   "id": "9b0442f7",
   "metadata": {},
   "outputs": [],
   "source": [
    "datapaths = [\n",
    "    Path(r'Y:\\Input\\SPED\\PhaseMappingPaper\\New\\svd\\13331474\\SPED_600x600x12_10x10_4p63x4p63_1deg_100Hz_CL12cm_NBD_alpha5_spot1p3_preprocessed_SVD_None.hspy'),\n",
    "    Path(r'Y:\\Input\\SPED\\PhaseMappingPaper\\New\\svd\\13227194\\SPED_600x600x12_10x10_4p63x4p63_1deg_100Hz_CL12cm_NBD_alpha5_spot1p3_preprocessed_SVD_None_navmask-T1_navmask-theta_100.hspy'),\n",
    "    Path(r'Y:\\Input\\SPED\\PhaseMappingPaperSupplementary\\data\\2022_06_20_prep\\20220620_125312\\svd\\13332102\\SPED_512x512x6_5x5_2p315x2p315_NBD_alpha5_spot1p0nm_CL12cm_1deg_100Hz_preprocessed_SVD_None.hspy'),\n",
    "    Path(r'Y:\\Input\\SPED\\PhaseMappingPaperSupplementary\\data\\2022_06_20_prep\\20220620_125312\\svd\\navmasked1\\13332104\\SPED_512x512x6_5x5_2p315x2p315_NBD_alpha5_spot1p0nm_CL12cm_1deg_100Hz_preprocessed_SVD_None_navmask-theta_100.hspy'),\n",
    "    Path(r'Y:\\Input\\SPED\\PhaseMappingPaperSupplementary\\data\\2022_06_20_prep\\20220620_125312\\svd\\navmasked2\\13332105\\SPED_512x512x6_5x5_2p315x2p315_NBD_alpha5_spot1p0nm_CL12cm_1deg_100Hz_preprocessed_SVD_None_navmask-T1_navmask-theta_100.hspy'),\n",
    "]\n",
    "thresholds = [5, 6, 5, 5, 6]"
   ]
  },
  {
   "cell_type": "code",
   "execution_count": 82,
   "id": "e93af570",
   "metadata": {},
   "outputs": [],
   "source": [
    "dpi=300\n",
    "textwidth = 468 #pt\n",
    "axes_per_line = 3\n",
    "figwidth = textwidth/axes_per_line\n",
    "pt2in = 0.01389\n",
    "figsize = (figwidth*pt2in, figwidth*pt2in)\n",
    "markersize = 4\n",
    "for datapath, threshold in zip(datapaths, thresholds):\n",
    "    signal = hs.load(str(datapath), lazy=True)\n",
    "    fig, ax = plt.subplots(figsize=figsize, dpi=dpi)\n",
    "    signal.plot_explained_variance_ratio(n=32,\n",
    "                                         threshold=threshold,\n",
    "                                         xaxis_type='number',\n",
    "                                         xaxis_labeling='ordinal',\n",
    "                                         signal_fmt={'marker': 'o', 'color': 'k', 'markerfacecolor': 'k', 'lw': 0, 'ms':markersize},\n",
    "                                         noise_fmt={'marker':'o', 'color': 'k', 'markerfacecolor': 'w', 'lw': 0, 'ms':markersize},\n",
    "                                         fig=fig,\n",
    "                                         ax=ax\n",
    "                                        )\n",
    "    ax.set_title('')\n",
    "    ax.set_xlim(0)\n",
    "    plt.tight_layout()\n",
    "    fig.savefig(datapath.with_suffix('.png'), dpi=dpi)"
   ]
  },
  {
   "cell_type": "code",
   "execution_count": null,
   "id": "e0370455",
   "metadata": {},
   "outputs": [],
   "source": []
  }
 ],
 "metadata": {
  "kernelspec": {
   "display_name": "Python 3 (ipykernel)",
   "language": "python",
   "name": "python3"
  },
  "language_info": {
   "codemirror_mode": {
    "name": "ipython",
    "version": 3
   },
   "file_extension": ".py",
   "mimetype": "text/x-python",
   "name": "python",
   "nbconvert_exporter": "python",
   "pygments_lexer": "ipython3",
   "version": "3.10.6"
  }
 },
 "nbformat": 4,
 "nbformat_minor": 5
}
