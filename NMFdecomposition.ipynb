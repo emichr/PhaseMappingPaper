{
 "cells": [
  {
   "cell_type": "code",
   "execution_count": 33,
   "id": "d4300c59-6dc2-4093-8c0b-405be25bf5a7",
   "metadata": {},
   "outputs": [],
   "source": [
    "%matplotlib qt\n",
    "\n",
    "import hyperspy.api as hs\n",
    "import pyxem as pxm\n",
    "import numpy as np\n",
    "import time\n",
    "import matplotlib.pyplot as plt\n",
    "from pathlib import Path\n",
    "from matplotlib.colors import to_rgba\n",
    "from matplotlib.colors import LinearSegmentedColormap\n",
    "color_names = ['linen', 'darkorange', 'dodgerblue', 'forestgreen', 'red']\n",
    "colors = [to_rgba(c) for c in color_names]\n",
    "\n",
    "cmap = LinearSegmentedColormap.from_list('gt_cmap', colors, N=len(color_names))\n",
    "\n",
    "gray_cmap = plt.colormaps.get('Greys')\n",
    "gray_cmap.set_bad('lightblue')"
   ]
  },
  {
   "cell_type": "code",
   "execution_count": 2,
   "id": "f5626f85-4442-40a8-bb2d-622f022d598c",
   "metadata": {},
   "outputs": [],
   "source": [
    "def get_masks_from_metadata(signal):\n",
    "    \"\"\"\n",
    "    Returns the summed diffraction and navigation masks from a signals metadata\n",
    "    \n",
    "    Arguments:\n",
    "    ----------\n",
    "    signal: The hyperspy signal to extract the masks from. Diffraction masks will be looked for under \"Preprocessing/Masks/Diffraction\" and navigation masks will be looked for under \"Preprocessing/Masks/Navigation\".\n",
    "    \n",
    "    Returns:\n",
    "    --------\n",
    "    diffmask, navmask: The summed diffraction mask and the summed navmask\n",
    "    \"\"\"\n",
    "    \n",
    "    try:\n",
    "        masks = [mask for mask in signal.metadata.Preprocessing.Masks.Diffraction]\n",
    "    except AttributeError as e:\n",
    "        print(f'No Diffraction mask available in metadata:\\n{e}')\n",
    "        diffmask = None\n",
    "    else:\n",
    "        print(f'Found {len(masks)} diffraction masks in the metadata')\n",
    "        diffmask = masks[0][1].deepcopy()\n",
    "        try:\n",
    "            diffmask.compute()\n",
    "        except AttributeError:\n",
    "            pass\n",
    "        diffmask.data = np.zeros(s.axes_manager.signal_shape, dtype=bool)  # Create mask\n",
    "        title = []\n",
    "        for mask_name, mask in masks:  # Iterate and add masks together\n",
    "            try:\n",
    "                mask.compute()\n",
    "            except AttributeError:\n",
    "                pass\n",
    "            title.append(mask_name.strip())\n",
    "            print(f'Adding mask \"{mask_name}\" {mask} to diffraction mask')\n",
    "            diffmask += mask\n",
    "        diffmask.metadata.General.title = f'Diffraction mask [{\", \".join(title)}]'\n",
    "    \n",
    "    try:\n",
    "        masks = [mask for mask in signal.metadata.Preprocessing.Masks.Navigation]  # Extract the navigation masks from the metadata\n",
    "    except AttributeError as e:\n",
    "        print(f'No Navigation masks available in metdata:\\n{e}')\n",
    "        navmask = None\n",
    "    else:\n",
    "        print(f'Found {len(masks)} navigation masks in the metadata')\n",
    "        navmask = masks[0][1].deepcopy()\n",
    "        try:\n",
    "            navmask.compute()\n",
    "        except AttributeError:\n",
    "            pass\n",
    "        navmask.data = np.zeros(s.axes_manager.navigation_shape, dtype=bool)  # Create mask\n",
    "        title = f''\n",
    "        for mask_name, mask in masks:  # Iterate and add masks together\n",
    "            try:\n",
    "                mask.compute()\n",
    "            except AttributeError:\n",
    "                pass\n",
    "            title = f'{title}, {mask_name.strip()}'\n",
    "            print(f'Adding mask \"{mask_name}\" {mask} to navigation mask')\n",
    "            navmask += mask\n",
    "        navmask.metadata.General.title = f'Navigation mask [{title}]'\n",
    "    \n",
    "    return diffmask, navmask\n",
    "\n",
    "def estimate_threshold(loadings, component, method=None):\n",
    "    if method is None:\n",
    "        _ = try_all_threshold(np.nan_to_num(loadings.inav[component].data, copy=True, nan=np.nanmin(loadings.inav[component].data)))\n",
    "        fig = plt.gcf()\n",
    "        fig.suptitle(component)\n",
    "    else:\n",
    "        return method(np.nan_to_num(loadings.inav[component].data, copy=True, nan=np.nanmin(loadings.inav[component].data)))"
   ]
  },
  {
   "cell_type": "markdown",
   "id": "4fea50e0-4be0-4036-9474-f66d3a8da115",
   "metadata": {},
   "source": [
    "# Dataset A\n",
    "\n",
    "## Load and prepare data"
   ]
  },
  {
   "cell_type": "code",
   "execution_count": 3,
   "id": "8000d1c2-380e-49c4-a6bf-4a24f2b77b3b",
   "metadata": {},
   "outputs": [],
   "source": [
    "filepath = Path(r'C:\\Users\\emilc\\OneDrive - NTNU\\NORTEM\\Data\\PhaseMappingPaper\\Data\\Dataset A\\datasetA_preprocessed.hspy')"
   ]
  },
  {
   "cell_type": "code",
   "execution_count": 50,
   "id": "aef7bcb6-bb33-427a-80d4-045ca157ab67",
   "metadata": {},
   "outputs": [
    {
     "data": {
      "text/plain": [
       "[<AxesSubplot: title={'center': 'Integrated intensity'}, xlabel='x axis (nm)', ylabel='y axis (nm)'>,\n",
       " <AxesSubplot: title={'center': 'Dataset A'}, xlabel='kx axis ($A^{-1}$)', ylabel='ky axis ($A^{-1}$)'>]"
      ]
     },
     "execution_count": 50,
     "metadata": {},
     "output_type": "execute_result"
    }
   ],
   "source": [
    "s = hs.load(str(filepath), lazy=False)\n",
    "s.change_dtype('float32')\n",
    "vbf = s.get_integrated_intensity(hs.roi.CircleROI(0.0, 0.0, 0.1))\n",
    "maximums = s.max(axis=[0, 1])\n",
    "try:\n",
    "    vbf.compute()\n",
    "    maximums.compute()\n",
    "except AttributeError:\n",
    "    pass\n",
    "hs.plot.plot_images([vbf, maximums], norm='symlog', axes_decor='off', colorbar=None, cmap='gray_r')"
   ]
  },
  {
   "cell_type": "markdown",
   "id": "d4b84455-25c8-4f93-9f6f-282eec8dae07",
   "metadata": {},
   "source": [
    "## Get the pre-made masks from the metadata (see preprocessing notebook for details)"
   ]
  },
  {
   "cell_type": "code",
   "execution_count": 51,
   "id": "d53e3c55-be8c-40e7-ae20-5cb35f29e2c4",
   "metadata": {},
   "outputs": [
    {
     "name": "stdout",
     "output_type": "stream",
     "text": [
      "Found 3 diffraction masks in the metadata\n",
      "Adding mask \"cutoff\" <Signal2D, title: <7.001e-01 $A^{-1}$ mask, dimensions: (|128, 128)> to diffraction mask\n",
      "Adding mask \"direct_beam\" <Signal2D, title: >1.595e-01 $A^{-1}$ mask, dimensions: (|128, 128)> to diffraction mask\n",
      "Adding mask \"reflections\" <Signal2D, title: Reflection mask, dimensions: (|128, 128)> to diffraction mask\n",
      "No Navigation masks available in metdata:\n",
      "Navigation\n"
     ]
    }
   ],
   "source": [
    "diffmask, navmask = get_masks_from_metadata(s)\n",
    "if diffmask is not None:\n",
    "    hs.plot.plot_images([maximums, diffmask*1.0], overlay=True, alphas=[1, 0.5], colors=['w', 'r'], axes_decor='off')\n",
    "if navmask is not None:\n",
    "    hs.plot.plot_images([vbf, navmask*1.0], overlay=True, alphas=[1, 0.5], colros=['w', 'r'], axes_decor='off')"
   ]
  },
  {
   "cell_type": "markdown",
   "id": "97897ad0-4c95-4b5c-a871-c7746b4cfbfe",
   "metadata": {},
   "source": [
    "## Run SVD decomposition"
   ]
  },
  {
   "cell_type": "code",
   "execution_count": 53,
   "id": "28903135-d98a-4ced-94fd-6297aecbb5a3",
   "metadata": {},
   "outputs": [
    {
     "name": "stderr",
     "output_type": "stream",
     "text": [
      "C:\\Users\\emilc\\Miniconda3\\envs\\pyxem0.14.2\\lib\\site-packages\\hyperspy\\learn\\mva.py:585: RuntimeWarning: invalid value encountered in divide\n",
      "  explained_variance_ratio = explained_variance / explained_variance.sum()\n"
     ]
    },
    {
     "name": "stdout",
     "output_type": "stream",
     "text": [
      "Decomposition info:\n",
      "  normalize_poissonian_noise=True\n",
      "  algorithm=SVD\n",
      "  output_dimension=None\n",
      "  centre=None\n",
      "Finished decomposition. Elapsed time: 3151.565973520279 seconds\n",
      "Decoposition parameters: None\n"
     ]
    },
    {
     "ename": "AttributeError",
     "evalue": "'NoneType' object has no attribute 'reconstruction_err_'",
     "output_type": "error",
     "traceback": [
      "\u001b[1;31m---------------------------------------------------------------------------\u001b[0m",
      "\u001b[1;31mAttributeError\u001b[0m                            Traceback (most recent call last)",
      "Cell \u001b[1;32mIn [53], line 17\u001b[0m\n\u001b[0;32m     15\u001b[0m \u001b[38;5;28mprint\u001b[39m(\u001b[38;5;124mf\u001b[39m\u001b[38;5;124m'\u001b[39m\u001b[38;5;124mFinished decomposition. Elapsed time: \u001b[39m\u001b[38;5;132;01m{\u001b[39;00mtoc \u001b[38;5;241m-\u001b[39m tic\u001b[38;5;132;01m}\u001b[39;00m\u001b[38;5;124m seconds\u001b[39m\u001b[38;5;124m'\u001b[39m)\n\u001b[0;32m     16\u001b[0m \u001b[38;5;28mprint\u001b[39m(\u001b[38;5;124mf\u001b[39m\u001b[38;5;124m'\u001b[39m\u001b[38;5;124mDecoposition parameters: \u001b[39m\u001b[38;5;132;01m{\u001b[39;00mdecomp\u001b[38;5;132;01m}\u001b[39;00m\u001b[38;5;124m'\u001b[39m)\n\u001b[1;32m---> 17\u001b[0m \u001b[38;5;28mprint\u001b[39m(\u001b[38;5;124mf\u001b[39m\u001b[38;5;124m'\u001b[39m\u001b[38;5;124mDecomposition reconstruction error: \u001b[39m\u001b[38;5;132;01m{\u001b[39;00m\u001b[43mdecomp\u001b[49m\u001b[38;5;241;43m.\u001b[39;49m\u001b[43mreconstruction_err_\u001b[49m\u001b[38;5;132;01m}\u001b[39;00m\u001b[38;5;124m'\u001b[39m)\n\u001b[0;32m     18\u001b[0m \u001b[38;5;28mprint\u001b[39m(\u001b[38;5;124mf\u001b[39m\u001b[38;5;124m'\u001b[39m\u001b[38;5;124mDecomposition number of iterations: \u001b[39m\u001b[38;5;132;01m{\u001b[39;00mdecomp\u001b[38;5;241m.\u001b[39mn_iter_\u001b[38;5;132;01m}\u001b[39;00m\u001b[38;5;124m'\u001b[39m)\n\u001b[0;32m     19\u001b[0m s\u001b[38;5;241m.\u001b[39mlearning_Results\u001b[38;5;241m.\u001b[39msave(\u001b[38;5;124mf\u001b[39m\u001b[38;5;124m'\u001b[39m\u001b[38;5;132;01m{\u001b[39;00mfilepath\u001b[38;5;132;01m}\u001b[39;00m\u001b[38;5;124m_SVD1.hspy\u001b[39m\u001b[38;5;124m'\u001b[39m)\n",
      "\u001b[1;31mAttributeError\u001b[0m: 'NoneType' object has no attribute 'reconstruction_err_'"
     ]
    }
   ],
   "source": [
    "tic = time.time()\n",
    "if navmask is not None:\n",
    "    transposed_navmask = navmask.data.transpose()\n",
    "else:\n",
    "    transposed_navmask = None\n",
    "    \n",
    "decomp = s.decomposition(\n",
    "    normalize_poissonian_noise=True,\n",
    "    algorithm='SVD',\n",
    "    navigation_mask=transposed_navmask,\n",
    "    signal_mask=diffmask.data,\n",
    "    return_info=True\n",
    ")\n",
    "toc = time.time()\n",
    "print(f'Finished decomposition. Elapsed time: {toc - tic} seconds')\n",
    "s.learning_results.save(filepath.with_name(f'{filepath.stem}_SVD1.hspy'))"
   ]
  },
  {
   "cell_type": "code",
   "execution_count": 63,
   "id": "c722bada-b3a6-4510-832e-f2fdccad6a22",
   "metadata": {},
   "outputs": [],
   "source": [
    "threshold = 6 #where the estimated threshold in the explained variance is - tune!\n",
    "markersize = 4 #Marker size for the plot\n",
    "dpi=300 #DPI\n",
    "figwidth = 468/3 #figure size in points\n",
    "pt2in = 0.01389 #conversion from points to inches\n",
    "figsize = (figwidth*pt2in, figwidth*pt2in) #Figuresize in inches\n",
    "fig, ax = plt.subplots(figsize=figsize, dpi=dpi)\n",
    "s.plot_explained_variance_ratio(n=32,\n",
    "                                threshold=threshold,\n",
    "                                xaxis_type='number',\n",
    "                                xaxis_labeling='ordinal',\n",
    "                                ignal_fmt={'marker': 'o', 'color': 'k', 'markerfacecolor': 'k', 'lw': 0, 'ms':markersize},\n",
    "                                noise_fmt={'marker':'o', 'color': 'k', 'markerfacecolor': 'w', 'lw': 0, 'ms':markersize},\n",
    "                                fig=fig,\n",
    "                                ax=ax\n",
    "                               )\n",
    "ax.set_title('')\n",
    "ax.set_xlim(0)\n",
    "plt.tight_layout()\n",
    "fig.savefig(filepath.with_name(f'{filepath.stem}_SVD1.png'), dpi=dpi)"
   ]
  },
  {
   "cell_type": "markdown",
   "id": "5e816cba-fa48-44bd-b9c0-3c8c0cfbced6",
   "metadata": {},
   "source": [
    "## Run first NMF decomposition"
   ]
  },
  {
   "cell_type": "code",
   "execution_count": null,
   "id": "021c1e1a-406e-4724-87c5-e5f5a24402f4",
   "metadata": {},
   "outputs": [],
   "source": [
    "output_dimension = 6 #The number of components to allow\n",
    "tic = time.time()\n",
    "if navmask is not None:\n",
    "    transposed_navmask = navmask.data.transpose()\n",
    "else:\n",
    "    transposed_navmask = None\n",
    "decomp = s.decomposition(\n",
    "    normalize_poissonian_noise=True,\n",
    "    algorithm='NMF',\n",
    "    output_dimension=output_dimension,\n",
    "    navigation_mask=transposed_navmask,\n",
    "    signal_mask=diffmask.data,\n",
    "    return_info=True,\n",
    "    init='nndsvd',\n",
    "    max_iter=10000\n",
    ")\n",
    "toc = time.time()\n",
    "print(f'Finished decomposition. Elapsed time: {toc - tic} seconds')\n",
    "print(f'Decoposition parameters: {decomp}')\n",
    "print(f'Decomposition reconstruction error: {decomp.reconstruction_err_}')\n",
    "print(f'Decomposition number of iterations: {decomp.n_iter_}')\n",
    "\n",
    "#Save the decomposition results\n",
    "s.learning_results.save(filepath.with_name(f'{filepath.stem}_NMF1_{output_dimension}.hspy'))\n",
    "\n",
    "#Save the factors and loadings individually as well\n",
    "factors = signal.get_decomposition_factors()\n",
    "loadings = signal.get_decomposition_loadings()\n",
    "if decomp is not None:\n",
    "    factors.metadata.add_dictionary({'Decomposition': decomp.__dict__()})\n",
    "    loadings.metadata.add_dictionary({'Decomposition': decomp.__dict__()})\n",
    "factors.save(filepath.with_name(f'{filepath.stem}_NMF1_{output_dimension}_factors.hspy'))\n",
    "loadings.save(filepath.with_name(f'{filepath.stem}_NMF1_{output_dimension}_loadings.hspy'))"
   ]
  },
  {
   "cell_type": "code",
   "execution_count": null,
   "id": "68e1814a-bbda-4bd0-a2ec-d88aaa991d52",
   "metadata": {},
   "outputs": [],
   "source": [
    "hs.plot.plot_images(loadings, per_row=output_dimension, cmap='grays', axes_decor='off')\n",
    "hs.plot.plot_images(factors, per_row=output_dimension, cmap='grays', norm='symlog', axes_decor='off')"
   ]
  },
  {
   "cell_type": "markdown",
   "id": "26a4b83a-ed89-4513-8ba8-e0f62cd6914b",
   "metadata": {},
   "source": [
    "### Estimate thresholds for phase map"
   ]
  },
  {
   "cell_type": "code",
   "execution_count": 51,
   "id": "d6b9aa26-a44c-4bb6-8b7d-fdcddea566c2",
   "metadata": {},
   "outputs": [],
   "source": [
    "l1 = hs.load(Path(r'C:\\Users\\emilc\\OneDrive - NTNU\\NORTEM\\Data\\PhaseMappingPaper\\Data\\NMF troubleshooting\\17428150\\datasetA_preprocessed_NMF_5_loadings.hspy'))\n",
    "l2 = hs.load(Path(r'C:\\Users\\emilc\\OneDrive - NTNU\\NORTEM\\Data\\PhaseMappingPaper\\Data\\NMF troubleshooting\\17442425\\datasetA_preprocessed_NMF_5_loadings.hspy'))"
   ]
  },
  {
   "cell_type": "code",
   "execution_count": 53,
   "id": "923a9b2d-ef7f-4574-960d-5d55b5752ad4",
   "metadata": {},
   "outputs": [
    {
     "data": {
      "text/plain": [
       "[<AxesSubplot: title={'center': ' (0,)'}, xlabel='x axis (nm)', ylabel='y axis (nm)'>,\n",
       " <AxesSubplot: title={'center': ' (1,)'}, xlabel='x axis (nm)', ylabel='y axis (nm)'>,\n",
       " <AxesSubplot: title={'center': ' (2,)'}, xlabel='x axis (nm)', ylabel='y axis (nm)'>,\n",
       " <AxesSubplot: title={'center': ' (3,)'}, xlabel='x axis (nm)', ylabel='y axis (nm)'>,\n",
       " <AxesSubplot: title={'center': ' (4,)'}, xlabel='x axis (nm)', ylabel='y axis (nm)'>,\n",
       " <AxesSubplot: title={'center': ' (0,)'}, xlabel='x axis (nm)', ylabel='y axis (nm)'>,\n",
       " <AxesSubplot: title={'center': ' (1,)'}, xlabel='x axis (nm)', ylabel='y axis (nm)'>,\n",
       " <AxesSubplot: title={'center': ' (2,)'}, xlabel='x axis (nm)', ylabel='y axis (nm)'>,\n",
       " <AxesSubplot: title={'center': ' (3,)'}, xlabel='x axis (nm)', ylabel='y axis (nm)'>,\n",
       " <AxesSubplot: title={'center': ' (4,)'}, xlabel='x axis (nm)', ylabel='y axis (nm)'>]"
      ]
     },
     "execution_count": 53,
     "metadata": {},
     "output_type": "execute_result"
    }
   ],
   "source": [
    "hs.plot.plot_images([l1, l2], per_row=5, axes_decor='off')"
   ]
  },
  {
   "cell_type": "code",
   "execution_count": 47,
   "id": "7bb80f9d-82b1-48d8-a32c-ec8d80e56d6f",
   "metadata": {},
   "outputs": [
    {
     "data": {
      "text/html": [
       "<ul style=\"margin: 0px; list-style-position: outside;\">\n",
       "                    <details open>\n",
       "                    <summary style=\"display: list-item;\">\n",
       "                    <li style=\"display: inline;\">\n",
       "                    Decomposition\n",
       "                    </li></summary>\n",
       "                    \n",
       "    <ul style=\"margin: 0px; list-style-position: outside;\">\n",
       "    <li style='margin-left:1em; padding-left: 0.5em'>alpha_H = same</li></ul>\n",
       "    \n",
       "    <ul style=\"margin: 0px; list-style-position: outside;\">\n",
       "    <li style='margin-left:1em; padding-left: 0.5em'>alpha_W = 0.0</li></ul>\n",
       "    \n",
       "    <ul style=\"margin: 0px; list-style-position: outside;\">\n",
       "    <li style='margin-left:1em; padding-left: 0.5em'>beta_loss = frobenius</li></ul>\n",
       "    \n",
       "    <ul style=\"margin: 0px; list-style-position: outside;\">\n",
       "    <li style='margin-left:1em; padding-left: 0.5em'>components_ = array([[0.04906527, 0.05076411, 0.04678811, ..., 0.04932442, 0.0497854 ,\n",
       "      ...  0.00838023, ..., 0.00294198, 0.00325558,\n",
       "        0.00388959]], dtype=float32)</li></ul>\n",
       "    \n",
       "    <ul style=\"margin: 0px; list-style-position: outside;\">\n",
       "    <li style='margin-left:1em; padding-left: 0.5em'>init = nndsvd</li></ul>\n",
       "    \n",
       "    <ul style=\"margin: 0px; list-style-position: outside;\">\n",
       "    <li style='margin-left:1em; padding-left: 0.5em'>l1_ratio = 0.0</li></ul>\n",
       "    \n",
       "    <ul style=\"margin: 0px; list-style-position: outside;\">\n",
       "    <li style='margin-left:1em; padding-left: 0.5em'>max_iter = 10000</li></ul>\n",
       "    \n",
       "    <ul style=\"margin: 0px; list-style-position: outside;\">\n",
       "    <li style='margin-left:1em; padding-left: 0.5em'>n_components = 5</li></ul>\n",
       "    \n",
       "    <ul style=\"margin: 0px; list-style-position: outside;\">\n",
       "    <li style='margin-left:1em; padding-left: 0.5em'>n_components_ = 5</li></ul>\n",
       "    \n",
       "    <ul style=\"margin: 0px; list-style-position: outside;\">\n",
       "    <li style='margin-left:1em; padding-left: 0.5em'>n_features_in_ = 2869</li></ul>\n",
       "    \n",
       "    <ul style=\"margin: 0px; list-style-position: outside;\">\n",
       "    <li style='margin-left:1em; padding-left: 0.5em'>n_iter_ = 7986</li></ul>\n",
       "    \n",
       "    <ul style=\"margin: 0px; list-style-position: outside;\">\n",
       "    <li style='margin-left:1em; padding-left: 0.5em'>random_state = None</li></ul>\n",
       "    \n",
       "    <ul style=\"margin: 0px; list-style-position: outside;\">\n",
       "    <li style='margin-left:1em; padding-left: 0.5em'>reconstruction_err_ = 0.1890331213958275</li></ul>\n",
       "    \n",
       "    <ul style=\"margin: 0px; list-style-position: outside;\">\n",
       "    <li style='margin-left:1em; padding-left: 0.5em'>shuffle = False</li></ul>\n",
       "    \n",
       "    <ul style=\"margin: 0px; list-style-position: outside;\">\n",
       "    <li style='margin-left:1em; padding-left: 0.5em'>solver = cd</li></ul>\n",
       "    \n",
       "    <ul style=\"margin: 0px; list-style-position: outside;\">\n",
       "    <li style='margin-left:1em; padding-left: 0.5em'>tol = 0.0001</li></ul>\n",
       "    \n",
       "    <ul style=\"margin: 0px; list-style-position: outside;\">\n",
       "    <li style='margin-left:1em; padding-left: 0.5em'>verbose = 0</li></ul>\n",
       "    </details></ul><ul style=\"margin: 0px; list-style-position: outside;\">\n",
       "                    <details open>\n",
       "                    <summary style=\"display: list-item;\">\n",
       "                    <li style=\"display: inline;\">\n",
       "                    General\n",
       "                    </li></summary>\n",
       "                    <ul style=\"margin: 0px; list-style-position: outside;\">\n",
       "                    <details closed>\n",
       "                    <summary style=\"display: list-item;\">\n",
       "                    <li style=\"display: inline;\">\n",
       "                    FileIO\n",
       "                    </li></summary>\n",
       "                    <ul style=\"margin: 0px; list-style-position: outside;\">\n",
       "                    <details closed>\n",
       "                    <summary style=\"display: list-item;\">\n",
       "                    <li style=\"display: inline;\">\n",
       "                    0\n",
       "                    </li></summary>\n",
       "                    \n",
       "    <ul style=\"margin: 0px; list-style-position: outside;\">\n",
       "    <li style='margin-left:1em; padding-left: 0.5em'>hyperspy_version = 1.7.3</li></ul>\n",
       "    \n",
       "    <ul style=\"margin: 0px; list-style-position: outside;\">\n",
       "    <li style='margin-left:1em; padding-left: 0.5em'>io_plugin = hyperspy.io_plugins.hspy</li></ul>\n",
       "    \n",
       "    <ul style=\"margin: 0px; list-style-position: outside;\">\n",
       "    <li style='margin-left:1em; padding-left: 0.5em'>operation = save</li></ul>\n",
       "    \n",
       "    <ul style=\"margin: 0px; list-style-position: outside;\">\n",
       "    <li style='margin-left:1em; padding-left: 0.5em'>timestamp = 2023-03-13T19:10:13.511282+01:00</li></ul>\n",
       "    </details></ul><ul style=\"margin: 0px; list-style-position: outside;\">\n",
       "                    <details closed>\n",
       "                    <summary style=\"display: list-item;\">\n",
       "                    <li style=\"display: inline;\">\n",
       "                    1\n",
       "                    </li></summary>\n",
       "                    \n",
       "    <ul style=\"margin: 0px; list-style-position: outside;\">\n",
       "    <li style='margin-left:1em; padding-left: 0.5em'>hyperspy_version = 1.7.3</li></ul>\n",
       "    \n",
       "    <ul style=\"margin: 0px; list-style-position: outside;\">\n",
       "    <li style='margin-left:1em; padding-left: 0.5em'>io_plugin = hyperspy.io_plugins.hspy</li></ul>\n",
       "    \n",
       "    <ul style=\"margin: 0px; list-style-position: outside;\">\n",
       "    <li style='margin-left:1em; padding-left: 0.5em'>operation = load</li></ul>\n",
       "    \n",
       "    <ul style=\"margin: 0px; list-style-position: outside;\">\n",
       "    <li style='margin-left:1em; padding-left: 0.5em'>timestamp = 2023-03-14T08:04:19.564750+01:00</li></ul>\n",
       "    </details></ul></details></ul>\n",
       "    <ul style=\"margin: 0px; list-style-position: outside;\">\n",
       "    <li style='margin-left:1em; padding-left: 0.5em'>title = Decomposition loadings of Dataset A</li></ul>\n",
       "    </details></ul><ul style=\"margin: 0px; list-style-position: outside;\">\n",
       "                    <details open>\n",
       "                    <summary style=\"display: list-item;\">\n",
       "                    <li style=\"display: inline;\">\n",
       "                    Signal\n",
       "                    </li></summary>\n",
       "                    \n",
       "    <ul style=\"margin: 0px; list-style-position: outside;\">\n",
       "    <li style='margin-left:1em; padding-left: 0.5em'>signal_type = </li></ul>\n",
       "    </details></ul>"
      ],
      "text/plain": [
       "├── Decomposition\n",
       "│   ├── alpha_H = same\n",
       "│   ├── alpha_W = 0.0\n",
       "│   ├── beta_loss = frobenius\n",
       "│   ├── components_ = array([[0.04906527, 0.05076411, 0.04678811, ..., 0.04932442, 0.0497854 ,\n",
       "      ...  0.00838023, ..., 0.00294198, 0.00325558,\n",
       "        0.00388959]], dtype=float32)\n",
       "│   ├── init = nndsvd\n",
       "│   ├── l1_ratio = 0.0\n",
       "│   ├── max_iter = 10000\n",
       "│   ├── n_components = 5\n",
       "│   ├── n_components_ = 5\n",
       "│   ├── n_features_in_ = 2869\n",
       "│   ├── n_iter_ = 7986\n",
       "│   ├── random_state = None\n",
       "│   ├── reconstruction_err_ = 0.1890331213958275\n",
       "│   ├── shuffle = False\n",
       "│   ├── solver = cd\n",
       "│   ├── tol = 0.0001\n",
       "│   └── verbose = 0\n",
       "├── General\n",
       "│   ├── FileIO\n",
       "│   │   ├── 0\n",
       "│   │   │   ├── hyperspy_version = 1.7.3\n",
       "│   │   │   ├── io_plugin = hyperspy.io_plugins.hspy\n",
       "│   │   │   ├── operation = save\n",
       "│   │   │   └── timestamp = 2023-03-13T19:10:13.511282+01:00\n",
       "│   │   └── 1\n",
       "│   │       ├── hyperspy_version = 1.7.3\n",
       "│   │       ├── io_plugin = hyperspy.io_plugins.hspy\n",
       "│   │       ├── operation = load\n",
       "│   │       └── timestamp = 2023-03-14T08:04:19.564750+01:00\n",
       "│   └── title = Decomposition loadings of Dataset A\n",
       "└── Signal\n",
       "    └── signal_type = "
      ]
     },
     "execution_count": 47,
     "metadata": {},
     "output_type": "execute_result"
    }
   ],
   "source": [
    "loadings.metadata"
   ]
  },
  {
   "cell_type": "code",
   "execution_count": 5,
   "id": "b1e0c0fc-c251-44ae-94e6-27d8d2791f1c",
   "metadata": {},
   "outputs": [],
   "source": [
    "loadings.plot()"
   ]
  },
  {
   "cell_type": "code",
   "execution_count": 8,
   "id": "b4f1fd6b-2375-409b-8ee0-dcc1ed682a61",
   "metadata": {},
   "outputs": [],
   "source": [
    "from skimage.filters import try_all_threshold, threshold_li, threshold_triangle"
   ]
  },
  {
   "cell_type": "code",
   "execution_count": null,
   "id": "6da11ee8-26d3-4789-a290-be08fc7ff606",
   "metadata": {},
   "outputs": [],
   "source": []
  },
  {
   "cell_type": "code",
   "execution_count": 10,
   "id": "51424d8d-c933-44c3-9de3-66ae095abe00",
   "metadata": {},
   "outputs": [],
   "source": [
    "method = None\n",
    "components = [1, 2, 3, 4]\n",
    "methods = [threshold_triangle, threshold_triangle, threshold_li, threshold_li]\n",
    "thresholds = {component: estimate_threshold(loadings, component, method) for (component, method) in zip(components, methods)}"
   ]
  },
  {
   "cell_type": "code",
   "execution_count": 11,
   "id": "d6033f1c-80e3-415a-8d55-f85df837886d",
   "metadata": {},
   "outputs": [
    {
     "data": {
      "text/plain": [
       "{1: 0.00012760356, 2: 0.00014046804, 3: 0.00057723, 4: 0.0006080403}"
      ]
     },
     "execution_count": 11,
     "metadata": {},
     "output_type": "execute_result"
    }
   ],
   "source": [
    "thresholds"
   ]
  },
  {
   "cell_type": "code",
   "execution_count": 13,
   "id": "7d6e1213-1ff8-41c9-b83c-a6c3803233da",
   "metadata": {},
   "outputs": [],
   "source": [
    "theta_100 = [loadings.inav[component]>=thresholds[component] for component in (3,4)]\n",
    "T1 = [loadings.inav[component]>=thresholds[component] for component in (1, 2)] #Scale the threshold slightly\n",
    "\n",
    "#theta_100_mask = sum(theta_100)\n",
    "#T1_mask = sum(T1)\n"
   ]
  },
  {
   "cell_type": "code",
   "execution_count": 28,
   "id": "e157b2d9-b629-4223-85b6-57990b2376a4",
   "metadata": {},
   "outputs": [
    {
     "data": {
      "text/plain": [
       "[<Signal2D, title: Decomposition loadings of Dataset A, dimensions: (|512, 512)>,\n",
       " <Signal2D, title: Decomposition loadings of Dataset A, dimensions: (|512, 512)>,\n",
       " <Signal2D, title: Decomposition loadings of Dataset A, dimensions: (|512, 512)>,\n",
       " <Signal2D, title: Decomposition loadings of Dataset A, dimensions: (|512, 512)>]"
      ]
     },
     "execution_count": 28,
     "metadata": {},
     "output_type": "execute_result"
    }
   ],
   "source": [
    "theta_100 + T1"
   ]
  },
  {
   "cell_type": "code",
   "execution_count": 34,
   "id": "80817512-8cec-4c20-857a-3e857382e13f",
   "metadata": {},
   "outputs": [
    {
     "data": {
      "text/plain": [
       "['linen', 'darkorange', 'dodgerblue', 'forestgreen', 'red']"
      ]
     },
     "execution_count": 34,
     "metadata": {},
     "output_type": "execute_result"
    }
   ],
   "source": [
    "color_names"
   ]
  },
  {
   "cell_type": "code",
   "execution_count": 35,
   "id": "056378fa-0a0e-46a5-b6c4-f4530eec82ca",
   "metadata": {},
   "outputs": [
    {
     "data": {
      "text/plain": [
       "[(0.9803921568627451, 0.9411764705882353, 0.9019607843137255, 1.0),\n",
       " (1.0, 0.5490196078431373, 0.0, 1.0),\n",
       " (0.11764705882352941, 0.5647058823529412, 1.0, 1.0),\n",
       " (0.13333333333333333, 0.5450980392156862, 0.13333333333333333, 1.0),\n",
       " (1.0, 0.0, 0.0, 1.0)]"
      ]
     },
     "execution_count": 35,
     "metadata": {},
     "output_type": "execute_result"
    }
   ],
   "source": [
    "colors"
   ]
  },
  {
   "cell_type": "code",
   "execution_count": 46,
   "id": "0c6d32f6-273c-4a0f-a8b4-15a775e3e066",
   "metadata": {},
   "outputs": [
    {
     "data": {
      "text/plain": [
       "[<AxesSubplot: >]"
      ]
     },
     "execution_count": 46,
     "metadata": {},
     "output_type": "execute_result"
    }
   ],
   "source": [
    "hs.plot.plot_images([m*1.0 for m in T1 + theta_100], overlay=True, colors=[colors[3], colors[3], colors[1], colors[1]], label=['T$_1$', 'T$_1$', '$\\theta_{100}$', '$\\theta_{100}$'])"
   ]
  },
  {
   "cell_type": "code",
   "execution_count": 48,
   "id": "7ae59099-bde0-4271-bc0c-f40dfd25ac9a",
   "metadata": {},
   "outputs": [],
   "source": [
    "phasemap = hs.signals.Signal2D(np.zeros(loadings.axes_manager.signal_shape))\n",
    "\n",
    "phasemap.data[T1[0]>0] = 1\n",
    "phasemap.data[T1[1]>0] = 1\n",
    "\n",
    "phasemap.data[theta_100[0]>0] = 2\n",
    "phasemap.data[theta_100[1]>0] = 2\n",
    "\n",
    "phasemap.plot()"
   ]
  },
  {
   "cell_type": "code",
   "execution_count": 22,
   "id": "b07f34fd-e117-4219-b850-dcfe63ba5a05",
   "metadata": {},
   "outputs": [],
   "source": [
    "phasemap.plot()"
   ]
  },
  {
   "cell_type": "code",
   "execution_count": 16,
   "id": "f6e1e053-ac4a-48b4-b336-a9a10f75f02a",
   "metadata": {},
   "outputs": [],
   "source": [
    "T1[1].plot()"
   ]
  },
  {
   "cell_type": "code",
   "execution_count": 17,
   "id": "d3ae516a-53bf-47b3-bac1-dea42ae17814",
   "metadata": {},
   "outputs": [
    {
     "data": {
      "text/plain": [
       "(512, 512)"
      ]
     },
     "execution_count": 17,
     "metadata": {},
     "output_type": "execute_result"
    }
   ],
   "source": [
    "loadings.axes_manager.signal_shape"
   ]
  },
  {
   "cell_type": "code",
   "execution_count": 26,
   "id": "a6cb5bfa-d1bd-4dcf-b362-2f7a14b1a738",
   "metadata": {},
   "outputs": [
    {
     "name": "stderr",
     "output_type": "stream",
     "text": [
      "ERROR:hyperspy.io:If this file format is supported, please report this error to the HyperSpy developers.\n"
     ]
    },
    {
     "ename": "OSError",
     "evalue": "[Errno 22] Unable to open file (file read failed: time = Tue Mar 14 08:30:25 2023\n, filename = 'C:\\Users\\emilc\\OneDrive - NTNU\\NORTEM\\Data\\NMF\\NMF_phasemap.hspy', file descriptor = 7, errno = 22, error message = 'Invalid argument', buf = 000000D7BCBEA0D0, total read size = 8, bytes this sub-read = 8, bytes actually read = 18446744073709551615, offset = 0)",
     "output_type": "error",
     "traceback": [
      "\u001b[1;31m---------------------------------------------------------------------------\u001b[0m",
      "\u001b[1;31mOSError\u001b[0m                                   Traceback (most recent call last)",
      "Cell \u001b[1;32mIn [26], line 1\u001b[0m\n\u001b[1;32m----> 1\u001b[0m old_map \u001b[38;5;241m=\u001b[39m \u001b[43mhs\u001b[49m\u001b[38;5;241;43m.\u001b[39;49m\u001b[43mload\u001b[49m\u001b[43m(\u001b[49m\u001b[43mPath\u001b[49m\u001b[43m(\u001b[49m\u001b[38;5;124;43mr\u001b[39;49m\u001b[38;5;124;43m'\u001b[39;49m\u001b[38;5;124;43mC:\u001b[39;49m\u001b[38;5;124;43m\\\u001b[39;49m\u001b[38;5;124;43mUsers\u001b[39;49m\u001b[38;5;124;43m\\\u001b[39;49m\u001b[38;5;124;43memilc\u001b[39;49m\u001b[38;5;124;43m\\\u001b[39;49m\u001b[38;5;124;43mOneDrive - NTNU\u001b[39;49m\u001b[38;5;124;43m\\\u001b[39;49m\u001b[38;5;124;43mNORTEM\u001b[39;49m\u001b[38;5;124;43m\\\u001b[39;49m\u001b[38;5;124;43mData\u001b[39;49m\u001b[38;5;124;43m\\\u001b[39;49m\u001b[38;5;124;43mNMF\u001b[39;49m\u001b[38;5;124;43m\\\u001b[39;49m\u001b[38;5;124;43mNMF_phasemap.hspy\u001b[39;49m\u001b[38;5;124;43m'\u001b[39;49m\u001b[43m)\u001b[49m\u001b[43m)\u001b[49m\n",
      "File \u001b[1;32m~\\Miniconda3\\envs\\pyxem0.14.2\\lib\\site-packages\\hyperspy\\io.py:466\u001b[0m, in \u001b[0;36mload\u001b[1;34m(filenames, signal_type, stack, stack_axis, new_axis_name, lazy, convert_units, escape_square_brackets, stack_metadata, load_original_metadata, show_progressbar, **kwds)\u001b[0m\n\u001b[0;32m    463\u001b[0m         objects\u001b[38;5;241m.\u001b[39mappend(signal)\n\u001b[0;32m    464\u001b[0m \u001b[38;5;28;01melse\u001b[39;00m:\n\u001b[0;32m    465\u001b[0m     \u001b[38;5;66;03m# No stack, so simply we load all signals in all files separately\u001b[39;00m\n\u001b[1;32m--> 466\u001b[0m     objects \u001b[38;5;241m=\u001b[39m [load_single_file(filename, lazy\u001b[38;5;241m=\u001b[39mlazy, \u001b[38;5;241m*\u001b[39m\u001b[38;5;241m*\u001b[39mkwds)\n\u001b[0;32m    467\u001b[0m                \u001b[38;5;28;01mfor\u001b[39;00m filename \u001b[38;5;129;01min\u001b[39;00m filenames]\n\u001b[0;32m    469\u001b[0m \u001b[38;5;28;01mif\u001b[39;00m \u001b[38;5;28mlen\u001b[39m(objects) \u001b[38;5;241m==\u001b[39m \u001b[38;5;241m1\u001b[39m:\n\u001b[0;32m    470\u001b[0m     objects \u001b[38;5;241m=\u001b[39m objects[\u001b[38;5;241m0\u001b[39m]\n",
      "File \u001b[1;32m~\\Miniconda3\\envs\\pyxem0.14.2\\lib\\site-packages\\hyperspy\\io.py:466\u001b[0m, in \u001b[0;36m<listcomp>\u001b[1;34m(.0)\u001b[0m\n\u001b[0;32m    463\u001b[0m         objects\u001b[38;5;241m.\u001b[39mappend(signal)\n\u001b[0;32m    464\u001b[0m \u001b[38;5;28;01melse\u001b[39;00m:\n\u001b[0;32m    465\u001b[0m     \u001b[38;5;66;03m# No stack, so simply we load all signals in all files separately\u001b[39;00m\n\u001b[1;32m--> 466\u001b[0m     objects \u001b[38;5;241m=\u001b[39m [load_single_file(filename, lazy\u001b[38;5;241m=\u001b[39mlazy, \u001b[38;5;241m*\u001b[39m\u001b[38;5;241m*\u001b[39mkwds)\n\u001b[0;32m    467\u001b[0m                \u001b[38;5;28;01mfor\u001b[39;00m filename \u001b[38;5;129;01min\u001b[39;00m filenames]\n\u001b[0;32m    469\u001b[0m \u001b[38;5;28;01mif\u001b[39;00m \u001b[38;5;28mlen\u001b[39m(objects) \u001b[38;5;241m==\u001b[39m \u001b[38;5;241m1\u001b[39m:\n\u001b[0;32m    470\u001b[0m     objects \u001b[38;5;241m=\u001b[39m objects[\u001b[38;5;241m0\u001b[39m]\n",
      "File \u001b[1;32m~\\Miniconda3\\envs\\pyxem0.14.2\\lib\\site-packages\\hyperspy\\io.py:525\u001b[0m, in \u001b[0;36mload_single_file\u001b[1;34m(filename, **kwds)\u001b[0m\n\u001b[0;32m    518\u001b[0m     \u001b[38;5;28;01mraise\u001b[39;00m \u001b[38;5;167;01mValueError\u001b[39;00m(\n\u001b[0;32m    519\u001b[0m         \u001b[38;5;124m\"\u001b[39m\u001b[38;5;124m`reader` should be one of None, str, \u001b[39m\u001b[38;5;124m\"\u001b[39m\n\u001b[0;32m    520\u001b[0m         \u001b[38;5;124m\"\u001b[39m\u001b[38;5;124mor a custom file reader object\u001b[39m\u001b[38;5;124m\"\u001b[39m\n\u001b[0;32m    521\u001b[0m     )\n\u001b[0;32m    523\u001b[0m \u001b[38;5;28;01mtry\u001b[39;00m:\n\u001b[0;32m    524\u001b[0m     \u001b[38;5;66;03m# Try and load the file\u001b[39;00m\n\u001b[1;32m--> 525\u001b[0m     \u001b[38;5;28;01mreturn\u001b[39;00m load_with_reader(filename\u001b[38;5;241m=\u001b[39mfilename, reader\u001b[38;5;241m=\u001b[39mreader, \u001b[38;5;241m*\u001b[39m\u001b[38;5;241m*\u001b[39mkwds)\n\u001b[0;32m    527\u001b[0m \u001b[38;5;28;01mexcept\u001b[39;00m \u001b[38;5;167;01mBaseException\u001b[39;00m:\n\u001b[0;32m    528\u001b[0m     _logger\u001b[38;5;241m.\u001b[39merror(\n\u001b[0;32m    529\u001b[0m         \u001b[38;5;124m\"\u001b[39m\u001b[38;5;124mIf this file format is supported, please \u001b[39m\u001b[38;5;124m\"\u001b[39m\n\u001b[0;32m    530\u001b[0m         \u001b[38;5;124m\"\u001b[39m\u001b[38;5;124mreport this error to the HyperSpy developers.\u001b[39m\u001b[38;5;124m\"\u001b[39m\n\u001b[0;32m    531\u001b[0m     )\n",
      "File \u001b[1;32m~\\Miniconda3\\envs\\pyxem0.14.2\\lib\\site-packages\\hyperspy\\io.py:545\u001b[0m, in \u001b[0;36mload_with_reader\u001b[1;34m(filename, reader, signal_type, convert_units, load_original_metadata, **kwds)\u001b[0m\n\u001b[0;32m    543\u001b[0m \u001b[38;5;124;03m\"\"\"Load a supported file with a given reader.\"\"\"\u001b[39;00m\n\u001b[0;32m    544\u001b[0m lazy \u001b[38;5;241m=\u001b[39m kwds\u001b[38;5;241m.\u001b[39mget(\u001b[38;5;124m'\u001b[39m\u001b[38;5;124mlazy\u001b[39m\u001b[38;5;124m'\u001b[39m, \u001b[38;5;28;01mFalse\u001b[39;00m)\n\u001b[1;32m--> 545\u001b[0m file_data_list \u001b[38;5;241m=\u001b[39m reader\u001b[38;5;241m.\u001b[39mfile_reader(filename, \u001b[38;5;241m*\u001b[39m\u001b[38;5;241m*\u001b[39mkwds)\n\u001b[0;32m    546\u001b[0m signal_list \u001b[38;5;241m=\u001b[39m []\n\u001b[0;32m    548\u001b[0m \u001b[38;5;28;01mfor\u001b[39;00m signal_dict \u001b[38;5;129;01min\u001b[39;00m file_data_list:\n",
      "File \u001b[1;32m~\\Miniconda3\\envs\\pyxem0.14.2\\lib\\site-packages\\hyperspy\\io_plugins\\hspy.py:172\u001b[0m, in \u001b[0;36mfile_reader\u001b[1;34m(filename, lazy, **kwds)\u001b[0m\n\u001b[0;32m    170\u001b[0m     \u001b[38;5;28;01mpass\u001b[39;00m\n\u001b[0;32m    171\u001b[0m mode \u001b[38;5;241m=\u001b[39m kwds\u001b[38;5;241m.\u001b[39mpop(\u001b[38;5;124m'\u001b[39m\u001b[38;5;124mmode\u001b[39m\u001b[38;5;124m'\u001b[39m, \u001b[38;5;124m'\u001b[39m\u001b[38;5;124mr\u001b[39m\u001b[38;5;124m'\u001b[39m)\n\u001b[1;32m--> 172\u001b[0m f \u001b[38;5;241m=\u001b[39m h5py\u001b[38;5;241m.\u001b[39mFile(filename, mode\u001b[38;5;241m=\u001b[39mmode, \u001b[38;5;241m*\u001b[39m\u001b[38;5;241m*\u001b[39mkwds)\n\u001b[0;32m    174\u001b[0m reader \u001b[38;5;241m=\u001b[39m HyperspyReader(f)\n\u001b[0;32m    175\u001b[0m exp_dict_list \u001b[38;5;241m=\u001b[39m reader\u001b[38;5;241m.\u001b[39mread(lazy\u001b[38;5;241m=\u001b[39mlazy)\n",
      "File \u001b[1;32m~\\Miniconda3\\envs\\pyxem0.14.2\\lib\\site-packages\\h5py\\_hl\\files.py:533\u001b[0m, in \u001b[0;36mFile.__init__\u001b[1;34m(self, name, mode, driver, libver, userblock_size, swmr, rdcc_nslots, rdcc_nbytes, rdcc_w0, track_order, fs_strategy, fs_persist, fs_threshold, fs_page_size, page_buf_size, min_meta_keep, min_raw_keep, locking, alignment_threshold, alignment_interval, **kwds)\u001b[0m\n\u001b[0;32m    525\u001b[0m     fapl \u001b[38;5;241m=\u001b[39m make_fapl(driver, libver, rdcc_nslots, rdcc_nbytes, rdcc_w0,\n\u001b[0;32m    526\u001b[0m                      locking, page_buf_size, min_meta_keep, min_raw_keep,\n\u001b[0;32m    527\u001b[0m                      alignment_threshold\u001b[38;5;241m=\u001b[39malignment_threshold,\n\u001b[0;32m    528\u001b[0m                      alignment_interval\u001b[38;5;241m=\u001b[39malignment_interval,\n\u001b[0;32m    529\u001b[0m                      \u001b[38;5;241m*\u001b[39m\u001b[38;5;241m*\u001b[39mkwds)\n\u001b[0;32m    530\u001b[0m     fcpl \u001b[38;5;241m=\u001b[39m make_fcpl(track_order\u001b[38;5;241m=\u001b[39mtrack_order, fs_strategy\u001b[38;5;241m=\u001b[39mfs_strategy,\n\u001b[0;32m    531\u001b[0m                      fs_persist\u001b[38;5;241m=\u001b[39mfs_persist, fs_threshold\u001b[38;5;241m=\u001b[39mfs_threshold,\n\u001b[0;32m    532\u001b[0m                      fs_page_size\u001b[38;5;241m=\u001b[39mfs_page_size)\n\u001b[1;32m--> 533\u001b[0m     fid \u001b[38;5;241m=\u001b[39m \u001b[43mmake_fid\u001b[49m\u001b[43m(\u001b[49m\u001b[43mname\u001b[49m\u001b[43m,\u001b[49m\u001b[43m \u001b[49m\u001b[43mmode\u001b[49m\u001b[43m,\u001b[49m\u001b[43m \u001b[49m\u001b[43muserblock_size\u001b[49m\u001b[43m,\u001b[49m\u001b[43m \u001b[49m\u001b[43mfapl\u001b[49m\u001b[43m,\u001b[49m\u001b[43m \u001b[49m\u001b[43mfcpl\u001b[49m\u001b[43m,\u001b[49m\u001b[43m \u001b[49m\u001b[43mswmr\u001b[49m\u001b[38;5;241;43m=\u001b[39;49m\u001b[43mswmr\u001b[49m\u001b[43m)\u001b[49m\n\u001b[0;32m    535\u001b[0m \u001b[38;5;28;01mif\u001b[39;00m \u001b[38;5;28misinstance\u001b[39m(libver, \u001b[38;5;28mtuple\u001b[39m):\n\u001b[0;32m    536\u001b[0m     \u001b[38;5;28mself\u001b[39m\u001b[38;5;241m.\u001b[39m_libver \u001b[38;5;241m=\u001b[39m libver\n",
      "File \u001b[1;32m~\\Miniconda3\\envs\\pyxem0.14.2\\lib\\site-packages\\h5py\\_hl\\files.py:226\u001b[0m, in \u001b[0;36mmake_fid\u001b[1;34m(name, mode, userblock_size, fapl, fcpl, swmr)\u001b[0m\n\u001b[0;32m    224\u001b[0m     \u001b[38;5;28;01mif\u001b[39;00m swmr \u001b[38;5;129;01mand\u001b[39;00m swmr_support:\n\u001b[0;32m    225\u001b[0m         flags \u001b[38;5;241m|\u001b[39m\u001b[38;5;241m=\u001b[39m h5f\u001b[38;5;241m.\u001b[39mACC_SWMR_READ\n\u001b[1;32m--> 226\u001b[0m     fid \u001b[38;5;241m=\u001b[39m \u001b[43mh5f\u001b[49m\u001b[38;5;241;43m.\u001b[39;49m\u001b[43mopen\u001b[49m\u001b[43m(\u001b[49m\u001b[43mname\u001b[49m\u001b[43m,\u001b[49m\u001b[43m \u001b[49m\u001b[43mflags\u001b[49m\u001b[43m,\u001b[49m\u001b[43m \u001b[49m\u001b[43mfapl\u001b[49m\u001b[38;5;241;43m=\u001b[39;49m\u001b[43mfapl\u001b[49m\u001b[43m)\u001b[49m\n\u001b[0;32m    227\u001b[0m \u001b[38;5;28;01melif\u001b[39;00m mode \u001b[38;5;241m==\u001b[39m \u001b[38;5;124m'\u001b[39m\u001b[38;5;124mr+\u001b[39m\u001b[38;5;124m'\u001b[39m:\n\u001b[0;32m    228\u001b[0m     fid \u001b[38;5;241m=\u001b[39m h5f\u001b[38;5;241m.\u001b[39mopen(name, h5f\u001b[38;5;241m.\u001b[39mACC_RDWR, fapl\u001b[38;5;241m=\u001b[39mfapl)\n",
      "File \u001b[1;32mh5py\\_objects.pyx:54\u001b[0m, in \u001b[0;36mh5py._objects.with_phil.wrapper\u001b[1;34m()\u001b[0m\n",
      "File \u001b[1;32mh5py\\_objects.pyx:55\u001b[0m, in \u001b[0;36mh5py._objects.with_phil.wrapper\u001b[1;34m()\u001b[0m\n",
      "File \u001b[1;32mh5py\\h5f.pyx:106\u001b[0m, in \u001b[0;36mh5py.h5f.open\u001b[1;34m()\u001b[0m\n",
      "\u001b[1;31mOSError\u001b[0m: [Errno 22] Unable to open file (file read failed: time = Tue Mar 14 08:30:25 2023\n, filename = 'C:\\Users\\emilc\\OneDrive - NTNU\\NORTEM\\Data\\NMF\\NMF_phasemap.hspy', file descriptor = 7, errno = 22, error message = 'Invalid argument', buf = 000000D7BCBEA0D0, total read size = 8, bytes this sub-read = 8, bytes actually read = 18446744073709551615, offset = 0)"
     ]
    }
   ],
   "source": [
    "old_map = hs.load(Path(r'C:\\Users\\emilc\\OneDrive - NTNU\\NORTEM\\Data\\NMF\\NMF_phasemap.hspy'))"
   ]
  },
  {
   "cell_type": "code",
   "execution_count": null,
   "id": "968504d9-b040-4d00-8fa8-7a7214c4625c",
   "metadata": {},
   "outputs": [],
   "source": []
  }
 ],
 "metadata": {
  "kernelspec": {
   "display_name": "Python 3 (ipykernel)",
   "language": "python",
   "name": "python3"
  },
  "language_info": {
   "codemirror_mode": {
    "name": "ipython",
    "version": 3
   },
   "file_extension": ".py",
   "mimetype": "text/x-python",
   "name": "python",
   "nbconvert_exporter": "python",
   "pygments_lexer": "ipython3",
   "version": "3.10.6"
  }
 },
 "nbformat": 4,
 "nbformat_minor": 5
}
