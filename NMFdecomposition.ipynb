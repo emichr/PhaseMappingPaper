{
 "cells": [
  {
   "cell_type": "code",
   "execution_count": 1,
   "id": "d4300c59-6dc2-4093-8c0b-405be25bf5a7",
   "metadata": {},
   "outputs": [
    {
     "name": "stderr",
     "output_type": "stream",
     "text": [
      "WARNING:silx.opencl.common:Unable to import pyOpenCl. Please install it from: https://pypi.org/project/pyopencl\n"
     ]
    }
   ],
   "source": [
    "%matplotlib qt\n",
    "\n",
    "import hyperspy.api as hs\n",
    "import pyxem as pxm\n",
    "import numpy as np\n",
    "import time\n",
    "import matplotlib.pyplot as plt\n",
    "import matplotlib as mpl\n",
    "\n",
    "from pathlib import Path\n",
    "\n",
    "from matplotlib.colors import SymLogNorm, to_rgba, LinearSegmentedColormap\n",
    "\n",
    "from skimage.filters.thresholding import try_all_threshold, threshold_triangle, threshold_li, threshold_isodata\n",
    "from skimage.measure import label\n",
    "\n",
    "color_names = ['linen', 'darkorange', 'dodgerblue', 'forestgreen', 'red']\n",
    "colors = [to_rgba(c) for c in color_names]\n",
    "\n",
    "cmap = LinearSegmentedColormap.from_list('gt_cmap', colors, N=len(color_names))\n",
    "\n",
    "gray_cmap = plt.colormaps.get('Greys')\n",
    "gray_cmap.set_bad('lightblue')"
   ]
  },
  {
   "cell_type": "code",
   "execution_count": 29,
   "id": "ff2f42c3-9052-41a6-aa74-6137c506214e",
   "metadata": {},
   "outputs": [],
   "source": [
    "from functools import reduce"
   ]
  },
  {
   "cell_type": "code",
   "execution_count": 49,
   "id": "47f9e274-4201-44df-a7e5-a8ac853bf655",
   "metadata": {},
   "outputs": [],
   "source": [
    "def union_mask(masks, invert=True):\n",
    "    \"\"\"\n",
    "    Return the union between masks in a list\n",
    "    \n",
    "    Masks should be `True` wherever data is to be be excluded in processing/analysis. \n",
    "    \n",
    "    Arguments:\n",
    "    ----------\n",
    "    masks: A list of hyperspy 2DSignal objects of shape (|nx, ny).\n",
    "    invert: Whether to invert the masks before taking the union (usually needed for hyperspy masks). The final mask will be re-inverted before returning.\n",
    "    \n",
    "    Returns:\n",
    "    --------\n",
    "    mask: The union of the provided masks\n",
    "    \"\"\"\n",
    "    if invert:\n",
    "        masks = [~mask for mask in masks]\n",
    "    \n",
    "    mask = masks.pop()\n",
    "    for m in masks:\n",
    "        mask = mask & m\n",
    "    \n",
    "    if invert:\n",
    "        mask = ~mask\n",
    "        \n",
    "    mask.metadata.General.title = 'Mask'\n",
    "        \n",
    "    return mask\n",
    "    "
   ]
  },
  {
   "cell_type": "markdown",
   "id": "4fea50e0-4be0-4036-9474-f66d3a8da115",
   "metadata": {},
   "source": [
    "# Dataset A\n",
    "\n",
    "## Load and prepare data"
   ]
  },
  {
   "cell_type": "code",
   "execution_count": 3,
   "id": "8000d1c2-380e-49c4-a6bf-4a24f2b77b3b",
   "metadata": {},
   "outputs": [],
   "source": [
    "filepath = Path(r'Dataset A/datasetA_preprocessed.hspy')"
   ]
  },
  {
   "cell_type": "code",
   "execution_count": 4,
   "id": "aef7bcb6-bb33-427a-80d4-045ca157ab67",
   "metadata": {},
   "outputs": [
    {
     "data": {
      "text/plain": [
       "[<AxesSubplot: title={'center': 'Integrated intensity'}, xlabel='x axis (nm)', ylabel='y axis (nm)'>,\n",
       " <AxesSubplot: title={'center': 'Dataset A'}, xlabel='kx axis ($A^{-1}$)', ylabel='ky axis ($A^{-1}$)'>]"
      ]
     },
     "execution_count": 4,
     "metadata": {},
     "output_type": "execute_result"
    }
   ],
   "source": [
    "s = hs.load(str(filepath), lazy=False)\n",
    "s.change_dtype('float32')\n",
    "vbf = s.get_integrated_intensity(hs.roi.CircleROI(0.0, 0.0, 0.1))\n",
    "maximums = s.max(axis=[0, 1])\n",
    "try:\n",
    "    vbf.compute()\n",
    "    maximums.compute()\n",
    "except AttributeError:\n",
    "    pass\n",
    "hs.plot.plot_images([vbf, maximums], norm='symlog', axes_decor='off', colorbar=None, cmap='gray_r')"
   ]
  },
  {
   "cell_type": "code",
   "execution_count": 5,
   "id": "e5eb63d3-e64f-4439-a561-9a5791d79793",
   "metadata": {},
   "outputs": [
    {
     "data": {
      "text/html": [
       "<ul style=\"margin: 0px; list-style-position: outside;\">\n",
       "                    <details open>\n",
       "                    <summary style=\"display: list-item;\">\n",
       "                    <li style=\"display: inline;\">\n",
       "                    Acquisition_instrument\n",
       "                    </li></summary>\n",
       "                    <ul style=\"margin: 0px; list-style-position: outside;\">\n",
       "                    <details closed>\n",
       "                    <summary style=\"display: list-item;\">\n",
       "                    <li style=\"display: inline;\">\n",
       "                    TEM\n",
       "                    </li></summary>\n",
       "                    <ul style=\"margin: 0px; list-style-position: outside;\">\n",
       "                    <details closed>\n",
       "                    <summary style=\"display: list-item;\">\n",
       "                    <li style=\"display: inline;\">\n",
       "                    Detector\n",
       "                    </li></summary>\n",
       "                    <ul style=\"margin: 0px; list-style-position: outside;\">\n",
       "                    <details closed>\n",
       "                    <summary style=\"display: list-item;\">\n",
       "                    <li style=\"display: inline;\">\n",
       "                    Diffraction\n",
       "                    </li></summary>\n",
       "                    \n",
       "    <ul style=\"margin: 0px; list-style-position: outside;\">\n",
       "    <li style='margin-left:1em; padding-left: 0.5em'>camera_length = 23.036135801743175</li></ul>\n",
       "    \n",
       "    <ul style=\"margin: 0px; list-style-position: outside;\">\n",
       "    <li style='margin-left:1em; padding-left: 0.5em'>exposure_time = 10</li></ul>\n",
       "    </details></ul></details></ul>\n",
       "    <ul style=\"margin: 0px; list-style-position: outside;\">\n",
       "    <li style='margin-left:1em; padding-left: 0.5em'>beam_energy = 200</li></ul>\n",
       "    \n",
       "    <ul style=\"margin: 0px; list-style-position: outside;\">\n",
       "    <li style='margin-left:1em; padding-left: 0.5em'>rocking_angle = 1.04</li></ul>\n",
       "    \n",
       "    <ul style=\"margin: 0px; list-style-position: outside;\">\n",
       "    <li style='margin-left:1em; padding-left: 0.5em'>rocking_frequency = 100</li></ul>\n",
       "    \n",
       "    <ul style=\"margin: 0px; list-style-position: outside;\">\n",
       "    <li style='margin-left:1em; padding-left: 0.5em'>scan_rotation = 0</li></ul>\n",
       "    </details></ul></details></ul><ul style=\"margin: 0px; list-style-position: outside;\">\n",
       "                    <details open>\n",
       "                    <summary style=\"display: list-item;\">\n",
       "                    <li style=\"display: inline;\">\n",
       "                    General\n",
       "                    </li></summary>\n",
       "                    <ul style=\"margin: 0px; list-style-position: outside;\">\n",
       "                    <details closed>\n",
       "                    <summary style=\"display: list-item;\">\n",
       "                    <li style=\"display: inline;\">\n",
       "                    FileIO\n",
       "                    </li></summary>\n",
       "                    <ul style=\"margin: 0px; list-style-position: outside;\">\n",
       "                    <details closed>\n",
       "                    <summary style=\"display: list-item;\">\n",
       "                    <li style=\"display: inline;\">\n",
       "                    0\n",
       "                    </li></summary>\n",
       "                    \n",
       "    <ul style=\"margin: 0px; list-style-position: outside;\">\n",
       "    <li style='margin-left:1em; padding-left: 0.5em'>hyperspy_version = 1.7.3</li></ul>\n",
       "    \n",
       "    <ul style=\"margin: 0px; list-style-position: outside;\">\n",
       "    <li style='margin-left:1em; padding-left: 0.5em'>io_plugin = hyperspy.io_plugins.hspy</li></ul>\n",
       "    \n",
       "    <ul style=\"margin: 0px; list-style-position: outside;\">\n",
       "    <li style='margin-left:1em; padding-left: 0.5em'>operation = save</li></ul>\n",
       "    \n",
       "    <ul style=\"margin: 0px; list-style-position: outside;\">\n",
       "    <li style='margin-left:1em; padding-left: 0.5em'>timestamp = 2023-03-22T08:20:25.199003+01:00</li></ul>\n",
       "    </details></ul><ul style=\"margin: 0px; list-style-position: outside;\">\n",
       "                    <details closed>\n",
       "                    <summary style=\"display: list-item;\">\n",
       "                    <li style=\"display: inline;\">\n",
       "                    1\n",
       "                    </li></summary>\n",
       "                    \n",
       "    <ul style=\"margin: 0px; list-style-position: outside;\">\n",
       "    <li style='margin-left:1em; padding-left: 0.5em'>hyperspy_version = 1.7.3</li></ul>\n",
       "    \n",
       "    <ul style=\"margin: 0px; list-style-position: outside;\">\n",
       "    <li style='margin-left:1em; padding-left: 0.5em'>io_plugin = hyperspy.io_plugins.hspy</li></ul>\n",
       "    \n",
       "    <ul style=\"margin: 0px; list-style-position: outside;\">\n",
       "    <li style='margin-left:1em; padding-left: 0.5em'>operation = load</li></ul>\n",
       "    \n",
       "    <ul style=\"margin: 0px; list-style-position: outside;\">\n",
       "    <li style='margin-left:1em; padding-left: 0.5em'>timestamp = 2023-03-22T08:32:52.490161+01:00</li></ul>\n",
       "    </details></ul><ul style=\"margin: 0px; list-style-position: outside;\">\n",
       "                    <details closed>\n",
       "                    <summary style=\"display: list-item;\">\n",
       "                    <li style=\"display: inline;\">\n",
       "                    2\n",
       "                    </li></summary>\n",
       "                    \n",
       "    <ul style=\"margin: 0px; list-style-position: outside;\">\n",
       "    <li style='margin-left:1em; padding-left: 0.5em'>hyperspy_version = 1.7.3</li></ul>\n",
       "    \n",
       "    <ul style=\"margin: 0px; list-style-position: outside;\">\n",
       "    <li style='margin-left:1em; padding-left: 0.5em'>io_plugin = hyperspy.io_plugins.hspy</li></ul>\n",
       "    \n",
       "    <ul style=\"margin: 0px; list-style-position: outside;\">\n",
       "    <li style='margin-left:1em; padding-left: 0.5em'>operation = save</li></ul>\n",
       "    \n",
       "    <ul style=\"margin: 0px; list-style-position: outside;\">\n",
       "    <li style='margin-left:1em; padding-left: 0.5em'>timestamp = 2023-03-22T08:45:26.118812+01:00</li></ul>\n",
       "    </details></ul><ul style=\"margin: 0px; list-style-position: outside;\">\n",
       "                    <details closed>\n",
       "                    <summary style=\"display: list-item;\">\n",
       "                    <li style=\"display: inline;\">\n",
       "                    3\n",
       "                    </li></summary>\n",
       "                    \n",
       "    <ul style=\"margin: 0px; list-style-position: outside;\">\n",
       "    <li style='margin-left:1em; padding-left: 0.5em'>hyperspy_version = 1.7.3</li></ul>\n",
       "    \n",
       "    <ul style=\"margin: 0px; list-style-position: outside;\">\n",
       "    <li style='margin-left:1em; padding-left: 0.5em'>io_plugin = hyperspy.io_plugins.hspy</li></ul>\n",
       "    \n",
       "    <ul style=\"margin: 0px; list-style-position: outside;\">\n",
       "    <li style='margin-left:1em; padding-left: 0.5em'>operation = load</li></ul>\n",
       "    \n",
       "    <ul style=\"margin: 0px; list-style-position: outside;\">\n",
       "    <li style='margin-left:1em; padding-left: 0.5em'>timestamp = 2023-04-11T10:05:44.416236+02:00</li></ul>\n",
       "    </details></ul></details></ul>\n",
       "    <ul style=\"margin: 0px; list-style-position: outside;\">\n",
       "    <li style='margin-left:1em; padding-left: 0.5em'>title = Dataset A</li></ul>\n",
       "    </details></ul><ul style=\"margin: 0px; list-style-position: outside;\">\n",
       "                    <details open>\n",
       "                    <summary style=\"display: list-item;\">\n",
       "                    <li style=\"display: inline;\">\n",
       "                    Preprocessing\n",
       "                    </li></summary>\n",
       "                    <ul style=\"margin: 0px; list-style-position: outside;\">\n",
       "                    <details closed>\n",
       "                    <summary style=\"display: list-item;\">\n",
       "                    <li style=\"display: inline;\">\n",
       "                    Centering\n",
       "                    </li></summary>\n",
       "                    \n",
       "    <ul style=\"margin: 0px; list-style-position: outside;\">\n",
       "    <li style='margin-left:1em; padding-left: 0.5em'>COM = &lt;DPCSignal2D, title: , dimensions: (2|512, 512)&gt;</li></ul>\n",
       "    <ul style=\"margin: 0px; list-style-position: outside;\">\n",
       "                    <details closed>\n",
       "                    <summary style=\"display: list-item;\">\n",
       "                    <li style=\"display: inline;\">\n",
       "                    COM_mask\n",
       "                    </li></summary>\n",
       "                    \n",
       "    <ul style=\"margin: 0px; list-style-position: outside;\">\n",
       "    <li style='margin-left:1em; padding-left: 0.5em'>r = 12.5</li></ul>\n",
       "    \n",
       "    <ul style=\"margin: 0px; list-style-position: outside;\">\n",
       "    <li style='margin-left:1em; padding-left: 0.5em'>x = 127</li></ul>\n",
       "    \n",
       "    <ul style=\"margin: 0px; list-style-position: outside;\">\n",
       "    <li style='margin-left:1em; padding-left: 0.5em'>y = 126</li></ul>\n",
       "    </details></ul>\n",
       "    <ul style=\"margin: 0px; list-style-position: outside;\">\n",
       "    <li style='margin-left:1em; padding-left: 0.5em'>Shifts = &lt;BeamShift, title: , dimensions: (512, 512|2)&gt;</li></ul>\n",
       "    \n",
       "    <ul style=\"margin: 0px; list-style-position: outside;\">\n",
       "    <li style='margin-left:1em; padding-left: 0.5em'>shift_estimate_mask = &lt;BaseSignal, title: , dimensions: (512, 512|)&gt;</li></ul>\n",
       "    </details></ul><ul style=\"margin: 0px; list-style-position: outside;\">\n",
       "                    <details closed>\n",
       "                    <summary style=\"display: list-item;\">\n",
       "                    <li style=\"display: inline;\">\n",
       "                    Masks\n",
       "                    </li></summary>\n",
       "                    <ul style=\"margin: 0px; list-style-position: outside;\">\n",
       "                    <details closed>\n",
       "                    <summary style=\"display: list-item;\">\n",
       "                    <li style=\"display: inline;\">\n",
       "                    Diffraction\n",
       "                    </li></summary>\n",
       "                    \n",
       "    <ul style=\"margin: 0px; list-style-position: outside;\">\n",
       "    <li style='margin-left:1em; padding-left: 0.5em'>cutoff = &lt;Signal2D, title: &lt;7.001e-01 $A^{-1}$ mask, dimensions: (|128, 128)&gt;</li></ul>\n",
       "    \n",
       "    <ul style=\"margin: 0px; list-style-position: outside;\">\n",
       "    <li style='margin-left:1em; padding-left: 0.5em'>direct_beam = &lt;Signal2D, title: &gt;1.595e-01 $A^{-1}$ mask, dimensions: (|128, 128)&gt;</li></ul>\n",
       "    \n",
       "    <ul style=\"margin: 0px; list-style-position: outside;\">\n",
       "    <li style='margin-left:1em; padding-left: 0.5em'>reflections = &lt;Signal2D, title: Reflection mask, dimensions: (|128, 128)&gt;</li></ul>\n",
       "    </details></ul></details></ul></details></ul><ul style=\"margin: 0px; list-style-position: outside;\">\n",
       "                    <details open>\n",
       "                    <summary style=\"display: list-item;\">\n",
       "                    <li style=\"display: inline;\">\n",
       "                    Signal\n",
       "                    </li></summary>\n",
       "                    \n",
       "    <ul style=\"margin: 0px; list-style-position: outside;\">\n",
       "    <li style='margin-left:1em; padding-left: 0.5em'>signal_type = electron_diffraction</li></ul>\n",
       "    </details></ul>"
      ],
      "text/plain": [
       "├── Acquisition_instrument\n",
       "│   └── TEM\n",
       "│       ├── Detector\n",
       "│       │   └── Diffraction\n",
       "│       │       ├── camera_length = 23.036135801743175\n",
       "│       │       └── exposure_time = 10\n",
       "│       ├── beam_energy = 200\n",
       "│       ├── rocking_angle = 1.04\n",
       "│       ├── rocking_frequency = 100\n",
       "│       └── scan_rotation = 0\n",
       "├── General\n",
       "│   ├── FileIO\n",
       "│   │   ├── 0\n",
       "│   │   │   ├── hyperspy_version = 1.7.3\n",
       "│   │   │   ├── io_plugin = hyperspy.io_plugins.hspy\n",
       "│   │   │   ├── operation = save\n",
       "│   │   │   └── timestamp = 2023-03-22T08:20:25.199003+01:00\n",
       "│   │   ├── 1\n",
       "│   │   │   ├── hyperspy_version = 1.7.3\n",
       "│   │   │   ├── io_plugin = hyperspy.io_plugins.hspy\n",
       "│   │   │   ├── operation = load\n",
       "│   │   │   └── timestamp = 2023-03-22T08:32:52.490161+01:00\n",
       "│   │   ├── 2\n",
       "│   │   │   ├── hyperspy_version = 1.7.3\n",
       "│   │   │   ├── io_plugin = hyperspy.io_plugins.hspy\n",
       "│   │   │   ├── operation = save\n",
       "│   │   │   └── timestamp = 2023-03-22T08:45:26.118812+01:00\n",
       "│   │   └── 3\n",
       "│   │       ├── hyperspy_version = 1.7.3\n",
       "│   │       ├── io_plugin = hyperspy.io_plugins.hspy\n",
       "│   │       ├── operation = load\n",
       "│   │       └── timestamp = 2023-04-11T10:05:44.416236+02:00\n",
       "│   └── title = Dataset A\n",
       "├── Preprocessing\n",
       "│   ├── Centering\n",
       "│   │   ├── COM = <DPCSignal2D, title: , dimensions: (2|512, 512)>\n",
       "│   │   ├── COM_mask\n",
       "│   │   │   ├── r = 12.5\n",
       "│   │   │   ├── x = 127\n",
       "│   │   │   └── y = 126\n",
       "│   │   ├── Shifts = <BeamShift, title: , dimensions: (512, 512|2)>\n",
       "│   │   └── shift_estimate_mask = <BaseSignal, title: , dimensions: (512, 512|)>\n",
       "│   └── Masks\n",
       "│       └── Diffraction\n",
       "│           ├── cutoff = <Signal2D, title: <7.001e-01 $A^{-1}$ mask, dimensions: (|128, 128)>\n",
       "│           ├── direct_beam = <Signal2D, title: >1.595e-01 $A^{-1}$ mask, dimensions: (|128, 128)>\n",
       "│           └── reflections = <Signal2D, title: Reflection mask, dimensions: (|128, 128)>\n",
       "└── Signal\n",
       "    └── signal_type = electron_diffraction"
      ]
     },
     "execution_count": 5,
     "metadata": {},
     "output_type": "execute_result"
    }
   ],
   "source": [
    "s.metadata"
   ]
  },
  {
   "cell_type": "markdown",
   "id": "d4b84455-25c8-4f93-9f6f-282eec8dae07",
   "metadata": {},
   "source": [
    "## Get the pre-made masks from the metadata (see preprocessing notebook for details)"
   ]
  },
  {
   "cell_type": "code",
   "execution_count": 51,
   "id": "d53e3c55-be8c-40e7-ae20-5cb35f29e2c4",
   "metadata": {},
   "outputs": [
    {
     "data": {
      "text/plain": [
       "[<Axes: >]"
      ]
     },
     "execution_count": 51,
     "metadata": {},
     "output_type": "execute_result"
    }
   ],
   "source": [
    "diffmask = union_mask([mask for (_, mask) in s.metadata.Preprocessing.Masks.Diffraction])\n",
    "hs.plot.plot_images([maximums, diffmask*1.0], overlay=True, alphas=[1, 0.5], colors=['w', 'r'], axes_decor='off')"
   ]
  },
  {
   "cell_type": "markdown",
   "id": "97897ad0-4c95-4b5c-a871-c7746b4cfbfe",
   "metadata": {},
   "source": [
    "# First iteration\n",
    "## Run SVD decomposition"
   ]
  },
  {
   "cell_type": "code",
   "execution_count": 52,
   "id": "28903135-d98a-4ced-94fd-6297aecbb5a3",
   "metadata": {},
   "outputs": [
    {
     "name": "stdout",
     "output_type": "stream",
     "text": [
      "Decomposition info:\n",
      "  normalize_poissonian_noise=True\n",
      "  algorithm=SVD\n",
      "  output_dimension=None\n",
      "  centre=None\n",
      "Finished decomposition. Elapsed time: 1443.7520871162415 seconds\n"
     ]
    }
   ],
   "source": [
    "tic = time.time()   \n",
    "decomp = s.decomposition(\n",
    "    normalize_poissonian_noise=True,\n",
    "    algorithm='SVD',\n",
    "    signal_mask=diffmask.data,\n",
    "    return_info=True,\n",
    "    copy=True\n",
    ")\n",
    "toc = time.time()\n",
    "print(f'Finished decomposition. Elapsed time: {toc - tic} seconds')\n",
    "s.learning_results.save(filepath.with_name(f'{filepath.stem}_SVD1'))"
   ]
  },
  {
   "cell_type": "code",
   "execution_count": 53,
   "id": "c722bada-b3a6-4510-832e-f2fdccad6a22",
   "metadata": {},
   "outputs": [],
   "source": [
    "threshold = 5\n",
    "#where the estimated threshold in the explained variance is - tune!\n",
    "SMALL_SIZE = 6\n",
    "MEDIUM_SIZE = 8\n",
    "LARGE_SIZE = 10\n",
    "with mpl.rc_context({\n",
    "    'font.size': SMALL_SIZE, \n",
    "    'axes.titlesize': SMALL_SIZE,\n",
    "    'axes.labelsize': MEDIUM_SIZE,\n",
    "    'xtick.labelsize': SMALL_SIZE,\n",
    "    'ytick.labelsize': SMALL_SIZE,\n",
    "    'legend.fontsize': SMALL_SIZE,\n",
    "    'figure.titlesize': LARGE_SIZE\n",
    "}):\n",
    "    markersize = 4 #Marker size for the plot\n",
    "    dpi=300 #DPI\n",
    "    figwidth = 468/3 #figure size in points\n",
    "    pt2in = 0.01389 #conversion from points to inches\n",
    "    figsize = (figwidth*pt2in, figwidth*pt2in) #Figuresize in inches\n",
    "    fig, ax = plt.subplots(figsize=figsize, dpi=dpi)\n",
    "    s.plot_explained_variance_ratio(n=32,\n",
    "                                    threshold=threshold,\n",
    "                                    xaxis_type='number',\n",
    "                                    xaxis_labeling='ordinal',\n",
    "                                    signal_fmt={'marker': 'o', 'color': 'k', 'markerfacecolor': 'k', 'lw': 0, 'ms':markersize},\n",
    "                                    noise_fmt={'marker':'o', 'color': 'k', 'markerfacecolor': 'w', 'lw': 0, 'ms':markersize},\n",
    "                                    fig=fig,\n",
    "                                    ax=ax\n",
    "                                   )\n",
    "    ax.set_title('')\n",
    "    ax.set_xlim(0)\n",
    "    plt.tight_layout()\n",
    "    fig.savefig(filepath.with_name(f'{filepath.stem}_SVD1.png'), dpi=dpi)"
   ]
  },
  {
   "cell_type": "code",
   "execution_count": 54,
   "id": "5bf30ec3-f2df-4dc0-8955-fbc9a3955b66",
   "metadata": {},
   "outputs": [],
   "source": [
    "phases = {\n",
    "    'theta_100': {'value': 1.0, 'components': tuple(), 'thresholds': {}},\n",
    "    'theta_001': {'value': 2.0, 'components': tuple(), 'thresholds': {}},\n",
    "    'T1': {'value': 3.0, 'components': tuple(), 'thresholds': {}}\n",
    "}\n"
   ]
  },
  {
   "cell_type": "markdown",
   "id": "5e816cba-fa48-44bd-b9c0-3c8c0cfbced6",
   "metadata": {
    "tags": []
   },
   "source": [
    "## Run first NMF decomposition"
   ]
  },
  {
   "cell_type": "code",
   "execution_count": 55,
   "id": "021c1e1a-406e-4724-87c5-e5f5a24402f4",
   "metadata": {},
   "outputs": [
    {
     "name": "stdout",
     "output_type": "stream",
     "text": [
      "Decomposition info:\n",
      "  normalize_poissonian_noise=True\n",
      "  algorithm=NMF\n",
      "  output_dimension=5\n",
      "  centre=None\n",
      "scikit-learn estimator:\n",
      "NMF(init='nndsvd', max_iter=10000, n_components=5)\n",
      "Finished decomposition. Elapsed time: 5572.3297798633575 seconds\n",
      "Decoposition parameters: NMF(init='nndsvd', max_iter=10000, n_components=5)\n",
      "Decomposition reconstruction error: 0.16367157842750354\n",
      "Decomposition number of iterations: 8401\n"
     ]
    }
   ],
   "source": [
    "s = hs.load(str(filepath), lazy=False) #Reload data without any decomposition results\n",
    "s.change_dtype('float32')\n",
    "\n",
    "output_dimension = 5 #The number of components to allow\n",
    "tic = time.time()\n",
    "decomp = s.decomposition(\n",
    "    normalize_poissonian_noise=True,\n",
    "    algorithm='NMF',\n",
    "    output_dimension=output_dimension,\n",
    "    signal_mask=diffmask,\n",
    "    return_info=True,\n",
    "    init='nndsvd',\n",
    "    max_iter=10000\n",
    ")\n",
    "toc = time.time()\n",
    "print(f'Finished decomposition. Elapsed time: {toc - tic} seconds')\n",
    "print(f'Decoposition parameters: {decomp}')\n",
    "print(f'Decomposition reconstruction error: {decomp.reconstruction_err_}')\n",
    "print(f'Decomposition number of iterations: {decomp.n_iter_}')\n",
    "\n",
    "#Save the decomposition results\n",
    "s.learning_results.save(filepath.with_name(f'{filepath.stem}_NMF1'), overwrite=True)\n",
    "\n",
    "#Save the factors and loadings individually as well\n",
    "factors = s.get_decomposition_factors()\n",
    "loadings = s.get_decomposition_loadings()\n",
    "if decomp is not None:\n",
    "    factors.metadata.add_dictionary({'Decomposition': decomp.__dict__})\n",
    "    loadings.metadata.add_dictionary({'Decomposition': decomp.__dict__})\n",
    "factors.save(filepath.with_name(f'{filepath.stem}_NMF1_{output_dimension}_factors.hspy'), overwrite=True)\n",
    "loadings.save(filepath.with_name(f'{filepath.stem}_NMF1_{output_dimension}_loadings.hspy'), overwrite=True)"
   ]
  },
  {
   "cell_type": "code",
   "execution_count": 56,
   "id": "68e1814a-bbda-4bd0-a2ec-d88aaa991d52",
   "metadata": {},
   "outputs": [
    {
     "data": {
      "text/plain": [
       "[<AxesSubplot: title={'center': ' (0,)'}, xlabel='kx axis ($A^{-1}$)', ylabel='ky axis ($A^{-1}$)'>,\n",
       " <AxesSubplot: title={'center': ' (1,)'}, xlabel='kx axis ($A^{-1}$)', ylabel='ky axis ($A^{-1}$)'>,\n",
       " <AxesSubplot: title={'center': ' (2,)'}, xlabel='kx axis ($A^{-1}$)', ylabel='ky axis ($A^{-1}$)'>,\n",
       " <AxesSubplot: title={'center': ' (3,)'}, xlabel='kx axis ($A^{-1}$)', ylabel='ky axis ($A^{-1}$)'>,\n",
       " <AxesSubplot: title={'center': ' (4,)'}, xlabel='kx axis ($A^{-1}$)', ylabel='ky axis ($A^{-1}$)'>]"
      ]
     },
     "execution_count": 56,
     "metadata": {},
     "output_type": "execute_result"
    }
   ],
   "source": [
    "hs.plot.plot_images(loadings, per_row=output_dimension, cmap='gray_r', axes_decor='off', colorbar=None)\n",
    "hs.plot.plot_images(factors, per_row=output_dimension, cmap='gray_r', norm='symlog', axes_decor='off', colorbar=None)"
   ]
  },
  {
   "cell_type": "markdown",
   "id": "26a4b83a-ed89-4513-8ba8-e0f62cd6914b",
   "metadata": {},
   "source": [
    "### Estimate thresholds for phase map"
   ]
  },
  {
   "cell_type": "code",
   "execution_count": 57,
   "id": "c99929ab-57c1-421e-9bac-992104abd66e",
   "metadata": {},
   "outputs": [],
   "source": [
    "phases['T1']['components'] = (1, 3)\n",
    "phases['theta_100']['components'] = (2, 4)"
   ]
  },
  {
   "cell_type": "code",
   "execution_count": 71,
   "id": "5476a68d-13ee-45cf-a5a6-7cd8abcdde2c",
   "metadata": {},
   "outputs": [
    {
     "name": "stdout",
     "output_type": "stream",
     "text": [
      "skimage.filters.thresholding.threshold_isodata\n",
      "skimage.filters.thresholding.threshold_li\n",
      "skimage.filters.thresholding.threshold_mean\n",
      "skimage.filters.thresholding.threshold_minimum\n",
      "skimage.filters.thresholding.threshold_otsu\n",
      "skimage.filters.thresholding.threshold_triangle\n",
      "skimage.filters.thresholding.threshold_yen\n"
     ]
    }
   ],
   "source": [
    "estimate_threshold(loadings, 3)"
   ]
  },
  {
   "cell_type": "code",
   "execution_count": 78,
   "id": "7af717c6-4b45-4668-b99b-49e765cb22f8",
   "metadata": {},
   "outputs": [],
   "source": [
    "phases['T1']['thresholds'].update({component: estimate_threshold(loadings, component, threshold_triangle) for component in phases['T1']['components']})\n",
    "phases['theta_100']['thresholds'].update({component: estimate_threshold(loadings, component, threshold_li) for component in phases['theta_100']['components']})"
   ]
  },
  {
   "cell_type": "code",
   "execution_count": 79,
   "id": "0bde802d-a8dd-488a-a9e1-a509ac71f819",
   "metadata": {},
   "outputs": [
    {
     "data": {
      "text/plain": [
       "{'theta_100': {'value': 1.0,\n",
       "  'components': (2, 4),\n",
       "  'thresholds': {2: 0.00812242, 4: 0.007290254}},\n",
       " 'theta_001': {'value': 2.0, 'components': (), 'thresholds': {}},\n",
       " 'T1': {'value': 3.0,\n",
       "  'components': (1, 3),\n",
       "  'thresholds': {1: 0.0017662686, 3: 0.0020232506}}}"
      ]
     },
     "execution_count": 79,
     "metadata": {},
     "output_type": "execute_result"
    }
   ],
   "source": [
    "phases"
   ]
  },
  {
   "cell_type": "markdown",
   "id": "bc1966ca-5898-4d94-b7e6-264e71cf0c46",
   "metadata": {},
   "source": [
    "### Apply thresholds and make phase maps"
   ]
  },
  {
   "cell_type": "code",
   "execution_count": 102,
   "id": "7d6e1213-1ff8-41c9-b83c-a6c3803233da",
   "metadata": {},
   "outputs": [
    {
     "name": "stdin",
     "output_type": "stream",
     "text": [
      "Overwrite '/mnt/DATA1/Emil/PhaseMappingPaper/Dataset A/datasetA_preprocessed_theta_100.hspy' (y/n)?\n",
      " y\n",
      "Overwrite '/mnt/DATA1/Emil/PhaseMappingPaper/Dataset A/datasetA_preprocessed_T1.hspy' (y/n)?\n",
      " y\n"
     ]
    }
   ],
   "source": [
    "#Create mask signals\n",
    "theta_100_mask = hs.signals.Signal2D(np.zeros(s.axes_manager.navigation_shape, dtype=bool))\n",
    "T1_mask = hs.signals.Signal2D(np.zeros(s.axes_manager.navigation_shape, dtype=bool))\n",
    "for ax_no, ax in enumerate(s.axes_manager.navigation_axes):\n",
    "    for mask in [T1_mask, theta_100_mask]:\n",
    "        mask.axes_manager[ax_no].name = s.axes_manager[ax].name\n",
    "        mask.axes_manager[ax_no].scale = s.axes_manager[ax].scale\n",
    "        mask.axes_manager[ax_no].units = s.axes_manager[ax].units\n",
    "        mask.axes_manager[ax_no].offset = s.axes_manager[ax].offset\n",
    "        \n",
    "#Set mask data for theta_100 \n",
    "for component in phases['theta_100']['components']:\n",
    "    theta_100_mask += loadings.inav[component]>=phases['theta_100']['thresholds'][component]\n",
    "theta_100_mask.metadata.General.title = 'theta_100'\n",
    "theta_100 = theta_100_mask * phases['theta_100']['value']\n",
    "theta_100.plot()\n",
    "\n",
    "#Set mask data for T1\n",
    "for component in phases['T1']['components']:\n",
    "    T1_mask += loadings.inav[component]>=phases['T1']['thresholds'][component]\n",
    "T1_mask.metadata.General.title = 'T1'\n",
    "T1 = T1_mask * phases['T1']['value']\n",
    "T1.plot()\n",
    "\n",
    "hs.plot.plot_images([T1, theta_100], overlay=True, colors=[colors[-2], colors[-4]])\n",
    "\n",
    "if True:\n",
    "    theta_100.save(filepath.with_name(f'{filepath.stem}_theta_100.hspy'))\n",
    "    T1.save(filepath.with_name(f'{filepath.stem}_T1.hspy'))\n",
    "\n",
    "    [s.metadata.add_dictionary({'Preprocessing': {'Masks': {'Navigation': {mask.metadata.General.title: mask}}}}) for mask in [theta_100_mask, T1_mask]]\n",
    "\n",
    "    hs.plot.plot_images([vbf, T1, theta_100], overlay=True, alphas=[1, 1, 1], colors=['w', colors[3], colors[1]], axes_decor='off')\n",
    "    fig = plt.gcf()\n",
    "    fig.savefig(filepath.with_name(f'{filepath.stem}_T1_theta100.png'))"
   ]
  },
  {
   "cell_type": "markdown",
   "id": "6db9fece-b374-4a3f-b70b-bde859d42e7d",
   "metadata": {},
   "source": [
    "# 2nd iteration"
   ]
  },
  {
   "cell_type": "markdown",
   "id": "bb6e0946-e666-44d5-a720-f5e6d67c6733",
   "metadata": {},
   "source": [
    "### get the new masks"
   ]
  },
  {
   "cell_type": "code",
   "execution_count": 100,
   "id": "ab948e62-2a7a-40fd-833c-da23a37e308b",
   "metadata": {},
   "outputs": [],
   "source": [
    "navmask = union_mask([mask for (_, mask) in s.metadata.Preprocessing.Masks.Navigation])\n",
    "hs.plot.plot_images([vbf, navmask*1.0], overlay=True, alphas=[1, 0.5], colors=['w', 'r'], axes_decor='off')\n",
    "fig = plt.gcf()\n",
    "fig.savefig(filepath.with_name(f'{filepath.stem}_NMF2_navmask.png'))"
   ]
  },
  {
   "cell_type": "markdown",
   "id": "405d0add-cd87-4e42-84c0-07801f8c6aa5",
   "metadata": {},
   "source": [
    "## SVD"
   ]
  },
  {
   "cell_type": "code",
   "execution_count": 154,
   "id": "d2c51545-9683-4a21-9fa7-195923f3b2a4",
   "metadata": {},
   "outputs": [
    {
     "name": "stdout",
     "output_type": "stream",
     "text": [
      "Decomposition info:\n",
      "  normalize_poissonian_noise=True\n",
      "  algorithm=SVD\n",
      "  output_dimension=None\n",
      "  centre=None\n",
      "Finished decomposition. Elapsed time: 1264.411277770996 seconds\n"
     ]
    }
   ],
   "source": [
    "s = hs.load(str(filepath), lazy=False) #Reload data without any decomposition results\n",
    "s.change_dtype('float32')\n",
    "\n",
    "tic = time.time()\n",
    "decomp = s.decomposition(\n",
    "    normalize_poissonian_noise=True,\n",
    "    algorithm='SVD',\n",
    "    signal_mask=diffmask.data,\n",
    "    navigation_mask=navmask.data.T,\n",
    "    return_info=True\n",
    ")\n",
    "toc = time.time()\n",
    "print(f'Finished decomposition. Elapsed time: {toc - tic} seconds')\n",
    "s.learning_results.save(filepath.with_name(f'{filepath.stem}_SVD2'), overwrite=True)"
   ]
  },
  {
   "cell_type": "code",
   "execution_count": 155,
   "id": "14bb53c1-4853-4efc-9045-a359b86b642e",
   "metadata": {},
   "outputs": [],
   "source": [
    "threshold = 6\n",
    "#where the estimated threshold in the explained variance is - tune!\n",
    "SMALL_SIZE = 6\n",
    "MEDIUM_SIZE = 8\n",
    "LARGE_SIZE = 10\n",
    "with mpl.rc_context({\n",
    "    'font.size': SMALL_SIZE, \n",
    "    'axes.titlesize': SMALL_SIZE,\n",
    "    'axes.labelsize': MEDIUM_SIZE,\n",
    "    'xtick.labelsize': SMALL_SIZE,\n",
    "    'ytick.labelsize': SMALL_SIZE,\n",
    "    'legend.fontsize': SMALL_SIZE,\n",
    "    'figure.titlesize': LARGE_SIZE\n",
    "}):\n",
    "    markersize = 4 #Marker size for the plot\n",
    "    dpi=300 #DPI\n",
    "    figwidth = 468/3 #figure size in points\n",
    "    pt2in = 0.01389 #conversion from points to inches\n",
    "    figsize = (figwidth*pt2in, figwidth*pt2in) #Figuresize in inches\n",
    "    fig, ax = plt.subplots(figsize=figsize, dpi=dpi)\n",
    "    s.plot_explained_variance_ratio(n=32,\n",
    "                                    threshold=threshold,\n",
    "                                    xaxis_type='number',\n",
    "                                    xaxis_labeling='ordinal',\n",
    "                                    signal_fmt={'marker': 'o', 'color': 'k', 'markerfacecolor': 'k', 'lw': 0, 'ms':markersize},\n",
    "                                    noise_fmt={'marker':'o', 'color': 'k', 'markerfacecolor': 'w', 'lw': 0, 'ms':markersize},\n",
    "                                    fig=fig,\n",
    "                                    ax=ax\n",
    "                                   )\n",
    "    ax.set_title('')\n",
    "    ax.set_xlim(0)\n",
    "    plt.tight_layout()\n",
    "    fig.savefig(filepath.with_name(f'{filepath.stem}_SVD2.png'), dpi=dpi)"
   ]
  },
  {
   "cell_type": "code",
   "execution_count": 156,
   "id": "c18a8ce7-debc-4fbf-8e16-3336ca35b7ac",
   "metadata": {},
   "outputs": [
    {
     "data": {
      "application/vnd.jupyter.widget-view+json": {
       "model_id": "43d8d7b4ce304f12939a4617ff9af9fa",
       "version_major": 2,
       "version_minor": 0
      },
      "text/plain": [
       "VBox(children=(HBox(children=(Label(value='Decomposition component index', layout=Layout(width='15%')), IntSli…"
      ]
     },
     "metadata": {},
     "output_type": "display_data"
    }
   ],
   "source": [
    "s.plot_decomposition_results()"
   ]
  },
  {
   "cell_type": "markdown",
   "id": "4b69cfa9-89d4-4740-9136-7635f7dd92c7",
   "metadata": {},
   "source": [
    "### NMF"
   ]
  },
  {
   "cell_type": "code",
   "execution_count": 106,
   "id": "be45c95a-a980-4879-91df-5f2ff5e8cacd",
   "metadata": {},
   "outputs": [
    {
     "name": "stdout",
     "output_type": "stream",
     "text": [
      "Decomposition info:\n",
      "  normalize_poissonian_noise=True\n",
      "  algorithm=NMF\n",
      "  output_dimension=6\n",
      "  centre=None\n",
      "scikit-learn estimator:\n",
      "NMF(init='nndsvd', max_iter=10000, n_components=6)\n",
      "Finished decomposition. Elapsed time: 4677.641726732254 seconds\n",
      "Decoposition parameters: NMF(init='nndsvd', max_iter=10000, n_components=6)\n",
      "Decomposition reconstruction error: 0.1301728144520098\n",
      "Decomposition number of iterations: 9065\n"
     ]
    }
   ],
   "source": [
    "s = hs.load(str(filepath), lazy=False) #Reload data without any decomposition results\n",
    "s.change_dtype('float32')\n",
    "\n",
    "output_dimension = 6 #The number of components to allow\n",
    "tic = time.time()\n",
    "decomp = s.decomposition(\n",
    "    normalize_poissonian_noise=True,\n",
    "    algorithm='NMF',\n",
    "    output_dimension=output_dimension,\n",
    "    signal_mask=diffmask,\n",
    "    navigation_mask=navmask.data.T,\n",
    "    return_info=True,\n",
    "    init='nndsvd',\n",
    "    max_iter=10000\n",
    ")\n",
    "toc = time.time()\n",
    "print(f'Finished decomposition. Elapsed time: {toc - tic} seconds')\n",
    "print(f'Decoposition parameters: {decomp}')\n",
    "print(f'Decomposition reconstruction error: {decomp.reconstruction_err_}')\n",
    "print(f'Decomposition number of iterations: {decomp.n_iter_}')\n",
    "\n",
    "#Save the decomposition results\n",
    "s.learning_results.save(filepath.with_name(f'{filepath.stem}_NMF2'), overwrite=True)\n",
    "\n",
    "#Save the factors and loadings individually as well\n",
    "factors = s.get_decomposition_factors()\n",
    "loadings = s.get_decomposition_loadings()\n",
    "if decomp is not None:\n",
    "    factors.metadata.add_dictionary({'Decomposition': decomp.__dict__})\n",
    "    loadings.metadata.add_dictionary({'Decomposition': decomp.__dict__})\n",
    "factors.save(filepath.with_name(f'{filepath.stem}_NMF2_{output_dimension}_factors.hspy'), overwrite=True)\n",
    "loadings.save(filepath.with_name(f'{filepath.stem}_NMF2_{output_dimension}_loadings.hspy'), overwrite=True)"
   ]
  },
  {
   "cell_type": "code",
   "execution_count": 107,
   "id": "a9f26581-1bb3-44fe-9f59-b549f10fa6fc",
   "metadata": {},
   "outputs": [],
   "source": [
    "hs.plot.plot_signals([loadings, factors])"
   ]
  },
  {
   "cell_type": "code",
   "execution_count": 108,
   "id": "67d58d9d-827a-4405-9487-093f93745bd6",
   "metadata": {},
   "outputs": [],
   "source": [
    "phases['theta_001']['components'] = (4,)"
   ]
  },
  {
   "cell_type": "code",
   "execution_count": 109,
   "id": "17c51bcc-e5d9-4b84-ae7e-40e99c4e7f38",
   "metadata": {},
   "outputs": [
    {
     "name": "stdout",
     "output_type": "stream",
     "text": [
      "skimage.filters.thresholding.threshold_isodata\n",
      "skimage.filters.thresholding.threshold_li\n",
      "skimage.filters.thresholding.threshold_mean\n",
      "skimage.filters.thresholding.threshold_minimum\n",
      "skimage.filters.thresholding.threshold_otsu\n",
      "skimage.filters.thresholding.threshold_triangle\n",
      "skimage.filters.thresholding.threshold_yen\n"
     ]
    }
   ],
   "source": [
    "estimate_threshold(loadings, 4)"
   ]
  },
  {
   "cell_type": "code",
   "execution_count": 110,
   "id": "9d956b49-90e1-4acd-b4ef-9b23d2229900",
   "metadata": {},
   "outputs": [],
   "source": [
    "phases['theta_001']['thresholds'].update({component: estimate_threshold(loadings, component, threshold_isodata) for component in phases['theta_001']['components']})"
   ]
  },
  {
   "cell_type": "code",
   "execution_count": 111,
   "id": "58adf5aa-9b48-44ad-b8ff-ae71b0924301",
   "metadata": {},
   "outputs": [
    {
     "data": {
      "text/plain": [
       "{'theta_100': {'value': 1.0,\n",
       "  'components': (2, 4),\n",
       "  'thresholds': {2: 0.00812242, 4: 0.007290254}},\n",
       " 'theta_001': {'value': 2.0,\n",
       "  'components': (4,),\n",
       "  'thresholds': {4: 0.0041912066626537126}},\n",
       " 'T1': {'value': 3.0,\n",
       "  'components': (1, 3),\n",
       "  'thresholds': {1: 0.0017662686, 3: 0.0020232506}}}"
      ]
     },
     "execution_count": 111,
     "metadata": {},
     "output_type": "execute_result"
    }
   ],
   "source": [
    "phases"
   ]
  },
  {
   "cell_type": "code",
   "execution_count": 114,
   "id": "489d06b4-5be8-4801-a4d9-63c1b19064dc",
   "metadata": {},
   "outputs": [
    {
     "name": "stdin",
     "output_type": "stream",
     "text": [
      "Overwrite '/mnt/DATA1/Emil/PhaseMappingPaper/Dataset A/datasetA_preprocessed_theta_001.hspy' (y/n)?\n",
      " y\n"
     ]
    }
   ],
   "source": [
    "#Create mask signals\n",
    "theta_001_mask = hs.signals.Signal2D(np.zeros(s.axes_manager.navigation_shape, dtype=bool))\n",
    "for ax_no, ax in enumerate(s.axes_manager.navigation_axes):\n",
    "    theta_001_mask.axes_manager[ax_no].name = s.axes_manager[ax].name\n",
    "    theta_001_mask.axes_manager[ax_no].scale = s.axes_manager[ax].scale\n",
    "    theta_001_mask.axes_manager[ax_no].units = s.axes_manager[ax].units\n",
    "    theta_001_mask.axes_manager[ax_no].offset = s.axes_manager[ax].offset\n",
    "        \n",
    "#Set mask data for theta_100 \n",
    "for component in phases['theta_001']['components']:\n",
    "    theta_001_mask += loadings.inav[component]>=phases['theta_001']['thresholds'][component]\n",
    "theta_001_mask.metadata.General.title = 'theta_001'\n",
    "theta_001 = theta_001_mask * phases['theta_001']['value']\n",
    "theta_001.plot()\n",
    "\n",
    "hs.plot.plot_images([theta_001, T1, theta_100], overlay=True, colors=[colors[-3], colors[-2], colors[-4]])\n",
    "\n",
    "if True:\n",
    "    theta_001.save(filepath.with_name(f'{filepath.stem}_theta_001.hspy'))\n",
    "\n",
    "    s.metadata.add_dictionary({'Preprocessing': {'Masks': {'Navigation': {theta_001_mask.metadata.General.title: theta_001_mask}}}})\n",
    "\n",
    "    hs.plot.plot_images([vbf, theta_001, T1, theta_100], overlay=True, alphas=[1, 1, 1, 1], colors=['w', colors[-3], colors[-2], colors[-4]], axes_decor='off')\n",
    "    fig = plt.gcf()\n",
    "    fig.savefig(filepath.with_name(f'{filepath.stem}_theta001_T1_theta100.png'))"
   ]
  },
  {
   "cell_type": "code",
   "execution_count": 130,
   "id": "7514de2e-e3d2-4916-81b6-cd6d44a5bf55",
   "metadata": {},
   "outputs": [
    {
     "name": "stdin",
     "output_type": "stream",
     "text": [
      "Overwrite '/mnt/DATA1/Emil/PhaseMappingPaper/Dataset A/datasetA_preprocessed_matrix.hspy' (y/n)?\n",
      " y\n"
     ]
    }
   ],
   "source": [
    "matrix = hs.signals.Signal2D(np.ones(s.axes_manager.navigation_shape, dtype='uint8'))\n",
    "for ax_no, ax in enumerate(s.axes_manager.navigation_axes):\n",
    "    matrix.axes_manager[ax_no].name = s.axes_manager[ax].name\n",
    "    matrix.axes_manager[ax_no].scale = s.axes_manager[ax].scale\n",
    "    matrix.axes_manager[ax_no].units = s.axes_manager[ax].units\n",
    "    matrix.axes_manager[ax_no].offset = s.axes_manager[ax].offset\n",
    "matrix.metadata.General.title = 'Al'\n",
    "\n",
    "matrix.data[theta_001_mask] = 0\n",
    "matrix.data[theta_100_mask] = 0\n",
    "matrix.data[T1_mask] = 0\n",
    "\n",
    "\n",
    "vbf.metadata.General.title = 'VBF'\n",
    "\n",
    "if True:\n",
    "    matrix.save(filepath.with_name(f'{filepath.stem}_matrix.hspy'))\n",
    "\n",
    "    s.metadata.add_dictionary({'Preprocessing': {'Masks': {'Navigation': {matrix.metadata.General.title: matrix}}}})\n",
    "\n",
    "    hs.plot.plot_images([matrix, theta_001, T1, theta_100, vbf], overlay=True, alphas=[1, 1, 1, 1, 1], colors=[colors[0], colors[-3], colors[-2], colors[-4], 'w'], axes_decor='off', legend_loc='lower left')\n",
    "    fig = plt.gcf()\n",
    "    fig.savefig(filepath.with_name(f'{filepath.stem}_matrix_theta001_T1_theta100.png'))"
   ]
  },
  {
   "cell_type": "code",
   "execution_count": 150,
   "id": "7b7579a9-0d8d-4119-a2b7-8e088b3b4e61",
   "metadata": {},
   "outputs": [],
   "source": [
    "phasemap = hs.signals.Signal2D(np.zeros(s.axes_manager.navigation_shape))\n",
    "phasemap.data[theta_001_mask] = phases['theta_001']['value']\n",
    "phasemap.data[T1_mask] = phases['T1']['value']\n",
    "phasemap.data[theta_100_mask] = phases['theta_100']['value']\n",
    "phasemap.data[matrix] = 1\n",
    "\n",
    "for ax_no, ax in enumerate(s.axes_manager.navigation_axes):\n",
    "    phasemap.axes_manager[ax_no].name = s.axes_manager[ax].name\n",
    "    phasemap.axes_manager[ax_no].scale = s.axes_manager[ax].scale\n",
    "    phasemap.axes_manager[ax_no].units = s.axes_manager[ax].units\n",
    "    phasemap.axes_manager[ax_no].offset = s.axes_manager[ax].offset\n",
    "phasemap.metadata.General.title = 'NMF phasemap'\n",
    "\n",
    "phasemap.plot(cmap=cmap, vmax=4)\n",
    "\n",
    "phasemap.save(filepath.with_name(f'{filepath.stem}_phasemap.hspy'))"
   ]
  },
  {
   "cell_type": "code",
   "execution_count": 140,
   "id": "34a4818d-736f-4b3d-9932-dc1e214b795e",
   "metadata": {},
   "outputs": [
    {
     "data": {
      "text/html": [
       "<ul style=\"margin: 0px; list-style-position: outside;\">\n",
       "                    <details open>\n",
       "                    <summary style=\"display: list-item;\">\n",
       "                    <li style=\"display: inline;\">\n",
       "                    Acquisition_instrument\n",
       "                    </li></summary>\n",
       "                    <ul style=\"margin: 0px; list-style-position: outside;\">\n",
       "                    <details closed>\n",
       "                    <summary style=\"display: list-item;\">\n",
       "                    <li style=\"display: inline;\">\n",
       "                    TEM\n",
       "                    </li></summary>\n",
       "                    <ul style=\"margin: 0px; list-style-position: outside;\">\n",
       "                    <details closed>\n",
       "                    <summary style=\"display: list-item;\">\n",
       "                    <li style=\"display: inline;\">\n",
       "                    Detector\n",
       "                    </li></summary>\n",
       "                    <ul style=\"margin: 0px; list-style-position: outside;\">\n",
       "                    <details closed>\n",
       "                    <summary style=\"display: list-item;\">\n",
       "                    <li style=\"display: inline;\">\n",
       "                    Diffraction\n",
       "                    </li></summary>\n",
       "                    \n",
       "    <ul style=\"margin: 0px; list-style-position: outside;\">\n",
       "    <li style='margin-left:1em; padding-left: 0.5em'>camera_length = 23.036135801743175</li></ul>\n",
       "    \n",
       "    <ul style=\"margin: 0px; list-style-position: outside;\">\n",
       "    <li style='margin-left:1em; padding-left: 0.5em'>exposure_time = 10</li></ul>\n",
       "    </details></ul></details></ul>\n",
       "    <ul style=\"margin: 0px; list-style-position: outside;\">\n",
       "    <li style='margin-left:1em; padding-left: 0.5em'>beam_energy = 200</li></ul>\n",
       "    \n",
       "    <ul style=\"margin: 0px; list-style-position: outside;\">\n",
       "    <li style='margin-left:1em; padding-left: 0.5em'>rocking_angle = 1.04</li></ul>\n",
       "    \n",
       "    <ul style=\"margin: 0px; list-style-position: outside;\">\n",
       "    <li style='margin-left:1em; padding-left: 0.5em'>rocking_frequency = 100</li></ul>\n",
       "    \n",
       "    <ul style=\"margin: 0px; list-style-position: outside;\">\n",
       "    <li style='margin-left:1em; padding-left: 0.5em'>scan_rotation = 0</li></ul>\n",
       "    </details></ul></details></ul><ul style=\"margin: 0px; list-style-position: outside;\">\n",
       "                    <details open>\n",
       "                    <summary style=\"display: list-item;\">\n",
       "                    <li style=\"display: inline;\">\n",
       "                    General\n",
       "                    </li></summary>\n",
       "                    <ul style=\"margin: 0px; list-style-position: outside;\">\n",
       "                    <details closed>\n",
       "                    <summary style=\"display: list-item;\">\n",
       "                    <li style=\"display: inline;\">\n",
       "                    FileIO\n",
       "                    </li></summary>\n",
       "                    <ul style=\"margin: 0px; list-style-position: outside;\">\n",
       "                    <details closed>\n",
       "                    <summary style=\"display: list-item;\">\n",
       "                    <li style=\"display: inline;\">\n",
       "                    0\n",
       "                    </li></summary>\n",
       "                    \n",
       "    <ul style=\"margin: 0px; list-style-position: outside;\">\n",
       "    <li style='margin-left:1em; padding-left: 0.5em'>hyperspy_version = 1.7.3</li></ul>\n",
       "    \n",
       "    <ul style=\"margin: 0px; list-style-position: outside;\">\n",
       "    <li style='margin-left:1em; padding-left: 0.5em'>io_plugin = hyperspy.io_plugins.hspy</li></ul>\n",
       "    \n",
       "    <ul style=\"margin: 0px; list-style-position: outside;\">\n",
       "    <li style='margin-left:1em; padding-left: 0.5em'>operation = save</li></ul>\n",
       "    \n",
       "    <ul style=\"margin: 0px; list-style-position: outside;\">\n",
       "    <li style='margin-left:1em; padding-left: 0.5em'>timestamp = 2023-03-22T08:20:25.199003+01:00</li></ul>\n",
       "    </details></ul><ul style=\"margin: 0px; list-style-position: outside;\">\n",
       "                    <details closed>\n",
       "                    <summary style=\"display: list-item;\">\n",
       "                    <li style=\"display: inline;\">\n",
       "                    1\n",
       "                    </li></summary>\n",
       "                    \n",
       "    <ul style=\"margin: 0px; list-style-position: outside;\">\n",
       "    <li style='margin-left:1em; padding-left: 0.5em'>hyperspy_version = 1.7.3</li></ul>\n",
       "    \n",
       "    <ul style=\"margin: 0px; list-style-position: outside;\">\n",
       "    <li style='margin-left:1em; padding-left: 0.5em'>io_plugin = hyperspy.io_plugins.hspy</li></ul>\n",
       "    \n",
       "    <ul style=\"margin: 0px; list-style-position: outside;\">\n",
       "    <li style='margin-left:1em; padding-left: 0.5em'>operation = load</li></ul>\n",
       "    \n",
       "    <ul style=\"margin: 0px; list-style-position: outside;\">\n",
       "    <li style='margin-left:1em; padding-left: 0.5em'>timestamp = 2023-03-22T08:32:52.490161+01:00</li></ul>\n",
       "    </details></ul><ul style=\"margin: 0px; list-style-position: outside;\">\n",
       "                    <details closed>\n",
       "                    <summary style=\"display: list-item;\">\n",
       "                    <li style=\"display: inline;\">\n",
       "                    2\n",
       "                    </li></summary>\n",
       "                    \n",
       "    <ul style=\"margin: 0px; list-style-position: outside;\">\n",
       "    <li style='margin-left:1em; padding-left: 0.5em'>hyperspy_version = 1.7.3</li></ul>\n",
       "    \n",
       "    <ul style=\"margin: 0px; list-style-position: outside;\">\n",
       "    <li style='margin-left:1em; padding-left: 0.5em'>io_plugin = hyperspy.io_plugins.hspy</li></ul>\n",
       "    \n",
       "    <ul style=\"margin: 0px; list-style-position: outside;\">\n",
       "    <li style='margin-left:1em; padding-left: 0.5em'>operation = save</li></ul>\n",
       "    \n",
       "    <ul style=\"margin: 0px; list-style-position: outside;\">\n",
       "    <li style='margin-left:1em; padding-left: 0.5em'>timestamp = 2023-03-22T08:45:26.118812+01:00</li></ul>\n",
       "    </details></ul><ul style=\"margin: 0px; list-style-position: outside;\">\n",
       "                    <details closed>\n",
       "                    <summary style=\"display: list-item;\">\n",
       "                    <li style=\"display: inline;\">\n",
       "                    3\n",
       "                    </li></summary>\n",
       "                    \n",
       "    <ul style=\"margin: 0px; list-style-position: outside;\">\n",
       "    <li style='margin-left:1em; padding-left: 0.5em'>hyperspy_version = 1.7.3</li></ul>\n",
       "    \n",
       "    <ul style=\"margin: 0px; list-style-position: outside;\">\n",
       "    <li style='margin-left:1em; padding-left: 0.5em'>io_plugin = hyperspy.io_plugins.hspy</li></ul>\n",
       "    \n",
       "    <ul style=\"margin: 0px; list-style-position: outside;\">\n",
       "    <li style='margin-left:1em; padding-left: 0.5em'>operation = load</li></ul>\n",
       "    \n",
       "    <ul style=\"margin: 0px; list-style-position: outside;\">\n",
       "    <li style='margin-left:1em; padding-left: 0.5em'>timestamp = 2023-04-11T13:59:21.745276+02:00</li></ul>\n",
       "    </details></ul></details></ul>\n",
       "    <ul style=\"margin: 0px; list-style-position: outside;\">\n",
       "    <li style='margin-left:1em; padding-left: 0.5em'>title = Dataset A</li></ul>\n",
       "    </details></ul><ul style=\"margin: 0px; list-style-position: outside;\">\n",
       "                    <details open>\n",
       "                    <summary style=\"display: list-item;\">\n",
       "                    <li style=\"display: inline;\">\n",
       "                    Preprocessing\n",
       "                    </li></summary>\n",
       "                    <ul style=\"margin: 0px; list-style-position: outside;\">\n",
       "                    <details closed>\n",
       "                    <summary style=\"display: list-item;\">\n",
       "                    <li style=\"display: inline;\">\n",
       "                    Centering\n",
       "                    </li></summary>\n",
       "                    \n",
       "    <ul style=\"margin: 0px; list-style-position: outside;\">\n",
       "    <li style='margin-left:1em; padding-left: 0.5em'>COM = &lt;DPCSignal2D, title: , dimensions: (2|512, 512)&gt;</li></ul>\n",
       "    <ul style=\"margin: 0px; list-style-position: outside;\">\n",
       "                    <details closed>\n",
       "                    <summary style=\"display: list-item;\">\n",
       "                    <li style=\"display: inline;\">\n",
       "                    COM_mask\n",
       "                    </li></summary>\n",
       "                    \n",
       "    <ul style=\"margin: 0px; list-style-position: outside;\">\n",
       "    <li style='margin-left:1em; padding-left: 0.5em'>r = 12.5</li></ul>\n",
       "    \n",
       "    <ul style=\"margin: 0px; list-style-position: outside;\">\n",
       "    <li style='margin-left:1em; padding-left: 0.5em'>x = 127</li></ul>\n",
       "    \n",
       "    <ul style=\"margin: 0px; list-style-position: outside;\">\n",
       "    <li style='margin-left:1em; padding-left: 0.5em'>y = 126</li></ul>\n",
       "    </details></ul>\n",
       "    <ul style=\"margin: 0px; list-style-position: outside;\">\n",
       "    <li style='margin-left:1em; padding-left: 0.5em'>Shifts = &lt;BeamShift, title: , dimensions: (512, 512|2)&gt;</li></ul>\n",
       "    \n",
       "    <ul style=\"margin: 0px; list-style-position: outside;\">\n",
       "    <li style='margin-left:1em; padding-left: 0.5em'>shift_estimate_mask = &lt;BaseSignal, title: , dimensions: (512, 512|)&gt;</li></ul>\n",
       "    </details></ul><ul style=\"margin: 0px; list-style-position: outside;\">\n",
       "                    <details closed>\n",
       "                    <summary style=\"display: list-item;\">\n",
       "                    <li style=\"display: inline;\">\n",
       "                    Masks\n",
       "                    </li></summary>\n",
       "                    <ul style=\"margin: 0px; list-style-position: outside;\">\n",
       "                    <details closed>\n",
       "                    <summary style=\"display: list-item;\">\n",
       "                    <li style=\"display: inline;\">\n",
       "                    Diffraction\n",
       "                    </li></summary>\n",
       "                    \n",
       "    <ul style=\"margin: 0px; list-style-position: outside;\">\n",
       "    <li style='margin-left:1em; padding-left: 0.5em'>cutoff = &lt;Signal2D, title: &lt;7.001e-01 $A^{-1}$ mask, dimensions: (|128, 128)&gt;</li></ul>\n",
       "    \n",
       "    <ul style=\"margin: 0px; list-style-position: outside;\">\n",
       "    <li style='margin-left:1em; padding-left: 0.5em'>direct_beam = &lt;Signal2D, title: &gt;1.595e-01 $A^{-1}$ mask, dimensions: (|128, 128)&gt;</li></ul>\n",
       "    \n",
       "    <ul style=\"margin: 0px; list-style-position: outside;\">\n",
       "    <li style='margin-left:1em; padding-left: 0.5em'>reflections = &lt;Signal2D, title: Reflection mask, dimensions: (|128, 128)&gt;</li></ul>\n",
       "    </details></ul><ul style=\"margin: 0px; list-style-position: outside;\">\n",
       "                    <details closed>\n",
       "                    <summary style=\"display: list-item;\">\n",
       "                    <li style=\"display: inline;\">\n",
       "                    Navigation\n",
       "                    </li></summary>\n",
       "                    \n",
       "    <ul style=\"margin: 0px; list-style-position: outside;\">\n",
       "    <li style='margin-left:1em; padding-left: 0.5em'>Al = &lt;Signal2D, title: Al, dimensions: (|512, 512)&gt;</li></ul>\n",
       "    \n",
       "    <ul style=\"margin: 0px; list-style-position: outside;\">\n",
       "    <li style='margin-left:1em; padding-left: 0.5em'>theta_001 = &lt;Signal2D, title: theta_001, dimensions: (|512, 512)&gt;</li></ul>\n",
       "    </details></ul></details></ul></details></ul><ul style=\"margin: 0px; list-style-position: outside;\">\n",
       "                    <details open>\n",
       "                    <summary style=\"display: list-item;\">\n",
       "                    <li style=\"display: inline;\">\n",
       "                    Signal\n",
       "                    </li></summary>\n",
       "                    \n",
       "    <ul style=\"margin: 0px; list-style-position: outside;\">\n",
       "    <li style='margin-left:1em; padding-left: 0.5em'>signal_type = electron_diffraction</li></ul>\n",
       "    </details></ul>"
      ],
      "text/plain": [
       "├── Acquisition_instrument\n",
       "│   └── TEM\n",
       "│       ├── Detector\n",
       "│       │   └── Diffraction\n",
       "│       │       ├── camera_length = 23.036135801743175\n",
       "│       │       └── exposure_time = 10\n",
       "│       ├── beam_energy = 200\n",
       "│       ├── rocking_angle = 1.04\n",
       "│       ├── rocking_frequency = 100\n",
       "│       └── scan_rotation = 0\n",
       "├── General\n",
       "│   ├── FileIO\n",
       "│   │   ├── 0\n",
       "│   │   │   ├── hyperspy_version = 1.7.3\n",
       "│   │   │   ├── io_plugin = hyperspy.io_plugins.hspy\n",
       "│   │   │   ├── operation = save\n",
       "│   │   │   └── timestamp = 2023-03-22T08:20:25.199003+01:00\n",
       "│   │   ├── 1\n",
       "│   │   │   ├── hyperspy_version = 1.7.3\n",
       "│   │   │   ├── io_plugin = hyperspy.io_plugins.hspy\n",
       "│   │   │   ├── operation = load\n",
       "│   │   │   └── timestamp = 2023-03-22T08:32:52.490161+01:00\n",
       "│   │   ├── 2\n",
       "│   │   │   ├── hyperspy_version = 1.7.3\n",
       "│   │   │   ├── io_plugin = hyperspy.io_plugins.hspy\n",
       "│   │   │   ├── operation = save\n",
       "│   │   │   └── timestamp = 2023-03-22T08:45:26.118812+01:00\n",
       "│   │   └── 3\n",
       "│   │       ├── hyperspy_version = 1.7.3\n",
       "│   │       ├── io_plugin = hyperspy.io_plugins.hspy\n",
       "│   │       ├── operation = load\n",
       "│   │       └── timestamp = 2023-04-11T13:59:21.745276+02:00\n",
       "│   └── title = Dataset A\n",
       "├── Preprocessing\n",
       "│   ├── Centering\n",
       "│   │   ├── COM = <DPCSignal2D, title: , dimensions: (2|512, 512)>\n",
       "│   │   ├── COM_mask\n",
       "│   │   │   ├── r = 12.5\n",
       "│   │   │   ├── x = 127\n",
       "│   │   │   └── y = 126\n",
       "│   │   ├── Shifts = <BeamShift, title: , dimensions: (512, 512|2)>\n",
       "│   │   └── shift_estimate_mask = <BaseSignal, title: , dimensions: (512, 512|)>\n",
       "│   └── Masks\n",
       "│       ├── Diffraction\n",
       "│       │   ├── cutoff = <Signal2D, title: <7.001e-01 $A^{-1}$ mask, dimensions: (|128, 128)>\n",
       "│       │   ├── direct_beam = <Signal2D, title: >1.595e-01 $A^{-1}$ mask, dimensions: (|128, 128)>\n",
       "│       │   └── reflections = <Signal2D, title: Reflection mask, dimensions: (|128, 128)>\n",
       "│       └── Navigation\n",
       "│           ├── Al = <Signal2D, title: Al, dimensions: (|512, 512)>\n",
       "│           └── theta_001 = <Signal2D, title: theta_001, dimensions: (|512, 512)>\n",
       "└── Signal\n",
       "    └── signal_type = electron_diffraction"
      ]
     },
     "execution_count": 140,
     "metadata": {},
     "output_type": "execute_result"
    }
   ],
   "source": [
    "s.metadata"
   ]
  },
  {
   "cell_type": "code",
   "execution_count": null,
   "id": "bb552423-9785-4135-ab48-1348e26a0e0e",
   "metadata": {},
   "outputs": [],
   "source": []
  }
 ],
 "metadata": {
  "kernelspec": {
   "display_name": "Python 3 (ipykernel)",
   "language": "python",
   "name": "python3"
  },
  "language_info": {
   "codemirror_mode": {
    "name": "ipython",
    "version": 3
   },
   "file_extension": ".py",
   "mimetype": "text/x-python",
   "name": "python",
   "nbconvert_exporter": "python",
   "pygments_lexer": "ipython3",
   "version": "3.10.8"
  }
 },
 "nbformat": 4,
 "nbformat_minor": 5
}
