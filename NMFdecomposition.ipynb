{
 "cells": [
  {
   "cell_type": "code",
   "execution_count": null,
   "id": "d4300c59-6dc2-4093-8c0b-405be25bf5a7",
   "metadata": {},
   "outputs": [],
   "source": [
    "import hyperspy.api as hs\n",
    "import pyxem as pxm\n",
    "import numpy as np\n",
    "import time\n",
    "\n",
    "from pathlib import Path"
   ]
  },
  {
   "cell_type": "code",
   "execution_count": null,
   "id": "f5626f85-4442-40a8-bb2d-622f022d598c",
   "metadata": {},
   "outputs": [],
   "source": [
    "def get_masks_from_metadata(signal):\n",
    "    \"\"\"\n",
    "    Returns the summed diffraction and navigation masks from a signals metadata\n",
    "    \n",
    "    Arguments:\n",
    "    ----------\n",
    "    signal: The hyperspy signal to extract the masks from. Diffraction masks will be looked for under \"Preprocessing/Masks/Diffraction\" and navigation masks will be looked for under \"Preprocessing/Masks/Navigation\".\n",
    "    \n",
    "    Returns:\n",
    "    --------\n",
    "    diffmask, navmask: The summed diffraction mask and the summed navmask\n",
    "    \"\"\"\n",
    "    \n",
    "    try:\n",
    "        masks = signal.metadata.Preprocessing.Masks.Diffraction\n",
    "    except AttributeError as e:\n",
    "        print(f'No Diffraction mask available in metadata:\\n{e}')\n",
    "        diffmask = None\n",
    "    else:\n",
    "        print(f'Found {len(masks)} diffraction masks in the metadata')\n",
    "        diffmask = np.zeros(s.axes_manager.signal_shape, dtype=bool)  # Create mask\n",
    "        title = ''\n",
    "        for mask_name, mask in masks:  # Iterate and add masks together\n",
    "            title = f'{title}, {mask_name}'\n",
    "            print(f'Adding mask \"{mask_name}\" {mask} to diffraction mask')\n",
    "            diffmask += mask\n",
    "        diffmask.metadata.General.title = f'Diffraction mask [{title}]'\n",
    "    \n",
    "    try:\n",
    "        masks = signal.metadata.Preprocessing.Masks.Navigation  # Extract the navigation masks from the metadata\n",
    "    except AttributeError as e:\n",
    "        print(f'No Navigation masks available in metdata:\\n{e}')\n",
    "        navmask = None\n",
    "    else:\n",
    "        print(f\"Found {len(masks)} navigation masks in the metadata\")\n",
    "        navmask = np.zeros(s.axes_manager.navigation_shape, dtype=bool)  # Create mask\n",
    "        title = f''\n",
    "        for mask_name, mask in masks:  # Iterate and add masks together\n",
    "            title = f'{title}, {mask_name}'\n",
    "            print(f\"Adding mask \"{mask_name}\" {mask} to navigation mask\")\n",
    "            navmask += mask\n",
    "        navmask.metadata.General.title = f'Navigation mask [{title}]'\n",
    "    \n",
    "    return diffmask, navmask\n",
    "\n",
    "def estimate_threshold(loadings, component, method=None):\n",
    "    if method is None:\n",
    "        _ = try_all_threshold(np.nan_to_num(loadings.inav[component].data, copy=True, nan=np.nanmin(loadings.inav[component].data)))\n",
    "        fig = plt.gcf()\n",
    "        fig.suptitle(component)\n",
    "    else:\n",
    "        return method(np.nan_to_num(loadings.inav[component].data, copy=True, nan=np.nanmin(loadings.inav[component].data)))"
   ]
  },
  {
   "cell_type": "markdown",
   "id": "4fea50e0-4be0-4036-9474-f66d3a8da115",
   "metadata": {},
   "source": [
    "# Dataset A\n",
    "\n",
    "## Load and prepare data"
   ]
  },
  {
   "cell_type": "code",
   "execution_count": null,
   "id": "8000d1c2-380e-49c4-a6bf-4a24f2b77b3b",
   "metadata": {},
   "outputs": [],
   "source": [
    "filepath = Path(r'')"
   ]
  },
  {
   "cell_type": "code",
   "execution_count": null,
   "id": "aef7bcb6-bb33-427a-80d4-045ca157ab67",
   "metadata": {},
   "outputs": [],
   "source": [
    "s = hs.load(str(filepath), lazy=False)\n",
    "s.change_dtype('float32')\n",
    "vbf = s.get_integrated_intensity(hs.roi.CircleROI(0.0, 0.0, 0.01))\n",
    "maximums = s.max(axis=[0, 1])"
   ]
  },
  {
   "cell_type": "markdown",
   "id": "d4b84455-25c8-4f93-9f6f-282eec8dae07",
   "metadata": {},
   "source": [
    "## Get the pre-made masks from the metadata (see preprocessing notebook for details)"
   ]
  },
  {
   "cell_type": "code",
   "execution_count": null,
   "id": "d53e3c55-be8c-40e7-ae20-5cb35f29e2c4",
   "metadata": {},
   "outputs": [],
   "source": [
    "diffmask, navmask = get_masks_from_metadata(s)\n",
    "hs.plot.plot_images([diffmask, vbf, diffmask*maximums], cmap='RdBu')"
   ]
  },
  {
   "cell_type": "code",
   "execution_count": null,
   "id": "1f3a2920-9a1e-42f4-8a56-ec4ed5313c92",
   "metadata": {},
   "outputs": [],
   "source": [
    "hs.plot.plot_images([navmask, vbf, vbf*navmask], cmap='RdBu', axes_decor='off')\n",
    "#navmask = navmask.data.transpose() #The data needs to be transposed due to different conventions in hyperspy and numpy."
   ]
  },
  {
   "cell_type": "markdown",
   "id": "97897ad0-4c95-4b5c-a871-c7746b4cfbfe",
   "metadata": {},
   "source": [
    "## Run SVD decomposition"
   ]
  },
  {
   "cell_type": "code",
   "execution_count": null,
   "id": "28903135-d98a-4ced-94fd-6297aecbb5a3",
   "metadata": {},
   "outputs": [],
   "source": [
    "tic = time.time()\n",
    "decomp = s.decomposition(\n",
    "    normalize_poissonian_noise=True,\n",
    "    algorithm='SVD',\n",
    "    navigation_mask=navmask.data.transpose(),\n",
    "    signal_mask=diffmask.data,\n",
    "    return_info=True\n",
    ")\n",
    "toc = time.time()\n",
    "print(f'Finished decomposition. Elapsed time: {toc - tic} seconds')\n",
    "print(f'Decoposition parameters: {decomp}')\n",
    "print(f'Decomposition reconstruction error: {decomp.reconstruction_err_}')\n",
    "print(f'Decomposition number of iterations: {decomp.n_iter_}')\n",
    "s.learning_Results.save(f'{filepath}_SVD1.hspy')"
   ]
  },
  {
   "cell_type": "markdown",
   "id": "5e816cba-fa48-44bd-b9c0-3c8c0cfbced6",
   "metadata": {},
   "source": [
    "## Run first NMF decomposition"
   ]
  },
  {
   "cell_type": "code",
   "execution_count": null,
   "id": "021c1e1a-406e-4724-87c5-e5f5a24402f4",
   "metadata": {},
   "outputs": [],
   "source": [
    "output_dimension = 6 #The number of components to allow\n",
    "tic = time.time()\n",
    "decomp = s.decomposition(\n",
    "    normalize_poissonian_noise=True,\n",
    "    algorithm='NMF',\n",
    "    output_dimension=output_dimension,\n",
    "    navigation_mask=navmask.data.transpose(),\n",
    "    signal_mask=diffmask.data,\n",
    "    return_info=True,\n",
    "    init='nndsvd',\n",
    "    max_iter=10000\n",
    ")\n",
    "toc = time.time()\n",
    "print(f'Finished decomposition. Elapsed time: {toc - tic} seconds')\n",
    "print(f'Decoposition parameters: {decomp}')\n",
    "print(f'Decomposition reconstruction error: {decomp.reconstruction_err_}')\n",
    "print(f'Decomposition number of iterations: {decomp.n_iter_}')\n",
    "\n",
    "#Save the decomposition results\n",
    "s.learning_Results.save(f'{filepath}_NMF1_{output_dimension}.hspy')\n",
    "\n",
    "#Save the factors and loadings individually as well\n",
    "factors = signal.get_decomposition_factors()\n",
    "loadings = signal.get_decomposition_loadings()\n",
    "if decomp is not None:\n",
    "    factors.metadata.add_dictionary({'Decomposition': decomp.__dict__()})\n",
    "    loadings.metadata.add_dictionary({'Decomposition': decomp.__dict__()})\n",
    "factors.save(f'{filepath}_NMF1_{output_dimension}_factors.hspy')\n",
    "loadings.save(f'{filepath}_NMF1_{output_dimension}_loadings.hspy')"
   ]
  },
  {
   "cell_type": "code",
   "execution_count": null,
   "id": "68e1814a-bbda-4bd0-a2ec-d88aaa991d52",
   "metadata": {},
   "outputs": [],
   "source": [
    "hs.plot.plot_images(loadings, per_row=6, cmap='grays', axes_decor='off')\n",
    "hs.plot.plot_images(factors, per_row=6, cmap='grays', norm='symlog', axes_decor='off')"
   ]
  },
  {
   "cell_type": "markdown",
   "id": "26a4b83a-ed89-4513-8ba8-e0f62cd6914b",
   "metadata": {},
   "source": [
    "### Estimate thresholds for phase map"
   ]
  },
  {
   "cell_type": "code",
   "execution_count": null,
   "id": "51424d8d-c933-44c3-9de3-66ae095abe00",
   "metadata": {},
   "outputs": [],
   "source": [
    "thresholds = {component: estimate_threshold(loadings, component, method) for component in components}"
   ]
  },
  {
   "cell_type": "code",
   "execution_count": null,
   "id": "7d6e1213-1ff8-41c9-b83c-a6c3803233da",
   "metadata": {},
   "outputs": [],
   "source": [
    "theta_100 = [loadings.inav[component]>=thresholds[component] for component in (2,3)]\n",
    "T1 = [loadings.inav[component]>=1.04*thresholds[component] for component in (1, 4)] #Scale the threshold slightly\n",
    "\n",
    "theta_100_mask = sum(theta_100)\n",
    "T1_mask = sum(T1)\n"
   ]
  }
 ],
 "metadata": {
  "kernelspec": {
   "display_name": "Python 3 (ipykernel)",
   "language": "python",
   "name": "python3"
  },
  "language_info": {
   "codemirror_mode": {
    "name": "ipython",
    "version": 3
   },
   "file_extension": ".py",
   "mimetype": "text/x-python",
   "name": "python",
   "nbconvert_exporter": "python",
   "pygments_lexer": "ipython3",
   "version": "3.10.6"
  }
 },
 "nbformat": 4,
 "nbformat_minor": 5
}
