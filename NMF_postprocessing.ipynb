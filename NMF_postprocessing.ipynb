{
 "cells": [
  {
   "cell_type": "code",
   "execution_count": 1,
   "id": "0ab3ba05-fa81-429c-8c1d-2e68da94895d",
   "metadata": {
    "pycharm": {
     "is_executing": true,
     "name": "#%%\n"
    }
   },
   "outputs": [
    {
     "name": "stderr",
     "output_type": "stream",
     "text": [
      "WARNING:silx.opencl.common:Unable to import pyOpenCl. Please install it from: https://pypi.org/project/pyopencl\n"
     ]
    }
   ],
   "source": [
    "%matplotlib qt\n",
    "import matplotlib.pyplot as plt\n",
    "import hyperspy.api as hs\n",
    "import pyxem as pxm\n",
    "import numpy as np\n",
    "\n",
    "from pathlib import Path\n",
    "from matplotlib.colors import SymLogNorm\n",
    "from skimage.measure import label\n",
    "\n",
    "from matplotlib.colors import to_rgba\n",
    "from matplotlib.colors import LinearSegmentedColormap\n",
    "\n",
    "from skimage.filters.thresholding import try_all_threshold\n",
    "\n",
    "from skimage.filters.thresholding import threshold_triangle, threshold_li, threshold_isodata\n",
    "\n",
    "color_names = ['linen', 'darkorange', 'dodgerblue', 'forestgreen', 'red']\n",
    "colors = [to_rgba(c) for c in color_names]\n",
    "\n",
    "cmap = LinearSegmentedColormap.from_list('gt_cmap', colors, N=len(color_names))\n",
    "\n",
    "gray_cmap = plt.colormaps.get('Greys')\n",
    "gray_cmap.set_bad('lightblue')"
   ]
  },
  {
   "cell_type": "markdown",
   "id": "bf64fb62",
   "metadata": {
    "pycharm": {
     "name": "#%% md\n"
    }
   },
   "source": [
    "## Convenient classes"
   ]
  },
  {
   "cell_type": "code",
   "execution_count": 2,
   "id": "2f23fff2",
   "metadata": {
    "pycharm": {
     "is_executing": true,
     "name": "#%%\n"
    }
   },
   "outputs": [],
   "source": [
    "class Decomposition(object):\n",
    "\n",
    "    def __init__(self, datapath, label='', load_output_file=True, metadata_dict=None):\n",
    "        self.datapath = Path(datapath)\n",
    "        self.label = label\n",
    "        self.loadings = hs.load(self.datapath.with_name(f'{self.datapath.stem}_loadings{self.datapath.suffix}'))\n",
    "        self.factors = hs.load(self.datapath.with_name(f'{self.datapath.stem}_factors{self.datapath.suffix}'))\n",
    "\n",
    "        if load_output_file:\n",
    "            output_files = list(self.datapath.parent.glob(r'*.out'))\n",
    "            if len(output_files) == 1:\n",
    "                if metadata_dict is None:\n",
    "                    metadata_dict = {}\n",
    "                metadata_dict.update({'Decomposition_logfile': output_files[0].read_text()})\n",
    "            else:\n",
    "                if len(output_files) == 0:\n",
    "                    print(f'No output log file detected')\n",
    "                else:\n",
    "                    print(f'{len(output_files)} output log files found, please add the correct output log file to the metadata of the loadings and factors manually instead')\n",
    "\n",
    "        if metadata_dict is not None:\n",
    "            if isinstance(metadata_dict, dict):\n",
    "                self.loadings.metadata.add_dictionary({'Decomposition': metadata_dict})\n",
    "                self.factors.metadata.add_dictionary({'Decomposition': metadata_dict})\n",
    "            else:\n",
    "                raise TypeError(f'Could not add {metadata_dict!r} as a metadata dictionary to {self!r}. Only dictionaries are allowed.')\n",
    "\n",
    "    @property\n",
    "    def output_dimension(self):\n",
    "        return len(self.loadings)\n",
    "\n",
    "    def __repr__(self):\n",
    "        return f'{self.__class__.__name__}({self.datapath!r}, label={self.label!r})'\n",
    "\n",
    "    def __str__(self):\n",
    "        return f'{self.__class__.__name__} {self.label!s} with {self.output_dimension} components from path \"{self.datapath.absolute()}\"'\n",
    "\n",
    "    def __iter__(self):\n",
    "        for loading, factor in zip(self.loadings, self.factors):\n",
    "            yield (loading, factor)\n",
    "\n",
    "    def estimate_threshold(self, component, method=None):\n",
    "        if method is None:\n",
    "            _ = try_all_threshold(np.nan_to_num(self.loadings.inav[component].data, copy=True, nan=np.nanmin(self.loadings.inav[component].data)))\n",
    "            fig = plt.gcf()\n",
    "            fig.suptitle(component)\n",
    "        else:\n",
    "            return method(np.nan_to_num(self.loadings.inav[component].data, copy=True, nan=np.nanmin(self.loadings.inav[component].data)))\n",
    "\n",
    "    def as_dictionary(self):\n",
    "        return {'path': str(self.datapath.absolute()),\n",
    "                'label': self.label,\n",
    "                'loadings': self.loadings.deepcopy(),\n",
    "                'factors': self.factors.deepcopy()\n",
    "               }\n",
    "\n",
    "\n",
    "    def plot(self, *args, **kwargs):\n",
    "        hs.plot.plot_signals([self.loadings, self.factors], *args, **kwargs)\n",
    "\n",
    "    def export_as_png(self, output_path=None, axis_size = 6, dpi=150, *args, **kwargs):\n",
    "        for i, (loading, factor) in enumerate(self):\n",
    "            \n",
    "            if output_path is None:\n",
    "                output_path = self.datapath\n",
    "            else:\n",
    "                output_path = Path(output_path)\n",
    "            \n",
    "            fig, axes = plt.subplots(nrows=1, ncols=2, subplot_kw={'xticks': [], 'yticks': []}, figsize=(axis_size*2, axis_size), dpi=dpi)\n",
    "            axes[0].imshow(loading.data, *args, **kwargs)\n",
    "            axes[1].imshow(factor.data, *args, **kwargs)\n",
    "            axes[0].annotate(f'Loading {i}', (0.02, 0.98), xycoords='axes fraction', color='w', ha='left', va='top', bbox=dict(facecolor='k', alpha=0.5))\n",
    "            axes[1].annotate(f'Factor {i}', (0.02, 0.98), xycoords='axes fraction', color='w', ha='left', va='top', bbox=dict(facecolor='k', alpha=0.5))\n",
    "            plt.tight_layout()\n",
    "            fig.savefig(output_path.with_name(f'{output_path.stem}_{i}.png'), dpi=dpi)\n",
    "            \n",
    "            fig = plt.figure(figsize=(axis_size, axis_size), dpi=dpi)\n",
    "            ax =  fig.add_axes([0, 0, 1, 1], xticks=[], yticks=[], frameon=False)\n",
    "            ax.imshow(loading.data, *args, **kwargs)\n",
    "            fig.savefig(output_path.with_name(f'{output_path.stem}_{i}_loading.png'), dpi=dpi)\n",
    "            \n",
    "            fig = plt.figure(figsize=(axis_size, axis_size), dpi=dpi)\n",
    "            ax =  fig.add_axes([0, 0, 1, 1], xticks=[], yticks=[], frameon=False)\n",
    "            ax.imshow(factor.data, *args, **kwargs)\n",
    "            fig.savefig(output_path.with_name(f'{output_path.stem}_{i}_factor.png'), dpi=dpi)\n",
    "            \n",
    "            plt.close('all')\n",
    "\n",
    "    def __hash__(self):\n",
    "        return hash(tuple(self.loadings, self.factors))\n",
    "\n",
    "class DecomposedPhase(object):\n",
    "\n",
    "    def __init__(self, phase, decomposition, components, thresholds=None, value=1):\n",
    "        self.phase = phase\n",
    "        self.value = value\n",
    "        self.decomposition = decomposition\n",
    "        self.component_thresholds = dict()\n",
    "        if thresholds is None:\n",
    "            thresholds = [None]*len(components)\n",
    "        [self.update_component(component, threshold) for (component, threshold) in zip(components, thresholds)]\n",
    "\n",
    "    def __repr__(self):\n",
    "        return f'{self.__class__.__name__}({self.phase!r}, {self.decomposition!r}, {list(self.component_thresholds.keys())!r}, {list(self.component_thresholds.values())!r}, value={self.value!r})'\n",
    "\n",
    "    def __str__(self):\n",
    "        return f'{self.__class__.__name__} for {self.phase!s} ({self.value}) based on {self.decomposition!s}.\\nComponent thresholds:{self.component_thresholds!s}'\n",
    "\n",
    "    @property\n",
    "    def data(self):\n",
    "        phase_map = np.zeros(self.decomposition.loadings.axes_manager.signal_shape, dtype=bool)\n",
    "        if len(self.component_thresholds) > 0:\n",
    "            for component in self.component_thresholds:\n",
    "                phase_map += self.decomposition.loadings.inav[component].data>=self.component_thresholds[component]\n",
    "        phase_map = phase_map * self.value\n",
    "        return phase_map\n",
    "\n",
    "    def as_signal(self):\n",
    "        s = hs.signals.Signal2D(self.data)\n",
    "        s.metadata.add_dictionary({\n",
    "            'Phase': {\n",
    "                'name': self.phase,\n",
    "                'value': self.value,\n",
    "                'decomposition': self.decomposition.as_dictionary(),\n",
    "                'component_thresholds': {str(key): self.component_thresholds[key] for key in self.component_thresholds}},\n",
    "            'General': {\n",
    "                'title': f\"{self.__class__.__name__} for {self.phase}\"}\n",
    "        })\n",
    "        return s\n",
    "\n",
    "    def update_component(self, component, threshold=None):\n",
    "        if 0 <= component < len(self.decomposition.loadings):\n",
    "            self.component_thresholds.update({component: threshold})\n",
    "        else:\n",
    "            raise IndexError(f'Cannot update component {component} in {self!r}, the component is out of range for decomposition {self.decomposition}')\n",
    "\n",
    "    def remove_component(self, component):\n",
    "        self.component_thresholds = {key: self.component_thresholds[key] for key in self.component_thresholds if key != component}\n",
    "\n",
    "    def estimate_thresholds(self, method=None, update=False):\n",
    "        thresholds = {component: self.decomposition.estimate_threshold(component, method) for component in self.component_thresholds}\n",
    "        if update:\n",
    "            [self.update_component(component, thresholds[component]) for component in thresholds]\n",
    "        return thresholds\n",
    "\n",
    "    def plot(self, axis_size = 6, dpi=150, savefig=False, *args, **kwargs):\n",
    "        ncols = len(self.component_thresholds)+1\n",
    "        fig, axes = plt.subplots(nrows=1, ncols=ncols, sharex=True, sharey=True, subplot_kw={'xticks': [], 'yticks': []}, figsize=(axis_size*ncols, axis_size), dpi=dpi)\n",
    "        for i, component in enumerate(self.component_thresholds):\n",
    "            axes[i].imshow(self.decomposition.loadings.inav[component].data,**kwargs)\n",
    "            axes[i].annotate(f'Loading {component} of phase {self.phase}', (0.02, 0.98), xycoords='axes fraction', color='w', ha='left', va='top', bbox=dict(facecolor='k', alpha=0.5))\n",
    "        axes[-1].imshow(self.data, cmap='Greys_r')\n",
    "        plt.tight_layout()\n",
    "        if savefig:\n",
    "            fig.savefig(self.decomposition.datapath.with_name(f'{self.decomposition.datapath.stem}_{i}.png'), dpi=dpi)\n",
    "            plt.close('all')\n",
    "\n",
    "    def plot_component_histograms(self, components=None, axis_size = 6, dpi=150, savefig=False, *args, **kwargs):\n",
    "        if components is None:\n",
    "            components = list(self.component_thresholds.keys())\n",
    "        ncols = len(components)\n",
    "        print(ncols)\n",
    "        fig, axes = plt.subplots(nrows=1, ncols=ncols, sharex=True, sharey=True)\n",
    "        try:\n",
    "            l = len(axes)\n",
    "        except TypeError:\n",
    "            l = 1\n",
    "            axes = list([axes])\n",
    "        for i, component in enumerate(components):\n",
    "            component_threshold = self.component_thresholds.get(component, None)\n",
    "            if component_threshold is None:\n",
    "                raise ValueError(f'Cannot plot histogram of component {component} for {self!r}. No such component in the threshold dicrionary')\n",
    "            axes[i].hist(self.decomposition.loadings.inav[component].data.flatten(), *args, **kwargs)\n",
    "            axes[i].axvline(component_threshold, color='r')\n",
    "            axes[i].set_title(f'Decomposition histogram of component {component}')\n",
    "        plt.tight_layout()\n",
    "\n",
    "    def make_mask(self, add_to=None):\n",
    "        navigation_mask = hs.signals.Signal2D(self.data>=self.value, metadata={'General': {'title': f'{self.phase}'}})\n",
    "        if add_to is not None:\n",
    "            add_to.metadata.add_dictionary({'Preprocessing': {'Masks': {'Navigation': {self.phase: navigation_mask}}}})\n",
    "        return navigation_mask\n",
    "\n",
    "class PhaseMap(object):\n",
    "\n",
    "    def __init__(self, phases):\n",
    "        \"\"\"\n",
    "        Create a phase map from a list of PRIORITIZED phases. The first phase will have the highest priority, and the last will have the lowest.\n",
    "        \"\"\"\n",
    "        type_test = [isinstance(phase, DecomposedPhase) for phase in phases]\n",
    "        if not all(type_test):\n",
    "            raise TypeError(f'Only DecompositionPhase objects are allowed to be specified in a PhaseMap: {type_test}')\n",
    "        navigation_shapes = [phase.decomposition.loadings.axes_manager.signal_shape for phase in phases]\n",
    "        if not all([navigation_shape == navigation_shapes[0] for navigation_shape in navigation_shapes]):\n",
    "            raise ValueError(f'Navigation shapes in supplied phases does not match: {navigation_shapes}')\n",
    "\n",
    "        self.phases = phases\n",
    "        self.nx, self.ny = navigation_shapes[0]\n",
    "\n",
    "    def __repr__(self):\n",
    "        return f'{self.__class__.__name__}({self.phases!r})'\n",
    "\n",
    "    def __str__(self):\n",
    "        return f'{self.__class__.__name__} ({self.nx}x{self.ny}) of {self.phases!s}'\n",
    "\n",
    "    def __iter__(self):\n",
    "        for phase in self.phases:\n",
    "            yield phase\n",
    "\n",
    "    @property\n",
    "    def data(self):\n",
    "        phase_map = np.zeros((self.nx, self.ny), dtype=int)\n",
    "        for phase in self.phases[::-1]:\n",
    "            phase_map = np.where(phase.data>0, phase.data, phase_map)\n",
    "        return phase_map\n",
    "\n",
    "\n",
    "    def plot_phase_map(self, axis_size = 6, dpi=150, *args, **kwargs):\n",
    "        fig, ax = plt.subplots(nrows=1, ncols=1, subplot_kw={'xticks': [], 'yticks': []}, figsize=(axis_size, axis_size), dpi=dpi, frameon=False)\n",
    "        ax.imshow(self.data, *args, **kwargs)\n",
    "        plt.tight_layout()\n",
    "\n",
    "    def as_signal(self):\n",
    "        s = hs.signals.Signal2D(self.data)\n",
    "        s.metadata.add_dictionary({'Phases': {phase.phase: phase.as_signal() for phase in self}})\n",
    "        s.metadata.General.title = r'Phase map'\n",
    "        return s\n",
    "\n",
    "    def save(self, filename, *args, **kwargs):\n",
    "        self.as_signal().save(filename, *args, **kwargs)\n",
    "\n",
    "    def make_RGBA(self, normalize_colors = True, normalize_alpha=True, figsize=(6, 6), dpi=150, figframe=True, axframe=False, insetframe=True):\n",
    "        rgba_loadings = np.zeros(self.phases[0].decomposition.loadings.axes_manager.signal_shape + (4,))\n",
    "        rgba_factors = np.zeros(self.phases[0].decomposition.factors.axes_manager.signal_shape + (4,))\n",
    "        for i, phase in enumerate(self.phases):\n",
    "\n",
    "            factor = np.zeros(phase.decomposition.factors.axes_manager.signal_shape)\n",
    "            loading = np.zeros(phase.decomposition.loadings.axes_manager.signal_shape)\n",
    "            for c in phase.component_thresholds:\n",
    "                factor += phase.decomposition.factors.inav[c].data\n",
    "                loading += np.nan_to_num(phase.decomposition.loadings.inav[c].data, copy=True, nan=0)\n",
    "\n",
    "            if normalize_colors:\n",
    "                factor = factor/np.nanmax(factor)\n",
    "                loading = loading/np.nanmax(loading)\n",
    "\n",
    "            rgba_loadings[:, :, i] = loading\n",
    "            rgba_factors[:, :, i] = factor\n",
    "\n",
    "            rgba_loadings[:, :, -1] += loading\n",
    "            rgba_factors[:, :, -1] += factor\n",
    "\n",
    "        if normalize_alpha:\n",
    "            rgba_loadings[:, :, -1] /= np.nanmax(rgba_loadings[:, :, -1])\n",
    "            rgba_factors[:, :, -1] /= np.nanmax(rgba_factors[:, :, -1])\n",
    "\n",
    "        figure = plt.figure(figsize=figsize, dpi=dpi, frameon=figframe)\n",
    "        ax = figure.add_axes([0, 0, 1, 1], xticks=[], yticks=[], frameon=axframe)\n",
    "        ax.imshow(rgba_loadings)\n",
    "        subax = figure.add_axes([0.75, 0.75, 0.25, 0.25], xticks=[], yticks=[], frameon=insetframe)\n",
    "        subax.imshow(rgba_factors)\n",
    "        return figure\n",
    "        #figure.savefig(f'{datapath.stem}_decomposition_RGBA.png')"
   ]
  },
  {
   "cell_type": "markdown",
   "id": "b2101808",
   "metadata": {
    "pycharm": {
     "name": "#%% md\n"
    }
   },
   "source": [
    "### Assist functions"
   ]
  },
  {
   "cell_type": "code",
   "execution_count": 3,
   "id": "e1a67947",
   "metadata": {
    "pycharm": {
     "is_executing": true,
     "name": "#%%\n"
    }
   },
   "outputs": [],
   "source": [
    "def load_decompositions(path):\n",
    "    p = Path(path)\n",
    "    decompositions = []\n",
    "    for factor in p.glob(r'*_factors.hspy'):\n",
    "        decompositions.append(Decomposition(factor.with_name(factor.name.replace('_factors', ''))))\n",
    "\n",
    "    return sorted(decompositions, key=lambda decomp: decomp.output_dimension)\n",
    "\n",
    "def read_logfile(path):\n",
    "    p = Path(path)\n",
    "    return p.read_text()"
   ]
  },
  {
   "cell_type": "markdown",
   "id": "800b354b",
   "metadata": {
    "pycharm": {
     "name": "#%% md\n"
    }
   },
   "source": [
    "## SVD"
   ]
  },
  {
   "cell_type": "markdown",
   "id": "90b9c6b0",
   "metadata": {},
   "source": [
    "### SVD of raw data"
   ]
  },
  {
   "cell_type": "code",
   "execution_count": 4,
   "id": "bd61e382",
   "metadata": {
    "pycharm": {
     "name": "#%%\n"
    }
   },
   "outputs": [],
   "source": [
    "datapath = Path(r'Y:\\Input\\SPED\\PhaseMappingPaper\\New\\svd\\13331474\\SPED_600x600x12_10x10_4p63x4p63_1deg_100Hz_CL12cm_NBD_alpha5_spot1p3_preprocessed_SVD_None.hspy')\n",
    "signal = hs.load(datapath, lazy=True)"
   ]
  },
  {
   "cell_type": "code",
   "execution_count": 5,
   "id": "fc486c85",
   "metadata": {
    "pycharm": {
     "name": "#%%\n"
    }
   },
   "outputs": [
    {
     "data": {
      "text/html": [
       "<ul style=\"margin: 0px; list-style-position: outside;\">\n",
       "                    <details open>\n",
       "                    <summary style=\"display: list-item;\">\n",
       "                    <li style=\"display: inline;\">\n",
       "                    Acquisition_instrument\n",
       "                    </li></summary>\n",
       "                    <ul style=\"margin: 0px; list-style-position: outside;\">\n",
       "                    <details closed>\n",
       "                    <summary style=\"display: list-item;\">\n",
       "                    <li style=\"display: inline;\">\n",
       "                    TEM\n",
       "                    </li></summary>\n",
       "                    <ul style=\"margin: 0px; list-style-position: outside;\">\n",
       "                    <details closed>\n",
       "                    <summary style=\"display: list-item;\">\n",
       "                    <li style=\"display: inline;\">\n",
       "                    Detector\n",
       "                    </li></summary>\n",
       "                    <ul style=\"margin: 0px; list-style-position: outside;\">\n",
       "                    <details closed>\n",
       "                    <summary style=\"display: list-item;\">\n",
       "                    <li style=\"display: inline;\">\n",
       "                    Diffraction\n",
       "                    </li></summary>\n",
       "                    \n",
       "    <ul style=\"margin: 0px; list-style-position: outside;\">\n",
       "    <li style='margin-left:1em; padding-left: 0.5em'>camera_length = 22.95273094471488</li></ul>\n",
       "    </details></ul></details></ul>\n",
       "    <ul style=\"margin: 0px; list-style-position: outside;\">\n",
       "    <li style='margin-left:1em; padding-left: 0.5em'>beam_energy = 200000</li></ul>\n",
       "    \n",
       "    <ul style=\"margin: 0px; list-style-position: outside;\">\n",
       "    <li style='margin-left:1em; padding-left: 0.5em'>convergence_angle = nan</li></ul>\n",
       "    \n",
       "    <ul style=\"margin: 0px; list-style-position: outside;\">\n",
       "    <li style='margin-left:1em; padding-left: 0.5em'>rocking_angle = nan</li></ul>\n",
       "    \n",
       "    <ul style=\"margin: 0px; list-style-position: outside;\">\n",
       "    <li style='margin-left:1em; padding-left: 0.5em'>rocking_frequency = 100</li></ul>\n",
       "    </details></ul></details></ul><ul style=\"margin: 0px; list-style-position: outside;\">\n",
       "                    <details open>\n",
       "                    <summary style=\"display: list-item;\">\n",
       "                    <li style=\"display: inline;\">\n",
       "                    General\n",
       "                    </li></summary>\n",
       "                    <ul style=\"margin: 0px; list-style-position: outside;\">\n",
       "                    <details closed>\n",
       "                    <summary style=\"display: list-item;\">\n",
       "                    <li style=\"display: inline;\">\n",
       "                    FileIO\n",
       "                    </li></summary>\n",
       "                    <ul style=\"margin: 0px; list-style-position: outside;\">\n",
       "                    <details closed>\n",
       "                    <summary style=\"display: list-item;\">\n",
       "                    <li style=\"display: inline;\">\n",
       "                    0\n",
       "                    </li></summary>\n",
       "                    \n",
       "    <ul style=\"margin: 0px; list-style-position: outside;\">\n",
       "    <li style='margin-left:1em; padding-left: 0.5em'>hyperspy_version = 1.7.0</li></ul>\n",
       "    \n",
       "    <ul style=\"margin: 0px; list-style-position: outside;\">\n",
       "    <li style='margin-left:1em; padding-left: 0.5em'>io_plugin = hyperspy.io_plugins.hspy</li></ul>\n",
       "    \n",
       "    <ul style=\"margin: 0px; list-style-position: outside;\">\n",
       "    <li style='margin-left:1em; padding-left: 0.5em'>operation = load</li></ul>\n",
       "    \n",
       "    <ul style=\"margin: 0px; list-style-position: outside;\">\n",
       "    <li style='margin-left:1em; padding-left: 0.5em'>timestamp = 2022-05-30T08:34:15.462893+02:00</li></ul>\n",
       "    </details></ul><ul style=\"margin: 0px; list-style-position: outside;\">\n",
       "                    <details closed>\n",
       "                    <summary style=\"display: list-item;\">\n",
       "                    <li style=\"display: inline;\">\n",
       "                    1\n",
       "                    </li></summary>\n",
       "                    \n",
       "    <ul style=\"margin: 0px; list-style-position: outside;\">\n",
       "    <li style='margin-left:1em; padding-left: 0.5em'>hyperspy_version = 1.7.0</li></ul>\n",
       "    \n",
       "    <ul style=\"margin: 0px; list-style-position: outside;\">\n",
       "    <li style='margin-left:1em; padding-left: 0.5em'>io_plugin = hyperspy.io_plugins.hspy</li></ul>\n",
       "    \n",
       "    <ul style=\"margin: 0px; list-style-position: outside;\">\n",
       "    <li style='margin-left:1em; padding-left: 0.5em'>operation = save</li></ul>\n",
       "    \n",
       "    <ul style=\"margin: 0px; list-style-position: outside;\">\n",
       "    <li style='margin-left:1em; padding-left: 0.5em'>timestamp = 2022-05-30T08:38:31.208576+02:00</li></ul>\n",
       "    </details></ul><ul style=\"margin: 0px; list-style-position: outside;\">\n",
       "                    <details closed>\n",
       "                    <summary style=\"display: list-item;\">\n",
       "                    <li style=\"display: inline;\">\n",
       "                    10\n",
       "                    </li></summary>\n",
       "                    \n",
       "    <ul style=\"margin: 0px; list-style-position: outside;\">\n",
       "    <li style='margin-left:1em; padding-left: 0.5em'>hyperspy_version = 1.7.0</li></ul>\n",
       "    \n",
       "    <ul style=\"margin: 0px; list-style-position: outside;\">\n",
       "    <li style='margin-left:1em; padding-left: 0.5em'>io_plugin = hyperspy.io_plugins.hspy</li></ul>\n",
       "    \n",
       "    <ul style=\"margin: 0px; list-style-position: outside;\">\n",
       "    <li style='margin-left:1em; padding-left: 0.5em'>operation = load</li></ul>\n",
       "    \n",
       "    <ul style=\"margin: 0px; list-style-position: outside;\">\n",
       "    <li style='margin-left:1em; padding-left: 0.5em'>timestamp = 2022-11-04T11:50:51.843328+01:00</li></ul>\n",
       "    </details></ul><ul style=\"margin: 0px; list-style-position: outside;\">\n",
       "                    <details closed>\n",
       "                    <summary style=\"display: list-item;\">\n",
       "                    <li style=\"display: inline;\">\n",
       "                    11\n",
       "                    </li></summary>\n",
       "                    \n",
       "    <ul style=\"margin: 0px; list-style-position: outside;\">\n",
       "    <li style='margin-left:1em; padding-left: 0.5em'>hyperspy_version = 1.7.0</li></ul>\n",
       "    \n",
       "    <ul style=\"margin: 0px; list-style-position: outside;\">\n",
       "    <li style='margin-left:1em; padding-left: 0.5em'>io_plugin = hyperspy.io_plugins.hspy</li></ul>\n",
       "    \n",
       "    <ul style=\"margin: 0px; list-style-position: outside;\">\n",
       "    <li style='margin-left:1em; padding-left: 0.5em'>operation = save</li></ul>\n",
       "    \n",
       "    <ul style=\"margin: 0px; list-style-position: outside;\">\n",
       "    <li style='margin-left:1em; padding-left: 0.5em'>timestamp = 2022-11-04T11:50:51.846298+01:00</li></ul>\n",
       "    </details></ul><ul style=\"margin: 0px; list-style-position: outside;\">\n",
       "                    <details closed>\n",
       "                    <summary style=\"display: list-item;\">\n",
       "                    <li style=\"display: inline;\">\n",
       "                    12\n",
       "                    </li></summary>\n",
       "                    \n",
       "    <ul style=\"margin: 0px; list-style-position: outside;\">\n",
       "    <li style='margin-left:1em; padding-left: 0.5em'>hyperspy_version = 1.7.2</li></ul>\n",
       "    \n",
       "    <ul style=\"margin: 0px; list-style-position: outside;\">\n",
       "    <li style='margin-left:1em; padding-left: 0.5em'>io_plugin = hyperspy.io_plugins.hspy</li></ul>\n",
       "    \n",
       "    <ul style=\"margin: 0px; list-style-position: outside;\">\n",
       "    <li style='margin-left:1em; padding-left: 0.5em'>operation = load</li></ul>\n",
       "    \n",
       "    <ul style=\"margin: 0px; list-style-position: outside;\">\n",
       "    <li style='margin-left:1em; padding-left: 0.5em'>timestamp = 2022-11-04T15:24:40.450232+01:00</li></ul>\n",
       "    </details></ul><ul style=\"margin: 0px; list-style-position: outside;\">\n",
       "                    <details closed>\n",
       "                    <summary style=\"display: list-item;\">\n",
       "                    <li style=\"display: inline;\">\n",
       "                    13\n",
       "                    </li></summary>\n",
       "                    \n",
       "    <ul style=\"margin: 0px; list-style-position: outside;\">\n",
       "    <li style='margin-left:1em; padding-left: 0.5em'>hyperspy_version = 1.7.2</li></ul>\n",
       "    \n",
       "    <ul style=\"margin: 0px; list-style-position: outside;\">\n",
       "    <li style='margin-left:1em; padding-left: 0.5em'>io_plugin = hyperspy.io_plugins.hspy</li></ul>\n",
       "    \n",
       "    <ul style=\"margin: 0px; list-style-position: outside;\">\n",
       "    <li style='margin-left:1em; padding-left: 0.5em'>operation = save</li></ul>\n",
       "    \n",
       "    <ul style=\"margin: 0px; list-style-position: outside;\">\n",
       "    <li style='margin-left:1em; padding-left: 0.5em'>timestamp = 2022-11-04T15:24:42.121773+01:00</li></ul>\n",
       "    </details></ul><ul style=\"margin: 0px; list-style-position: outside;\">\n",
       "                    <details closed>\n",
       "                    <summary style=\"display: list-item;\">\n",
       "                    <li style=\"display: inline;\">\n",
       "                    14\n",
       "                    </li></summary>\n",
       "                    \n",
       "    <ul style=\"margin: 0px; list-style-position: outside;\">\n",
       "    <li style='margin-left:1em; padding-left: 0.5em'>hyperspy_version = 1.7.0</li></ul>\n",
       "    \n",
       "    <ul style=\"margin: 0px; list-style-position: outside;\">\n",
       "    <li style='margin-left:1em; padding-left: 0.5em'>io_plugin = hyperspy.io_plugins.hspy</li></ul>\n",
       "    \n",
       "    <ul style=\"margin: 0px; list-style-position: outside;\">\n",
       "    <li style='margin-left:1em; padding-left: 0.5em'>operation = load</li></ul>\n",
       "    \n",
       "    <ul style=\"margin: 0px; list-style-position: outside;\">\n",
       "    <li style='margin-left:1em; padding-left: 0.5em'>timestamp = 2022-11-16T11:25:18.695909+01:00</li></ul>\n",
       "    </details></ul><ul style=\"margin: 0px; list-style-position: outside;\">\n",
       "                    <details closed>\n",
       "                    <summary style=\"display: list-item;\">\n",
       "                    <li style=\"display: inline;\">\n",
       "                    15\n",
       "                    </li></summary>\n",
       "                    \n",
       "    <ul style=\"margin: 0px; list-style-position: outside;\">\n",
       "    <li style='margin-left:1em; padding-left: 0.5em'>hyperspy_version = 1.7.0</li></ul>\n",
       "    \n",
       "    <ul style=\"margin: 0px; list-style-position: outside;\">\n",
       "    <li style='margin-left:1em; padding-left: 0.5em'>io_plugin = hyperspy.io_plugins.hspy</li></ul>\n",
       "    \n",
       "    <ul style=\"margin: 0px; list-style-position: outside;\">\n",
       "    <li style='margin-left:1em; padding-left: 0.5em'>operation = save</li></ul>\n",
       "    \n",
       "    <ul style=\"margin: 0px; list-style-position: outside;\">\n",
       "    <li style='margin-left:1em; padding-left: 0.5em'>timestamp = 2022-11-16T11:28:54.457520+01:00</li></ul>\n",
       "    </details></ul><ul style=\"margin: 0px; list-style-position: outside;\">\n",
       "                    <details closed>\n",
       "                    <summary style=\"display: list-item;\">\n",
       "                    <li style=\"display: inline;\">\n",
       "                    16\n",
       "                    </li></summary>\n",
       "                    \n",
       "    <ul style=\"margin: 0px; list-style-position: outside;\">\n",
       "    <li style='margin-left:1em; padding-left: 0.5em'>hyperspy_version = 1.7.2</li></ul>\n",
       "    \n",
       "    <ul style=\"margin: 0px; list-style-position: outside;\">\n",
       "    <li style='margin-left:1em; padding-left: 0.5em'>io_plugin = hyperspy.io_plugins.hspy</li></ul>\n",
       "    \n",
       "    <ul style=\"margin: 0px; list-style-position: outside;\">\n",
       "    <li style='margin-left:1em; padding-left: 0.5em'>operation = load</li></ul>\n",
       "    \n",
       "    <ul style=\"margin: 0px; list-style-position: outside;\">\n",
       "    <li style='margin-left:1em; padding-left: 0.5em'>timestamp = 2022-11-17T14:02:27.226213+01:00</li></ul>\n",
       "    </details></ul><ul style=\"margin: 0px; list-style-position: outside;\">\n",
       "                    <details closed>\n",
       "                    <summary style=\"display: list-item;\">\n",
       "                    <li style=\"display: inline;\">\n",
       "                    2\n",
       "                    </li></summary>\n",
       "                    \n",
       "    <ul style=\"margin: 0px; list-style-position: outside;\">\n",
       "    <li style='margin-left:1em; padding-left: 0.5em'>hyperspy_version = 1.7.2</li></ul>\n",
       "    \n",
       "    <ul style=\"margin: 0px; list-style-position: outside;\">\n",
       "    <li style='margin-left:1em; padding-left: 0.5em'>io_plugin = hyperspy.io_plugins.hspy</li></ul>\n",
       "    \n",
       "    <ul style=\"margin: 0px; list-style-position: outside;\">\n",
       "    <li style='margin-left:1em; padding-left: 0.5em'>operation = load</li></ul>\n",
       "    \n",
       "    <ul style=\"margin: 0px; list-style-position: outside;\">\n",
       "    <li style='margin-left:1em; padding-left: 0.5em'>timestamp = 2022-10-29T14:16:57.410320+02:00</li></ul>\n",
       "    </details></ul><ul style=\"margin: 0px; list-style-position: outside;\">\n",
       "                    <details closed>\n",
       "                    <summary style=\"display: list-item;\">\n",
       "                    <li style=\"display: inline;\">\n",
       "                    3\n",
       "                    </li></summary>\n",
       "                    \n",
       "    <ul style=\"margin: 0px; list-style-position: outside;\">\n",
       "    <li style='margin-left:1em; padding-left: 0.5em'>hyperspy_version = 1.7.2</li></ul>\n",
       "    \n",
       "    <ul style=\"margin: 0px; list-style-position: outside;\">\n",
       "    <li style='margin-left:1em; padding-left: 0.5em'>io_plugin = hyperspy.io_plugins.hspy</li></ul>\n",
       "    \n",
       "    <ul style=\"margin: 0px; list-style-position: outside;\">\n",
       "    <li style='margin-left:1em; padding-left: 0.5em'>operation = save</li></ul>\n",
       "    \n",
       "    <ul style=\"margin: 0px; list-style-position: outside;\">\n",
       "    <li style='margin-left:1em; padding-left: 0.5em'>timestamp = 2022-10-29T14:17:00.069305+02:00</li></ul>\n",
       "    </details></ul><ul style=\"margin: 0px; list-style-position: outside;\">\n",
       "                    <details closed>\n",
       "                    <summary style=\"display: list-item;\">\n",
       "                    <li style=\"display: inline;\">\n",
       "                    4\n",
       "                    </li></summary>\n",
       "                    \n",
       "    <ul style=\"margin: 0px; list-style-position: outside;\">\n",
       "    <li style='margin-left:1em; padding-left: 0.5em'>hyperspy_version = 1.7.2</li></ul>\n",
       "    \n",
       "    <ul style=\"margin: 0px; list-style-position: outside;\">\n",
       "    <li style='margin-left:1em; padding-left: 0.5em'>io_plugin = hyperspy.io_plugins.hspy</li></ul>\n",
       "    \n",
       "    <ul style=\"margin: 0px; list-style-position: outside;\">\n",
       "    <li style='margin-left:1em; padding-left: 0.5em'>operation = load</li></ul>\n",
       "    \n",
       "    <ul style=\"margin: 0px; list-style-position: outside;\">\n",
       "    <li style='margin-left:1em; padding-left: 0.5em'>timestamp = 2022-10-29T14:18:47.275802+02:00</li></ul>\n",
       "    </details></ul><ul style=\"margin: 0px; list-style-position: outside;\">\n",
       "                    <details closed>\n",
       "                    <summary style=\"display: list-item;\">\n",
       "                    <li style=\"display: inline;\">\n",
       "                    5\n",
       "                    </li></summary>\n",
       "                    \n",
       "    <ul style=\"margin: 0px; list-style-position: outside;\">\n",
       "    <li style='margin-left:1em; padding-left: 0.5em'>hyperspy_version = 1.7.2</li></ul>\n",
       "    \n",
       "    <ul style=\"margin: 0px; list-style-position: outside;\">\n",
       "    <li style='margin-left:1em; padding-left: 0.5em'>io_plugin = hyperspy.io_plugins.hspy</li></ul>\n",
       "    \n",
       "    <ul style=\"margin: 0px; list-style-position: outside;\">\n",
       "    <li style='margin-left:1em; padding-left: 0.5em'>operation = save</li></ul>\n",
       "    \n",
       "    <ul style=\"margin: 0px; list-style-position: outside;\">\n",
       "    <li style='margin-left:1em; padding-left: 0.5em'>timestamp = 2022-10-29T14:19:05.689478+02:00</li></ul>\n",
       "    </details></ul><ul style=\"margin: 0px; list-style-position: outside;\">\n",
       "                    <details closed>\n",
       "                    <summary style=\"display: list-item;\">\n",
       "                    <li style=\"display: inline;\">\n",
       "                    6\n",
       "                    </li></summary>\n",
       "                    \n",
       "    <ul style=\"margin: 0px; list-style-position: outside;\">\n",
       "    <li style='margin-left:1em; padding-left: 0.5em'>hyperspy_version = 1.7.2</li></ul>\n",
       "    \n",
       "    <ul style=\"margin: 0px; list-style-position: outside;\">\n",
       "    <li style='margin-left:1em; padding-left: 0.5em'>io_plugin = hyperspy.io_plugins.hspy</li></ul>\n",
       "    \n",
       "    <ul style=\"margin: 0px; list-style-position: outside;\">\n",
       "    <li style='margin-left:1em; padding-left: 0.5em'>operation = load</li></ul>\n",
       "    \n",
       "    <ul style=\"margin: 0px; list-style-position: outside;\">\n",
       "    <li style='margin-left:1em; padding-left: 0.5em'>timestamp = 2022-11-03T15:40:00.156814+01:00</li></ul>\n",
       "    </details></ul><ul style=\"margin: 0px; list-style-position: outside;\">\n",
       "                    <details closed>\n",
       "                    <summary style=\"display: list-item;\">\n",
       "                    <li style=\"display: inline;\">\n",
       "                    7\n",
       "                    </li></summary>\n",
       "                    \n",
       "    <ul style=\"margin: 0px; list-style-position: outside;\">\n",
       "    <li style='margin-left:1em; padding-left: 0.5em'>hyperspy_version = 1.7.2</li></ul>\n",
       "    \n",
       "    <ul style=\"margin: 0px; list-style-position: outside;\">\n",
       "    <li style='margin-left:1em; padding-left: 0.5em'>io_plugin = hyperspy.io_plugins.hspy</li></ul>\n",
       "    \n",
       "    <ul style=\"margin: 0px; list-style-position: outside;\">\n",
       "    <li style='margin-left:1em; padding-left: 0.5em'>operation = save</li></ul>\n",
       "    \n",
       "    <ul style=\"margin: 0px; list-style-position: outside;\">\n",
       "    <li style='margin-left:1em; padding-left: 0.5em'>timestamp = 2022-11-03T15:40:32.230843+01:00</li></ul>\n",
       "    </details></ul><ul style=\"margin: 0px; list-style-position: outside;\">\n",
       "                    <details closed>\n",
       "                    <summary style=\"display: list-item;\">\n",
       "                    <li style=\"display: inline;\">\n",
       "                    8\n",
       "                    </li></summary>\n",
       "                    \n",
       "    <ul style=\"margin: 0px; list-style-position: outside;\">\n",
       "    <li style='margin-left:1em; padding-left: 0.5em'>hyperspy_version = 1.7.2</li></ul>\n",
       "    \n",
       "    <ul style=\"margin: 0px; list-style-position: outside;\">\n",
       "    <li style='margin-left:1em; padding-left: 0.5em'>io_plugin = hyperspy.io_plugins.hspy</li></ul>\n",
       "    \n",
       "    <ul style=\"margin: 0px; list-style-position: outside;\">\n",
       "    <li style='margin-left:1em; padding-left: 0.5em'>operation = load</li></ul>\n",
       "    \n",
       "    <ul style=\"margin: 0px; list-style-position: outside;\">\n",
       "    <li style='margin-left:1em; padding-left: 0.5em'>timestamp = 2022-11-04T10:48:11.384305+01:00</li></ul>\n",
       "    </details></ul><ul style=\"margin: 0px; list-style-position: outside;\">\n",
       "                    <details closed>\n",
       "                    <summary style=\"display: list-item;\">\n",
       "                    <li style=\"display: inline;\">\n",
       "                    9\n",
       "                    </li></summary>\n",
       "                    \n",
       "    <ul style=\"margin: 0px; list-style-position: outside;\">\n",
       "    <li style='margin-left:1em; padding-left: 0.5em'>hyperspy_version = 1.7.2</li></ul>\n",
       "    \n",
       "    <ul style=\"margin: 0px; list-style-position: outside;\">\n",
       "    <li style='margin-left:1em; padding-left: 0.5em'>io_plugin = hyperspy.io_plugins.hspy</li></ul>\n",
       "    \n",
       "    <ul style=\"margin: 0px; list-style-position: outside;\">\n",
       "    <li style='margin-left:1em; padding-left: 0.5em'>operation = save</li></ul>\n",
       "    \n",
       "    <ul style=\"margin: 0px; list-style-position: outside;\">\n",
       "    <li style='margin-left:1em; padding-left: 0.5em'>timestamp = 2022-11-04T10:51:16.174354+01:00</li></ul>\n",
       "    </details></ul></details></ul>\n",
       "    <ul style=\"margin: 0px; list-style-position: outside;\">\n",
       "    <li style='margin-left:1em; padding-left: 0.5em'>title = SPED_600x600x12_10x10_4p63x4p63_1deg_100Hz_CL12cm_NBD_alpha5_spot1p3</li></ul>\n",
       "    </details></ul><ul style=\"margin: 0px; list-style-position: outside;\">\n",
       "                    <details open>\n",
       "                    <summary style=\"display: list-item;\">\n",
       "                    <li style=\"display: inline;\">\n",
       "                    Preprocessing\n",
       "                    </li></summary>\n",
       "                    <ul style=\"margin: 0px; list-style-position: outside;\">\n",
       "                    <details closed>\n",
       "                    <summary style=\"display: list-item;\">\n",
       "                    <li style=\"display: inline;\">\n",
       "                    Centering\n",
       "                    </li></summary>\n",
       "                    \n",
       "    <ul style=\"margin: 0px; list-style-position: outside;\">\n",
       "    <li style='margin-left:1em; padding-left: 0.5em'>COM = &lt;LazyDPCSignal2D, title: , dimensions: (2|512, 512)&gt;</li></ul>\n",
       "    <ul style=\"margin: 0px; list-style-position: outside;\">\n",
       "                    <details closed>\n",
       "                    <summary style=\"display: list-item;\">\n",
       "                    <li style=\"display: inline;\">\n",
       "                    COM_mask\n",
       "                    </li></summary>\n",
       "                    \n",
       "    <ul style=\"margin: 0px; list-style-position: outside;\">\n",
       "    <li style='margin-left:1em; padding-left: 0.5em'>r = 12.5</li></ul>\n",
       "    \n",
       "    <ul style=\"margin: 0px; list-style-position: outside;\">\n",
       "    <li style='margin-left:1em; padding-left: 0.5em'>x = 127</li></ul>\n",
       "    \n",
       "    <ul style=\"margin: 0px; list-style-position: outside;\">\n",
       "    <li style='margin-left:1em; padding-left: 0.5em'>y = 126</li></ul>\n",
       "    </details></ul>\n",
       "    <ul style=\"margin: 0px; list-style-position: outside;\">\n",
       "    <li style='margin-left:1em; padding-left: 0.5em'>Shifts = &lt;LazyBeamShift, title: , dimensions: (512, 512|2)&gt;</li></ul>\n",
       "    \n",
       "    <ul style=\"margin: 0px; list-style-position: outside;\">\n",
       "    <li style='margin-left:1em; padding-left: 0.5em'>shift_estimate_mask = &lt;LazySignal, title: , dimensions: (512, 512|)&gt;</li></ul>\n",
       "    </details></ul><ul style=\"margin: 0px; list-style-position: outside;\">\n",
       "                    <details closed>\n",
       "                    <summary style=\"display: list-item;\">\n",
       "                    <li style=\"display: inline;\">\n",
       "                    Masks\n",
       "                    </li></summary>\n",
       "                    <ul style=\"margin: 0px; list-style-position: outside;\">\n",
       "                    <details closed>\n",
       "                    <summary style=\"display: list-item;\">\n",
       "                    <li style=\"display: inline;\">\n",
       "                    Diffraction\n",
       "                    </li></summary>\n",
       "                    \n",
       "    <ul style=\"margin: 0px; list-style-position: outside;\">\n",
       "    <li style='margin-left:1em; padding-left: 0.5em'>cutoff = &lt;LazySignal2D, title: &lt;0.7001057239470767 $A^{-1}$ mask, dimensions: (|128, 128)&gt;</li></ul>\n",
       "    \n",
       "    <ul style=\"margin: 0px; list-style-position: outside;\">\n",
       "    <li style='margin-left:1em; padding-left: 0.5em'>direct_beam = &lt;LazySignal2D, title: &gt;0.15949382751461458 $A^{-1}$ mask, dimensions: (|128, 128)&gt;</li></ul>\n",
       "    \n",
       "    <ul style=\"margin: 0px; list-style-position: outside;\">\n",
       "    <li style='margin-left:1em; padding-left: 0.5em'>reflections = &lt;LazySignal2D, title: Reflection mask, dimensions: (|128, 128)&gt;</li></ul>\n",
       "    </details></ul><ul style=\"margin: 0px; list-style-position: outside;\">\n",
       "                    <details closed>\n",
       "                    <summary style=\"display: list-item;\">\n",
       "                    <li style=\"display: inline;\">\n",
       "                    Navigation\n",
       "                    </li></summary>\n",
       "                    \n",
       "    <ul style=\"margin: 0px; list-style-position: outside;\">\n",
       "    <li style='margin-left:1em; padding-left: 0.5em'>T1 = &lt;LazySignal2D, title: T1, dimensions: (|512, 512)&gt;</li></ul>\n",
       "    \n",
       "    <ul style=\"margin: 0px; list-style-position: outside;\">\n",
       "    <li style='margin-left:1em; padding-left: 0.5em'>theta_100 = &lt;LazySignal2D, title: theta_100, dimensions: (|512, 512)&gt;</li></ul>\n",
       "    </details></ul></details></ul>\n",
       "    <ul style=\"margin: 0px; list-style-position: outside;\">\n",
       "    <li style='margin-left:1em; padding-left: 0.5em'>Maximums = &lt;LazyElectronDiffraction2D, title: SPED_600x600x12_10x10_4p63x4p63_1deg_100Hz_CL12cm_NBD_alpha5_spot1p3, dimensions: (|128, 128)&gt;</li></ul>\n",
       "    \n",
       "    <ul style=\"margin: 0px; list-style-position: outside;\">\n",
       "    <li style='margin-left:1em; padding-left: 0.5em'>VBF = &lt;LazySignal2D, title: Integrated intensity, dimensions: (|512, 512)&gt;</li></ul>\n",
       "    </details></ul><ul style=\"margin: 0px; list-style-position: outside;\">\n",
       "                    <details open>\n",
       "                    <summary style=\"display: list-item;\">\n",
       "                    <li style=\"display: inline;\">\n",
       "                    Signal\n",
       "                    </li></summary>\n",
       "                    \n",
       "    <ul style=\"margin: 0px; list-style-position: outside;\">\n",
       "    <li style='margin-left:1em; padding-left: 0.5em'>signal_type = electron_diffraction</li></ul>\n",
       "    </details></ul>"
      ],
      "text/plain": [
       "├── Acquisition_instrument\n",
       "│   └── TEM\n",
       "│       ├── Detector\n",
       "│       │   └── Diffraction\n",
       "│       │       └── camera_length = 22.95273094471488\n",
       "│       ├── beam_energy = 200000\n",
       "│       ├── convergence_angle = nan\n",
       "│       ├── rocking_angle = nan\n",
       "│       └── rocking_frequency = 100\n",
       "├── General\n",
       "│   ├── FileIO\n",
       "│   │   ├── 0\n",
       "│   │   │   ├── hyperspy_version = 1.7.0\n",
       "│   │   │   ├── io_plugin = hyperspy.io_plugins.hspy\n",
       "│   │   │   ├── operation = load\n",
       "│   │   │   └── timestamp = 2022-05-30T08:34:15.462893+02:00\n",
       "│   │   ├── 1\n",
       "│   │   │   ├── hyperspy_version = 1.7.0\n",
       "│   │   │   ├── io_plugin = hyperspy.io_plugins.hspy\n",
       "│   │   │   ├── operation = save\n",
       "│   │   │   └── timestamp = 2022-05-30T08:38:31.208576+02:00\n",
       "│   │   ├── 10\n",
       "│   │   │   ├── hyperspy_version = 1.7.0\n",
       "│   │   │   ├── io_plugin = hyperspy.io_plugins.hspy\n",
       "│   │   │   ├── operation = load\n",
       "│   │   │   └── timestamp = 2022-11-04T11:50:51.843328+01:00\n",
       "│   │   ├── 11\n",
       "│   │   │   ├── hyperspy_version = 1.7.0\n",
       "│   │   │   ├── io_plugin = hyperspy.io_plugins.hspy\n",
       "│   │   │   ├── operation = save\n",
       "│   │   │   └── timestamp = 2022-11-04T11:50:51.846298+01:00\n",
       "│   │   ├── 12\n",
       "│   │   │   ├── hyperspy_version = 1.7.2\n",
       "│   │   │   ├── io_plugin = hyperspy.io_plugins.hspy\n",
       "│   │   │   ├── operation = load\n",
       "│   │   │   └── timestamp = 2022-11-04T15:24:40.450232+01:00\n",
       "│   │   ├── 13\n",
       "│   │   │   ├── hyperspy_version = 1.7.2\n",
       "│   │   │   ├── io_plugin = hyperspy.io_plugins.hspy\n",
       "│   │   │   ├── operation = save\n",
       "│   │   │   └── timestamp = 2022-11-04T15:24:42.121773+01:00\n",
       "│   │   ├── 14\n",
       "│   │   │   ├── hyperspy_version = 1.7.0\n",
       "│   │   │   ├── io_plugin = hyperspy.io_plugins.hspy\n",
       "│   │   │   ├── operation = load\n",
       "│   │   │   └── timestamp = 2022-11-16T11:25:18.695909+01:00\n",
       "│   │   ├── 15\n",
       "│   │   │   ├── hyperspy_version = 1.7.0\n",
       "│   │   │   ├── io_plugin = hyperspy.io_plugins.hspy\n",
       "│   │   │   ├── operation = save\n",
       "│   │   │   └── timestamp = 2022-11-16T11:28:54.457520+01:00\n",
       "│   │   ├── 16\n",
       "│   │   │   ├── hyperspy_version = 1.7.2\n",
       "│   │   │   ├── io_plugin = hyperspy.io_plugins.hspy\n",
       "│   │   │   ├── operation = load\n",
       "│   │   │   └── timestamp = 2022-11-17T14:02:27.226213+01:00\n",
       "│   │   ├── 2\n",
       "│   │   │   ├── hyperspy_version = 1.7.2\n",
       "│   │   │   ├── io_plugin = hyperspy.io_plugins.hspy\n",
       "│   │   │   ├── operation = load\n",
       "│   │   │   └── timestamp = 2022-10-29T14:16:57.410320+02:00\n",
       "│   │   ├── 3\n",
       "│   │   │   ├── hyperspy_version = 1.7.2\n",
       "│   │   │   ├── io_plugin = hyperspy.io_plugins.hspy\n",
       "│   │   │   ├── operation = save\n",
       "│   │   │   └── timestamp = 2022-10-29T14:17:00.069305+02:00\n",
       "│   │   ├── 4\n",
       "│   │   │   ├── hyperspy_version = 1.7.2\n",
       "│   │   │   ├── io_plugin = hyperspy.io_plugins.hspy\n",
       "│   │   │   ├── operation = load\n",
       "│   │   │   └── timestamp = 2022-10-29T14:18:47.275802+02:00\n",
       "│   │   ├── 5\n",
       "│   │   │   ├── hyperspy_version = 1.7.2\n",
       "│   │   │   ├── io_plugin = hyperspy.io_plugins.hspy\n",
       "│   │   │   ├── operation = save\n",
       "│   │   │   └── timestamp = 2022-10-29T14:19:05.689478+02:00\n",
       "│   │   ├── 6\n",
       "│   │   │   ├── hyperspy_version = 1.7.2\n",
       "│   │   │   ├── io_plugin = hyperspy.io_plugins.hspy\n",
       "│   │   │   ├── operation = load\n",
       "│   │   │   └── timestamp = 2022-11-03T15:40:00.156814+01:00\n",
       "│   │   ├── 7\n",
       "│   │   │   ├── hyperspy_version = 1.7.2\n",
       "│   │   │   ├── io_plugin = hyperspy.io_plugins.hspy\n",
       "│   │   │   ├── operation = save\n",
       "│   │   │   └── timestamp = 2022-11-03T15:40:32.230843+01:00\n",
       "│   │   ├── 8\n",
       "│   │   │   ├── hyperspy_version = 1.7.2\n",
       "│   │   │   ├── io_plugin = hyperspy.io_plugins.hspy\n",
       "│   │   │   ├── operation = load\n",
       "│   │   │   └── timestamp = 2022-11-04T10:48:11.384305+01:00\n",
       "│   │   └── 9\n",
       "│   │       ├── hyperspy_version = 1.7.2\n",
       "│   │       ├── io_plugin = hyperspy.io_plugins.hspy\n",
       "│   │       ├── operation = save\n",
       "│   │       └── timestamp = 2022-11-04T10:51:16.174354+01:00\n",
       "│   └── title = SPED_600x600x12_10x10_4p63x4p63_1deg_100Hz_CL12cm_NBD_alpha5_spot1p3\n",
       "├── Preprocessing\n",
       "│   ├── Centering\n",
       "│   │   ├── COM = <LazyDPCSignal2D, title: , dimensions: (2|512, 512)>\n",
       "│   │   ├── COM_mask\n",
       "│   │   │   ├── r = 12.5\n",
       "│   │   │   ├── x = 127\n",
       "│   │   │   └── y = 126\n",
       "│   │   ├── Shifts = <LazyBeamShift, title: , dimensions: (512, 512|2)>\n",
       "│   │   └── shift_estimate_mask = <LazySignal, title: , dimensions: (512, 512|)>\n",
       "│   ├── Masks\n",
       "│   │   ├── Diffraction\n",
       "│   │   │   ├── cutoff = <LazySignal2D, title: <0.7001057239470767 $A^{-1}$ mask, dimensions: (|128, 128)>\n",
       "│   │   │   ├── direct_beam = <LazySignal2D, title: >0.15949382751461458 $A^{-1}$ mask, dimensions: (|128, 128)>\n",
       "│   │   │   └── reflections = <LazySignal2D, title: Reflection mask, dimensions: (|128, 128)>\n",
       "│   │   └── Navigation\n",
       "│   │       ├── T1 = <LazySignal2D, title: T1, dimensions: (|512, 512)>\n",
       "│   │       └── theta_100 = <LazySignal2D, title: theta_100, dimensions: (|512, 512)>\n",
       "│   ├── Maximums = <LazyElectronDiffraction2D, title: SPED_600x600x12_10x10_4p63x4p63_1deg_100Hz_CL12cm_NBD_alpha5_spot1p3, dimensions: (|128, 128)>\n",
       "│   └── VBF = <LazySignal2D, title: Integrated intensity, dimensions: (|512, 512)>\n",
       "└── Signal\n",
       "    └── signal_type = electron_diffraction"
      ]
     },
     "execution_count": 5,
     "metadata": {},
     "output_type": "execute_result"
    }
   ],
   "source": [
    "signal.metadata"
   ]
  },
  {
   "cell_type": "code",
   "execution_count": 7,
   "id": "118a02f8-2611-4cf5-a224-a4a15c3d5654",
   "metadata": {
    "pycharm": {
     "name": "#%%\n"
    }
   },
   "outputs": [
    {
     "name": "stdout",
     "output_type": "stream",
     "text": [
      "5\n"
     ]
    }
   ],
   "source": [
    "n = 30\n",
    "signal.plot_explained_variance_ratio(n=n)\n",
    "ax = plt.gca()\n",
    "ax.set_title('')\n",
    "plt.tight_layout()\n",
    "fig = ax.get_figure()\n",
    "fig.savefig(datapath.with_name(f'{datapath.stem}_scree.png'))\n",
    "print(f'{int(signal.estimate_elbow_position(max_points=n))}')"
   ]
  },
  {
   "cell_type": "code",
   "execution_count": null,
   "id": "ba7f4bfe",
   "metadata": {},
   "outputs": [],
   "source": []
  },
  {
   "cell_type": "markdown",
   "id": "76f499f1",
   "metadata": {},
   "source": [
    "### masked"
   ]
  },
  {
   "cell_type": "code",
   "execution_count": 4,
   "id": "206e806d",
   "metadata": {},
   "outputs": [],
   "source": [
    "datapath = Path(r'Y:\\Input\\SPED\\PhaseMappingPaper\\New\\svd\\13227194\\SPED_600x600x12_10x10_4p63x4p63_1deg_100Hz_CL12cm_NBD_alpha5_spot1p3_preprocessed_SVD_None_navmask-T1_navmask-theta_100.hspy')\n",
    "signal = hs.load(datapath, lazy=True)"
   ]
  },
  {
   "cell_type": "code",
   "execution_count": 38,
   "id": "8e6b3b47",
   "metadata": {},
   "outputs": [
    {
     "name": "stdout",
     "output_type": "stream",
     "text": [
      "3\n"
     ]
    }
   ],
   "source": [
    "n = 30\n",
    "signal.plot_explained_variance_ratio(n=n)\n",
    "ax = plt.gca()\n",
    "ax.set_title('')\n",
    "plt.tight_layout()\n",
    "fig = ax.get_figure()\n",
    "fig.savefig(datapath.with_name(f'{datapath.stem}_scree.png'))\n",
    "print(f'{int(signal.estimate_elbow_position(max_points=n))}')"
   ]
  },
  {
   "cell_type": "markdown",
   "id": "4e4df38c",
   "metadata": {
    "pycharm": {
     "name": "#%% md\n"
    }
   },
   "source": [
    "## NMF"
   ]
  },
  {
   "cell_type": "markdown",
   "id": "62db230b",
   "metadata": {
    "pycharm": {
     "name": "#%% md\n"
    }
   },
   "source": [
    "### 1st iteration"
   ]
  },
  {
   "cell_type": "code",
   "execution_count": 103,
   "id": "7c256148",
   "metadata": {
    "pycharm": {
     "name": "#%%\n"
    }
   },
   "outputs": [],
   "source": [
    "decomposition_1 = Decomposition(r'C:\\Users\\emilc\\OneDrive - NTNU\\NORTEM\\Data\\NMF\\nndsvd\\12980451/SPED_600x600x12_10x10_4p63x4p63_1deg_100Hz_CL12cm_NBD_alpha5_spot1p3_preprocessed_NMF_5.hspy')\n",
    "\n",
    "decomposition_1.export_as_png(cmap=gray_cmap)\n",
    "decomposition_1.plot()"
   ]
  },
  {
   "cell_type": "markdown",
   "id": "d755f585",
   "metadata": {
    "pycharm": {
     "name": "#%% md\n"
    }
   },
   "source": [
    "Estimate thresholds"
   ]
  },
  {
   "cell_type": "code",
   "execution_count": 61,
   "id": "f5706162",
   "metadata": {
    "pycharm": {
     "name": "#%%\n"
    }
   },
   "outputs": [
    {
     "name": "stdout",
     "output_type": "stream",
     "text": [
      "skimage.filters.thresholding.threshold_isodata\n",
      "skimage.filters.thresholding.threshold_li\n",
      "skimage.filters.thresholding.threshold_mean\n",
      "skimage.filters.thresholding.threshold_minimum\n",
      "skimage.filters.thresholding.threshold_otsu\n",
      "skimage.filters.thresholding.threshold_triangle\n",
      "skimage.filters.thresholding.threshold_yen\n",
      "skimage.filters.thresholding.threshold_isodata\n",
      "skimage.filters.thresholding.threshold_li\n",
      "skimage.filters.thresholding.threshold_mean\n",
      "skimage.filters.thresholding.threshold_minimum\n",
      "skimage.filters.thresholding.threshold_otsu\n",
      "skimage.filters.thresholding.threshold_triangle\n",
      "skimage.filters.thresholding.threshold_yen\n",
      "skimage.filters.thresholding.threshold_isodata\n",
      "skimage.filters.thresholding.threshold_li\n",
      "skimage.filters.thresholding.threshold_mean\n",
      "skimage.filters.thresholding.threshold_minimum\n",
      "skimage.filters.thresholding.threshold_otsu\n",
      "skimage.filters.thresholding.threshold_triangle\n",
      "skimage.filters.thresholding.threshold_yen\n",
      "skimage.filters.thresholding.threshold_isodata\n",
      "skimage.filters.thresholding.threshold_li\n",
      "skimage.filters.thresholding.threshold_mean\n",
      "skimage.filters.thresholding.threshold_minimum\n",
      "skimage.filters.thresholding.threshold_otsu\n",
      "skimage.filters.thresholding.threshold_triangle\n",
      "skimage.filters.thresholding.threshold_yen\n",
      "skimage.filters.thresholding.threshold_isodata\n",
      "skimage.filters.thresholding.threshold_li\n",
      "skimage.filters.thresholding.threshold_mean\n",
      "skimage.filters.thresholding.threshold_minimum\n",
      "skimage.filters.thresholding.threshold_otsu\n",
      "skimage.filters.thresholding.threshold_triangle\n",
      "skimage.filters.thresholding.threshold_yen\n"
     ]
    },
    {
     "data": {
      "text/plain": [
       "[None, None, None, None, None]"
      ]
     },
     "execution_count": 61,
     "metadata": {},
     "output_type": "execute_result"
    }
   ],
   "source": [
    "[decomposition_1.estimate_threshold(component) for component in range(decomposition_1.output_dimension)]"
   ]
  },
  {
   "cell_type": "markdown",
   "id": "53240bab",
   "metadata": {
    "pycharm": {
     "name": "#%% md\n"
    }
   },
   "source": [
    "Make phasemaps"
   ]
  },
  {
   "cell_type": "code",
   "execution_count": 75,
   "id": "c9e5c8cf",
   "metadata": {
    "pycharm": {
     "name": "#%%\n"
    }
   },
   "outputs": [
    {
     "name": "stdout",
     "output_type": "stream",
     "text": [
      "{1: 0.019718707, 4: 0.023440134}\n",
      "{2: 0.020241987, 3: 0.027884971}\n"
     ]
    }
   ],
   "source": [
    "T1 = DecomposedPhase('T1', decomposition_1, [1, 4], value=3)\n",
    "thetap_100 = DecomposedPhase('theta_100', decomposition_1, [2, 3], value=1)\n",
    "\n",
    "T1_thresholds = T1.estimate_thresholds(method=threshold_triangle, update=True)\n",
    "thethap_100_thresholds = thetap_100.estimate_thresholds(method=threshold_triangle, update=True)\n",
    "\n",
    "print(T1.component_thresholds)\n",
    "print(thetap_100.component_thresholds)\n",
    "\n",
    "p = PhaseMap([thetap_100, T1])\n",
    "p.plot_phase_map(cmap=cmap, vmin=0, vmax=4)"
   ]
  },
  {
   "cell_type": "markdown",
   "id": "aa3dffb5",
   "metadata": {
    "pycharm": {
     "name": "#%% md\n"
    }
   },
   "source": [
    "Tune threshold values"
   ]
  },
  {
   "cell_type": "code",
   "execution_count": 76,
   "id": "7890a0d0",
   "metadata": {
    "pycharm": {
     "name": "#%%\n"
    }
   },
   "outputs": [],
   "source": [
    "[T1.update_component(component, 1.04*T1.component_thresholds[component]) for component in T1.component_thresholds]\n",
    "pp = PhaseMap([thetap_100, T1])\n",
    "pp.plot_phase_map(cmap=cmap, vmin=0, vmax=4)"
   ]
  },
  {
   "cell_type": "markdown",
   "id": "60e64573",
   "metadata": {
    "pycharm": {
     "name": "#%% md\n"
    }
   },
   "source": [
    "Make exclusion mask"
   ]
  },
  {
   "cell_type": "code",
   "execution_count": null,
   "id": "cb561e3c",
   "metadata": {
    "pycharm": {
     "name": "#%%\n"
    }
   },
   "outputs": [],
   "source": [
    "signalpath = Path(r'Y:\\Input\\SPED\\PhaseMappingPaper\\New\\SPED_600x600x12_10x10_4p63x4p63_1deg_100Hz_CL12cm_NBD_alpha5_spot1p3_preprocessed.hspy')\n",
    "signal = hs.load(signalpath, lazy=True, mode='a')\n",
    "\n",
    "T1.make_mask(add_to=signal)\n",
    "thetap_100.make_mask(add_to=signal)\n",
    "\n",
    "print(signal.metadata)\n",
    "signal.save(signalpath, write_dataset=False, close_file=True)\n",
    "#signal.close_file()"
   ]
  },
  {
   "cell_type": "markdown",
   "id": "27979f84",
   "metadata": {
    "pycharm": {
     "name": "#%% md\n"
    }
   },
   "source": [
    "### 2nd iteration"
   ]
  },
  {
   "cell_type": "code",
   "execution_count": 104,
   "id": "822b304c",
   "metadata": {
    "pycharm": {
     "name": "#%%\n"
    }
   },
   "outputs": [],
   "source": [
    "decompositions = load_decompositions(r'C:\\Users\\emilc\\OneDrive - NTNU\\NORTEM\\Data\\NMF\\nndsvd\\navmasked\\13051293/')"
   ]
  },
  {
   "cell_type": "code",
   "execution_count": 105,
   "id": "9431b396",
   "metadata": {},
   "outputs": [
    {
     "data": {
      "text/plain": [
       "[Decomposition(WindowsPath('C:/Users/emilc/OneDrive - NTNU/NORTEM/Data/NMF/nndsvd/navmasked/13051293/SPED_600x600x12_10x10_4p63x4p63_1deg_100Hz_CL12cm_NBD_alpha5_spot1p3_preprocessed_NMF_2_navmask-T1_navmask-theta_100.hspy'), label=''),\n",
       " Decomposition(WindowsPath('C:/Users/emilc/OneDrive - NTNU/NORTEM/Data/NMF/nndsvd/navmasked/13051293/SPED_600x600x12_10x10_4p63x4p63_1deg_100Hz_CL12cm_NBD_alpha5_spot1p3_preprocessed_NMF_3_navmask-T1_navmask-theta_100.hspy'), label=''),\n",
       " Decomposition(WindowsPath('C:/Users/emilc/OneDrive - NTNU/NORTEM/Data/NMF/nndsvd/navmasked/13051293/SPED_600x600x12_10x10_4p63x4p63_1deg_100Hz_CL12cm_NBD_alpha5_spot1p3_preprocessed_NMF_4_navmask-T1_navmask-theta_100.hspy'), label=''),\n",
       " Decomposition(WindowsPath('C:/Users/emilc/OneDrive - NTNU/NORTEM/Data/NMF/nndsvd/navmasked/13051293/SPED_600x600x12_10x10_4p63x4p63_1deg_100Hz_CL12cm_NBD_alpha5_spot1p3_preprocessed_NMF_5_navmask-T1_navmask-theta_100.hspy'), label=''),\n",
       " Decomposition(WindowsPath('C:/Users/emilc/OneDrive - NTNU/NORTEM/Data/NMF/nndsvd/navmasked/13051293/SPED_600x600x12_10x10_4p63x4p63_1deg_100Hz_CL12cm_NBD_alpha5_spot1p3_preprocessed_NMF_6_navmask-T1_navmask-theta_100.hspy'), label=''),\n",
       " Decomposition(WindowsPath('C:/Users/emilc/OneDrive - NTNU/NORTEM/Data/NMF/nndsvd/navmasked/13051293/SPED_600x600x12_10x10_4p63x4p63_1deg_100Hz_CL12cm_NBD_alpha5_spot1p3_preprocessed_NMF_7_navmask-T1_navmask-theta_100.hspy'), label=''),\n",
       " Decomposition(WindowsPath('C:/Users/emilc/OneDrive - NTNU/NORTEM/Data/NMF/nndsvd/navmasked/13051293/SPED_600x600x12_10x10_4p63x4p63_1deg_100Hz_CL12cm_NBD_alpha5_spot1p3_preprocessed_NMF_8_navmask-T1_navmask-theta_100.hspy'), label=''),\n",
       " Decomposition(WindowsPath('C:/Users/emilc/OneDrive - NTNU/NORTEM/Data/NMF/nndsvd/navmasked/13051293/SPED_600x600x12_10x10_4p63x4p63_1deg_100Hz_CL12cm_NBD_alpha5_spot1p3_preprocessed_NMF_9_navmask-T1_navmask-theta_100.hspy'), label=''),\n",
       " Decomposition(WindowsPath('C:/Users/emilc/OneDrive - NTNU/NORTEM/Data/NMF/nndsvd/navmasked/13051293/SPED_600x600x12_10x10_4p63x4p63_1deg_100Hz_CL12cm_NBD_alpha5_spot1p3_preprocessed_NMF_10_navmask-T1_navmask-theta_100.hspy'), label='')]"
      ]
     },
     "execution_count": 105,
     "metadata": {},
     "output_type": "execute_result"
    }
   ],
   "source": [
    "decompositions"
   ]
  },
  {
   "cell_type": "code",
   "execution_count": 26,
   "id": "91cd16cf",
   "metadata": {
    "pycharm": {
     "name": "#%%\n"
    }
   },
   "outputs": [],
   "source": [
    "decompositions[4].plot()"
   ]
  },
  {
   "cell_type": "code",
   "execution_count": 106,
   "id": "7ed9c3f0",
   "metadata": {
    "pycharm": {
     "name": "#%%\n"
    }
   },
   "outputs": [
    {
     "name": "stdout",
     "output_type": "stream",
     "text": [
      "Decomposition  with 6 components from path \"C:\\Users\\emilc\\OneDrive - NTNU\\NORTEM\\Data\\NMF\\nndsvd\\navmasked\\13051293\\SPED_600x600x12_10x10_4p63x4p63_1deg_100Hz_CL12cm_NBD_alpha5_spot1p3_preprocessed_NMF_6_navmask-T1_navmask-theta_100.hspy\"\n"
     ]
    }
   ],
   "source": [
    "decomposition_2 = decompositions[4]\n",
    "print(decomposition_2)"
   ]
  },
  {
   "cell_type": "code",
   "execution_count": 107,
   "id": "c3952929",
   "metadata": {},
   "outputs": [],
   "source": [
    "decomposition_2.export_as_png(cmap=gray_cmap)"
   ]
  },
  {
   "cell_type": "code",
   "execution_count": 77,
   "id": "458ffdf1",
   "metadata": {
    "pycharm": {
     "name": "#%%\n"
    }
   },
   "outputs": [],
   "source": [
    "thetap_001 = DecomposedPhase('theta_001', decomposition_2, [4], value=1)"
   ]
  },
  {
   "cell_type": "code",
   "execution_count": 78,
   "id": "16cab807",
   "metadata": {
    "pycharm": {
     "name": "#%%\n"
    }
   },
   "outputs": [
    {
     "name": "stdout",
     "output_type": "stream",
     "text": [
      "skimage.filters.thresholding.threshold_isodata\n",
      "skimage.filters.thresholding.threshold_li\n",
      "skimage.filters.thresholding.threshold_mean\n",
      "skimage.filters.thresholding.threshold_minimum\n",
      "skimage.filters.thresholding.threshold_otsu\n",
      "skimage.filters.thresholding.threshold_triangle\n",
      "skimage.filters.thresholding.threshold_yen\n"
     ]
    },
    {
     "data": {
      "text/plain": [
       "{4: None}"
      ]
     },
     "execution_count": 78,
     "metadata": {},
     "output_type": "execute_result"
    }
   ],
   "source": [
    "thetap_001.estimate_thresholds()"
   ]
  },
  {
   "cell_type": "code",
   "execution_count": 79,
   "id": "aca66457",
   "metadata": {
    "pycharm": {
     "name": "#%%\n"
    }
   },
   "outputs": [
    {
     "data": {
      "text/plain": [
       "{4: 0.027374181401683018}"
      ]
     },
     "execution_count": 79,
     "metadata": {},
     "output_type": "execute_result"
    }
   ],
   "source": [
    "thetap_001.estimate_thresholds(method=threshold_isodata, update=True)"
   ]
  },
  {
   "cell_type": "markdown",
   "id": "bc4d3ef1",
   "metadata": {},
   "source": [
    "# Make results"
   ]
  },
  {
   "cell_type": "code",
   "execution_count": 80,
   "id": "85c6aefa",
   "metadata": {},
   "outputs": [],
   "source": [
    "output_path = Path(r'C:\\Users\\emilc\\OneDrive - NTNU\\NORTEM\\Data\\NMF/')"
   ]
  },
  {
   "cell_type": "markdown",
   "id": "7c9cb943",
   "metadata": {
    "pycharm": {
     "name": "#%% md\n"
    }
   },
   "source": [
    "## Make Phase map"
   ]
  },
  {
   "cell_type": "code",
   "execution_count": 81,
   "id": "711442e8",
   "metadata": {
    "pycharm": {
     "name": "#%%\n"
    }
   },
   "outputs": [
    {
     "name": "stdout",
     "output_type": "stream",
     "text": [
      "Overwrite 'C:\\Users\\emilc\\OneDrive - NTNU\\NORTEM\\Data\\NMF\\NMF_phasemap.hspy' (y/n)?\n",
      "y\n"
     ]
    }
   ],
   "source": [
    "phasemap = PhaseMap([thetap_100, T1, thetap_001])\n",
    "phasemap.plot_phase_map(cmap=cmap, vmin=0, vmax=4)\n",
    "rgba_fig = phasemap.make_RGBA(normalize_colors=True, normalize_alpha=True)\n",
    "phasemap.save(output_path / 'NMF_phasemap.hspy')\n",
    "rgba_fig.savefig(output_path / 'rgba.png')"
   ]
  },
  {
   "cell_type": "markdown",
   "id": "de153188",
   "metadata": {
    "pycharm": {
     "name": "#%% md\n"
    }
   },
   "source": [
    "## Make plots"
   ]
  },
  {
   "cell_type": "code",
   "execution_count": 82,
   "id": "98da80ee",
   "metadata": {},
   "outputs": [],
   "source": [
    "phasemap = hs.load(output_path / 'NMF_phasemap.hspy')"
   ]
  },
  {
   "cell_type": "code",
   "execution_count": 83,
   "id": "bf054f5f",
   "metadata": {
    "pycharm": {
     "name": "#%%\n"
    }
   },
   "outputs": [
    {
     "name": "stdout",
     "output_type": "stream",
     "text": [
      "T1: 1\n",
      "T1: 4\n",
      "theta_001: 4\n",
      "theta_100: 2\n",
      "theta_100: 3\n"
     ]
    }
   ],
   "source": [
    "for phase_name, phase in phasemap.metadata.Phases:\n",
    "    factors = phase.metadata.Phase.decomposition.factors\n",
    "    loadings = phase.metadata.Phase.decomposition.loadings\n",
    "    datapath = Path(phase.metadata.Phase.decomposition.path)\n",
    "\n",
    "    axis_size = 6 #inches\n",
    "    dpi=150\n",
    "    gray_cmap = plt.colormaps.get('Greys')\n",
    "    gray_cmap.set_bad('lightblue')\n",
    "\n",
    "    fig = plt.figure(figsize=(3, 3), frameon=False, dpi=dpi)\n",
    "    ax = fig.add_axes((0, 0, 1, 1), xticks=[], yticks=[], frameon=False)\n",
    "    ax.imshow(phase.data, cmap=\"gray_r\")\n",
    "    fig.savefig(output_path / f\"{phase.metadata.Phase.name}_phaseimage.png\", dpi=dpi)\n",
    "\n",
    "    for component_key, threshold in phase.metadata.Phase.component_thresholds:\n",
    "        component = int(component_key.replace(\"Number_\", \"\"))\n",
    "        print(f\"{phase_name}: {component}\")\n",
    "        fig, axes = plt.subplots(nrows=1, ncols=2, subplot_kw={'xticks': [], 'yticks': []}, figsize=(axis_size*2, axis_size), dpi=dpi)\n",
    "        axes[0].imshow(loadings.inav[component].data,cmap=gray_cmap)\n",
    "        axes[1].imshow(factors.inav[component].data, norm=SymLogNorm(0.03),cmap=gray_cmap)\n",
    "        axes[0].annotate(f'Loading {component}', (0.02, 0.98), xycoords='axes fraction', color='w', ha='left', va='top', bbox=dict(facecolor='k', alpha=0.5))\n",
    "        axes[1].annotate(f'Factor {component}', (0.02, 0.98), xycoords='axes fraction', color='w', ha='left', va='top', bbox=dict(facecolor='k', alpha=0.5))\n",
    "        plt.tight_layout()\n",
    "        fig.savefig(output_path / f'{phase.metadata.Phase.name}_{component}.png', dpi=dpi)\n",
    "        plt.close('all')\n",
    "\n",
    "        fig = plt.figure(figsize=(3, 3), frameon=False, dpi=dpi)\n",
    "        ax = fig.add_axes((0, 0, 1, 1), xticks=[], yticks=[], frameon=False)\n",
    "        ax.imshow(loadings.inav[component].data, cmap=gray_cmap)\n",
    "        fig.savefig(output_path / f'{phase.metadata.Phase.name}_loading_{component:03d}.png', dpi=dpi)\n",
    "\n",
    "\n",
    "        factor_image = factors.inav[component].deepcopy()\n",
    "        factor_image = factor_image.data\n",
    "        #if False:\n",
    "        #    factor_image[mask] = np.nan\n",
    "        fig = plt.figure(figsize=(3, 3), frameon=False, dpi=dpi)\n",
    "        ax = fig.add_axes((0, 0, 1, 1), xticks=[], yticks=[], frameon=False)\n",
    "        ax.imshow(factor_image, cmap=gray_cmap)\n",
    "        fig.savefig(output_path / f'{phase.metadata.Phase.name}_factor_{component:03d}.png', dpi=dpi)"
   ]
  },
  {
   "cell_type": "markdown",
   "id": "03b4e2b4",
   "metadata": {
    "pycharm": {
     "name": "#%% md\n"
    }
   },
   "source": [
    "## Compare"
   ]
  },
  {
   "cell_type": "code",
   "execution_count": 66,
   "id": "049aaffb-9a18-4ff3-afcc-56a64392d6d6",
   "metadata": {
    "pycharm": {
     "name": "#%%\n"
    }
   },
   "outputs": [
    {
     "name": "stderr",
     "output_type": "stream",
     "text": [
      "C:\\Users\\emilc\\Miniconda3\\envs\\pyxem0.14.1\\lib\\site-packages\\hyperspy\\misc\\utils.py:471: VisibleDeprecationWarning: Use of the `binned` attribute in metadata is going to be deprecated in v2.0. Set the `axis.is_binned` attribute instead. \n",
      "  warnings.warn(\n",
      "C:\\Users\\emilc\\Miniconda3\\envs\\pyxem0.14.1\\lib\\site-packages\\hyperspy\\io.py:560: VisibleDeprecationWarning: Loading old file version. The binned attribute has been moved from metadata.Signal to axis.is_binned. Setting this attribute for all signal axes instead.\n",
      "  warnings.warn('Loading old file version. The binned attribute '\n"
     ]
    }
   ],
   "source": [
    "gt = hs.load(r'C:\\Users\\emilc\\OneDrive - NTNU\\NORTEM\\Data\\2021_10_06_2xxx_24h_250C\\Ground_truth_all.hdf5')\n",
    "gt.plot(cmap=cmap)\n",
    "\n",
    "pm = hs.load(r'NMF_phasemap.hspy')\n",
    "pm.plot(cmap=cmap)\n",
    "\n",
    "difference = gt - pm\n",
    "difference = np.abs(difference.data) > 0\n",
    "\n",
    "percentage_error = np.count_nonzero(difference) / np.multiply(*gt.axes_manager.signal_shape)\n",
    "print(f'Percentage error of NMF phase map: {percentage_error:.0%}\\nSuccessrate: {1-percentage_error:.0%}')\n",
    "\n",
    "percentage_error = np.count_nonzero(difference[gt.data>0]) / np.count_nonzero(gt.data)\n",
    "print(f'Percentage error of NMF phase map (disregarding ground_truth Al pixels): {percentage_error:.0%} (Successrate: {1-percentage_error:.0%})')\n",
    "\n",
    "fig = plt.figure(figsize=(ax_size*2, ax_size*2), frameon=False)\n",
    "ax = fig.add_axes([0, 0, 1, 1], xticks=[], yticks=[], frameon=False)\n",
    "ax.imshow(difference, cmap='Greys_r')\n",
    "fig.savefig('GT_error.png')\n",
    "error_map_signal = hs.signals.Signal2D(difference)\n",
    "error_map_signal.save('GT_error.hspy')"
   ]
  }
 ],
 "metadata": {
  "kernelspec": {
   "display_name": "Python 3 (ipykernel)",
   "language": "python",
   "name": "python3"
  },
  "language_info": {
   "codemirror_mode": {
    "name": "ipython",
    "version": 3
   },
   "file_extension": ".py",
   "mimetype": "text/x-python",
   "name": "python",
   "nbconvert_exporter": "python",
   "pygments_lexer": "ipython3",
   "version": "3.9.13"
  }
 },
 "nbformat": 4,
 "nbformat_minor": 5
}
