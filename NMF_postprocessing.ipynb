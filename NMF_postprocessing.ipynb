{
 "cells": [
  {
   "cell_type": "code",
   "execution_count": 1,
   "id": "0ab3ba05-fa81-429c-8c1d-2e68da94895d",
   "metadata": {
    "pycharm": {
     "is_executing": true,
     "name": "#%%\n"
    }
   },
   "outputs": [
    {
     "name": "stderr",
     "output_type": "stream",
     "text": [
      "WARNING:silx.opencl.common:Unable to import pyOpenCl. Please install it from: https://pypi.org/project/pyopencl\n"
     ]
    }
   ],
   "source": [
    "%matplotlib qt\n",
    "import matplotlib.pyplot as plt\n",
    "import hyperspy.api as hs\n",
    "import pyxem as pxm\n",
    "import numpy as np\n",
    "\n",
    "from pathlib import Path\n",
    "from matplotlib.colors import SymLogNorm\n",
    "from skimage.measure import label\n",
    "\n",
    "from matplotlib.colors import to_rgba\n",
    "from matplotlib.colors import LinearSegmentedColormap\n",
    "\n",
    "color_names = ['linen', 'darkorange', 'dodgerblue', 'forestgreen', 'red']\n",
    "colors = [to_rgba(c) for c in color_names]\n",
    "\n",
    "cmap = LinearSegmentedColormap.from_list('gt_cmap', colors, N=len(color_names))"
   ]
  },
  {
   "cell_type": "code",
   "execution_count": 4,
   "id": "7eb1d4e2-4482-4aff-b7f5-4cd7f0caae7d",
   "metadata": {
    "pycharm": {
     "name": "#%%\n"
    }
   },
   "outputs": [],
   "source": [
    "datapath = Path(r'C:\\Users\\emilc\\OneDrive - NTNU\\NORTEM\\Data\\2021_10_06_2xxx_24h_250C\\Preprocessed_data\\SPED_600x600x12_10x10_4p63x4p63_1deg_100Hz_CL12cm_NBD_alpha5_spot1p3_preprocessed.hspy')\n",
    "signal = hs.load(datapath, lazy=True)"
   ]
  },
  {
   "cell_type": "code",
   "execution_count": 6,
   "id": "118a02f8-2611-4cf5-a224-a4a15c3d5654",
   "metadata": {
    "pycharm": {
     "name": "#%%\n"
    }
   },
   "outputs": [
    {
     "name": "stdout",
     "output_type": "stream",
     "text": [
      "5\n"
     ]
    }
   ],
   "source": [
    "print(f'{int(signal.estimate_elbow_position())}')"
   ]
  },
  {
   "cell_type": "code",
   "execution_count": 64,
   "id": "c3cba643-aecf-465e-b685-03605681ec4e",
   "metadata": {
    "pycharm": {
     "name": "#%%\n"
    }
   },
   "outputs": [],
   "source": [
    "if False:\n",
    "    datapath = Path(r'SPED_600x600x12_10x10_4p63x4p63_1deg_100Hz_CL12cm_NBD_alpha5_spot1p3_preprocessed_masked.hspy')\n",
    "    signal = hs.load(datapath, lazy=True)\n",
    "    signal.plot_explained_variance_ratio()\n",
    "    signal.blind_source_separation(6)\n",
    "    signal.plot_bss_results()\n",
    "else:\n",
    "    #14, 15, 16, 17\n",
    "    datapath = Path(r'C:\\Users\\emilc\\OneDrive - NTNU\\NORTEM\\Data\\2021_10_06_2xxx_24h_250C\\Preprocessed_data\\NMF\\SPED_600x600x12_10x10_4p63x4p63_1deg_100Hz_CL12cm_NBD_alpha5_spot1p3_preprocessed_NMF_15_poissonian_mask.hspy')\n",
    "    loadings = hs.load(datapath.with_name(f'{datapath.stem}_loadings{datapath.suffix}'))\n",
    "    factors = hs.load(datapath.with_name(f'{datapath.stem}_factors{datapath.suffix}'))\n",
    "\n",
    "    loadings.plot()\n",
    "    factors.plot(norm='symlog')"
   ]
  },
  {
   "cell_type": "markdown",
   "id": "c7a07f08-40eb-43aa-9b13-74a3dff4b8cd",
   "metadata": {
    "pycharm": {
     "name": "#%% md\n"
    }
   },
   "source": [
    "# Plot learning results"
   ]
  },
  {
   "cell_type": "code",
   "execution_count": 65,
   "id": "00efd4b3-739a-4e41-9dac-b762a1d9617a",
   "metadata": {
    "pycharm": {
     "name": "#%%\n"
    }
   },
   "outputs": [],
   "source": [
    "axis_size = 6 #inches\n",
    "dpi=150\n",
    "for i, (loading, factor) in enumerate(zip(loadings, factors)):\n",
    "    fig, axes = plt.subplots(nrows=1, ncols=2, subplot_kw={'xticks': [], 'yticks': []}, figsize=(axis_size*2, axis_size), dpi=dpi)\n",
    "    axes[0].imshow(loading.data,cmap='viridis_r')\n",
    "    axes[1].imshow(factor.data, norm=SymLogNorm(0.03),cmap='viridis_r')\n",
    "    axes[0].annotate(f'Loading {i}', (0.02, 0.98), xycoords='axes fraction', color='w', ha='left', va='top', bbox=dict(facecolor='k', alpha=0.5))\n",
    "    axes[1].annotate(f'Factor {i}', (0.02, 0.98), xycoords='axes fraction', color='w', ha='left', va='top', bbox=dict(facecolor='k', alpha=0.5))\n",
    "    plt.tight_layout()\n",
    "    fig.savefig(f'{datapath.stem}_{i}.png', dpi=dpi)\n",
    "    plt.close('all')"
   ]
  },
  {
   "cell_type": "markdown",
   "id": "f3b73669-92de-4d73-a2d5-58d58d3ae1e2",
   "metadata": {
    "pycharm": {
     "name": "#%% md\n"
    }
   },
   "source": [
    "# Make decomposition map"
   ]
  },
  {
   "cell_type": "code",
   "execution_count": 66,
   "id": "bf9bc961-81fb-43cb-9e9b-cd96670de40e",
   "metadata": {
    "pycharm": {
     "name": "#%%\n"
    }
   },
   "outputs": [],
   "source": [
    "loadings.plot()\n",
    "factors.plot(norm='symlog')"
   ]
  },
  {
   "cell_type": "markdown",
   "id": "ead3d46e-b7d1-4ed0-b1d3-9f54331d8a27",
   "metadata": {
    "pycharm": {
     "name": "#%% md\n"
    }
   },
   "source": [
    "14 components"
   ]
  },
  {
   "cell_type": "code",
   "execution_count": 53,
   "id": "6fe02571-bf30-489d-9d92-fc39c131242e",
   "metadata": {
    "pycharm": {
     "name": "#%%\n"
    }
   },
   "outputs": [],
   "source": [
    "phase_key = {\n",
    "    'Al': {'components': [], 'threshold': 1},\n",
    "    'theta`|': {'components': [2, 4, 5, 7, 8, 10, 11, 12], 'threshold': 0.04},\n",
    "    'theta`': {'components': [13], 'threshold': 0.07},\n",
    "    'T1': {'components': [1, 3], 'threshold': 0.05},\n",
    "    'Not indexed': {'components': [], 'threshold': 1}\n",
    "}"
   ]
  },
  {
   "cell_type": "markdown",
   "id": "e561fcc7-6f97-45cc-bdcb-b9166bf439ca",
   "metadata": {},
   "source": [
    "15 components"
   ]
  },
  {
   "cell_type": "code",
   "execution_count": 160,
   "id": "e26c5a6e-88d1-4a10-9510-1d7bae112ed6",
   "metadata": {},
   "outputs": [],
   "source": [
    "phase_key = {\n",
    "    'Al': {'components': [], 'threshold': 1},\n",
    "    'theta`100': {'components': [2, 4, 5, 7, 8, 10, 11, 13], 'threshold': 0.04},\n",
    "    'theta`001': {'components': [14], 'threshold': 0.053},\n",
    "    'T1': {'components': [1, 3], 'threshold': 0.056},\n",
    "    'Not indexed': {'components': [], 'threshold': 1}\n",
    "}"
   ]
  },
  {
   "cell_type": "markdown",
   "id": "21c133be-93fb-4e9a-bb5e-50ddb5e2b190",
   "metadata": {
    "jupyter": {
     "source_hidden": true
    },
    "pycharm": {
     "name": "#%% md\n"
    },
    "tags": []
   },
   "source": [
    "## CMAP"
   ]
  },
  {
   "cell_type": "code",
   "execution_count": 161,
   "id": "7a6bca42-3f74-4968-baa0-6837d216329f",
   "metadata": {
    "pycharm": {
     "name": "#%%\n"
    }
   },
   "outputs": [],
   "source": [
    "phase_map = np.zeros(loadings.axes_manager.signal_shape + (len(phase_key),))\n",
    "phase_patterns = np.zeros(factors.axes_manager.signal_shape)\n",
    "ax_size = 3 #inches\n",
    "fig, axes = plt.subplots(nrows=1, ncols=len(phase_key), figsize=(ax_size*len(phase_key), ax_size), sharex=True, sharey=True, subplot_kw={'xticks': [], 'yticks': []})\n",
    "for phase_id, (phase, ax) in enumerate(zip(phase_key, axes)):\n",
    "    if len(phase_key[phase]['components']) > 0:\n",
    "        for component in phase_key[phase]['components']:\n",
    "            phase_map[:, :, phase_id] += loadings.inav[component].data/np.nanmax(loadings.inav[component].data)   \n",
    "        phase_map[:, :, phase_id] /= np.max(phase_map[:, :, phase_id])\n",
    "        phase_map[:, :, phase_id] = (phase_map[:, :, phase_id]>=phase_key[phase]['threshold'])#np.mean(phase_map[:, :, phase_id]))#-np.std(phase_map[:, :, phase_id]))\n",
    "    ax.imshow(phase_map[:, :, phase_id])    \n",
    "    ax.set_title(f'{phase} map')"
   ]
  },
  {
   "cell_type": "markdown",
   "id": "86652e0a-f5fb-40f6-89c4-995287cdfc16",
   "metadata": {
    "pycharm": {
     "name": "#%% md\n"
    }
   },
   "source": [
    "### Remove edge-on map from other maps"
   ]
  },
  {
   "cell_type": "code",
   "execution_count": 162,
   "id": "122de728-a232-49ea-9e57-b918489e7584",
   "metadata": {
    "pycharm": {
     "name": "#%%\n"
    }
   },
   "outputs": [],
   "source": [
    "edge_on_phase = 1\n",
    "fig, axes = plt.subplots(nrows=1, ncols=len(phase_key), figsize=(ax_size*len(phase_key), ax_size), subplot_kw={'xticks': [], 'yticks': []})\n",
    "for phase_id, (phase, ax) in enumerate(zip(phase_key, axes)):\n",
    "    if phase_id != edge_on_phase:\n",
    "        phase_map[:, :, phase_id] -= phase_map[:, :, edge_on_phase]\n",
    "        phase_map[:, :, phase_id] = phase_map[:, :, phase_id]>0\n",
    "    ax.imshow(phase_map[:, :, phase_id])\n",
    "    ax.set_title(f'{phase} map')"
   ]
  },
  {
   "cell_type": "markdown",
   "id": "9776f3df-e5da-4049-bf97-4da17d74c4e8",
   "metadata": {
    "pycharm": {
     "name": "#%% md\n"
    }
   },
   "source": [
    "### Set overlapping phases to not indexed"
   ]
  },
  {
   "cell_type": "code",
   "execution_count": 163,
   "id": "0cfe7b2c-4e59-43ff-938c-eee51711c444",
   "metadata": {
    "pycharm": {
     "name": "#%%\n"
    }
   },
   "outputs": [],
   "source": [
    "not_indexed_id = 4\n",
    "phase_map[:, :, not_indexed_id] = np.sum(phase_map[:, :, :not_indexed_id], axis=2)>1\n",
    "fig, axes = plt.subplots(nrows=1, ncols=len(phase_key), figsize=(ax_size*len(phase_key), ax_size), subplot_kw={'xticks': [], 'yticks': []})\n",
    "for phase_id, (phase, ax) in enumerate(zip(phase_key, axes)):\n",
    "    if phase_id != not_indexed_id:\n",
    "        phase_map[:, :, phase_id][phase_map[:, :, not_indexed_id]>0] = 0\n",
    "    ax.imshow(phase_map[:, :, phase_id])\n",
    "    ax.set_title(f'{phase} map')"
   ]
  },
  {
   "cell_type": "markdown",
   "id": "78d96c27-f9a4-4bc3-a252-9f4448f9cece",
   "metadata": {
    "pycharm": {
     "name": "#%% md\n"
    }
   },
   "source": [
    "## Set Al to whenever there are no phases or not indexed values"
   ]
  },
  {
   "cell_type": "code",
   "execution_count": 164,
   "id": "c31c8df9-3db5-4236-ab1c-28a1406421ff",
   "metadata": {
    "pycharm": {
     "name": "#%%\n"
    }
   },
   "outputs": [],
   "source": [
    "Al_id = 0\n",
    "phase_map[:, :, Al_id] = ~np.any(phase_map[:, :, Al_id:], axis=2)\n",
    "fig, axes = plt.subplots(nrows=1, ncols=len(phase_key), figsize=(ax_size*len(phase_key), ax_size), subplot_kw={'xticks': [], 'yticks': []})\n",
    "for phase_id, (phase, ax) in enumerate(zip(phase_key, axes)):\n",
    "    ax.imshow(phase_map[:, :, phase_id])\n",
    "    ax.set_title(f'{phase} map')"
   ]
  },
  {
   "cell_type": "markdown",
   "id": "eeb14db7-17a2-43cf-b453-da22136e6e77",
   "metadata": {
    "pycharm": {
     "name": "#%% md\n"
    }
   },
   "source": [
    "## Create phase image"
   ]
  },
  {
   "cell_type": "code",
   "execution_count": 165,
   "id": "10084667-29f8-45e8-bcba-a5dc62a09755",
   "metadata": {
    "pycharm": {
     "name": "#%%\n"
    }
   },
   "outputs": [],
   "source": [
    "phase_image = np.zeros(phase_map.shape[:2])\n",
    "for phase_id, phase in enumerate(phase_key):\n",
    "    phase_image += phase_id*phase_map[:, :, phase_id]\n",
    "fig = plt.figure(figsize=(ax_size*2, ax_size*2), frameon=False)\n",
    "ax = fig.add_axes([0, 0, 1, 1], xticks=[], yticks=[], frameon=False)\n",
    "ax.imshow(phase_image, cmap=cmap, vmax=len(phase_key))\n",
    "fig.savefig(datapath.with_name(f'{datapath.stem}_phasemap.png'))"
   ]
  },
  {
   "cell_type": "code",
   "execution_count": 166,
   "id": "89522718-cf88-4cd7-8d1d-b822827f3328",
   "metadata": {},
   "outputs": [
    {
     "name": "stdin",
     "output_type": "stream",
     "text": [
      "Overwrite 'C:\\Users\\emilc\\OneDrive - NTNU\\NORTEM\\Data\\2021_10_06_2xxx_24h_250C\\Preprocessed_data\\NMF\\SPED_600x600x12_10x10_4p63x4p63_1deg_100Hz_CL12cm_NBD_alpha5_spot1p3_preprocessed_NMF_15_poissonian_mask_NMF_15_phasemap.hdf5' (y/n)?\n",
      " y\n"
     ]
    }
   ],
   "source": [
    "phase_image_signal = hs.signals.Signal2D(phase_image)\n",
    "phase_image_signal.metadata.add_dictionary({'Phase_map_parameters': {'Components': phase_key}, 'Factors': factors, 'Loadings': loadings})\n",
    "phase_image_signal.save(datapath.with_name(f'{datapath.stem}_NMF_15_phasemap.hdf5'))\n"
   ]
  },
  {
   "cell_type": "code",
   "execution_count": 167,
   "id": "7a265ef3-bee5-43a7-89f7-b59538ac1a1c",
   "metadata": {},
   "outputs": [
    {
     "data": {
      "text/plain": [
       "{'Al': {'components': [], 'threshold': 1},\n",
       " 'theta`100': {'components': [2, 4, 5, 7, 8, 10, 11, 13], 'threshold': 0.04},\n",
       " 'theta`001': {'components': [14], 'threshold': 0.053},\n",
       " 'T1': {'components': [1, 3], 'threshold': 0.056},\n",
       " 'Not indexed': {'components': [], 'threshold': 1}}"
      ]
     },
     "execution_count": 167,
     "metadata": {},
     "output_type": "execute_result"
    }
   ],
   "source": [
    "phase_key"
   ]
  },
  {
   "cell_type": "code",
   "execution_count": 168,
   "id": "54b70b88-a089-457d-8eef-4c1f76e43517",
   "metadata": {},
   "outputs": [
    {
     "data": {
      "text/html": [
       "\n",
       "    <ul style=\"margin: 0px; list-style-position: outside;\">\n",
       "    <li style='margin-left:1em; padding-left: 0.5em'>Factors = &lt;ElectronDiffraction2D, title: Decomposition factors of SPED_600x600x12_10x10_4p63x4p63_1deg_100Hz_CL12cm_NBD_alpha5_spot1p3, dimensions: (15|128, 128)&gt;</li></ul>\n",
       "    <ul style=\"margin: 0px; list-style-position: outside;\">\n",
       "                    <details open>\n",
       "                    <summary style=\"display: list-item;\">\n",
       "                    <li style=\"display: inline;\">\n",
       "                    General\n",
       "                    </li></summary>\n",
       "                    <ul style=\"margin: 0px; list-style-position: outside;\">\n",
       "                    <details closed>\n",
       "                    <summary style=\"display: list-item;\">\n",
       "                    <li style=\"display: inline;\">\n",
       "                    FileIO\n",
       "                    </li></summary>\n",
       "                    <ul style=\"margin: 0px; list-style-position: outside;\">\n",
       "                    <details closed>\n",
       "                    <summary style=\"display: list-item;\">\n",
       "                    <li style=\"display: inline;\">\n",
       "                    0\n",
       "                    </li></summary>\n",
       "                    \n",
       "    <ul style=\"margin: 0px; list-style-position: outside;\">\n",
       "    <li style='margin-left:1em; padding-left: 0.5em'>hyperspy_version = 1.7.0</li></ul>\n",
       "    \n",
       "    <ul style=\"margin: 0px; list-style-position: outside;\">\n",
       "    <li style='margin-left:1em; padding-left: 0.5em'>io_plugin = hyperspy.io_plugins.hspy</li></ul>\n",
       "    \n",
       "    <ul style=\"margin: 0px; list-style-position: outside;\">\n",
       "    <li style='margin-left:1em; padding-left: 0.5em'>operation = save</li></ul>\n",
       "    \n",
       "    <ul style=\"margin: 0px; list-style-position: outside;\">\n",
       "    <li style='margin-left:1em; padding-left: 0.5em'>timestamp = 2022-06-01T20:41:50.496517+02:00</li></ul>\n",
       "    </details></ul></details></ul>\n",
       "    <ul style=\"margin: 0px; list-style-position: outside;\">\n",
       "    <li style='margin-left:1em; padding-left: 0.5em'>title = </li></ul>\n",
       "    </details></ul>\n",
       "    <ul style=\"margin: 0px; list-style-position: outside;\">\n",
       "    <li style='margin-left:1em; padding-left: 0.5em'>Loadings = &lt;Signal2D, title: Decomposition loadings of SPED_600x600x12_10x10_4p63x4p63_1deg_100Hz_CL12cm_NBD_alpha5_spot1p3, dimensions: (15|512, 512)&gt;</li></ul>\n",
       "    <ul style=\"margin: 0px; list-style-position: outside;\">\n",
       "                    <details open>\n",
       "                    <summary style=\"display: list-item;\">\n",
       "                    <li style=\"display: inline;\">\n",
       "                    Phase_map_parameters\n",
       "                    </li></summary>\n",
       "                    <ul style=\"margin: 0px; list-style-position: outside;\">\n",
       "                    <details closed>\n",
       "                    <summary style=\"display: list-item;\">\n",
       "                    <li style=\"display: inline;\">\n",
       "                    Components\n",
       "                    </li></summary>\n",
       "                    <ul style=\"margin: 0px; list-style-position: outside;\">\n",
       "                    <details closed>\n",
       "                    <summary style=\"display: list-item;\">\n",
       "                    <li style=\"display: inline;\">\n",
       "                    Al\n",
       "                    </li></summary>\n",
       "                    \n",
       "    <ul style=\"margin: 0px; list-style-position: outside;\">\n",
       "    <li style='margin-left:1em; padding-left: 0.5em'>components = []</li></ul>\n",
       "    \n",
       "    <ul style=\"margin: 0px; list-style-position: outside;\">\n",
       "    <li style='margin-left:1em; padding-left: 0.5em'>threshold = 1</li></ul>\n",
       "    </details></ul><ul style=\"margin: 0px; list-style-position: outside;\">\n",
       "                    <details closed>\n",
       "                    <summary style=\"display: list-item;\">\n",
       "                    <li style=\"display: inline;\">\n",
       "                    Not indexed\n",
       "                    </li></summary>\n",
       "                    \n",
       "    <ul style=\"margin: 0px; list-style-position: outside;\">\n",
       "    <li style='margin-left:1em; padding-left: 0.5em'>components = []</li></ul>\n",
       "    \n",
       "    <ul style=\"margin: 0px; list-style-position: outside;\">\n",
       "    <li style='margin-left:1em; padding-left: 0.5em'>threshold = 1</li></ul>\n",
       "    </details></ul><ul style=\"margin: 0px; list-style-position: outside;\">\n",
       "                    <details closed>\n",
       "                    <summary style=\"display: list-item;\">\n",
       "                    <li style=\"display: inline;\">\n",
       "                    T1\n",
       "                    </li></summary>\n",
       "                    \n",
       "    <ul style=\"margin: 0px; list-style-position: outside;\">\n",
       "    <li style='margin-left:1em; padding-left: 0.5em'>components = [1, 3]</li></ul>\n",
       "    \n",
       "    <ul style=\"margin: 0px; list-style-position: outside;\">\n",
       "    <li style='margin-left:1em; padding-left: 0.5em'>threshold = 0.056</li></ul>\n",
       "    </details></ul><ul style=\"margin: 0px; list-style-position: outside;\">\n",
       "                    <details closed>\n",
       "                    <summary style=\"display: list-item;\">\n",
       "                    <li style=\"display: inline;\">\n",
       "                    theta`001\n",
       "                    </li></summary>\n",
       "                    \n",
       "    <ul style=\"margin: 0px; list-style-position: outside;\">\n",
       "    <li style='margin-left:1em; padding-left: 0.5em'>components = [14]</li></ul>\n",
       "    \n",
       "    <ul style=\"margin: 0px; list-style-position: outside;\">\n",
       "    <li style='margin-left:1em; padding-left: 0.5em'>threshold = 0.053</li></ul>\n",
       "    </details></ul><ul style=\"margin: 0px; list-style-position: outside;\">\n",
       "                    <details closed>\n",
       "                    <summary style=\"display: list-item;\">\n",
       "                    <li style=\"display: inline;\">\n",
       "                    theta`100\n",
       "                    </li></summary>\n",
       "                    \n",
       "    <ul style=\"margin: 0px; list-style-position: outside;\">\n",
       "    <li style='margin-left:1em; padding-left: 0.5em'>components = [2, 4, 5, 7, 8, 10, 11, 13]</li></ul>\n",
       "    \n",
       "    <ul style=\"margin: 0px; list-style-position: outside;\">\n",
       "    <li style='margin-left:1em; padding-left: 0.5em'>threshold = 0.04</li></ul>\n",
       "    </details></ul></details></ul></details></ul><ul style=\"margin: 0px; list-style-position: outside;\">\n",
       "                    <details open>\n",
       "                    <summary style=\"display: list-item;\">\n",
       "                    <li style=\"display: inline;\">\n",
       "                    Signal\n",
       "                    </li></summary>\n",
       "                    \n",
       "    <ul style=\"margin: 0px; list-style-position: outside;\">\n",
       "    <li style='margin-left:1em; padding-left: 0.5em'>signal_type = </li></ul>\n",
       "    </details></ul>"
      ],
      "text/plain": [
       "├── Factors = <ElectronDiffraction2D, title: Decomposition factors of SPED_600x600x12_10x10_4p63x4p63_1deg_100Hz_CL12cm_NBD_alpha5_spot1p3, dimensions: (15|128, 128)>\n",
       "├── General\n",
       "│   ├── FileIO\n",
       "│   │   └── 0\n",
       "│   │       ├── hyperspy_version = 1.7.0\n",
       "│   │       ├── io_plugin = hyperspy.io_plugins.hspy\n",
       "│   │       ├── operation = save\n",
       "│   │       └── timestamp = 2022-06-01T20:41:50.496517+02:00\n",
       "│   └── title = \n",
       "├── Loadings = <Signal2D, title: Decomposition loadings of SPED_600x600x12_10x10_4p63x4p63_1deg_100Hz_CL12cm_NBD_alpha5_spot1p3, dimensions: (15|512, 512)>\n",
       "├── Phase_map_parameters\n",
       "│   └── Components\n",
       "│       ├── Al\n",
       "│       │   ├── components = []\n",
       "│       │   └── threshold = 1\n",
       "│       ├── Not indexed\n",
       "│       │   ├── components = []\n",
       "│       │   └── threshold = 1\n",
       "│       ├── T1\n",
       "│       │   ├── components = [1, 3]\n",
       "│       │   └── threshold = 0.056\n",
       "│       ├── theta`001\n",
       "│       │   ├── components = [14]\n",
       "│       │   └── threshold = 0.053\n",
       "│       └── theta`100\n",
       "│           ├── components = [2, 4, 5, 7, 8, 10, 11, 13]\n",
       "│           └── threshold = 0.04\n",
       "└── Signal\n",
       "    └── signal_type = "
      ]
     },
     "execution_count": 168,
     "metadata": {},
     "output_type": "execute_result"
    }
   ],
   "source": [
    "phase_image_signal.metadata"
   ]
  },
  {
   "cell_type": "markdown",
   "id": "b48c910e-ece3-4049-abd1-a7f835a69252",
   "metadata": {
    "pycharm": {
     "name": "#%% md\n"
    }
   },
   "source": [
    "## Comparison"
   ]
  },
  {
   "cell_type": "code",
   "execution_count": 142,
   "id": "049aaffb-9a18-4ff3-afcc-56a64392d6d6",
   "metadata": {
    "pycharm": {
     "name": "#%%\n"
    }
   },
   "outputs": [
    {
     "name": "stderr",
     "output_type": "stream",
     "text": [
      "C:\\Users\\emilc\\Miniconda3\\envs\\pyxem0.14.1\\lib\\site-packages\\hyperspy\\misc\\utils.py:471: VisibleDeprecationWarning: Use of the `binned` attribute in metadata is going to be deprecated in v2.0. Set the `axis.is_binned` attribute instead. \n",
      "  warnings.warn(\n",
      "C:\\Users\\emilc\\Miniconda3\\envs\\pyxem0.14.1\\lib\\site-packages\\hyperspy\\io.py:560: VisibleDeprecationWarning: Loading old file version. The binned attribute has been moved from metadata.Signal to axis.is_binned. Setting this attribute for all signal axes instead.\n",
      "  warnings.warn('Loading old file version. The binned attribute '\n"
     ]
    }
   ],
   "source": [
    "gt = hs.load(r'C:\\Users\\emilc\\OneDrive - NTNU\\NORTEM\\Data\\2021_10_06_2xxx_24h_250C\\Ground_truth_all.hdf5')\n",
    "gt.plot(cmap=cmap)"
   ]
  },
  {
   "cell_type": "markdown",
   "id": "2ab1e345-d9e6-493f-87fa-01ad1b507f05",
   "metadata": {
    "pycharm": {
     "name": "#%% md\n"
    }
   },
   "source": [
    "Considering all pixels"
   ]
  },
  {
   "cell_type": "code",
   "execution_count": 152,
   "id": "acdca2fa-6f9c-45fc-b33a-cda58ae4463d",
   "metadata": {
    "pycharm": {
     "name": "#%%\n"
    }
   },
   "outputs": [
    {
     "name": "stdout",
     "output_type": "stream",
     "text": [
      "Percentage error of NMF phase map: 3%\n",
      "Successrate: 97%\n"
     ]
    }
   ],
   "source": [
    "difference = gt - phase_image\n",
    "difference = np.abs(difference.data) > 0\n",
    "\n",
    "percentage_error = np.count_nonzero(difference) / np.multiply(*gt.axes_manager.signal_shape)\n",
    "print(f'Percentage error of NMF phase map: {percentage_error:.0%}\\nSuccessrate: {1-percentage_error:.0%}')\n",
    "\n",
    "fig = plt.figure(figsize=(ax_size*2, ax_size*2), frameon=False)\n",
    "ax = fig.add_axes([0, 0, 1, 1], xticks=[], yticks=[], frameon=False)\n",
    "ax.imshow(difference, cmap='Greys_r')\n",
    "fig.savefig(datapath.with_name(f'{datapath.stem}_GT_error.png'))\n",
    "error_map_signal = hs.signals.Signal2D(difference)\n",
    "error_map_signal.save(datapath.with_name(f'{datapath.stem}_NMF_15_error.hdf5'))"
   ]
  },
  {
   "cell_type": "markdown",
   "id": "77bf1ff2-03f6-426f-9c6e-0f9935b16b61",
   "metadata": {
    "pycharm": {
     "name": "#%% md\n"
    }
   },
   "source": [
    "Considering only pixels where ground truth is not Al"
   ]
  },
  {
   "cell_type": "code",
   "execution_count": 144,
   "id": "060bee57-a218-4e3c-858a-8a057b232ff7",
   "metadata": {
    "pycharm": {
     "name": "#%%\n"
    }
   },
   "outputs": [
    {
     "name": "stdout",
     "output_type": "stream",
     "text": [
      "Percentage error of NMF phase map: 8%\n",
      "Successrate: 92%\n"
     ]
    }
   ],
   "source": [
    "difference = gt - phase_image\n",
    "difference = np.abs(difference.data) > 0\n",
    "\n",
    "percentage_error = np.count_nonzero(difference[gt.data>0]) / np.count_nonzero(gt.data)\n",
    "print(f'Percentage error of NMF phase map: {percentage_error:.0%}\\nSuccessrate: {1-percentage_error:.0%}')\n",
    "\n",
    "fig = plt.figure(figsize=(ax_size*2, ax_size*2), frameon=False)\n",
    "ax = fig.add_axes([0, 0, 1, 1], xticks=[], yticks=[], frameon=False)\n",
    "ax.imshow(difference, cmap='Greys_r')\n",
    "fig.savefig(datapath.with_name(f'{datapath.stem}_GT_error_noMatrix.png'))"
   ]
  },
  {
   "cell_type": "markdown",
   "id": "49b7c49d-f0e0-49d1-bcb7-5b8c983cc1f2",
   "metadata": {
    "pycharm": {
     "name": "#%% md\n"
    }
   },
   "source": [
    "## RGBA"
   ]
  },
  {
   "cell_type": "code",
   "execution_count": 147,
   "id": "4ba7d505-37d6-48f3-9adb-38bd8d926439",
   "metadata": {
    "pycharm": {
     "name": "#%%\n"
    }
   },
   "outputs": [],
   "source": [
    "phases = ['T1', 'theta`|', 'theta`']\n",
    "components = [phase_key[key]['components'] for key in phases]\n",
    "thresholds = [phase_key[key]['threshold'] for key in phases]\n",
    "\n",
    "rgba_loadings = np.zeros(loadings.axes_manager.signal_shape + (4,))\n",
    "rgba_factors = np.zeros(factors.axes_manager.signal_shape + (4,))\n",
    "for i, (phase, comps) in enumerate(zip(phases, components)):\n",
    "    factor = np.zeros(factors.axes_manager.signal_shape)\n",
    "    loading = np.zeros(loadings.axes_manager.signal_shape)\n",
    "    if len(comps) > 0:\n",
    "        for c in comps:\n",
    "            factor += factors.inav[c].data\n",
    "            loading += loadings.inav[c].data\n",
    "        factor = factor/np.nanmax(factor)\n",
    "        loading = loading/np.nanmax(loading)\n",
    "\n",
    "        rgba_loadings[:, :, i] = loading\n",
    "        rgba_factors[:, :, i] = factor\n",
    "\n",
    "        rgba_loadings[:, :, -1] += loading\n",
    "        rgba_factors[:, :, -1] += factor\n",
    "\n",
    "        rgba_loadings[:, :, -1] /= np.max(rgba_loadings[:, :, -1])\n",
    "        rgba_factors[:, :, -1] /= np.max(rgba_factors[:, :, -1])\n",
    "figure = plt.figure(figsize=(6, 6), frameon=True)\n",
    "ax = figure.add_axes([0, 0, 1, 1], xticks=[], yticks=[], frameon=False)\n",
    "ax.imshow(rgba_loadings)\n",
    "subax = figure.add_axes([0.75, 0.75, 0.25, 0.25], xticks=[], yticks=[], frameon=True)\n",
    "subax.imshow(rgba_factors)\n",
    "figure.savefig(f'{datapath.stem}_decomposition_RGBA.png')"
   ]
  },
  {
   "cell_type": "code",
   "execution_count": null,
   "id": "e3f8cc39-948a-450e-9700-89ff85649d50",
   "metadata": {
    "pycharm": {
     "name": "#%%\n"
    }
   },
   "outputs": [],
   "source": []
  }
 ],
 "metadata": {
  "kernelspec": {
   "display_name": "Python [conda env:pyxem0.14.1]",
   "language": "python",
   "name": "conda-env-pyxem0.14.1-py"
  },
  "language_info": {
   "codemirror_mode": {
    "name": "ipython",
    "version": 3
   },
   "file_extension": ".py",
   "mimetype": "text/x-python",
   "name": "python",
   "nbconvert_exporter": "python",
   "pygments_lexer": "ipython3",
   "version": "3.10.4"
  }
 },
 "nbformat": 4,
 "nbformat_minor": 5
}
