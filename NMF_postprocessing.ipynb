{
 "cells": [
  {
   "cell_type": "code",
   "execution_count": null,
   "id": "0ab3ba05-fa81-429c-8c1d-2e68da94895d",
   "metadata": {
    "pycharm": {
     "is_executing": true,
     "name": "#%%\n"
    }
   },
   "outputs": [],
   "source": [
    "%matplotlib qt\n",
    "import matplotlib.pyplot as plt\n",
    "import hyperspy.api as hs\n",
    "import pyxem as pxm\n",
    "import numpy as np\n",
    "\n",
    "from pathlib import Path\n",
    "from matplotlib.colors import SymLogNorm\n",
    "from skimage.measure import label\n",
    "\n",
    "from matplotlib.colors import to_rgba\n",
    "from matplotlib.colors import LinearSegmentedColormap\n",
    "\n",
    "from skimage.filters.thresholding import try_all_threshold\n",
    "\n",
    "from skimage.filters.thresholding import threshold_triangle, threshold_li, threshold_isodata\n",
    "\n",
    "color_names = ['linen', 'darkorange', 'dodgerblue', 'forestgreen', 'red']\n",
    "colors = [to_rgba(c) for c in color_names]\n",
    "\n",
    "cmap = LinearSegmentedColormap.from_list('gt_cmap', colors, N=len(color_names))"
   ]
  },
  {
   "cell_type": "markdown",
   "source": [
    "## Convenient classes"
   ],
   "metadata": {
    "collapsed": false,
    "pycharm": {
     "name": "#%% md\n"
    }
   }
  },
  {
   "cell_type": "code",
   "execution_count": null,
   "outputs": [],
   "source": [
    "class Decomposition(object):\n",
    "\n",
    "    def __init__(self, datapath, label='', load_output_file=True, metadata_dict=None):\n",
    "        self.datapath = Path(datapath)\n",
    "        self.label = label\n",
    "        self.loadings = hs.load(self.datapath.with_name(f'{self.datapath.stem}_loadings{self.datapath.suffix}'))\n",
    "        self.factors = hs.load(self.datapath.with_name(f'{self.datapath.stem}_factors{self.datapath.suffix}'))\n",
    "\n",
    "        if load_output_file:\n",
    "            output_files = list(self.datapath.parent.glob(r'*.out'))\n",
    "            if len(output_files) == 1:\n",
    "                if metadata_dict is None:\n",
    "                    metadata_dict = {}\n",
    "                metadata_dict.update({'Decomposition_logfile': output_files[0].read_text()})\n",
    "            else:\n",
    "                if len(output_files) == 0:\n",
    "                    print(f'No output log file detected')\n",
    "                else:\n",
    "                    print(f'{len(output_files)} output log files found, please add the correct output log file to the metadata of the loadings and factors manually instead')\n",
    "\n",
    "        if metadata_dict is not None:\n",
    "            if isinstance(metadata_dict, dict):\n",
    "                self.loadings.metadata.add_dictionary({'Decomposition': metadata_dict})\n",
    "                self.factors.metadata.add_dictionary({'Decomposition': metadata_dict})\n",
    "            else:\n",
    "                raise TypeError(f'Could not add {metadata_dict!r} as a metadata dictionary to {self!r}. Only dictionaries are allowed.')\n",
    "\n",
    "    @property\n",
    "    def output_dimension(self):\n",
    "        return len(self.loadings)\n",
    "\n",
    "    def __repr__(self):\n",
    "        return f'{self.__class__.__name__}({self.datapath!r}, label={self.label!r})'\n",
    "\n",
    "    def __str__(self):\n",
    "        return f'{self.__class__.__name__} {self.label!s} with {self.output_dimension} components from path \"{self.datapath.absolute()}\"'\n",
    "\n",
    "    def __iter__(self):\n",
    "        for loading, factor in zip(self.loadings, self.factors):\n",
    "            yield (loading, factor)\n",
    "\n",
    "    def estimate_threshold(self, component, method=None):\n",
    "        if method is None:\n",
    "            _ = try_all_threshold(np.nan_to_num(self.loadings.inav[component].data, copy=True, nan=np.nanmin(self.loadings.inav[component].data)))\n",
    "            fig = plt.gcf()\n",
    "            fig.suptitle(component)\n",
    "        else:\n",
    "            return method(np.nan_to_num(self.loadings.inav[component].data, copy=True, nan=np.nanmin(self.loadings.inav[component].data)))\n",
    "\n",
    "    def as_dictionary(self):\n",
    "        return {'path': str(self.datapath.absolute()),\n",
    "                'label': self.label,\n",
    "                'loadings': self.loadings.deepcopy(),\n",
    "                'factors': self.factors.deepcopy()\n",
    "               }\n",
    "\n",
    "\n",
    "    def plot(self, *args, **kwargs):\n",
    "        hs.plot.plot_signals([self.loadings, self.factors], *args, **kwargs)\n",
    "\n",
    "    def export_as_png(self, axis_size = 6, dpi=150, *args, **kwargs):\n",
    "        for i, (loading, factor) in enumerate(self):\n",
    "            fig, axes = plt.subplots(nrows=1, ncols=2, subplot_kw={'xticks': [], 'yticks': []}, figsize=(axis_size*2, axis_size), dpi=dpi)\n",
    "            axes[0].imshow(loading.data,cmap='viridis_r')\n",
    "            axes[1].imshow(factor.data, norm=SymLogNorm(0.03),cmap='viridis_r')\n",
    "            axes[0].annotate(f'Loading {i}', (0.02, 0.98), xycoords='axes fraction', color='w', ha='left', va='top', bbox=dict(facecolor='k', alpha=0.5))\n",
    "            axes[1].annotate(f'Factor {i}', (0.02, 0.98), xycoords='axes fraction', color='w', ha='left', va='top', bbox=dict(facecolor='k', alpha=0.5))\n",
    "            plt.tight_layout()\n",
    "            fig.savefig(self.datapath.with_name(f'{self.datapath.stem}_{i}.png'), dpi=dpi)\n",
    "            plt.close('all')\n",
    "\n",
    "    def __hash__(self):\n",
    "        return hash(tuple(self.loadings, self.factors))\n",
    "\n",
    "class DecomposedPhase(object):\n",
    "\n",
    "    def __init__(self, phase, decomposition, components, thresholds=None, value=1):\n",
    "        self.phase = phase\n",
    "        self.value = value\n",
    "        self.decomposition = decomposition\n",
    "        self.component_thresholds = dict()\n",
    "        if thresholds is None:\n",
    "            thresholds = [None]*len(components)\n",
    "        [self.update_component(component, threshold) for (component, threshold) in zip(components, thresholds)]\n",
    "\n",
    "    def __repr__(self):\n",
    "        return f'{self.__class__.__name__}({self.phase!r}, {self.decomposition!r}, {list(self.component_thresholds.keys())!r}, {list(self.component_thresholds.values())!r}, value={self.value!r})'\n",
    "\n",
    "    def __str__(self):\n",
    "        return f'{self.__class__.__name__} for {self.phase!s} ({self.value}) based on {self.decomposition!s}.\\nComponent thresholds:{self.component_thresholds!s}'\n",
    "\n",
    "    @property\n",
    "    def data(self):\n",
    "        phase_map = np.zeros(self.decomposition.loadings.axes_manager.signal_shape, dtype=bool)\n",
    "        if len(self.component_thresholds) > 0:\n",
    "            for component in self.component_thresholds:\n",
    "                phase_map += self.decomposition.loadings.inav[component].data>=self.component_thresholds[component]\n",
    "        phase_map = phase_map * self.value\n",
    "        return phase_map\n",
    "\n",
    "    def as_signal(self):\n",
    "        s = hs.signals.Signal2D(self.data)\n",
    "        s.metadata.add_dictionary({\n",
    "            'Phase': {\n",
    "                'name': self.phase,\n",
    "                'value': self.value,\n",
    "                'decomposition': self.decomposition.as_dictionary(),\n",
    "                'component_thresholds': {str(key): self.component_thresholds[key] for key in self.component_thresholds}},\n",
    "            'General': {\n",
    "                'title': f\"{self.__class__.__name__} for {self.phase}\"}\n",
    "        })\n",
    "        return s\n",
    "\n",
    "    def update_component(self, component, threshold=None):\n",
    "        if 0 <= component < len(self.decomposition.loadings):\n",
    "            self.component_thresholds.update({component: threshold})\n",
    "        else:\n",
    "            raise IndexError(f'Cannot update component {component} in {self!r}, the component is out of range for decomposition {self.decomposition}')\n",
    "\n",
    "    def remove_component(self, component):\n",
    "        self.component_thresholds = {key: self.component_thresholds[key] for key in self.component_thresholds if key != component}\n",
    "\n",
    "    def estimate_thresholds(self, method=None, update=False):\n",
    "        thresholds = {component: self.decomposition.estimate_threshold(component, method) for component in self.component_thresholds}\n",
    "        if update:\n",
    "            [self.update_component(component, thresholds[component]) for component in thresholds]\n",
    "        return thresholds\n",
    "\n",
    "    def plot(self, axis_size = 6, dpi=150, savefig=False, *args, **kwargs):\n",
    "        ncols = len(self.component_thresholds)+1\n",
    "        fig, axes = plt.subplots(nrows=1, ncols=ncols, sharex=True, sharey=True, subplot_kw={'xticks': [], 'yticks': []}, figsize=(axis_size*ncols, axis_size), dpi=dpi)\n",
    "        for i, component in enumerate(self.component_thresholds):\n",
    "            axes[i].imshow(self.decomposition.loadings.inav[component].data,**kwargs)\n",
    "            axes[i].annotate(f'Loading {component} of phase {self.phase}', (0.02, 0.98), xycoords='axes fraction', color='w', ha='left', va='top', bbox=dict(facecolor='k', alpha=0.5))\n",
    "        axes[-1].imshow(self.data, cmap='Greys_r')\n",
    "        plt.tight_layout()\n",
    "        if savefig:\n",
    "            fig.savefig(self.decomposition.datapath.with_name(f'{self.decomposition.datapath.stem}_{i}.png'), dpi=dpi)\n",
    "            plt.close('all')\n",
    "\n",
    "    def plot_component_histograms(self, components=None, axis_size = 6, dpi=150, savefig=False, *args, **kwargs):\n",
    "        if components is None:\n",
    "            components = list(self.component_thresholds.keys())\n",
    "        ncols = len(components)\n",
    "        print(ncols)\n",
    "        fig, axes = plt.subplots(nrows=1, ncols=ncols, sharex=True, sharey=True)\n",
    "        try:\n",
    "            l = len(axes)\n",
    "        except TypeError:\n",
    "            l = 1\n",
    "            axes = list([axes])\n",
    "        for i, component in enumerate(components):\n",
    "            component_threshold = self.component_thresholds.get(component, None)\n",
    "            if component_threshold is None:\n",
    "                raise ValueError(f'Cannot plot histogram of component {component} for {self!r}. No such component in the threshold dicrionary')\n",
    "            axes[i].hist(self.decomposition.loadings.inav[component].data.flatten(), *args, **kwargs)\n",
    "            axes[i].axvline(component_threshold, color='r')\n",
    "            axes[i].set_title(f'Decomposition histogram of component {component}')\n",
    "        plt.tight_layout()\n",
    "\n",
    "    def make_mask(self, add_to=None):\n",
    "        navigation_mask = hs.signals.Signal2D(self.data>=self.value, metadata={'General': {'title': f'{self.phase}'}})\n",
    "        if add_to is not None:\n",
    "            add_to.metadata.add_dictionary({'Preprocessing': {'Masks': {'Navigation': {self.phase: navigation_mask}}}})\n",
    "        return navigation_mask\n",
    "\n",
    "class PhaseMap(object):\n",
    "\n",
    "    def __init__(self, phases):\n",
    "        \"\"\"\n",
    "        Create a phase map from a list of PRIORITIZED phases. The first phase will have the highest priority, and the last will have the lowest.\n",
    "        \"\"\"\n",
    "        type_test = [isinstance(phase, DecomposedPhase) for phase in phases]\n",
    "        if not all(type_test):\n",
    "            raise TypeError(f'Only DecompositionPhase objects are allowed to be specified in a PhaseMap: {type_test}')\n",
    "        navigation_shapes = [phase.decomposition.loadings.axes_manager.signal_shape for phase in phases]\n",
    "        if not all([navigation_shape == navigation_shapes[0] for navigation_shape in navigation_shapes]):\n",
    "            raise ValueError(f'Navigation shapes in supplied phases does not match: {navigation_shapes}')\n",
    "\n",
    "        self.phases = phases\n",
    "        self.nx, self.ny = navigation_shapes[0]\n",
    "\n",
    "    def __repr__(self):\n",
    "        return f'{self.__class__.__name__}({self.phases!r})'\n",
    "\n",
    "    def __str__(self):\n",
    "        return f'{self.__class__.__name__} ({self.nx}x{self.ny}) of {self.phases!s}'\n",
    "\n",
    "    def __iter__(self):\n",
    "        for phase in self.phases:\n",
    "            yield phase\n",
    "\n",
    "    @property\n",
    "    def data(self):\n",
    "        phase_map = np.zeros((self.nx, self.ny), dtype=int)\n",
    "        for phase in self.phases[::-1]:\n",
    "            phase_map = np.where(phase.data>0, phase.data, phase_map)\n",
    "        return phase_map\n",
    "\n",
    "\n",
    "    def plot_phase_map(self, axis_size = 6, dpi=150, *args, **kwargs):\n",
    "        fig, ax = plt.subplots(nrows=1, ncols=1, subplot_kw={'xticks': [], 'yticks': []}, figsize=(axis_size, axis_size), dpi=dpi, frameon=False)\n",
    "        ax.imshow(self.data, *args, **kwargs)\n",
    "        plt.tight_layout()\n",
    "\n",
    "    def as_signal(self):\n",
    "        s = hs.signals.Signal2D(self.data)\n",
    "        s.metadata.add_dictionary({'Phases': {phase.phase: phase.as_signal() for phase in self}})\n",
    "        s.metadata.General.title = r'Phase map'\n",
    "        return s\n",
    "\n",
    "    def save(self, filename, *args, **kwargs):\n",
    "        self.as_signal().save(filename, *args, **kwargs)\n",
    "\n",
    "    def make_RGBA(self, normalize_colors = True, normalize_alpha=True):\n",
    "        rgba_loadings = np.zeros(self.phases[0].decomposition.loadings.axes_manager.signal_shape + (4,))\n",
    "        rgba_factors = np.zeros(self.phases[0].decomposition.factors.axes_manager.signal_shape + (4,))\n",
    "        for i, phase in enumerate(self.phases):\n",
    "\n",
    "            factor = np.zeros(phase.decomposition.factors.axes_manager.signal_shape)\n",
    "            loading = np.zeros(phase.decomposition.loadings.axes_manager.signal_shape)\n",
    "            for c in phase.component_thresholds:\n",
    "                factor += phase.decomposition.factors.inav[c].data\n",
    "                loading += np.nan_to_num(phase.decomposition.loadings.inav[c].data, copy=True, nan=0)\n",
    "\n",
    "            if normalize_colors:\n",
    "                factor = factor/np.nanmax(factor)\n",
    "                loading = loading/np.nanmax(loading)\n",
    "\n",
    "            rgba_loadings[:, :, i] = loading\n",
    "            rgba_factors[:, :, i] = factor\n",
    "\n",
    "            rgba_loadings[:, :, -1] += loading\n",
    "            rgba_factors[:, :, -1] += factor\n",
    "\n",
    "        if normalize_alpha:\n",
    "            rgba_loadings[:, :, -1] /= np.nanmax(rgba_loadings[:, :, -1])\n",
    "            rgba_factors[:, :, -1] /= np.nanmax(rgba_factors[:, :, -1])\n",
    "\n",
    "        figure = plt.figure(figsize=(6, 6), frameon=True)\n",
    "        ax = figure.add_axes([0, 0, 1, 1], xticks=[], yticks=[], frameon=False)\n",
    "        ax.imshow(rgba_loadings)\n",
    "        subax = figure.add_axes([0.75, 0.75, 0.25, 0.25], xticks=[], yticks=[], frameon=True)\n",
    "        subax.imshow(rgba_factors)\n",
    "        #figure.savefig(f'{datapath.stem}_decomposition_RGBA.png')"
   ],
   "metadata": {
    "collapsed": false,
    "pycharm": {
     "name": "#%%\n",
     "is_executing": true
    }
   }
  },
  {
   "cell_type": "markdown",
   "source": [
    "### Assist functions"
   ],
   "metadata": {
    "collapsed": false,
    "pycharm": {
     "name": "#%% md\n"
    }
   }
  },
  {
   "cell_type": "code",
   "execution_count": null,
   "outputs": [],
   "source": [
    "def load_decompositions(path):\n",
    "    p = Path(path)\n",
    "    decompositions = []\n",
    "    for factor in p.glob(r'*_factors.hspy'):\n",
    "        decompositions.append(Decomposition(factor.with_name(factor.name.replace('_factors', ''))))\n",
    "\n",
    "    return sorted(decompositions, key=lambda decomp: decomp.output_dimension)\n",
    "\n",
    "def read_logfile(path):\n",
    "    p = Path(path)\n",
    "    return p.read_text()"
   ],
   "metadata": {
    "collapsed": false,
    "pycharm": {
     "name": "#%%\n",
     "is_executing": true
    }
   }
  },
  {
   "cell_type": "markdown",
   "source": [
    "## SVD"
   ],
   "metadata": {
    "collapsed": false,
    "pycharm": {
     "name": "#%% md\n"
    }
   }
  },
  {
   "cell_type": "code",
   "execution_count": null,
   "outputs": [],
   "source": [
    "datapath = Path(r'C:\\Users\\emilc\\OneDrive - NTNU\\NORTEM\\Data\\2021_10_06_2xxx_24h_250C\\Preprocessed_data\\SPED_600x600x12_10x10_4p63x4p63_1deg_100Hz_CL12cm_NBD_alpha5_spot1p3_preprocessed.hspy')\n",
    "signal = hs.load(datapath, lazy=True)"
   ],
   "metadata": {
    "collapsed": false,
    "pycharm": {
     "name": "#%%\n"
    }
   }
  },
  {
   "cell_type": "code",
   "execution_count": null,
   "outputs": [],
   "source": [
    "signal.metadata"
   ],
   "metadata": {
    "collapsed": false,
    "pycharm": {
     "name": "#%%\n"
    }
   }
  },
  {
   "cell_type": "code",
   "execution_count": 6,
   "id": "118a02f8-2611-4cf5-a224-a4a15c3d5654",
   "metadata": {
    "pycharm": {
     "name": "#%%\n"
    }
   },
   "outputs": [
    {
     "name": "stdout",
     "output_type": "stream",
     "text": [
      "5\n"
     ]
    }
   ],
   "source": [
    "signal.plot_explained_variance_ratio()\n",
    "print(f'{int(signal.estimate_elbow_position())}')"
   ]
  },
  {
   "cell_type": "markdown",
   "source": [
    "## NMF"
   ],
   "metadata": {
    "collapsed": false,
    "pycharm": {
     "name": "#%% md\n"
    }
   }
  },
  {
   "cell_type": "markdown",
   "source": [
    "### 1st iteration"
   ],
   "metadata": {
    "collapsed": false,
    "pycharm": {
     "name": "#%% md\n"
    }
   }
  },
  {
   "cell_type": "code",
   "execution_count": null,
   "outputs": [],
   "source": [
    "decomposition_1 = Decomposition(r'nndsvd/12980451/SPED_600x600x12_10x10_4p63x4p63_1deg_100Hz_CL12cm_NBD_alpha5_spot1p3_preprocessed_NMF_5.hspy')"
   ],
   "metadata": {
    "collapsed": false,
    "pycharm": {
     "name": "#%%\n"
    }
   }
  },
  {
   "cell_type": "markdown",
   "source": [
    "Estimate thresholds"
   ],
   "metadata": {
    "collapsed": false,
    "pycharm": {
     "name": "#%% md\n"
    }
   }
  },
  {
   "cell_type": "code",
   "execution_count": null,
   "outputs": [],
   "source": [
    "[base_decomposition.estimate_threshold(component) for component in range(base_decomposition.output_dimension)]"
   ],
   "metadata": {
    "collapsed": false,
    "pycharm": {
     "name": "#%%\n"
    }
   }
  },
  {
   "cell_type": "markdown",
   "source": [
    "Make phasemaps"
   ],
   "metadata": {
    "collapsed": false,
    "pycharm": {
     "name": "#%% md\n"
    }
   }
  },
  {
   "cell_type": "code",
   "execution_count": null,
   "outputs": [],
   "source": [
    "T1 = DecomposedPhase('T1', base_decomposition, [1, 4], value=3)\n",
    "thetap_100 = DecomposedPhase('theta_100', base_decomposition, [2, 3], value=1)\n",
    "\n",
    "T1_thresholds = T1.estimate_thresholds(method=threshold_triangle, update=True)\n",
    "thethap_100_thresholds = thetap_100.estimate_thresholds(method=threshold_triangle, update=True)\n",
    "\n",
    "print(T1.component_thresholds)\n",
    "print(thetap_100.component_thresholds)\n",
    "\n",
    "p = PhaseMap([thetap_100, T1])\n",
    "p.plot_phase_map(cmap=cmap, vmin=0, vmax=4)"
   ],
   "metadata": {
    "collapsed": false,
    "pycharm": {
     "name": "#%%\n"
    }
   }
  },
  {
   "cell_type": "markdown",
   "source": [
    "Tune threshold values"
   ],
   "metadata": {
    "collapsed": false,
    "pycharm": {
     "name": "#%% md\n"
    }
   }
  },
  {
   "cell_type": "code",
   "execution_count": null,
   "outputs": [],
   "source": [
    "[T1.update_component(component, 1.04*T1.component_thresholds[component]) for component in T1.component_thresholds]\n",
    "pp = PhaseMap([thetap_100, T1])\n",
    "pp.plot_phase_map(cmap=cmap, vmin=0, vmax=4)"
   ],
   "metadata": {
    "collapsed": false,
    "pycharm": {
     "name": "#%%\n"
    }
   }
  },
  {
   "cell_type": "markdown",
   "source": [
    "Make exclusion mask"
   ],
   "metadata": {
    "collapsed": false,
    "pycharm": {
     "name": "#%% md\n"
    }
   }
  },
  {
   "cell_type": "code",
   "execution_count": null,
   "outputs": [],
   "source": [
    "signalpath = Path(r'Y:\\Input\\SPED\\PhaseMappingPaper\\New\\SPED_600x600x12_10x10_4p63x4p63_1deg_100Hz_CL12cm_NBD_alpha5_spot1p3_preprocessed.hspy')\n",
    "signal = hs.load(signalpath, lazy=True, mode='a')\n",
    "\n",
    "T1.make_mask(add_to=signal)\n",
    "thetap_100.make_mask(add_to=signal)\n",
    "\n",
    "print(signal.metadata)\n",
    "signal.save(signalpath, write_dataset=False, close_file=True)\n",
    "#signal.close_file()"
   ],
   "metadata": {
    "collapsed": false,
    "pycharm": {
     "name": "#%%\n"
    }
   }
  },
  {
   "cell_type": "markdown",
   "source": [
    "### 2nd iteration"
   ],
   "metadata": {
    "collapsed": false,
    "pycharm": {
     "name": "#%% md\n"
    }
   }
  },
  {
   "cell_type": "code",
   "execution_count": null,
   "outputs": [],
   "source": [
    "decompositions = load_decompositions(r'nndsvd/navmasked/13051293/')"
   ],
   "metadata": {
    "collapsed": false,
    "pycharm": {
     "name": "#%%\n"
    }
   }
  },
  {
   "cell_type": "code",
   "execution_count": null,
   "outputs": [],
   "source": [
    "decompositions[4].plot()"
   ],
   "metadata": {
    "collapsed": false,
    "pycharm": {
     "name": "#%%\n"
    }
   }
  },
  {
   "cell_type": "code",
   "execution_count": null,
   "outputs": [],
   "source": [
    "decomposition_2 = decompositions[4]\n",
    "print(decomposition_2)"
   ],
   "metadata": {
    "collapsed": false,
    "pycharm": {
     "name": "#%%\n"
    }
   }
  },
  {
   "cell_type": "code",
   "execution_count": null,
   "outputs": [],
   "source": [
    "thetap_001 = DecomposedPhase('theta_001', decomposition_2, [4], value=2)"
   ],
   "metadata": {
    "collapsed": false,
    "pycharm": {
     "name": "#%%\n"
    }
   }
  },
  {
   "cell_type": "code",
   "execution_count": null,
   "outputs": [],
   "source": [
    "thetap_001.estimate_thresholds()"
   ],
   "metadata": {
    "collapsed": false,
    "pycharm": {
     "name": "#%%\n"
    }
   }
  },
  {
   "cell_type": "code",
   "execution_count": null,
   "outputs": [],
   "source": [
    "thetap_001.estimate_thresholds(method=threshold_isodata, update=True)"
   ],
   "metadata": {
    "collapsed": false,
    "pycharm": {
     "name": "#%%\n"
    }
   }
  },
  {
   "cell_type": "code",
   "execution_count": null,
   "outputs": [],
   "source": [
    "thetap_001.plot()"
   ],
   "metadata": {
    "collapsed": false,
    "pycharm": {
     "name": "#%%\n"
    }
   }
  },
  {
   "cell_type": "markdown",
   "source": [
    "## Make Phase map"
   ],
   "metadata": {
    "collapsed": false,
    "pycharm": {
     "name": "#%% md\n"
    }
   }
  },
  {
   "cell_type": "code",
   "execution_count": null,
   "outputs": [],
   "source": [
    "phasemap = PhaseMap([thetap_100, T1, thetap_001])\n",
    "phasemap.plot_phase_map(cmap=cmap, vmin=0, vmax=4)\n",
    "phasemap.make_RGBA(normalize_colors=True, normalize_alpha=True)\n",
    "phasemap.save(r'NMF_phasemap.hspy')"
   ],
   "metadata": {
    "collapsed": false,
    "pycharm": {
     "name": "#%%\n"
    }
   }
  },
  {
   "cell_type": "markdown",
   "source": [
    "## Make plots"
   ],
   "metadata": {
    "collapsed": false,
    "pycharm": {
     "name": "#%% md\n"
    }
   }
  },
  {
   "cell_type": "code",
   "execution_count": null,
   "outputs": [],
   "source": [
    "for phase_name, phase in s.metadata.Phases:\n",
    "    factors = phase.metadata.Phase.decomposition.factors\n",
    "    loadings = phase.metadata.Phase.decomposition.loadings\n",
    "    datapath = Path(phase.metadata.Phase.decomposition.path)\n",
    "\n",
    "    axis_size = 6 #inches\n",
    "    dpi=150\n",
    "    cmap = plt.colormaps.get('Greys')\n",
    "    cmap.set_bad('lightblue')\n",
    "\n",
    "    fig = plt.figure(figsize=(3, 3), frameon=False, dpi=dpi)\n",
    "    ax = fig.add_axes((0, 0, 1, 1), xticks=[], yticks=[], frameon=False)\n",
    "    ax.imshow(phase.data, cmap=\"gray_r\")\n",
    "    fig.savefig(f\"{phase.metadata.Phase.name}_phaseimage.png\", dpi=dpi)\n",
    "\n",
    "    for component_key, threshold in phase.metadata.Phase.component_thresholds:\n",
    "        component = int(component_key.replace(\"Number_\", \"\"))\n",
    "        print(f\"{phase_name}: {component}\")\n",
    "        fig, axes = plt.subplots(nrows=1, ncols=2, subplot_kw={'xticks': [], 'yticks': []}, figsize=(axis_size*2, axis_size), dpi=dpi)\n",
    "        axes[0].imshow(loadings.inav[component].data,cmap=cmap)\n",
    "        axes[1].imshow(factors.inav[component].data, norm=SymLogNorm(0.03),cmap='viridis_r')\n",
    "        axes[0].annotate(f'Loading {component}', (0.02, 0.98), xycoords='axes fraction', color='w', ha='left', va='top', bbox=dict(facecolor='k', alpha=0.5))\n",
    "        axes[1].annotate(f'Factor {component}', (0.02, 0.98), xycoords='axes fraction', color='w', ha='left', va='top', bbox=dict(facecolor='k', alpha=0.5))\n",
    "        plt.tight_layout()\n",
    "        fig.savefig(f'{phase.metadata.Phase.name}_{component}.png', dpi=dpi)\n",
    "        plt.close('all')\n",
    "\n",
    "        fig = plt.figure(figsize=(3, 3), frameon=False, dpi=dpi)\n",
    "        ax = fig.add_axes((0, 0, 1, 1), xticks=[], yticks=[], frameon=False)\n",
    "        ax.imshow(loadings.inav[component].data, cmap=cmap)\n",
    "        fig.savefig(f'{phase.metadata.Phase.name}_loading_{component:03d}.png', dpi=dpi)\n",
    "\n",
    "\n",
    "        factor_image = factors.inav[component].deepcopy()\n",
    "        factor_image = factor_image.data\n",
    "        #if False:\n",
    "        #    factor_image[mask] = np.nan\n",
    "        fig = plt.figure(figsize=(3, 3), frameon=False, dpi=dpi)\n",
    "        ax = fig.add_axes((0, 0, 1, 1), xticks=[], yticks=[], frameon=False)\n",
    "        ax.imshow(factor_image, cmap=cmap)\n",
    "        fig.savefig(f'{phase.metadata.Phase.name}_factor_{component:03d}.png', dpi=dpi)"
   ],
   "metadata": {
    "collapsed": false,
    "pycharm": {
     "name": "#%%\n"
    }
   }
  },
  {
   "cell_type": "markdown",
   "source": [
    "## Compare"
   ],
   "metadata": {
    "collapsed": false,
    "pycharm": {
     "name": "#%% md\n"
    }
   }
  },
  {
   "cell_type": "code",
   "execution_count": 66,
   "id": "049aaffb-9a18-4ff3-afcc-56a64392d6d6",
   "metadata": {
    "pycharm": {
     "name": "#%%\n"
    }
   },
   "outputs": [
    {
     "name": "stderr",
     "output_type": "stream",
     "text": [
      "C:\\Users\\emilc\\Miniconda3\\envs\\pyxem0.14.1\\lib\\site-packages\\hyperspy\\misc\\utils.py:471: VisibleDeprecationWarning: Use of the `binned` attribute in metadata is going to be deprecated in v2.0. Set the `axis.is_binned` attribute instead. \n",
      "  warnings.warn(\n",
      "C:\\Users\\emilc\\Miniconda3\\envs\\pyxem0.14.1\\lib\\site-packages\\hyperspy\\io.py:560: VisibleDeprecationWarning: Loading old file version. The binned attribute has been moved from metadata.Signal to axis.is_binned. Setting this attribute for all signal axes instead.\n",
      "  warnings.warn('Loading old file version. The binned attribute '\n"
     ]
    }
   ],
   "source": [
    "gt = hs.load(r'C:\\Users\\emilc\\OneDrive - NTNU\\NORTEM\\Data\\2021_10_06_2xxx_24h_250C\\Ground_truth_all.hdf5')\n",
    "gt.plot(cmap=cmap)\n",
    "\n",
    "pm = hs.load(r'NMF_phasemap.hspy')\n",
    "pm.plot(cmap=cmap)\n",
    "\n",
    "difference = gt - pm\n",
    "difference = np.abs(difference.data) > 0\n",
    "\n",
    "percentage_error = np.count_nonzero(difference) / np.multiply(*gt.axes_manager.signal_shape)\n",
    "print(f'Percentage error of NMF phase map: {percentage_error:.0%}\\nSuccessrate: {1-percentage_error:.0%}')\n",
    "\n",
    "percentage_error = np.count_nonzero(difference[gt.data>0]) / np.count_nonzero(gt.data)\n",
    "print(f'Percentage error of NMF phase map (disregarding ground_truth Al pixels): {percentage_error:.0%} (Successrate: {1-percentage_error:.0%})')\n",
    "\n",
    "fig = plt.figure(figsize=(ax_size*2, ax_size*2), frameon=False)\n",
    "ax = fig.add_axes([0, 0, 1, 1], xticks=[], yticks=[], frameon=False)\n",
    "ax.imshow(difference, cmap='Greys_r')\n",
    "fig.savefig('GT_error.png')\n",
    "error_map_signal = hs.signals.Signal2D(difference)\n",
    "error_map_signal.save('GT_error.hspy')"
   ]
  }
 ],
 "metadata": {
  "kernelspec": {
   "name": "python3",
   "language": "python",
   "display_name": "Python 3 (ipykernel)"
  },
  "language_info": {
   "codemirror_mode": {
    "name": "ipython",
    "version": 3
   },
   "file_extension": ".py",
   "mimetype": "text/x-python",
   "name": "python",
   "nbconvert_exporter": "python",
   "pygments_lexer": "ipython3",
   "version": "3.10.4"
  }
 },
 "nbformat": 4,
 "nbformat_minor": 5
}