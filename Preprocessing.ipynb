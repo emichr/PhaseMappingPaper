{
 "cells": [
  {
   "cell_type": "code",
   "execution_count": 2,
   "id": "8d30c7dd-a41d-4620-b92b-09b149786eca",
   "metadata": {},
   "outputs": [],
   "source": [
    "%matplotlib qt\n",
    "import hyperspy.api as hs\n",
    "import pyxem as pxm\n",
    "import numpy as np\n",
    "import matplotlib.pyplot as plt\n",
    "\n",
    "from skimage.feature import blob_log\n",
    "from pathlib import Path\n",
    "from diffsims.utils.sim_utils import get_electron_wavelength"
   ]
  },
  {
   "cell_type": "markdown",
   "id": "5d6404e8-4994-44e8-af0e-d15c02dc11dc",
   "metadata": {},
   "source": [
    "# Dataset A"
   ]
  },
  {
   "cell_type": "markdown",
   "id": "e139db74-07c2-4467-8428-f97e0223563b",
   "metadata": {},
   "source": [
    "## Load dataset\n",
    "Load the dataset, slice it to ROI and set the diffraction calibration"
   ]
  },
  {
   "cell_type": "code",
   "execution_count": 2,
   "id": "5cca73da-b621-4da6-ac18-643627bcb0fe",
   "metadata": {},
   "outputs": [
    {
     "name": "stderr",
     "output_type": "stream",
     "text": [
      "ERROR:hyperspy.io:If this file format is supported, please report this error to the HyperSpy developers.\n"
     ]
    },
    {
     "ename": "OSError",
     "evalue": "[Errno 22] Unable to open file (file read failed: time = Mon Feb  6 18:47:54 2023\n, filename = 'C:\\Users\\emilc\\OneDrive - NTNU\\NORTEM\\Data\\2021_10_06_2xxx_24h_250C\\Site2\\SPED_600x600x12_10x10_4p63x4p63_1deg_100Hz_CL12cm_NBD_alpha5_spot1p3.hspy', file descriptor = 4, errno = 22, error message = 'Invalid argument', buf = 0000000BEBBE9B60, total read size = 8, bytes this sub-read = 8, bytes actually read = 18446744073709551615, offset = 0)",
     "output_type": "error",
     "traceback": [
      "\u001b[1;31m---------------------------------------------------------------------------\u001b[0m",
      "\u001b[1;31mOSError\u001b[0m                                   Traceback (most recent call last)",
      "Cell \u001b[1;32mIn [2], line 3\u001b[0m\n\u001b[0;32m      1\u001b[0m filename \u001b[38;5;241m=\u001b[39m \u001b[38;5;124mr\u001b[39m\u001b[38;5;124m'\u001b[39m\u001b[38;5;124mC:\u001b[39m\u001b[38;5;124m\\\u001b[39m\u001b[38;5;124mUsers\u001b[39m\u001b[38;5;124m\\\u001b[39m\u001b[38;5;124memilc\u001b[39m\u001b[38;5;124m\\\u001b[39m\u001b[38;5;124mOneDrive - NTNU\u001b[39m\u001b[38;5;124m\\\u001b[39m\u001b[38;5;124mNORTEM\u001b[39m\u001b[38;5;124m\\\u001b[39m\u001b[38;5;124mData\u001b[39m\u001b[38;5;124m\\\u001b[39m\u001b[38;5;124m2021_10_06_2xxx_24h_250C\u001b[39m\u001b[38;5;124m\\\u001b[39m\u001b[38;5;124mSite2\u001b[39m\u001b[38;5;124m\\\u001b[39m\u001b[38;5;124mSPED_600x600x12_10x10_4p63x4p63_1deg_100Hz_CL12cm_NBD_alpha5_spot1p3.hspy\u001b[39m\u001b[38;5;124m'\u001b[39m\n\u001b[1;32m----> 3\u001b[0m signal \u001b[38;5;241m=\u001b[39m \u001b[43mhs\u001b[49m\u001b[38;5;241;43m.\u001b[39;49m\u001b[43mload\u001b[49m\u001b[43m(\u001b[49m\u001b[43mfilename\u001b[49m\u001b[43m,\u001b[49m\u001b[43m \u001b[49m\u001b[43mlazy\u001b[49m\u001b[38;5;241;43m=\u001b[39;49m\u001b[38;5;28;43;01mTrue\u001b[39;49;00m\u001b[43m)\u001b[49m\u001b[38;5;241m.\u001b[39minav[\u001b[38;5;241m0\u001b[39m:\u001b[38;5;241m512\u001b[39m, \u001b[38;5;241m0\u001b[39m:\u001b[38;5;241m512\u001b[39m]\n",
      "File \u001b[1;32m~\\Miniconda3\\envs\\pyxem0.14.2\\lib\\site-packages\\hyperspy\\io.py:466\u001b[0m, in \u001b[0;36mload\u001b[1;34m(filenames, signal_type, stack, stack_axis, new_axis_name, lazy, convert_units, escape_square_brackets, stack_metadata, load_original_metadata, show_progressbar, **kwds)\u001b[0m\n\u001b[0;32m    463\u001b[0m         objects\u001b[38;5;241m.\u001b[39mappend(signal)\n\u001b[0;32m    464\u001b[0m \u001b[38;5;28;01melse\u001b[39;00m:\n\u001b[0;32m    465\u001b[0m     \u001b[38;5;66;03m# No stack, so simply we load all signals in all files separately\u001b[39;00m\n\u001b[1;32m--> 466\u001b[0m     objects \u001b[38;5;241m=\u001b[39m [load_single_file(filename, lazy\u001b[38;5;241m=\u001b[39mlazy, \u001b[38;5;241m*\u001b[39m\u001b[38;5;241m*\u001b[39mkwds)\n\u001b[0;32m    467\u001b[0m                \u001b[38;5;28;01mfor\u001b[39;00m filename \u001b[38;5;129;01min\u001b[39;00m filenames]\n\u001b[0;32m    469\u001b[0m \u001b[38;5;28;01mif\u001b[39;00m \u001b[38;5;28mlen\u001b[39m(objects) \u001b[38;5;241m==\u001b[39m \u001b[38;5;241m1\u001b[39m:\n\u001b[0;32m    470\u001b[0m     objects \u001b[38;5;241m=\u001b[39m objects[\u001b[38;5;241m0\u001b[39m]\n",
      "File \u001b[1;32m~\\Miniconda3\\envs\\pyxem0.14.2\\lib\\site-packages\\hyperspy\\io.py:466\u001b[0m, in \u001b[0;36m<listcomp>\u001b[1;34m(.0)\u001b[0m\n\u001b[0;32m    463\u001b[0m         objects\u001b[38;5;241m.\u001b[39mappend(signal)\n\u001b[0;32m    464\u001b[0m \u001b[38;5;28;01melse\u001b[39;00m:\n\u001b[0;32m    465\u001b[0m     \u001b[38;5;66;03m# No stack, so simply we load all signals in all files separately\u001b[39;00m\n\u001b[1;32m--> 466\u001b[0m     objects \u001b[38;5;241m=\u001b[39m [load_single_file(filename, lazy\u001b[38;5;241m=\u001b[39mlazy, \u001b[38;5;241m*\u001b[39m\u001b[38;5;241m*\u001b[39mkwds)\n\u001b[0;32m    467\u001b[0m                \u001b[38;5;28;01mfor\u001b[39;00m filename \u001b[38;5;129;01min\u001b[39;00m filenames]\n\u001b[0;32m    469\u001b[0m \u001b[38;5;28;01mif\u001b[39;00m \u001b[38;5;28mlen\u001b[39m(objects) \u001b[38;5;241m==\u001b[39m \u001b[38;5;241m1\u001b[39m:\n\u001b[0;32m    470\u001b[0m     objects \u001b[38;5;241m=\u001b[39m objects[\u001b[38;5;241m0\u001b[39m]\n",
      "File \u001b[1;32m~\\Miniconda3\\envs\\pyxem0.14.2\\lib\\site-packages\\hyperspy\\io.py:525\u001b[0m, in \u001b[0;36mload_single_file\u001b[1;34m(filename, **kwds)\u001b[0m\n\u001b[0;32m    518\u001b[0m     \u001b[38;5;28;01mraise\u001b[39;00m \u001b[38;5;167;01mValueError\u001b[39;00m(\n\u001b[0;32m    519\u001b[0m         \u001b[38;5;124m\"\u001b[39m\u001b[38;5;124m`reader` should be one of None, str, \u001b[39m\u001b[38;5;124m\"\u001b[39m\n\u001b[0;32m    520\u001b[0m         \u001b[38;5;124m\"\u001b[39m\u001b[38;5;124mor a custom file reader object\u001b[39m\u001b[38;5;124m\"\u001b[39m\n\u001b[0;32m    521\u001b[0m     )\n\u001b[0;32m    523\u001b[0m \u001b[38;5;28;01mtry\u001b[39;00m:\n\u001b[0;32m    524\u001b[0m     \u001b[38;5;66;03m# Try and load the file\u001b[39;00m\n\u001b[1;32m--> 525\u001b[0m     \u001b[38;5;28;01mreturn\u001b[39;00m load_with_reader(filename\u001b[38;5;241m=\u001b[39mfilename, reader\u001b[38;5;241m=\u001b[39mreader, \u001b[38;5;241m*\u001b[39m\u001b[38;5;241m*\u001b[39mkwds)\n\u001b[0;32m    527\u001b[0m \u001b[38;5;28;01mexcept\u001b[39;00m \u001b[38;5;167;01mBaseException\u001b[39;00m:\n\u001b[0;32m    528\u001b[0m     _logger\u001b[38;5;241m.\u001b[39merror(\n\u001b[0;32m    529\u001b[0m         \u001b[38;5;124m\"\u001b[39m\u001b[38;5;124mIf this file format is supported, please \u001b[39m\u001b[38;5;124m\"\u001b[39m\n\u001b[0;32m    530\u001b[0m         \u001b[38;5;124m\"\u001b[39m\u001b[38;5;124mreport this error to the HyperSpy developers.\u001b[39m\u001b[38;5;124m\"\u001b[39m\n\u001b[0;32m    531\u001b[0m     )\n",
      "File \u001b[1;32m~\\Miniconda3\\envs\\pyxem0.14.2\\lib\\site-packages\\hyperspy\\io.py:545\u001b[0m, in \u001b[0;36mload_with_reader\u001b[1;34m(filename, reader, signal_type, convert_units, load_original_metadata, **kwds)\u001b[0m\n\u001b[0;32m    543\u001b[0m \u001b[38;5;124;03m\"\"\"Load a supported file with a given reader.\"\"\"\u001b[39;00m\n\u001b[0;32m    544\u001b[0m lazy \u001b[38;5;241m=\u001b[39m kwds\u001b[38;5;241m.\u001b[39mget(\u001b[38;5;124m'\u001b[39m\u001b[38;5;124mlazy\u001b[39m\u001b[38;5;124m'\u001b[39m, \u001b[38;5;28;01mFalse\u001b[39;00m)\n\u001b[1;32m--> 545\u001b[0m file_data_list \u001b[38;5;241m=\u001b[39m reader\u001b[38;5;241m.\u001b[39mfile_reader(filename, \u001b[38;5;241m*\u001b[39m\u001b[38;5;241m*\u001b[39mkwds)\n\u001b[0;32m    546\u001b[0m signal_list \u001b[38;5;241m=\u001b[39m []\n\u001b[0;32m    548\u001b[0m \u001b[38;5;28;01mfor\u001b[39;00m signal_dict \u001b[38;5;129;01min\u001b[39;00m file_data_list:\n",
      "File \u001b[1;32m~\\Miniconda3\\envs\\pyxem0.14.2\\lib\\site-packages\\hyperspy\\io_plugins\\hspy.py:172\u001b[0m, in \u001b[0;36mfile_reader\u001b[1;34m(filename, lazy, **kwds)\u001b[0m\n\u001b[0;32m    170\u001b[0m     \u001b[38;5;28;01mpass\u001b[39;00m\n\u001b[0;32m    171\u001b[0m mode \u001b[38;5;241m=\u001b[39m kwds\u001b[38;5;241m.\u001b[39mpop(\u001b[38;5;124m'\u001b[39m\u001b[38;5;124mmode\u001b[39m\u001b[38;5;124m'\u001b[39m, \u001b[38;5;124m'\u001b[39m\u001b[38;5;124mr\u001b[39m\u001b[38;5;124m'\u001b[39m)\n\u001b[1;32m--> 172\u001b[0m f \u001b[38;5;241m=\u001b[39m h5py\u001b[38;5;241m.\u001b[39mFile(filename, mode\u001b[38;5;241m=\u001b[39mmode, \u001b[38;5;241m*\u001b[39m\u001b[38;5;241m*\u001b[39mkwds)\n\u001b[0;32m    174\u001b[0m reader \u001b[38;5;241m=\u001b[39m HyperspyReader(f)\n\u001b[0;32m    175\u001b[0m exp_dict_list \u001b[38;5;241m=\u001b[39m reader\u001b[38;5;241m.\u001b[39mread(lazy\u001b[38;5;241m=\u001b[39mlazy)\n",
      "File \u001b[1;32m~\\Miniconda3\\envs\\pyxem0.14.2\\lib\\site-packages\\h5py\\_hl\\files.py:533\u001b[0m, in \u001b[0;36mFile.__init__\u001b[1;34m(self, name, mode, driver, libver, userblock_size, swmr, rdcc_nslots, rdcc_nbytes, rdcc_w0, track_order, fs_strategy, fs_persist, fs_threshold, fs_page_size, page_buf_size, min_meta_keep, min_raw_keep, locking, alignment_threshold, alignment_interval, **kwds)\u001b[0m\n\u001b[0;32m    525\u001b[0m     fapl \u001b[38;5;241m=\u001b[39m make_fapl(driver, libver, rdcc_nslots, rdcc_nbytes, rdcc_w0,\n\u001b[0;32m    526\u001b[0m                      locking, page_buf_size, min_meta_keep, min_raw_keep,\n\u001b[0;32m    527\u001b[0m                      alignment_threshold\u001b[38;5;241m=\u001b[39malignment_threshold,\n\u001b[0;32m    528\u001b[0m                      alignment_interval\u001b[38;5;241m=\u001b[39malignment_interval,\n\u001b[0;32m    529\u001b[0m                      \u001b[38;5;241m*\u001b[39m\u001b[38;5;241m*\u001b[39mkwds)\n\u001b[0;32m    530\u001b[0m     fcpl \u001b[38;5;241m=\u001b[39m make_fcpl(track_order\u001b[38;5;241m=\u001b[39mtrack_order, fs_strategy\u001b[38;5;241m=\u001b[39mfs_strategy,\n\u001b[0;32m    531\u001b[0m                      fs_persist\u001b[38;5;241m=\u001b[39mfs_persist, fs_threshold\u001b[38;5;241m=\u001b[39mfs_threshold,\n\u001b[0;32m    532\u001b[0m                      fs_page_size\u001b[38;5;241m=\u001b[39mfs_page_size)\n\u001b[1;32m--> 533\u001b[0m     fid \u001b[38;5;241m=\u001b[39m \u001b[43mmake_fid\u001b[49m\u001b[43m(\u001b[49m\u001b[43mname\u001b[49m\u001b[43m,\u001b[49m\u001b[43m \u001b[49m\u001b[43mmode\u001b[49m\u001b[43m,\u001b[49m\u001b[43m \u001b[49m\u001b[43muserblock_size\u001b[49m\u001b[43m,\u001b[49m\u001b[43m \u001b[49m\u001b[43mfapl\u001b[49m\u001b[43m,\u001b[49m\u001b[43m \u001b[49m\u001b[43mfcpl\u001b[49m\u001b[43m,\u001b[49m\u001b[43m \u001b[49m\u001b[43mswmr\u001b[49m\u001b[38;5;241;43m=\u001b[39;49m\u001b[43mswmr\u001b[49m\u001b[43m)\u001b[49m\n\u001b[0;32m    535\u001b[0m \u001b[38;5;28;01mif\u001b[39;00m \u001b[38;5;28misinstance\u001b[39m(libver, \u001b[38;5;28mtuple\u001b[39m):\n\u001b[0;32m    536\u001b[0m     \u001b[38;5;28mself\u001b[39m\u001b[38;5;241m.\u001b[39m_libver \u001b[38;5;241m=\u001b[39m libver\n",
      "File \u001b[1;32m~\\Miniconda3\\envs\\pyxem0.14.2\\lib\\site-packages\\h5py\\_hl\\files.py:226\u001b[0m, in \u001b[0;36mmake_fid\u001b[1;34m(name, mode, userblock_size, fapl, fcpl, swmr)\u001b[0m\n\u001b[0;32m    224\u001b[0m     \u001b[38;5;28;01mif\u001b[39;00m swmr \u001b[38;5;129;01mand\u001b[39;00m swmr_support:\n\u001b[0;32m    225\u001b[0m         flags \u001b[38;5;241m|\u001b[39m\u001b[38;5;241m=\u001b[39m h5f\u001b[38;5;241m.\u001b[39mACC_SWMR_READ\n\u001b[1;32m--> 226\u001b[0m     fid \u001b[38;5;241m=\u001b[39m \u001b[43mh5f\u001b[49m\u001b[38;5;241;43m.\u001b[39;49m\u001b[43mopen\u001b[49m\u001b[43m(\u001b[49m\u001b[43mname\u001b[49m\u001b[43m,\u001b[49m\u001b[43m \u001b[49m\u001b[43mflags\u001b[49m\u001b[43m,\u001b[49m\u001b[43m \u001b[49m\u001b[43mfapl\u001b[49m\u001b[38;5;241;43m=\u001b[39;49m\u001b[43mfapl\u001b[49m\u001b[43m)\u001b[49m\n\u001b[0;32m    227\u001b[0m \u001b[38;5;28;01melif\u001b[39;00m mode \u001b[38;5;241m==\u001b[39m \u001b[38;5;124m'\u001b[39m\u001b[38;5;124mr+\u001b[39m\u001b[38;5;124m'\u001b[39m:\n\u001b[0;32m    228\u001b[0m     fid \u001b[38;5;241m=\u001b[39m h5f\u001b[38;5;241m.\u001b[39mopen(name, h5f\u001b[38;5;241m.\u001b[39mACC_RDWR, fapl\u001b[38;5;241m=\u001b[39mfapl)\n",
      "File \u001b[1;32mh5py\\_objects.pyx:54\u001b[0m, in \u001b[0;36mh5py._objects.with_phil.wrapper\u001b[1;34m()\u001b[0m\n",
      "File \u001b[1;32mh5py\\_objects.pyx:55\u001b[0m, in \u001b[0;36mh5py._objects.with_phil.wrapper\u001b[1;34m()\u001b[0m\n",
      "File \u001b[1;32mh5py\\h5f.pyx:106\u001b[0m, in \u001b[0;36mh5py.h5f.open\u001b[1;34m()\u001b[0m\n",
      "\u001b[1;31mOSError\u001b[0m: [Errno 22] Unable to open file (file read failed: time = Mon Feb  6 18:47:54 2023\n, filename = 'C:\\Users\\emilc\\OneDrive - NTNU\\NORTEM\\Data\\2021_10_06_2xxx_24h_250C\\Site2\\SPED_600x600x12_10x10_4p63x4p63_1deg_100Hz_CL12cm_NBD_alpha5_spot1p3.hspy', file descriptor = 4, errno = 22, error message = 'Invalid argument', buf = 0000000BEBBE9B60, total read size = 8, bytes this sub-read = 8, bytes actually read = 18446744073709551615, offset = 0)"
     ]
    }
   ],
   "source": [
    "filename = Path(r'C:\\Users\\emilc\\OneDrive - NTNU\\NORTEM\\Data\\2021_10_06_2xxx_24h_250C\\Site2\\SPED_600x600x12_10x10_4p63x4p63_1deg_100Hz_CL12cm_NBD_alpha5_spot1p3.hspy')\n",
    "\n",
    "signal = hs.load(str(filename), lazy=True).inav[0:512, 0:512]\n",
    "signal.set_diffraction_calibration(0.00952) #in Å^-1"
   ]
  },
  {
   "cell_type": "markdown",
   "id": "f1a76eb8-0367-4dc8-ad05-67f33347b718",
   "metadata": {},
   "source": [
    "## \"Correct\" linear beam tilt/shift impurity \n",
    "(make the direct beam position more stable)"
   ]
  },
  {
   "cell_type": "code",
   "execution_count": null,
   "id": "d49647ab-d4e4-474b-bca8-59f278f6198b",
   "metadata": {},
   "outputs": [],
   "source": [
    "old_max = signal.max(axis=[0, 1])\n",
    "old_max.metadata.General.title = 'Before descan correction'\n",
    "com = signal.center_off_mass(mask=(127, 126, 12.5))\n",
    "beam_shift = pxm.signals.BeamShift(com.T)\n",
    "mask = hs.signals.Signal2D(np.zeros(signal.axes_manager.navigation_shape, dtype=bool).T).T\n",
    "mask.inav[20:-20, 20:-20] = True\n",
    "beam_shift.make_linear_plane(mask=mask)\n",
    "beam_shift = beam_shift - (signal.axes_manager.signal_shape[0] //2)\n",
    "signal.shift_diffraction(beam_shift.isig[0], beam_shift.isig[1])\n",
    "signal.metadata.add_dictionary({\n",
    "        'Preprocessing': {\n",
    "            'Centering': {\n",
    "                'COM': com,\n",
    "                'COM_mask': {\n",
    "                    'x': com_mask[0],\n",
    "                    'y': com_mask[1],\n",
    "                    'r': com_mask[2]\n",
    "                },\n",
    "                'Shifts': beam_shift,\n",
    "                'shift_estimate_mask': mask\n",
    "            }\n",
    "        }\n",
    "    })\n",
    "new_max = signal.max(axis=[0, 1])\n",
    "new_max.metadata.General.title = 'After descan correction'\n",
    "hs.plot.plot_images([old_max, new_max], colorbar='single', axes_decor='off')"
   ]
  },
  {
   "cell_type": "markdown",
   "id": "d2209861-17a1-43e3-84d1-f4f2005b899b",
   "metadata": {},
   "source": [
    "## Rebin data\n",
    "Bin the diffraction patterns by 2"
   ]
  },
  {
   "cell_type": "code",
   "execution_count": null,
   "id": "1a386d2c-c454-4373-8a07-d217dbf02e8b",
   "metadata": {},
   "outputs": [],
   "source": [
    "signal.rebin(scale=(1, 1, 2, 2), out=signal)"
   ]
  },
  {
   "cell_type": "markdown",
   "id": "59d2074c-4d75-4a32-a426-4184762517f5",
   "metadata": {},
   "source": [
    "## Find masks for reflections"
   ]
  },
  {
   "cell_type": "code",
   "execution_count": null,
   "id": "2661a951-2e71-4e63-90cd-ac4e119ac898",
   "metadata": {},
   "outputs": [],
   "source": [
    "image = signal.mean(axis=[0, 1]).deepcopy() #The image to search for blobs in\n",
    "a = 4.04\n",
    "minimum_r = 8 #The minimum radius to set for any mask\n",
    "cutoff_hkl = np.array([2, 2, 0]) #Make a mask with cutoff at a given HKL\n",
    "cuton_mrad = 4 #Make a mask that cutsoff everything up a certain mrad\n",
    "\n",
    "#Set up mask arrays\n",
    "nx, ny = image.axes_manager.signal_shape\n",
    "mask = np.zeros((nx, ny), dtype=bool)\n",
    "direct_beam_mask = np.zeros((nx, ny), dtype=bool)\n",
    "cutoff_mask = np.zeros((nx, ny), dtype=bool)\n",
    "\n",
    "#Setting cutoffs\n",
    "cutoff_g = np.sqrt(np.sum(cutoff_hkl**2 / a**2))\n",
    "cuton_k = cuton_mrad / 1000 / get_electron_wavelength(image.metadata.Acquisition_instrument.TEM.beam_energy/1000)\n",
    "print(f'Minimum scattering vector: {cuton_k} {image.axes_manager[0].units}\\nMaximum scattering vector: {cutoff_g} {image.axes_manager[0].units}')\n",
    "X, Y = np.meshgrid(image.axes_manager[0].axis, image.axes_manager[1].axis)\n",
    "#Set outer cutoff\n",
    "R = np.sqrt(X**2 + Y**2)\n",
    "cutoff_mask[R>=cutoff_g] = True\n",
    "#Set inner cutoff\n",
    "R = np.sqrt(X**2 + Y**2)\n",
    "direct_beam_mask[R<=cuton_k] = True\n",
    "\n",
    "#Mask reflections\n",
    "blob_kwargs = {\n",
    "    'min_sigma': 1,\n",
    "    'max_sigma': 15,\n",
    "    'num_sigma': 100,\n",
    "    'overlap': 0,\n",
    "    'threshold': 1E-18,\n",
    "}\n",
    "\n",
    "# Look for blobs (reflections)\n",
    "blobs = blob_log(image.data, **blob_kwargs)\n",
    "print(len(blobs))\n",
    "xs, ys = np.arange(0, nx), np.arange(0, ny)\n",
    "X, Y = np.meshgrid(xs, ys)\n",
    "for blob in blobs:\n",
    "    y, x, r = blob  # x and y axes are flipped in hyperspy compared to numpy\n",
    "    r = np.sqrt(2) * r  # Scale blob radius to appear more like a real radius\n",
    "    r = max([minimum_r, r])  # Make sure that the radius is at least the specified minimum radius\n",
    "    R = np.sqrt((X - x) ** 2 + (Y - y) ** 2)\n",
    "    mask[R < r] = True\n",
    "\n",
    "fig, axes = plt.subplots(nrows=1, ncols=6, sharex=True, sharey=True)\n",
    "axes[0].imshow(image.data)\n",
    "axes[1].imshow(mask)\n",
    "axes[2].imshow(direct_beam_mask)\n",
    "axes[3].imshow(cutoff_mask)\n",
    "axes[4].imshow((image.data * ~(mask + direct_beam_mask))**0.256)\n",
    "axes[5].imshow((image.data * ~cutoff_mask)**0.256)\n",
    "\n",
    "#Create signals\n",
    "direct_beam_mask = hs.signals.Signal2D(direct_beam_mask)\n",
    "direct_beam_mask.metadata.General.title = f'>{cuton_k} {signal.axes_manager[-1].units} mask'\n",
    "\n",
    "cutoff_mask = hs.signals.Signal2D(cutoff_mask)\n",
    "cutoff_mask.metadata.General.title = f'<{cutoff_g} {signal.axes_manager[-1].units} mask'\n",
    "\n",
    "mask = hs.signals.Signal2D(mask)\n",
    "mask.metadata.General.title = f'Reflection mask'\n",
    "mask.metadata.add_dictionary({'Preprocessing': {'blob_log': blob_kwargs,\n",
    "                                                'minimum_r': minimum_r}})\n",
    "\n",
    "for m in [direct_beam_mask, mask, cutoff_mask]:\n",
    "    for ax in range(image.axes_manager.signal_dimension):\n",
    "        m.axes_manager[ax].scale = image.axes_manager[ax].scale\n",
    "        m.axes_manager[ax].units = image.axes_manager[ax].units\n",
    "\n",
    "# Add metadata\n",
    "signal.metadata.add_dictionary({\n",
    "    'Preprocessing': {\n",
    "        'Masks': {\n",
    "            'Diffraction': {\n",
    "                'direct_beam': direct_beam_mask,\n",
    "                'reflections': mask,\n",
    "                'cutoff': cutoff_mask\n",
    "            }\n",
    "        }\n",
    "    }\n",
    "})"
   ]
  },
  {
   "cell_type": "markdown",
   "id": "39ae8017-1ec5-49a6-bfa2-9aa9f19fee28",
   "metadata": {},
   "source": [
    "## Normalize the data"
   ]
  },
  {
   "cell_type": "code",
   "execution_count": null,
   "id": "01915d25-1a86-4cfe-aa24-937a7e26510a",
   "metadata": {},
   "outputs": [],
   "source": [
    "signal.change_dtype('float32')\n",
    "signal = signal / signal.nanmax(axis=[0, 1, 2, 3])"
   ]
  },
  {
   "cell_type": "markdown",
   "id": "58602cfc-bdfb-474e-8d9c-2e0fc248e3da",
   "metadata": {},
   "source": [
    "## Save the preprocessed data"
   ]
  },
  {
   "cell_type": "code",
   "execution_count": null,
   "id": "ba50d0c3-3d6c-4915-89c0-3039cbdb9251",
   "metadata": {},
   "outputs": [],
   "source": [
    "signal.save(filename.with_stem(f'{filename.stem}_preprocessed'))"
   ]
  },
  {
   "cell_type": "markdown",
   "id": "2f21d08d-a9cb-4567-aa3f-66c28aef8f3b",
   "metadata": {},
   "source": [
    "# Dataset B"
   ]
  },
  {
   "cell_type": "markdown",
   "id": "a2b9514b-8bfa-4600-a471-0b78966489a9",
   "metadata": {},
   "source": [
    "## Load dataset\n",
    "Load the dataset, slice it to ROI and set the diffraction calibration"
   ]
  },
  {
   "cell_type": "code",
   "execution_count": null,
   "id": "5789ed2b-373a-4dcd-bd3c-33d34bf64507",
   "metadata": {},
   "outputs": [],
   "source": [
    "filename = Path(r'C:\\Users\\emilc\\OneDrive - NTNU\\NORTEM\\Data\\2021_10_06_2xxx_24h_250C\\Site2\\SPED_600x600x12_10x10_4p63x4p63_1deg_100Hz_CL12cm_NBD_alpha5_spot1p3.hspy')\n",
    "\n",
    "signal = hs.load(str(filename), lazy=True).inav[0:512, 0:512]\n",
    "signal.set_diffraction_calibration(0.00943) #in Å^-1"
   ]
  },
  {
   "cell_type": "markdown",
   "id": "5d5aefa3-62c5-4111-b86b-efdcea4fc197",
   "metadata": {},
   "source": [
    "## \"Correct\" linear beam tilt/shift impurity \n",
    "(make the direct beam position more stable)"
   ]
  },
  {
   "cell_type": "code",
   "execution_count": null,
   "id": "b52fc631-cdd6-43ca-a001-a8f5851bef2d",
   "metadata": {},
   "outputs": [],
   "source": [
    "old_max = signal.max(axis=[0, 1])\n",
    "old_max.metadata.General.title = 'Before descan correction'\n",
    "com = signal.center_off_mass(mask=(127, 126, 12.5))\n",
    "beam_shift = pxm.signals.BeamShift(com.T)\n",
    "mask = hs.signals.Signal2D(np.zeros(signal.axes_manager.navigation_shape, dtype=bool).T).T\n",
    "mask.inav[20:-20, 20:-20] = True\n",
    "beam_shift.make_linear_plane(mask=mask)\n",
    "beam_shift = beam_shift - (signal.axes_manager.signal_shape[0] //2)\n",
    "signal.shift_diffraction(beam_shift.isig[0], beam_shift.isig[1])\n",
    "signal.metadata.add_dictionary({\n",
    "        'Preprocessing': {\n",
    "            'Centering': {\n",
    "                'COM': com,\n",
    "                'COM_mask': {\n",
    "                    'x': com_mask[0],\n",
    "                    'y': com_mask[1],\n",
    "                    'r': com_mask[2]\n",
    "                },\n",
    "                'Shifts': beam_shift,\n",
    "                'shift_estimate_mask': mask\n",
    "            }\n",
    "        }\n",
    "    })\n",
    "new_max = signal.max(axis=[0, 1])\n",
    "new_max.metadata.General.title = 'After descan correction'\n",
    "hs.plot.plot_images([old_max, new_max], colorbar='single', axes_decor='off')"
   ]
  },
  {
   "cell_type": "markdown",
   "id": "e6fad88e-b9f6-4be4-a12f-358ed8db6b0d",
   "metadata": {},
   "source": [
    "## Rebin data\n",
    "Bin the diffraction patterns by 2"
   ]
  },
  {
   "cell_type": "code",
   "execution_count": null,
   "id": "55325cf9-15e5-487a-8a1e-ef7b3dc36002",
   "metadata": {},
   "outputs": [],
   "source": [
    "signal.rebin(scale=(1, 1, 2, 2), out=signal)"
   ]
  },
  {
   "cell_type": "markdown",
   "id": "bc187e9b-8960-4a4d-9a24-2d377c7fa57b",
   "metadata": {},
   "source": [
    "## Find masks for reflections"
   ]
  },
  {
   "cell_type": "code",
   "execution_count": null,
   "id": "0c684480-89df-400a-81fd-f8d3ce3b00eb",
   "metadata": {},
   "outputs": [],
   "source": [
    "image = signal.mean(axis=[0, 1]).deepcopy() #The image to search for blobs in\n",
    "a = 4.04\n",
    "minimum_r = 8 #The minimum radius to set for any mask\n",
    "cutoff_hkl = np.array([2, 2, 0]) #Make a mask with cutoff at a given HKL\n",
    "cuton_mrad = 4 #Make a mask that cutsoff everything up a certain mrad\n",
    "\n",
    "#Set up mask arrays\n",
    "nx, ny = image.axes_manager.signal_shape\n",
    "mask = np.zeros((nx, ny), dtype=bool)\n",
    "direct_beam_mask = np.zeros((nx, ny), dtype=bool)\n",
    "cutoff_mask = np.zeros((nx, ny), dtype=bool)\n",
    "\n",
    "#Setting cutoffs\n",
    "cutoff_g = np.sqrt(np.sum(cutoff_hkl**2 / a**2))\n",
    "cuton_k = cuton_mrad / 1000 / get_electron_wavelength(image.metadata.Acquisition_instrument.TEM.beam_energy/1000)\n",
    "print(f'Minimum scattering vector: {cuton_k} {image.axes_manager[0].units}\\nMaximum scattering vector: {cutoff_g} {image.axes_manager[0].units}')\n",
    "X, Y = np.meshgrid(image.axes_manager[0].axis, image.axes_manager[1].axis)\n",
    "#Set outer cutoff\n",
    "R = np.sqrt(X**2 + Y**2)\n",
    "cutoff_mask[R>=cutoff_g] = True\n",
    "#Set inner cutoff\n",
    "R = np.sqrt(X**2 + Y**2)\n",
    "direct_beam_mask[R<=cuton_k] = True\n",
    "\n",
    "#Mask reflections\n",
    "blob_kwargs = {\n",
    "    'min_sigma': 1,\n",
    "    'max_sigma': 15,\n",
    "    'num_sigma': 100,\n",
    "    'overlap': 0,\n",
    "    'threshold': 1E-18,\n",
    "}\n",
    "\n",
    "# Look for blobs (reflections)\n",
    "blobs = blob_log(image.data, **blob_kwargs)\n",
    "print(len(blobs))\n",
    "xs, ys = np.arange(0, nx), np.arange(0, ny)\n",
    "X, Y = np.meshgrid(xs, ys)\n",
    "for blob in blobs:\n",
    "    y, x, r = blob  # x and y axes are flipped in hyperspy compared to numpy\n",
    "    r = np.sqrt(2) * r  # Scale blob radius to appear more like a real radius\n",
    "    r = max([minimum_r, r])  # Make sure that the radius is at least the specified minimum radius\n",
    "    R = np.sqrt((X - x) ** 2 + (Y - y) ** 2)\n",
    "    mask[R < r] = True\n",
    "\n",
    "fig, axes = plt.subplots(nrows=1, ncols=6, sharex=True, sharey=True)\n",
    "axes[0].imshow(image.data)\n",
    "axes[1].imshow(mask)\n",
    "axes[2].imshow(direct_beam_mask)\n",
    "axes[3].imshow(cutoff_mask)\n",
    "axes[4].imshow((image.data * ~(mask + direct_beam_mask))**0.256)\n",
    "axes[5].imshow((image.data * ~cutoff_mask)**0.256)\n",
    "\n",
    "#Create signals\n",
    "direct_beam_mask = hs.signals.Signal2D(direct_beam_mask)\n",
    "direct_beam_mask.metadata.General.title = f'>{cuton_k} {signal.axes_manager[-1].units} mask'\n",
    "\n",
    "cutoff_mask = hs.signals.Signal2D(cutoff_mask)\n",
    "cutoff_mask.metadata.General.title = f'<{cutoff_g} {signal.axes_manager[-1].units} mask'\n",
    "\n",
    "mask = hs.signals.Signal2D(mask)\n",
    "mask.metadata.General.title = f'Reflection mask'\n",
    "mask.metadata.add_dictionary({'Preprocessing': {'blob_log': blob_kwargs,\n",
    "                                                'minimum_r': minimum_r}})\n",
    "\n",
    "for m in [direct_beam_mask, mask, cutoff_mask]:\n",
    "    for ax in range(image.axes_manager.signal_dimension):\n",
    "        m.axes_manager[ax].scale = image.axes_manager[ax].scale\n",
    "        m.axes_manager[ax].units = image.axes_manager[ax].units\n",
    "\n",
    "# Add metadata\n",
    "signal.metadata.add_dictionary({\n",
    "    'Preprocessing': {\n",
    "        'Masks': {\n",
    "            'Diffraction': {\n",
    "                'direct_beam': direct_beam_mask,\n",
    "                'reflections': mask,\n",
    "                'cutoff': cutoff_mask\n",
    "            }\n",
    "        }\n",
    "    }\n",
    "})"
   ]
  },
  {
   "cell_type": "markdown",
   "id": "8f72f01a-78f3-43ba-b92f-c10417da3da6",
   "metadata": {},
   "source": [
    "## Normalize the data"
   ]
  },
  {
   "cell_type": "code",
   "execution_count": null,
   "id": "1fd4d194-264a-493f-be87-31b4b80cf338",
   "metadata": {},
   "outputs": [],
   "source": [
    "signal.change_dtype('float32')\n",
    "signal = signal / signal.nanmax(axis=[0, 1, 2, 3])"
   ]
  },
  {
   "cell_type": "markdown",
   "id": "001a9d01-5519-4dfa-93c8-19529aa47422",
   "metadata": {},
   "source": [
    "## Save the preprocessed data"
   ]
  },
  {
   "cell_type": "code",
   "execution_count": null,
   "id": "d162355d-ef49-462f-aca2-a3e162a7f2d2",
   "metadata": {},
   "outputs": [],
   "source": [
    "signal.save(filename.with_stem(f'{filename.stem}_preprocessed'))"
   ]
  }
 ],
 "metadata": {
  "kernelspec": {
   "display_name": "Python 3 (ipykernel)",
   "language": "python",
   "name": "python3"
  },
  "language_info": {
   "codemirror_mode": {
    "name": "ipython",
    "version": 3
   },
   "file_extension": ".py",
   "mimetype": "text/x-python",
   "name": "python",
   "nbconvert_exporter": "python",
   "pygments_lexer": "ipython3",
   "version": "3.10.6"
  }
 },
 "nbformat": 4,
 "nbformat_minor": 5
}
