{
 "cells": [
  {
   "cell_type": "code",
   "execution_count": 1,
   "id": "bcdcc7c9-6da6-40af-8c07-1fb603b1f680",
   "metadata": {},
   "outputs": [
    {
     "name": "stderr",
     "output_type": "stream",
     "text": [
      "WARNING:silx.opencl.common:Unable to import pyOpenCl. Please install it from: https://pypi.org/project/pyopencl\n"
     ]
    }
   ],
   "source": [
    "%matplotlib qt\n",
    "\n",
    "import hyperspy.api as hs\n",
    "import numpy as np\n",
    "import matplotlib.pyplot as plt\n",
    "import matplotlib as mpl\n",
    "\n",
    "from pathlib import Path\n",
    "\n",
    "gray_cmap = plt.colormaps.get('Greys')\n",
    "gray_cmap.set_bad('lightblue')"
   ]
  },
  {
   "cell_type": "code",
   "execution_count": 12,
   "id": "f658006f-86ea-47a3-b80a-0c6369a6a466",
   "metadata": {},
   "outputs": [],
   "source": [
    "SMALL_SIZE = 6\n",
    "MEDIUM_SIZE = 8\n",
    "BIGGER_SIZE = 10\n",
    "\n",
    "plt.rc('font', size=SMALL_SIZE)          # controls default text sizes\n",
    "plt.rc('axes', titlesize=SMALL_SIZE)     # fontsize of the axes title\n",
    "plt.rc('axes', labelsize=MEDIUM_SIZE)    # fontsize of the x and y labels\n",
    "plt.rc('xtick', labelsize=SMALL_SIZE)    # fontsize of the tick labels\n",
    "plt.rc('ytick', labelsize=SMALL_SIZE)    # fontsize of the tick labels\n",
    "plt.rc('legend', fontsize=SMALL_SIZE)    # legend fontsize\n",
    "plt.rc('figure', titlesize=BIGGER_SIZE)  # fontsize of the figure title"
   ]
  },
  {
   "cell_type": "markdown",
   "id": "0abe9d0b-6245-4c00-a11c-2154230f0baa",
   "metadata": {},
   "source": [
    "## SVD\n",
    "Plot the explained variance of the SVD decompositions"
   ]
  },
  {
   "cell_type": "code",
   "execution_count": 17,
   "id": "9743c35a-e5e5-4f9a-b35e-7fc9041d670c",
   "metadata": {},
   "outputs": [],
   "source": [
    "svd = {\n",
    "    Path(r'C:\\Users\\emilc\\OneDrive - NTNU\\NORTEM\\Data\\PhaseMappingPaper\\Data\\Dataset A\\datasetA_preprocessed_SVD1.npz'): 5,\n",
    "    Path(r'C:\\Users\\emilc\\OneDrive - NTNU\\NORTEM\\Data\\PhaseMappingPaper\\Data\\Dataset A\\datasetA_preprocessed_SVD2.npz'): 6,\n",
    "    Path(r'C:\\Users\\emilc\\OneDrive - NTNU\\NORTEM\\Data\\PhaseMappingPaper\\Data\\Dataset B\\datasetB_preprocessed_SVD1.npz'): 5,\n",
    "    Path(r'C:\\Users\\emilc\\OneDrive - NTNU\\NORTEM\\Data\\PhaseMappingPaper\\Data\\Dataset B\\datasetB_preprocessed_SVD2.npz'): 6\n",
    "}"
   ]
  },
  {
   "cell_type": "code",
   "execution_count": 33,
   "id": "e19a9164-e9f0-4fd2-9a02-d4161746ef7f",
   "metadata": {},
   "outputs": [],
   "source": [
    "n = 21 #Number of components to show\n",
    "components = np.arange(n)+1 #The component labelling.\n",
    "\n",
    "#Plot/figure parameters\n",
    "dpi=300\n",
    "textwidth = 468 #pt\n",
    "axes_per_line = 3\n",
    "figwidth = textwidth/axes_per_line\n",
    "pt2in = 0.01389\n",
    "figsize = (figwidth*pt2in, figwidth*pt2in)\n",
    "\n",
    "for svd_path in svd:\n",
    "    s = np.load(svd_path, allow_pickle=True)\n",
    "    threshold = svd[svd_path]\n",
    "    \n",
    "    signal_fmt={'marker': 'o', 'color': 'k', 'markerfacecolor': 'k', 'lw': 0, 'ms':4}\n",
    "    noise_fmt={'marker':'o', 'color': 'k', 'markerfacecolor': 'w', 'lw': 0, 'ms':4}\n",
    "\n",
    "    fig, ax = plt.subplots(figsize=figsize, dpi=dpi)\n",
    "    ax.semilogy(components[:threshold], s['explained_variance_ratio'][:threshold], **signal_fmt)\n",
    "    ax.semilogy(components[threshold:n], s['explained_variance_ratio'][threshold:n], **noise_fmt)\n",
    "    ax.set_xlabel(f'Principal component number')\n",
    "    ax.set_xticks(components[::5])\n",
    "    ax.set_ylabel(f'Proportion of variance')\n",
    "    plt.tight_layout()\n",
    "    \n",
    "    fig.savefig(svd_path.with_name(f'{svd_path.stem}_scree.png'))"
   ]
  },
  {
   "cell_type": "markdown",
   "id": "96ba8b59-f0c4-41e7-8718-0fcb7a270ca7",
   "metadata": {},
   "source": [
    "## NMF\n",
    "Plot the NMF components"
   ]
  },
  {
   "cell_type": "code",
   "execution_count": 34,
   "id": "b14daec6-a671-485e-88fe-81820c0e7dc5",
   "metadata": {},
   "outputs": [],
   "source": [
    "nmf = [\n",
    "    Path(r'C:\\Users\\emilc\\OneDrive - NTNU\\NORTEM\\Data\\PhaseMappingPaper\\Data\\Dataset A\\datasetA_preprocessed_NMF1.npz'),\n",
    "    Path(r'C:\\Users\\emilc\\OneDrive - NTNU\\NORTEM\\Data\\PhaseMappingPaper\\Data\\Dataset A\\datasetA_preprocessed_NMF2.npz'),\n",
    "    Path(r'C:\\Users\\emilc\\OneDrive - NTNU\\NORTEM\\Data\\PhaseMappingPaper\\Data\\Dataset B\\datasetB_preprocessed_NMF1.npz'),\n",
    "    Path(r'C:\\Users\\emilc\\OneDrive - NTNU\\NORTEM\\Data\\PhaseMappingPaper\\Data\\Dataset B\\datasetB_preprocessed_NMF2.npz')\n",
    "]"
   ]
  },
  {
   "cell_type": "code",
   "execution_count": 96,
   "id": "88b28c36-9f30-470e-baac-c6a92461a607",
   "metadata": {},
   "outputs": [],
   "source": [
    "#Plot/figure parameters\n",
    "dpi=300\n",
    "textwidth = 468 #pt\n",
    "axes_per_line = 3 #Number of axes on a line\n",
    "figwidth = textwidth/axes_per_line\n",
    "figheight = figwidth\n",
    "pt2in = 0.01389\n",
    "figsize = (figwidth*pt2in, figheight*pt2in)\n",
    "inset_size = 0.25\n",
    "for path in nmf:\n",
    "    s = np.load(path, allow_pickle=True)\n",
    "    factors = s['factors'].reshape(*s['original_shape'][2:], s['output_dimension'])\n",
    "    loadings = s['loadings'].reshape(*s['original_shape'][:2], s['output_dimension'])\n",
    "    for i in range(loadings.shape[-1]):\n",
    "        fig = plt.figure(figsize=figsize, dpi=dpi)\n",
    "        ax = fig.add_axes([0, 0, 1, 1], xticks = [], yticks = [], frameon=False)\n",
    "        ax.imshow(loadings[:, :, i], cmap=gray_cmap)\n",
    "        inset_ax = fig.add_axes([1-inset_size, 1-inset_size, inset_size, inset_size], xticks=[], yticks=[], frameon=False)\n",
    "        inset_ax.imshow(factors[:, :, i], cmap=gray_cmap)\n",
    "        fig.savefig(path.with_name(f'{path.stem}_{i}.png'))\n",
    "        plt.close(fig)\n",
    "    "
   ]
  }
 ],
 "metadata": {
  "kernelspec": {
   "display_name": "Python 3 (ipykernel)",
   "language": "python",
   "name": "python3"
  },
  "language_info": {
   "codemirror_mode": {
    "name": "ipython",
    "version": 3
   },
   "file_extension": ".py",
   "mimetype": "text/x-python",
   "name": "python",
   "nbconvert_exporter": "python",
   "pygments_lexer": "ipython3",
   "version": "3.10.6"
  }
 },
 "nbformat": 4,
 "nbformat_minor": 5
}
