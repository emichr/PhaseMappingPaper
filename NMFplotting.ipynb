{
 "cells": [
  {
   "cell_type": "code",
   "execution_count": 1,
   "id": "bcdcc7c9-6da6-40af-8c07-1fb603b1f680",
   "metadata": {},
   "outputs": [],
   "source": [
    "%matplotlib qt\n",
    "\n",
    "import numpy as np\n",
    "import matplotlib.pyplot as plt\n",
    "from pathlib import Path\n",
    "\n",
    "gray_cmap = plt.colormaps.get('Greys')\n",
    "gray_cmap.set_bad('lightblue')"
   ]
  },
  {
   "cell_type": "code",
   "execution_count": 2,
   "id": "f658006f-86ea-47a3-b80a-0c6369a6a466",
   "metadata": {},
   "outputs": [],
   "source": [
    "SMALL_SIZE = 6\n",
    "MEDIUM_SIZE = 8\n",
    "BIGGER_SIZE = 10\n",
    "\n",
    "plt.rc('font', size=SMALL_SIZE)          # controls default text sizes\n",
    "plt.rc('axes', titlesize=SMALL_SIZE)     # fontsize of the axes title\n",
    "plt.rc('axes', labelsize=MEDIUM_SIZE)    # fontsize of the x and y labels\n",
    "plt.rc('xtick', labelsize=SMALL_SIZE)    # fontsize of the tick labels\n",
    "plt.rc('ytick', labelsize=SMALL_SIZE)    # fontsize of the tick labels\n",
    "plt.rc('legend', fontsize=SMALL_SIZE)    # legend fontsize\n",
    "plt.rc('figure', titlesize=BIGGER_SIZE)  # fontsize of the figure title"
   ]
  },
  {
   "cell_type": "markdown",
   "id": "5d31a30e-4ebb-41ba-8092-1b9459a8b1a9",
   "metadata": {},
   "source": [
    "# Decomposition results"
   ]
  },
  {
   "cell_type": "markdown",
   "id": "0abe9d0b-6245-4c00-a11c-2154230f0baa",
   "metadata": {},
   "source": [
    "## SVD\n",
    "Plot the explained variance of the SVD decompositions"
   ]
  },
  {
   "cell_type": "code",
   "execution_count": 3,
   "id": "9743c35a-e5e5-4f9a-b35e-7fc9041d670c",
   "metadata": {},
   "outputs": [],
   "source": [
    "#Dictionary with the paths to SVD results and the number of most important components.\n",
    "svd = {\n",
    "    Path(r'C:\\Users\\emilc\\OneDrive - NTNU\\NORTEM\\Data\\PhaseMappingPaper\\Data\\Dataset A\\datasetA_preprocessed_SVD1.npz'): 5,\n",
    "    Path(r'C:\\Users\\emilc\\OneDrive - NTNU\\NORTEM\\Data\\PhaseMappingPaper\\Data\\Dataset A\\datasetA_preprocessed_SVD2.npz'): 6,\n",
    "    Path(r'C:\\Users\\emilc\\OneDrive - NTNU\\NORTEM\\Data\\PhaseMappingPaper\\Data\\Dataset B\\datasetB_preprocessed_SVD1.npz'): 5,\n",
    "    Path(r'C:\\Users\\emilc\\OneDrive - NTNU\\NORTEM\\Data\\PhaseMappingPaper\\Data\\Dataset B\\datasetB_preprocessed_SVD2.npz'): 6\n",
    "}"
   ]
  },
  {
   "cell_type": "code",
   "execution_count": 4,
   "id": "e19a9164-e9f0-4fd2-9a02-d4161746ef7f",
   "metadata": {},
   "outputs": [],
   "source": [
    "n = 21 #Number of components to show\n",
    "components = np.arange(n)+1 #The component labelling.\n",
    "\n",
    "#Plot/figure parameters\n",
    "dpi=300 #Figure resolution\n",
    "textwidth = 468 #Page width in pt\n",
    "axes_per_line = 3 #Number of axes/figures to put on each line in final figure - used for sizing each individual plot\n",
    "figwidth = textwidth/axes_per_line #The width of each figure\n",
    "figheight = figwidth #The height of each figure\n",
    "pt2in = 0.01389 #Conversion from points to inches\n",
    "figsize = (figwidth*pt2in, figheight*pt2in) #Figure size in inches\n",
    "signal_fmt={'marker': 'o', 'color': 'k', 'markerfacecolor': 'k', 'lw': 0, 'ms':4} #Format for the most important components in the scree-plot\n",
    "noise_fmt={'marker':'o', 'color': 'k', 'markerfacecolor': 'w', 'lw': 0, 'ms':4} #Format for the other components in the scree-plot\n",
    "\n",
    "#Plot the explained variance ratio of the SVD decompositions\n",
    "for svd_path in svd:\n",
    "    s = np.load(svd_path, allow_pickle=True) #Load a SVD decomposition\n",
    "    threshold = svd[svd_path] #Get the threshold for the SVD decomposition (used for highlightning the most important components in the scree-plot    \n",
    "\n",
    "    fig, ax = plt.subplots(figsize=figsize, dpi=dpi) #Get a figure with a single axis\n",
    "    ax.semilogy(components[:threshold], s['explained_variance_ratio'][:threshold], **signal_fmt) #plot the most important components\n",
    "    ax.semilogy(components[threshold:n], s['explained_variance_ratio'][threshold:n], **noise_fmt) #plot the other components\n",
    "    ax.set_xlabel(f'Principal component number') #Set x-axis label\n",
    "    ax.set_xticks(components[::5]) #Set x-axis ticks\n",
    "    ax.set_ylabel(f'Proportion of variance') #Set y-axis label\n",
    "    plt.tight_layout() #Force tight layout\n",
    "    \n",
    "    fig.savefig(svd_path.with_name(f'{svd_path.stem}_scree.png')) #Save figure"
   ]
  },
  {
   "cell_type": "markdown",
   "id": "96ba8b59-f0c4-41e7-8718-0fcb7a270ca7",
   "metadata": {},
   "source": [
    "## NMF\n",
    "Plot the NMF components"
   ]
  },
  {
   "cell_type": "code",
   "execution_count": 5,
   "id": "b14daec6-a671-485e-88fe-81820c0e7dc5",
   "metadata": {},
   "outputs": [],
   "source": [
    "#Paths to NMF decomposition results\n",
    "nmf = [\n",
    "    Path(r'C:\\Users\\emilc\\OneDrive - NTNU\\NORTEM\\Data\\PhaseMappingPaper\\Data\\Dataset A\\datasetA_preprocessed_NMF1.npz'),\n",
    "    Path(r'C:\\Users\\emilc\\OneDrive - NTNU\\NORTEM\\Data\\PhaseMappingPaper\\Data\\Dataset A\\datasetA_preprocessed_NMF2.npz'),\n",
    "    Path(r'C:\\Users\\emilc\\OneDrive - NTNU\\NORTEM\\Data\\PhaseMappingPaper\\Data\\Dataset B\\datasetB_preprocessed_NMF1.npz'),\n",
    "    Path(r'C:\\Users\\emilc\\OneDrive - NTNU\\NORTEM\\Data\\PhaseMappingPaper\\Data\\Dataset B\\datasetB_preprocessed_NMF2.npz')\n",
    "]"
   ]
  },
  {
   "cell_type": "code",
   "execution_count": 6,
   "id": "88b28c36-9f30-470e-baac-c6a92461a607",
   "metadata": {},
   "outputs": [],
   "source": [
    "#Plot/figure parameters\n",
    "dpi=300 #Figure resolution\n",
    "textwidth = 468 #Page width in pt\n",
    "axes_per_line = 3 #Number of axes/figures to put on each line in final figure - used for sizing each individual plot\n",
    "figwidth = textwidth/axes_per_line #The width of each figure\n",
    "figheight = figwidth #The height of each figure\n",
    "pt2in = 0.01389 #Conversion from points to inches\n",
    "figsize = (figwidth*pt2in, figheight*pt2in) #Figure size in inches\n",
    "inset_size = 0.25 #Inset size given as fraction of figure size\n",
    "\n",
    "#Plot the loadings of each NMF decomposition with the factor inset in the upper right corner. Non-square loadings/factors will give poor/unexpected results\n",
    "for path in nmf:\n",
    "    s = np.load(path, allow_pickle=True) #Load an NMF decomposition series\n",
    "    factors = s['factors'].reshape(*s['original_shape'][2:], s['output_dimension']) #Extract the factors and reshape them (they are stored as (ndx*ndy, N))\n",
    "    loadings = s['loadings'].reshape(*s['original_shape'][:2], s['output_dimension']) #Extract the loadings and reshape them (they are stored as (nx*ny, N))\n",
    "    #Make individual figures and plots for each loading and inset the factor in the upper right corner\n",
    "    for i in range(loadings.shape[-1]):\n",
    "        fig = plt.figure(figsize=figsize, dpi=dpi) #Create a new figure\n",
    "        ax = fig.add_axes([0, 0, 1, 1], xticks = [], yticks = [], frameon=False) #Add a clean and empty axis\n",
    "        ax.imshow(loadings[:, :, i], cmap=gray_cmap) #Show the loading\n",
    "        inset_ax = fig.add_axes([1-inset_size, 1-inset_size, inset_size, inset_size], xticks=[], yticks=[], frameon=False) #Add a clean and empty axis in the upper right corner\n",
    "        inset_ax.imshow(factors[:, :, i], cmap=gray_cmap) #Show the factor\n",
    "        fig.savefig(path.with_name(f'{path.stem}_{i}.png')) #Save the figure\n",
    "        plt.close(fig) #Close the figure\n",
    "    "
   ]
  }
 ],
 "metadata": {
  "kernelspec": {
   "display_name": "Python 3 (ipykernel)",
   "language": "python",
   "name": "python3"
  },
  "language_info": {
   "codemirror_mode": {
    "name": "ipython",
    "version": 3
   },
   "file_extension": ".py",
   "mimetype": "text/x-python",
   "name": "python",
   "nbconvert_exporter": "python",
   "pygments_lexer": "ipython3",
   "version": "3.10.6"
  }
 },
 "nbformat": 4,
 "nbformat_minor": 5
}
