{
 "cells": [
  {
   "cell_type": "code",
   "execution_count": 1,
   "metadata": {
    "collapsed": false,
    "jupyter": {
     "outputs_hidden": false
    },
    "pycharm": {
     "name": "#%%\n"
    }
   },
   "outputs": [
    {
     "name": "stderr",
     "output_type": "stream",
     "text": [
      "WARNING:silx.opencl.common:Unable to import pyOpenCl. Please install it from: https://pypi.org/project/pyopencl\n"
     ]
    }
   ],
   "source": [
    "%matplotlib qt\n",
    "import matplotlib.pyplot as plt\n",
    "import hyperspy.api as hs\n",
    "import pyxem as pxm\n",
    "import numpy as np\n",
    "from pathlib import Path\n",
    "from diffsims.utils.sim_utils import get_electron_wavelength"
   ]
  },
  {
   "cell_type": "code",
   "execution_count": 2,
   "metadata": {
    "collapsed": false,
    "jupyter": {
     "outputs_hidden": false
    },
    "pycharm": {
     "name": "#%%\n"
    }
   },
   "outputs": [],
   "source": [
    "import numpy as np\n",
    "a = 4.04\n",
    "hkl = np.array([8, 0, 0])\n",
    "g = np.sqrt(np.sum(hkl**2/a**2))"
   ]
  },
  {
   "cell_type": "code",
   "execution_count": 3,
   "metadata": {
    "collapsed": false,
    "jupyter": {
     "outputs_hidden": false
    },
    "pycharm": {
     "name": "#%%\n"
    }
   },
   "outputs": [
    {
     "name": "stdout",
     "output_type": "stream",
     "text": [
      "1.9801980198019802\n"
     ]
    }
   ],
   "source": [
    "print(g)"
   ]
  },
  {
   "cell_type": "code",
   "execution_count": 4,
   "metadata": {
    "collapsed": false,
    "jupyter": {
     "outputs_hidden": false
    },
    "pycharm": {
     "name": "#%%\n"
    }
   },
   "outputs": [],
   "source": [
    "#datapath = Path(r'C:\\Users\\emilc\\OneDrive - NTNU\\NORTEM\\Data\\2021_10_06_2xxx_24h_250C\\Preprocessed_data\\SPED_600x600x12_10x10_4p63x4p63_1deg_100Hz_CL12cm_NBD_alpha5_spot1p3_preprocessed.hspy')\n",
    "datapath = Path(r'C:\\Users\\emilc\\OneDrive - NTNU\\NORTEM\\Data\\2022_06_20_ESTEEM_prep_2xxx_24h_250C\\SPED_512x512x6_5x5_2p315x2p315_NBD_alpha5_spot1p0nm_CL12cm_1deg_100Hz_preprocessed.hspy')\n",
    "signal = hs.load(datapath, lazy=True)"
   ]
  },
  {
   "cell_type": "code",
   "execution_count": 5,
   "metadata": {
    "collapsed": false,
    "jupyter": {
     "outputs_hidden": false
    },
    "pycharm": {
     "name": "#%%\n"
    }
   },
   "outputs": [
    {
     "data": {
      "text/plain": "└── Diffraction\n    ├── cutoff = <LazySignal2D, title: <0.7001057239470767 $A^{-1}$ mask, dimensions: (|128, 128)>\n    ├── direct_beam = <LazySignal2D, title: >0.004612922335229383 $A^{-1}$ mask, dimensions: (|128, 128)>\n    └── reflections = <LazySignal2D, title: Reflection mask, dimensions: (|128, 128)>",
      "text/html": "<ul style=\"margin: 0px; list-style-position: outside;\">\n                    <details open>\n                    <summary style=\"display: list-item;\">\n                    <li style=\"display: inline;\">\n                    Diffraction\n                    </li></summary>\n                    \n    <ul style=\"margin: 0px; list-style-position: outside;\">\n    <li style='margin-left:1em; padding-left: 0.5em'>cutoff = &lt;LazySignal2D, title: &lt;0.7001057239470767 $A^{-1}$ mask, dimensions: (|128, 128)&gt;</li></ul>\n    \n    <ul style=\"margin: 0px; list-style-position: outside;\">\n    <li style='margin-left:1em; padding-left: 0.5em'>direct_beam = &lt;LazySignal2D, title: &gt;0.004612922335229383 $A^{-1}$ mask, dimensions: (|128, 128)&gt;</li></ul>\n    \n    <ul style=\"margin: 0px; list-style-position: outside;\">\n    <li style='margin-left:1em; padding-left: 0.5em'>reflections = &lt;LazySignal2D, title: Reflection mask, dimensions: (|128, 128)&gt;</li></ul>\n    </details></ul>"
     },
     "execution_count": 5,
     "metadata": {},
     "output_type": "execute_result"
    }
   ],
   "source": [
    "signal.metadata.Preprocessing.Masks"
   ]
  },
  {
   "cell_type": "code",
   "execution_count": 6,
   "metadata": {
    "collapsed": false,
    "jupyter": {
     "outputs_hidden": false
    },
    "pycharm": {
     "name": "#%%\n"
    }
   },
   "outputs": [
    {
     "ename": "NameError",
     "evalue": "name 'masks' is not defined",
     "output_type": "error",
     "traceback": [
      "\u001B[1;31m---------------------------------------------------------------------------\u001B[0m",
      "\u001B[1;31mNameError\u001B[0m                                 Traceback (most recent call last)",
      "Input \u001B[1;32mIn [6]\u001B[0m, in \u001B[0;36m<cell line: 1>\u001B[1;34m()\u001B[0m\n\u001B[1;32m----> 1\u001B[0m mask \u001B[38;5;241m=\u001B[39m \u001B[43mmasks\u001B[49m[\u001B[38;5;241m0\u001B[39m]\n",
      "\u001B[1;31mNameError\u001B[0m: name 'masks' is not defined"
     ]
    }
   ],
   "source": [
    "mask = masks[0]"
   ]
  },
  {
   "cell_type": "code",
   "execution_count": null,
   "metadata": {
    "collapsed": false,
    "jupyter": {
     "outputs_hidden": false
    },
    "pycharm": {
     "name": "#%%\n"
    }
   },
   "outputs": [],
   "source": [
    "mask[1]"
   ]
  },
  {
   "cell_type": "code",
   "execution_count": 18,
   "metadata": {
    "collapsed": false,
    "jupyter": {
     "outputs_hidden": false
    },
    "pycharm": {
     "name": "#%%\n"
    }
   },
   "outputs": [
    {
     "name": "stdout",
     "output_type": "stream",
     "text": [
      "[<LazySignal2D, title: <0.7001057239470767 $A^{-1}$ mask, dimensions: (|128, 128)>, <LazySignal2D, title: >0.15949382751461458 $A^{-1}$ mask, dimensions: (|128, 128)>, <LazySignal2D, title: Reflection mask, dimensions: (|128, 128)>]\n"
     ]
    }
   ],
   "source": [
    "masks = [mask[1] for mask in signal.metadata.Preprocessing.Masks.Diffraction]\n",
    "print(masks)"
   ]
  },
  {
   "cell_type": "code",
   "execution_count": 30,
   "metadata": {
    "collapsed": false,
    "jupyter": {
     "outputs_hidden": false
    },
    "pycharm": {
     "name": "#%%\n"
    }
   },
   "outputs": [
    {
     "ename": "AttributeError",
     "evalue": "diffraction",
     "output_type": "error",
     "traceback": [
      "\u001B[1;31m---------------------------------------------------------------------------\u001B[0m",
      "\u001B[1;31mAttributeError\u001B[0m                            Traceback (most recent call last)",
      "Input \u001B[1;32mIn [30]\u001B[0m, in \u001B[0;36m<cell line: 1>\u001B[1;34m()\u001B[0m\n\u001B[1;32m----> 1\u001B[0m \u001B[43msignal\u001B[49m\u001B[38;5;241;43m.\u001B[39;49m\u001B[43mmetadata\u001B[49m\u001B[38;5;241;43m.\u001B[39;49m\u001B[43mPreprocessing\u001B[49m\u001B[38;5;241;43m.\u001B[39;49m\u001B[43mMasks\u001B[49m\u001B[38;5;241;43m.\u001B[39;49m\u001B[43mdiffraction\u001B[49m\n",
      "File \u001B[1;32m~\\Miniconda3\\envs\\pyxem0.14.1\\lib\\site-packages\\hyperspy\\misc\\utils.py:453\u001B[0m, in \u001B[0;36mDictionaryTreeBrowser.__getattr__\u001B[1;34m(self, name)\u001B[0m\n\u001B[0;32m    451\u001B[0m     \u001B[38;5;28;01mreturn\u001B[39;00m \u001B[38;5;28mself\u001B[39m\u001B[38;5;241m.\u001B[39m\u001B[38;5;18m__dict__\u001B[39m[name][\u001B[38;5;124m\"\u001B[39m\u001B[38;5;124m_dtb_value_\u001B[39m\u001B[38;5;124m\"\u001B[39m]\n\u001B[0;32m    452\u001B[0m \u001B[38;5;28;01melse\u001B[39;00m:\n\u001B[1;32m--> 453\u001B[0m     \u001B[38;5;28;01mraise\u001B[39;00m \u001B[38;5;167;01mAttributeError\u001B[39;00m(name)\n",
      "\u001B[1;31mAttributeError\u001B[0m: diffraction"
     ]
    }
   ],
   "source": [
    "signal.metadata.Preprocessing.Masks.diffraction"
   ]
  },
  {
   "cell_type": "code",
   "execution_count": 31,
   "metadata": {
    "collapsed": false,
    "jupyter": {
     "outputs_hidden": false
    },
    "pycharm": {
     "name": "#%%\n"
    }
   },
   "outputs": [
    {
     "data": {
      "text/plain": [
       "<matplotlib.image.AxesImage at 0x2ca9e84bc70>"
      ]
     },
     "execution_count": 31,
     "metadata": {},
     "output_type": "execute_result"
    }
   ],
   "source": [
    "fig, ax = plt.subplots()\n",
    "ax.imshow(diffmask)"
   ]
  },
  {
   "cell_type": "code",
   "execution_count": 24,
   "metadata": {
    "collapsed": false,
    "jupyter": {
     "outputs_hidden": false
    },
    "pycharm": {
     "name": "#%%\n"
    }
   },
   "outputs": [
    {
     "data": {
      "text/plain": [
       "array([[ True,  True,  True, ...,  True,  True,  True],\n",
       "       [ True,  True,  True, ...,  True,  True,  True],\n",
       "       [ True,  True,  True, ...,  True,  True,  True],\n",
       "       ...,\n",
       "       [ True,  True,  True, ...,  True,  True,  True],\n",
       "       [ True,  True,  True, ...,  True,  True,  True],\n",
       "       [ True,  True,  True, ...,  True,  True,  True]])"
      ]
     },
     "execution_count": 24,
     "metadata": {},
     "output_type": "execute_result"
    }
   ],
   "source": [
    "diffmask"
   ]
  },
  {
   "cell_type": "code",
   "execution_count": 7,
   "metadata": {
    "collapsed": false,
    "jupyter": {
     "outputs_hidden": false
    },
    "pycharm": {
     "name": "#%%\n"
    }
   },
   "outputs": [],
   "source": [
    "#datapath = Path(r'C:\\Users\\emilc\\OneDrive - NTNU\\NORTEM\\Data\\2021_10_06_2xxx_24h_250C\\Site2\\SPED_600x600x12_10x10_4p63x4p63_1deg_100Hz_CL12cm_NBD_alpha5_spot1p3.hspy')\n",
    "datapath = Path(r'C:\\Users\\emilc\\OneDrive - NTNU\\NORTEM\\Data\\2022_06_20_ESTEEM_prep_2xxx_24h_250C\\SPED_512x512x6_5x5_2p315x2p315_NBD_alpha5_spot1p0nm_CL12cm_1deg_100Hz.hspy')\n",
    "raw_signal = hs.load(datapath, lazy=True)\n",
    "preprocessed_signal = hs.load(datapath.with_name(f'{datapath.stem}_preprocessed.hspy'), lazy=True)"
   ]
  },
  {
   "cell_type": "code",
   "execution_count": 8,
   "metadata": {
    "collapsed": false,
    "jupyter": {
     "outputs_hidden": false
    },
    "pycharm": {
     "name": "#%%\n"
    }
   },
   "outputs": [],
   "source": [
    "shifts = preprocessed_signal.metadata.Preprocessing.Centering.Shifts\n",
    "raw_signal = raw_signal.inav[0:512, 0:512]\n",
    "raw_signal.shift_diffraction(shifts.isig[0], shifts.isig[1], inplace=True)"
   ]
  },
  {
   "cell_type": "code",
   "execution_count": 9,
   "metadata": {
    "collapsed": false,
    "jupyter": {
     "outputs_hidden": false
    },
    "pycharm": {
     "name": "#%%\n"
    }
   },
   "outputs": [
    {
     "name": "stdout",
     "output_type": "stream",
     "text": [
      "[########################################] | 100% Completed |  5min 13.2s\n"
     ]
    }
   ],
   "source": [
    "mean = raw_signal.mean(axis=[0, 1])\n",
    "mean.compute()"
   ]
  },
  {
   "cell_type": "code",
   "execution_count": 10,
   "metadata": {
    "collapsed": false,
    "jupyter": {
     "outputs_hidden": false
    },
    "pycharm": {
     "name": "#%%\n"
    }
   },
   "outputs": [
    {
     "data": {
      "text/plain": "[<hyperspy.drawing._widgets.line2d.Line2DWidget at 0x223608e9240>,\n <hyperspy.drawing._widgets.line2d.Line2DWidget at 0x22361237df0>]"
     },
     "execution_count": 10,
     "metadata": {},
     "output_type": "execute_result"
    }
   ],
   "source": [
    "mean.plot(norm='symlog')\n",
    "lines = {i: hs.roi.Line2DROI(0, 0, 0.1) for i in range(2)}\n",
    "[lines[line].add_widget(mean) for line in lines]"
   ]
  },
  {
   "cell_type": "code",
   "execution_count": 11,
   "metadata": {
    "collapsed": false,
    "jupyter": {
     "outputs_hidden": false
    },
    "pycharm": {
     "name": "#%%\n"
    }
   },
   "outputs": [
    {
     "name": "stdout",
     "output_type": "stream",
     "text": [
      "Line 0: (0.5723, -1.0767) <-> (-0.5432, 1.0282\n",
      "Line 1: (-1.067, -0.5820000000000001) <-> (1.0573000000000001, 0.5723\n"
     ]
    }
   ],
   "source": [
    "sep='\\n'\n",
    "print(sep.join([f'Line {line}: ({lines[line].x1}, {lines[line].y1}) <-> ({lines[line].x2}, {lines[line].y2}' for line in lines]))"
   ]
  },
  {
   "cell_type": "code",
   "execution_count": 12,
   "metadata": {
    "collapsed": false,
    "jupyter": {
     "outputs_hidden": false
    },
    "pycharm": {
     "name": "#%%\n"
    }
   },
   "outputs": [
    {
     "data": {
      "text/plain": "[[<hyperspy.drawing._widgets.vertical_line.VerticalLineWidget at 0x2230039d4e0>,\n  <hyperspy.drawing._widgets.vertical_line.VerticalLineWidget at 0x2230056d480>],\n [<hyperspy.drawing._widgets.vertical_line.VerticalLineWidget at 0x2230056d840>,\n  <hyperspy.drawing._widgets.vertical_line.VerticalLineWidget at 0x2230056c9d0>]]"
     },
     "execution_count": 12,
     "metadata": {},
     "output_type": "execute_result"
    }
   ],
   "source": [
    "profiles = {line: lines[line](mean) for line in lines}\n",
    "[profiles[profile].plot(norm='log') for profile in profiles]\n",
    "points = {profile: [hs.roi.Point1DROI(0), hs.roi.Point1DROI(0)] for profile in profiles}\n",
    "[[point.add_widget(profiles[profile]) for point in points[profile]] for profile in profiles]"
   ]
  },
  {
   "cell_type": "code",
   "execution_count": 13,
   "metadata": {
    "collapsed": false,
    "jupyter": {
     "outputs_hidden": false
    },
    "pycharm": {
     "name": "#%%\n"
    }
   },
   "outputs": [
    {
     "name": "stdout",
     "output_type": "stream",
     "text": [
      "Profile 0 peaks: [0.2025364257716686, 2.218256091784942]\n",
      "Profile 1 peaks: [0.1926418867366388, 2.2250137918081783]\n"
     ]
    }
   ],
   "source": [
    "sep='\\n'\n",
    "print(sep.join([f'Profile {profile} peaks: {[points[profile][i].value for i in range(len(points[profile]))]}' for profile in profiles]))"
   ]
  },
  {
   "cell_type": "code",
   "execution_count": 14,
   "metadata": {
    "collapsed": false,
    "jupyter": {
     "outputs_hidden": false
    },
    "pycharm": {
     "name": "#%%\n"
    }
   },
   "outputs": [
    {
     "data": {
      "text/plain": "2"
     },
     "execution_count": 14,
     "metadata": {},
     "output_type": "execute_result"
    }
   ],
   "source": [
    "len(points[0])"
   ]
  },
  {
   "cell_type": "code",
   "execution_count": 15,
   "metadata": {
    "collapsed": false,
    "jupyter": {
     "outputs_hidden": false
    },
    "pycharm": {
     "name": "#%%\n"
    }
   },
   "outputs": [
    {
     "name": "stdout",
     "output_type": "stream",
     "text": [
      "Profile 0 peak to peak distance: 209.00000000000003\n",
      "Profile 1 peak to peak distance: 211.0\n",
      "Profile 0 scale: 0.009474631673693683\n",
      "Profile 1 scale: 0.009384824738398011\n",
      "Mean calibration: 0.009429728206045847\n",
      "std calibration: 4.490346764783604e-05\n",
      "Using mean calibration as calibration: 0.00943\n",
      "Preprocessed signal is binned with scales [2.0, 2.0]\n",
      "Preprocessed signal has calibration [0.01886, 0.01886]\n"
     ]
    }
   ],
   "source": [
    "lengths = {profile: (np.max([points[profile][i].value for i in range(len(points[profile]))]) - np.min([points[profile][i].value for i in range(len(points[profile]))])) / profiles[profile].axes_manager[-1].scale for profile in profiles}\n",
    "\n",
    "sep = '\\n'\n",
    "print(sep.join([f'Profile {profile} peak to peak distance: {lengths[profile]}' for profile in profiles]))\n",
    "\n",
    "hkl_values = {profile: np.array([8, 0, 0]) for profile in profiles}\n",
    "a = 4.04\n",
    "g_values = {profile: np.sqrt(np.sum((hkl_values[profile]/a)**2)) for profile in profiles}\n",
    "scales = {profile: g_values[profile] / lengths[profile] for profile in profiles}\n",
    "sep='\\n'\n",
    "print(sep.join([f'Profile {profile} scale: {scales[profile]}' for profile in profiles]))\n",
    "\n",
    "print(f'Mean calibration: {np.mean(list(scales.values()))}')\n",
    "print(f'std calibration: {np.std(list(scales.values()))}')\n",
    "\n",
    "scale = np.round(np.mean(list(scales.values())), decimals=5)\n",
    "print(f'Using mean calibration as calibration: {scale:.05f}')\n",
    "\n",
    "binning_factors = [raw_signal.axes_manager.signal_shape[i]/preprocessed_signal.axes_manager.signal_shape[i] for i in range(2)]\n",
    "print(f'Preprocessed signal is binned with scales {binning_factors}')\n",
    "rescaled_scales = [scale*binning_factor for binning_factor in binning_factors]\n",
    "print(f'Preprocessed signal has calibration {rescaled_scales}')\n",
    "for i, scale in enumerate(rescaled_scales):\n",
    "    preprocessed_signal.axes_manager[preprocessed_signal.axes_manager.navigation_dimension+i].scale = scale"
   ]
  },
  {
   "cell_type": "code",
   "execution_count": 16,
   "metadata": {
    "collapsed": false,
    "jupyter": {
     "outputs_hidden": false
    },
    "pycharm": {
     "name": "#%%\n"
    }
   },
   "outputs": [
    {
     "data": {
      "text/plain": "<Axes manager, axes: (512, 512|128, 128)>\n            Name |   size |  index |  offset |   scale |  units \n================ | ====== | ====== | ======= | ======= | ====== \n               x |    512 |      0 |       0 |     2.3 |     nm \n               y |    512 |      0 |       0 |     2.3 |     nm \n---------------- | ------ | ------ | ------- | ------- | ------ \n              kx |    128 |      0 |    -1.2 |   0.019 | $A^{-1}$ \n              ky |    128 |      0 |    -1.2 |   0.019 | $A^{-1}$ ",
      "text/html": "<style>\ntable, th, td {\n\tborder: 1px solid black;\n\tborder-collapse: collapse;\n}\nth, td {\n\tpadding: 5px;\n}\n</style>\n<p><b>< Axes manager, axes: (512, 512|128, 128) ></b></p>\n<table style='width:100%'>\n\n<tr> \n<th>Navigation axis name</th> \n<th>size</th> \n<th>index</th> \n<th>offset</th> \n<th>scale</th> \n<th>units</th> </tr>\n<tr> \n<td>x</td> \n<td>512</td> \n<td>0</td> \n<td>0.0</td> \n<td>2.315</td> \n<td>nm</td> </tr>\n<tr> \n<td>y</td> \n<td>512</td> \n<td>0</td> \n<td>0.0</td> \n<td>2.315</td> \n<td>nm</td> </tr></table>\n<table style='width:100%'>\n\n<tr> \n<th>Signal axis name</th> \n<th>size</th> \n<th></th> \n<th>offset</th> \n<th>scale</th> \n<th>units</th> </tr>\n<tr> \n<td>kx</td> \n<td>128</td> \n<td></td> \n<td>-1.2138</td> \n<td>0.01886</td> \n<td>$A^{-1}$</td> </tr>\n<tr> \n<td>ky</td> \n<td>128</td> \n<td></td> \n<td>-1.2138</td> \n<td>0.01886</td> \n<td>$A^{-1}$</td> </tr></table>\n"
     },
     "execution_count": 16,
     "metadata": {},
     "output_type": "execute_result"
    }
   ],
   "source": [
    "preprocessed_signal.axes_manager"
   ]
  },
  {
   "cell_type": "code",
   "execution_count": 17,
   "metadata": {
    "collapsed": false,
    "jupyter": {
     "outputs_hidden": false
    },
    "pycharm": {
     "name": "#%%\n"
    }
   },
   "outputs": [],
   "source": [
    "from skimage.feature import blob_log"
   ]
  },
  {
   "cell_type": "markdown",
   "metadata": {
    "pycharm": {
     "name": "#%% md\n"
    }
   },
   "source": [
    "## Mask reflections"
   ]
  },
  {
   "cell_type": "code",
   "execution_count": 19,
   "metadata": {
    "collapsed": false,
    "jupyter": {
     "outputs_hidden": false
    },
    "pycharm": {
     "name": "#%%\n"
    }
   },
   "outputs": [
    {
     "data": {
      "text/plain": "├── Acquisition_instrument\n│   └── TEM\n│       ├── Acquisition_parameters\n│       │   ├── alpha = 5\n│       │   ├── beam_energy = 200.0\n│       │   ├── camera = Merlin\n│       │   ├── camera_length = 12.0\n│       │   ├── convergence_angle = None\n│       │   ├── exposure_time = None\n│       │   ├── microscope = 2100F\n│       │   ├── mode = NBD\n│       │   ├── notes = None\n│       │   ├── operator = Emil Christiansen\n│       │   ├── rocking_angle = 1.0\n│       │   ├── rocking_frequency = 100.0\n│       │   ├── scan_rotation = None\n│       │   ├── specimen = 2xxx 250C 24h\n│       │   └── spotsize = 1.0\n│       ├── Detector\n│       │   └── Diffraction\n│       │       └── camera_length = 22.586\n│       ├── beam_energy = 200.0\n│       ├── rocking_angle = 1.0\n│       └── rocking_frequency = 100.0\n├── General\n│   ├── FileIO\n│   │   ├── 0\n│   │   │   ├── hyperspy_version = 1.7.0.dev0\n│   │   │   ├── io_plugin = hyperspy.io_plugins.hspy\n│   │   │   ├── operation = save\n│   │   │   └── timestamp = 2022-07-04T15:35:46.330928+02:00\n│   │   ├── 1\n│   │   │   ├── hyperspy_version = 1.7.0.dev0\n│   │   │   ├── io_plugin = hyperspy.io_plugins.hspy\n│   │   │   ├── operation = load\n│   │   │   └── timestamp = 2022-07-05T11:58:51.393823+02:00\n│   │   ├── 2\n│   │   │   ├── hyperspy_version = 1.7.0.dev0\n│   │   │   ├── io_plugin = hyperspy.io_plugins.hspy\n│   │   │   ├── operation = save\n│   │   │   └── timestamp = 2022-07-05T12:04:18.678231+02:00\n│   │   └── 3\n│   │       ├── hyperspy_version = 1.7.0\n│   │       ├── io_plugin = hyperspy.io_plugins.hspy\n│   │       ├── operation = load\n│   │       └── timestamp = 2022-07-05T14:31:36.502478+02:00\n│   └── title = \n├── HDR\n│   ├── Acquisition Type (Normal, Th_scan, Config) = Normal\n│   ├── Active Counters = Counter 0\n│   ├── Assembly Size (NX1, 2X2) = 1x1\n│   ├── Chip ID = W559_G11, - , - , -\n│   ├── Chip Mode  (SPM, CSM, CM, CSCM) = SPM\n│   ├── Chip Type (Medipix 3.0, Medipix 3.1, Medipix 3RX) = Medipix 3RX\n│   ├── Counter Depth (number) = 12\n│   ├── DAC File = c:\\MERLIN_Quad_Config\\W559_G11\\W559_G11_SPM.dacs,,,\n│   ├── DACs = 068,511,000,000,000,000,000,000,100,255,100,125,100,100,080,100,090,030,128,004,255,126,128,174,172,511,511; ; ;\n│   ├── Dead Time File = Dummy (C:\\<NUL>\\)\n│   ├── Flat Field File = None\n│   ├── Frames in Acquisition (Number) = 262144\n│   ├── Frames per Trigger (Number) = 1\n│   ├── Gain = SLGM\n│   ├── Gap Fill Mode = None\n│   ├── Humidity (%) = Board Humidity 0.000000\n│   ├── Medipix Clock (MHz) = 160MHz\n│   ├── Readout System = Merlin Quad\n│   ├── Sensor Bias (V) = 120 V\n│   ├── Sensor Polarity (Positive, Negative) = Positive\n│   ├── Software Version = 1.0.0.122\n│   ├── Temperature (C) = Board Temp 0.000000 Deg C\n│   ├── Thresholds (keV) = 4.000000E+1,5.110000E+2,0.000000E+0,0.000000E+0,0.000000E+0,0.000000E+0,0.000000E+0,0.000000E+0\n│   ├── Time and Date Stamp (day, mnth, yr, hr, min, s) = 20/06/2022 12:53:12\n│   ├── Trigger Start (Positive, Negative, Internal) = Rising Edge\n│   ├── Trigger Stop (Positive, Negative, Internal) = Internal\n│   └── bpc File = c:\\MERLIN_Quad_Config\\W559_G11\\W559_G11_SPM.bpc,,,\n├── Preprocessing\n│   ├── Centering\n│   │   ├── COM = <LazyDPCSignal2D, title: , dimensions: (2|512, 512)>\n│   │   ├── COM_mask\n│   │   │   ├── r = 12.5\n│   │   │   ├── x = 125\n│   │   │   └── y = 125\n│   │   ├── Shifts = <LazyBeamShift, title: , dimensions: (512, 512|2)>\n│   │   └── shift_estimate_mask = <LazySignal, title: , dimensions: (512, 512|)>\n│   ├── Masks\n│   │   └── Diffraction\n│   │       ├── cutoff = <LazySignal2D, title: <0.7001057239470767 $A^{-1}$ mask, dimensions: (|128, 128)>\n│   │       ├── direct_beam = <LazySignal2D, title: >0.004612922335229383 $A^{-1}$ mask, dimensions: (|128, 128)>\n│   │       └── reflections = <LazySignal2D, title: Reflection mask, dimensions: (|128, 128)>\n│   ├── Maximums = <LazyElectronDiffraction2D, title: , dimensions: (|128, 128)>\n│   └── VBF = <LazySignal2D, title: Integrated intensity, dimensions: (|512, 512)>\n└── Signal\n    └── signal_type = electron_diffraction",
      "text/html": "<ul style=\"margin: 0px; list-style-position: outside;\">\n                    <details open>\n                    <summary style=\"display: list-item;\">\n                    <li style=\"display: inline;\">\n                    Acquisition_instrument\n                    </li></summary>\n                    <ul style=\"margin: 0px; list-style-position: outside;\">\n                    <details closed>\n                    <summary style=\"display: list-item;\">\n                    <li style=\"display: inline;\">\n                    TEM\n                    </li></summary>\n                    <ul style=\"margin: 0px; list-style-position: outside;\">\n                    <details closed>\n                    <summary style=\"display: list-item;\">\n                    <li style=\"display: inline;\">\n                    Acquisition_parameters\n                    </li></summary>\n                    \n    <ul style=\"margin: 0px; list-style-position: outside;\">\n    <li style='margin-left:1em; padding-left: 0.5em'>alpha = 5</li></ul>\n    \n    <ul style=\"margin: 0px; list-style-position: outside;\">\n    <li style='margin-left:1em; padding-left: 0.5em'>beam_energy = 200.0</li></ul>\n    \n    <ul style=\"margin: 0px; list-style-position: outside;\">\n    <li style='margin-left:1em; padding-left: 0.5em'>camera = Merlin</li></ul>\n    \n    <ul style=\"margin: 0px; list-style-position: outside;\">\n    <li style='margin-left:1em; padding-left: 0.5em'>camera_length = 12.0</li></ul>\n    \n    <ul style=\"margin: 0px; list-style-position: outside;\">\n    <li style='margin-left:1em; padding-left: 0.5em'>convergence_angle = None</li></ul>\n    \n    <ul style=\"margin: 0px; list-style-position: outside;\">\n    <li style='margin-left:1em; padding-left: 0.5em'>exposure_time = None</li></ul>\n    \n    <ul style=\"margin: 0px; list-style-position: outside;\">\n    <li style='margin-left:1em; padding-left: 0.5em'>microscope = 2100F</li></ul>\n    \n    <ul style=\"margin: 0px; list-style-position: outside;\">\n    <li style='margin-left:1em; padding-left: 0.5em'>mode = NBD</li></ul>\n    \n    <ul style=\"margin: 0px; list-style-position: outside;\">\n    <li style='margin-left:1em; padding-left: 0.5em'>notes = None</li></ul>\n    \n    <ul style=\"margin: 0px; list-style-position: outside;\">\n    <li style='margin-left:1em; padding-left: 0.5em'>operator = Emil Christiansen</li></ul>\n    \n    <ul style=\"margin: 0px; list-style-position: outside;\">\n    <li style='margin-left:1em; padding-left: 0.5em'>rocking_angle = 1.0</li></ul>\n    \n    <ul style=\"margin: 0px; list-style-position: outside;\">\n    <li style='margin-left:1em; padding-left: 0.5em'>rocking_frequency = 100.0</li></ul>\n    \n    <ul style=\"margin: 0px; list-style-position: outside;\">\n    <li style='margin-left:1em; padding-left: 0.5em'>scan_rotation = None</li></ul>\n    \n    <ul style=\"margin: 0px; list-style-position: outside;\">\n    <li style='margin-left:1em; padding-left: 0.5em'>specimen = 2xxx 250C 24h</li></ul>\n    \n    <ul style=\"margin: 0px; list-style-position: outside;\">\n    <li style='margin-left:1em; padding-left: 0.5em'>spotsize = 1.0</li></ul>\n    </details></ul><ul style=\"margin: 0px; list-style-position: outside;\">\n                    <details closed>\n                    <summary style=\"display: list-item;\">\n                    <li style=\"display: inline;\">\n                    Detector\n                    </li></summary>\n                    <ul style=\"margin: 0px; list-style-position: outside;\">\n                    <details closed>\n                    <summary style=\"display: list-item;\">\n                    <li style=\"display: inline;\">\n                    Diffraction\n                    </li></summary>\n                    \n    <ul style=\"margin: 0px; list-style-position: outside;\">\n    <li style='margin-left:1em; padding-left: 0.5em'>camera_length = 22.586</li></ul>\n    </details></ul></details></ul>\n    <ul style=\"margin: 0px; list-style-position: outside;\">\n    <li style='margin-left:1em; padding-left: 0.5em'>beam_energy = 200.0</li></ul>\n    \n    <ul style=\"margin: 0px; list-style-position: outside;\">\n    <li style='margin-left:1em; padding-left: 0.5em'>rocking_angle = 1.0</li></ul>\n    \n    <ul style=\"margin: 0px; list-style-position: outside;\">\n    <li style='margin-left:1em; padding-left: 0.5em'>rocking_frequency = 100.0</li></ul>\n    </details></ul></details></ul><ul style=\"margin: 0px; list-style-position: outside;\">\n                    <details open>\n                    <summary style=\"display: list-item;\">\n                    <li style=\"display: inline;\">\n                    General\n                    </li></summary>\n                    <ul style=\"margin: 0px; list-style-position: outside;\">\n                    <details closed>\n                    <summary style=\"display: list-item;\">\n                    <li style=\"display: inline;\">\n                    FileIO\n                    </li></summary>\n                    <ul style=\"margin: 0px; list-style-position: outside;\">\n                    <details closed>\n                    <summary style=\"display: list-item;\">\n                    <li style=\"display: inline;\">\n                    0\n                    </li></summary>\n                    \n    <ul style=\"margin: 0px; list-style-position: outside;\">\n    <li style='margin-left:1em; padding-left: 0.5em'>hyperspy_version = 1.7.0.dev0</li></ul>\n    \n    <ul style=\"margin: 0px; list-style-position: outside;\">\n    <li style='margin-left:1em; padding-left: 0.5em'>io_plugin = hyperspy.io_plugins.hspy</li></ul>\n    \n    <ul style=\"margin: 0px; list-style-position: outside;\">\n    <li style='margin-left:1em; padding-left: 0.5em'>operation = save</li></ul>\n    \n    <ul style=\"margin: 0px; list-style-position: outside;\">\n    <li style='margin-left:1em; padding-left: 0.5em'>timestamp = 2022-07-04T15:35:46.330928+02:00</li></ul>\n    </details></ul><ul style=\"margin: 0px; list-style-position: outside;\">\n                    <details closed>\n                    <summary style=\"display: list-item;\">\n                    <li style=\"display: inline;\">\n                    1\n                    </li></summary>\n                    \n    <ul style=\"margin: 0px; list-style-position: outside;\">\n    <li style='margin-left:1em; padding-left: 0.5em'>hyperspy_version = 1.7.0.dev0</li></ul>\n    \n    <ul style=\"margin: 0px; list-style-position: outside;\">\n    <li style='margin-left:1em; padding-left: 0.5em'>io_plugin = hyperspy.io_plugins.hspy</li></ul>\n    \n    <ul style=\"margin: 0px; list-style-position: outside;\">\n    <li style='margin-left:1em; padding-left: 0.5em'>operation = load</li></ul>\n    \n    <ul style=\"margin: 0px; list-style-position: outside;\">\n    <li style='margin-left:1em; padding-left: 0.5em'>timestamp = 2022-07-05T11:58:51.393823+02:00</li></ul>\n    </details></ul><ul style=\"margin: 0px; list-style-position: outside;\">\n                    <details closed>\n                    <summary style=\"display: list-item;\">\n                    <li style=\"display: inline;\">\n                    2\n                    </li></summary>\n                    \n    <ul style=\"margin: 0px; list-style-position: outside;\">\n    <li style='margin-left:1em; padding-left: 0.5em'>hyperspy_version = 1.7.0.dev0</li></ul>\n    \n    <ul style=\"margin: 0px; list-style-position: outside;\">\n    <li style='margin-left:1em; padding-left: 0.5em'>io_plugin = hyperspy.io_plugins.hspy</li></ul>\n    \n    <ul style=\"margin: 0px; list-style-position: outside;\">\n    <li style='margin-left:1em; padding-left: 0.5em'>operation = save</li></ul>\n    \n    <ul style=\"margin: 0px; list-style-position: outside;\">\n    <li style='margin-left:1em; padding-left: 0.5em'>timestamp = 2022-07-05T12:04:18.678231+02:00</li></ul>\n    </details></ul><ul style=\"margin: 0px; list-style-position: outside;\">\n                    <details closed>\n                    <summary style=\"display: list-item;\">\n                    <li style=\"display: inline;\">\n                    3\n                    </li></summary>\n                    \n    <ul style=\"margin: 0px; list-style-position: outside;\">\n    <li style='margin-left:1em; padding-left: 0.5em'>hyperspy_version = 1.7.0</li></ul>\n    \n    <ul style=\"margin: 0px; list-style-position: outside;\">\n    <li style='margin-left:1em; padding-left: 0.5em'>io_plugin = hyperspy.io_plugins.hspy</li></ul>\n    \n    <ul style=\"margin: 0px; list-style-position: outside;\">\n    <li style='margin-left:1em; padding-left: 0.5em'>operation = load</li></ul>\n    \n    <ul style=\"margin: 0px; list-style-position: outside;\">\n    <li style='margin-left:1em; padding-left: 0.5em'>timestamp = 2022-07-05T14:31:36.502478+02:00</li></ul>\n    </details></ul></details></ul>\n    <ul style=\"margin: 0px; list-style-position: outside;\">\n    <li style='margin-left:1em; padding-left: 0.5em'>title = </li></ul>\n    </details></ul><ul style=\"margin: 0px; list-style-position: outside;\">\n                    <details open>\n                    <summary style=\"display: list-item;\">\n                    <li style=\"display: inline;\">\n                    HDR\n                    </li></summary>\n                    \n    <ul style=\"margin: 0px; list-style-position: outside;\">\n    <li style='margin-left:1em; padding-left: 0.5em'>Acquisition Type (Normal, Th_scan, Config) = Normal</li></ul>\n    \n    <ul style=\"margin: 0px; list-style-position: outside;\">\n    <li style='margin-left:1em; padding-left: 0.5em'>Active Counters = Counter 0</li></ul>\n    \n    <ul style=\"margin: 0px; list-style-position: outside;\">\n    <li style='margin-left:1em; padding-left: 0.5em'>Assembly Size (NX1, 2X2) = 1x1</li></ul>\n    \n    <ul style=\"margin: 0px; list-style-position: outside;\">\n    <li style='margin-left:1em; padding-left: 0.5em'>Chip ID = W559_G11, - , - , -</li></ul>\n    \n    <ul style=\"margin: 0px; list-style-position: outside;\">\n    <li style='margin-left:1em; padding-left: 0.5em'>Chip Mode  (SPM, CSM, CM, CSCM) = SPM</li></ul>\n    \n    <ul style=\"margin: 0px; list-style-position: outside;\">\n    <li style='margin-left:1em; padding-left: 0.5em'>Chip Type (Medipix 3.0, Medipix 3.1, Medipix 3RX) = Medipix 3RX</li></ul>\n    \n    <ul style=\"margin: 0px; list-style-position: outside;\">\n    <li style='margin-left:1em; padding-left: 0.5em'>Counter Depth (number) = 12</li></ul>\n    \n    <ul style=\"margin: 0px; list-style-position: outside;\">\n    <li style='margin-left:1em; padding-left: 0.5em'>DAC File = c:\\MERLIN_Quad_Config\\W559_G11\\W559_G11_SPM.dacs,,,</li></ul>\n    \n    <ul style=\"margin: 0px; list-style-position: outside;\">\n    <li style='margin-left:1em; padding-left: 0.5em'>DACs = 068,511,000,000,000,000,000,000,100,255,100,125,100,100,080,100,090,030,128,004,255,126,128,174,172,511,511; ; ;</li></ul>\n    \n    <ul style=\"margin: 0px; list-style-position: outside;\">\n    <li style='margin-left:1em; padding-left: 0.5em'>Dead Time File = Dummy (C:\\&lt;NUL&gt;\\)</li></ul>\n    \n    <ul style=\"margin: 0px; list-style-position: outside;\">\n    <li style='margin-left:1em; padding-left: 0.5em'>Flat Field File = None</li></ul>\n    \n    <ul style=\"margin: 0px; list-style-position: outside;\">\n    <li style='margin-left:1em; padding-left: 0.5em'>Frames in Acquisition (Number) = 262144</li></ul>\n    \n    <ul style=\"margin: 0px; list-style-position: outside;\">\n    <li style='margin-left:1em; padding-left: 0.5em'>Frames per Trigger (Number) = 1</li></ul>\n    \n    <ul style=\"margin: 0px; list-style-position: outside;\">\n    <li style='margin-left:1em; padding-left: 0.5em'>Gain = SLGM</li></ul>\n    \n    <ul style=\"margin: 0px; list-style-position: outside;\">\n    <li style='margin-left:1em; padding-left: 0.5em'>Gap Fill Mode = None</li></ul>\n    \n    <ul style=\"margin: 0px; list-style-position: outside;\">\n    <li style='margin-left:1em; padding-left: 0.5em'>Humidity (%) = Board Humidity 0.000000</li></ul>\n    \n    <ul style=\"margin: 0px; list-style-position: outside;\">\n    <li style='margin-left:1em; padding-left: 0.5em'>Medipix Clock (MHz) = 160MHz</li></ul>\n    \n    <ul style=\"margin: 0px; list-style-position: outside;\">\n    <li style='margin-left:1em; padding-left: 0.5em'>Readout System = Merlin Quad</li></ul>\n    \n    <ul style=\"margin: 0px; list-style-position: outside;\">\n    <li style='margin-left:1em; padding-left: 0.5em'>Sensor Bias (V) = 120 V</li></ul>\n    \n    <ul style=\"margin: 0px; list-style-position: outside;\">\n    <li style='margin-left:1em; padding-left: 0.5em'>Sensor Polarity (Positive, Negative) = Positive</li></ul>\n    \n    <ul style=\"margin: 0px; list-style-position: outside;\">\n    <li style='margin-left:1em; padding-left: 0.5em'>Software Version = 1.0.0.122</li></ul>\n    \n    <ul style=\"margin: 0px; list-style-position: outside;\">\n    <li style='margin-left:1em; padding-left: 0.5em'>Temperature (C) = Board Temp 0.000000 Deg C</li></ul>\n    \n    <ul style=\"margin: 0px; list-style-position: outside;\">\n    <li style='margin-left:1em; padding-left: 0.5em'>Thresholds (keV) = 4.000000E+1,5.110000E+2,0.000000E+0,0.000000E+0,0.000000E+0,0.000000E+0,0.000000E+0,0.000000E+0</li></ul>\n    \n    <ul style=\"margin: 0px; list-style-position: outside;\">\n    <li style='margin-left:1em; padding-left: 0.5em'>Time and Date Stamp (day, mnth, yr, hr, min, s) = 20/06/2022 12:53:12</li></ul>\n    \n    <ul style=\"margin: 0px; list-style-position: outside;\">\n    <li style='margin-left:1em; padding-left: 0.5em'>Trigger Start (Positive, Negative, Internal) = Rising Edge</li></ul>\n    \n    <ul style=\"margin: 0px; list-style-position: outside;\">\n    <li style='margin-left:1em; padding-left: 0.5em'>Trigger Stop (Positive, Negative, Internal) = Internal</li></ul>\n    \n    <ul style=\"margin: 0px; list-style-position: outside;\">\n    <li style='margin-left:1em; padding-left: 0.5em'>bpc File = c:\\MERLIN_Quad_Config\\W559_G11\\W559_G11_SPM.bpc,,,</li></ul>\n    </details></ul><ul style=\"margin: 0px; list-style-position: outside;\">\n                    <details open>\n                    <summary style=\"display: list-item;\">\n                    <li style=\"display: inline;\">\n                    Preprocessing\n                    </li></summary>\n                    <ul style=\"margin: 0px; list-style-position: outside;\">\n                    <details closed>\n                    <summary style=\"display: list-item;\">\n                    <li style=\"display: inline;\">\n                    Centering\n                    </li></summary>\n                    \n    <ul style=\"margin: 0px; list-style-position: outside;\">\n    <li style='margin-left:1em; padding-left: 0.5em'>COM = &lt;LazyDPCSignal2D, title: , dimensions: (2|512, 512)&gt;</li></ul>\n    <ul style=\"margin: 0px; list-style-position: outside;\">\n                    <details closed>\n                    <summary style=\"display: list-item;\">\n                    <li style=\"display: inline;\">\n                    COM_mask\n                    </li></summary>\n                    \n    <ul style=\"margin: 0px; list-style-position: outside;\">\n    <li style='margin-left:1em; padding-left: 0.5em'>r = 12.5</li></ul>\n    \n    <ul style=\"margin: 0px; list-style-position: outside;\">\n    <li style='margin-left:1em; padding-left: 0.5em'>x = 125</li></ul>\n    \n    <ul style=\"margin: 0px; list-style-position: outside;\">\n    <li style='margin-left:1em; padding-left: 0.5em'>y = 125</li></ul>\n    </details></ul>\n    <ul style=\"margin: 0px; list-style-position: outside;\">\n    <li style='margin-left:1em; padding-left: 0.5em'>Shifts = &lt;LazyBeamShift, title: , dimensions: (512, 512|2)&gt;</li></ul>\n    \n    <ul style=\"margin: 0px; list-style-position: outside;\">\n    <li style='margin-left:1em; padding-left: 0.5em'>shift_estimate_mask = &lt;LazySignal, title: , dimensions: (512, 512|)&gt;</li></ul>\n    </details></ul><ul style=\"margin: 0px; list-style-position: outside;\">\n                    <details closed>\n                    <summary style=\"display: list-item;\">\n                    <li style=\"display: inline;\">\n                    Masks\n                    </li></summary>\n                    <ul style=\"margin: 0px; list-style-position: outside;\">\n                    <details closed>\n                    <summary style=\"display: list-item;\">\n                    <li style=\"display: inline;\">\n                    Diffraction\n                    </li></summary>\n                    \n    <ul style=\"margin: 0px; list-style-position: outside;\">\n    <li style='margin-left:1em; padding-left: 0.5em'>cutoff = &lt;LazySignal2D, title: &lt;0.7001057239470767 $A^{-1}$ mask, dimensions: (|128, 128)&gt;</li></ul>\n    \n    <ul style=\"margin: 0px; list-style-position: outside;\">\n    <li style='margin-left:1em; padding-left: 0.5em'>direct_beam = &lt;LazySignal2D, title: &gt;0.004612922335229383 $A^{-1}$ mask, dimensions: (|128, 128)&gt;</li></ul>\n    \n    <ul style=\"margin: 0px; list-style-position: outside;\">\n    <li style='margin-left:1em; padding-left: 0.5em'>reflections = &lt;LazySignal2D, title: Reflection mask, dimensions: (|128, 128)&gt;</li></ul>\n    </details></ul></details></ul>\n    <ul style=\"margin: 0px; list-style-position: outside;\">\n    <li style='margin-left:1em; padding-left: 0.5em'>Maximums = &lt;LazyElectronDiffraction2D, title: , dimensions: (|128, 128)&gt;</li></ul>\n    \n    <ul style=\"margin: 0px; list-style-position: outside;\">\n    <li style='margin-left:1em; padding-left: 0.5em'>VBF = &lt;LazySignal2D, title: Integrated intensity, dimensions: (|512, 512)&gt;</li></ul>\n    </details></ul><ul style=\"margin: 0px; list-style-position: outside;\">\n                    <details open>\n                    <summary style=\"display: list-item;\">\n                    <li style=\"display: inline;\">\n                    Signal\n                    </li></summary>\n                    \n    <ul style=\"margin: 0px; list-style-position: outside;\">\n    <li style='margin-left:1em; padding-left: 0.5em'>signal_type = electron_diffraction</li></ul>\n    </details></ul>"
     },
     "execution_count": 19,
     "metadata": {},
     "output_type": "execute_result"
    }
   ],
   "source": [
    "signal.metadata"
   ]
  },
  {
   "cell_type": "code",
   "execution_count": 5,
   "metadata": {
    "collapsed": false,
    "jupyter": {
     "outputs_hidden": false
    },
    "pycharm": {
     "name": "#%%\n"
    }
   },
   "outputs": [],
   "source": [
    "binned = raw_signal.rebin(scale=(1, 1, 2, 2))"
   ]
  },
  {
   "cell_type": "code",
   "execution_count": 20,
   "metadata": {
    "collapsed": false,
    "jupyter": {
     "outputs_hidden": false
    },
    "pycharm": {
     "name": "#%%\n"
    }
   },
   "outputs": [
    {
     "ename": "KeyboardInterrupt",
     "evalue": "",
     "output_type": "error",
     "traceback": [
      "\u001B[1;31m---------------------------------------------------------------------------\u001B[0m",
      "\u001B[1;31mKeyboardInterrupt\u001B[0m                         Traceback (most recent call last)",
      "Input \u001B[1;32mIn [20]\u001B[0m, in \u001B[0;36m<cell line: 2>\u001B[1;34m()\u001B[0m\n\u001B[0;32m      1\u001B[0m data \u001B[38;5;241m=\u001B[39m signal\u001B[38;5;241m.\u001B[39mmax(axis\u001B[38;5;241m=\u001B[39m[\u001B[38;5;241m0\u001B[39m, \u001B[38;5;241m1\u001B[39m, \u001B[38;5;241m2\u001B[39m, \u001B[38;5;241m3\u001B[39m])\u001B[38;5;241m.\u001B[39mdata\n\u001B[1;32m----> 2\u001B[0m \u001B[43mdata\u001B[49m\u001B[38;5;241;43m.\u001B[39;49m\u001B[43mcompute\u001B[49m\u001B[43m(\u001B[49m\u001B[43m)\u001B[49m\n\u001B[0;32m      3\u001B[0m \u001B[38;5;28mprint\u001B[39m(data)\n",
      "File \u001B[1;32m~\\Miniconda3\\envs\\pyxem0.14.1\\lib\\site-packages\\dask\\base.py:292\u001B[0m, in \u001B[0;36mDaskMethodsMixin.compute\u001B[1;34m(self, **kwargs)\u001B[0m\n\u001B[0;32m    268\u001B[0m \u001B[38;5;28;01mdef\u001B[39;00m \u001B[38;5;21mcompute\u001B[39m(\u001B[38;5;28mself\u001B[39m, \u001B[38;5;241m*\u001B[39m\u001B[38;5;241m*\u001B[39mkwargs):\n\u001B[0;32m    269\u001B[0m     \u001B[38;5;124;03m\"\"\"Compute this dask collection\u001B[39;00m\n\u001B[0;32m    270\u001B[0m \n\u001B[0;32m    271\u001B[0m \u001B[38;5;124;03m    This turns a lazy Dask collection into its in-memory equivalent.\u001B[39;00m\n\u001B[1;32m   (...)\u001B[0m\n\u001B[0;32m    290\u001B[0m \u001B[38;5;124;03m    dask.base.compute\u001B[39;00m\n\u001B[0;32m    291\u001B[0m \u001B[38;5;124;03m    \"\"\"\u001B[39;00m\n\u001B[1;32m--> 292\u001B[0m     (result,) \u001B[38;5;241m=\u001B[39m compute(\u001B[38;5;28mself\u001B[39m, traverse\u001B[38;5;241m=\u001B[39m\u001B[38;5;28;01mFalse\u001B[39;00m, \u001B[38;5;241m*\u001B[39m\u001B[38;5;241m*\u001B[39mkwargs)\n\u001B[0;32m    293\u001B[0m     \u001B[38;5;28;01mreturn\u001B[39;00m result\n",
      "File \u001B[1;32m~\\Miniconda3\\envs\\pyxem0.14.1\\lib\\site-packages\\dask\\base.py:575\u001B[0m, in \u001B[0;36mcompute\u001B[1;34m(traverse, optimize_graph, scheduler, get, *args, **kwargs)\u001B[0m\n\u001B[0;32m    572\u001B[0m     keys\u001B[38;5;241m.\u001B[39mappend(x\u001B[38;5;241m.\u001B[39m__dask_keys__())\n\u001B[0;32m    573\u001B[0m     postcomputes\u001B[38;5;241m.\u001B[39mappend(x\u001B[38;5;241m.\u001B[39m__dask_postcompute__())\n\u001B[1;32m--> 575\u001B[0m results \u001B[38;5;241m=\u001B[39m schedule(dsk, keys, \u001B[38;5;241m*\u001B[39m\u001B[38;5;241m*\u001B[39mkwargs)\n\u001B[0;32m    576\u001B[0m \u001B[38;5;28;01mreturn\u001B[39;00m repack([f(r, \u001B[38;5;241m*\u001B[39ma) \u001B[38;5;28;01mfor\u001B[39;00m r, (f, a) \u001B[38;5;129;01min\u001B[39;00m \u001B[38;5;28mzip\u001B[39m(results, postcomputes)])\n",
      "File \u001B[1;32m~\\Miniconda3\\envs\\pyxem0.14.1\\lib\\site-packages\\dask\\threaded.py:81\u001B[0m, in \u001B[0;36mget\u001B[1;34m(dsk, result, cache, num_workers, pool, **kwargs)\u001B[0m\n\u001B[0;32m     78\u001B[0m     \u001B[38;5;28;01melif\u001B[39;00m \u001B[38;5;28misinstance\u001B[39m(pool, multiprocessing\u001B[38;5;241m.\u001B[39mpool\u001B[38;5;241m.\u001B[39mPool):\n\u001B[0;32m     79\u001B[0m         pool \u001B[38;5;241m=\u001B[39m MultiprocessingPoolExecutor(pool)\n\u001B[1;32m---> 81\u001B[0m results \u001B[38;5;241m=\u001B[39m get_async(\n\u001B[0;32m     82\u001B[0m     pool\u001B[38;5;241m.\u001B[39msubmit,\n\u001B[0;32m     83\u001B[0m     pool\u001B[38;5;241m.\u001B[39m_max_workers,\n\u001B[0;32m     84\u001B[0m     dsk,\n\u001B[0;32m     85\u001B[0m     result,\n\u001B[0;32m     86\u001B[0m     cache\u001B[38;5;241m=\u001B[39mcache,\n\u001B[0;32m     87\u001B[0m     get_id\u001B[38;5;241m=\u001B[39m_thread_get_id,\n\u001B[0;32m     88\u001B[0m     pack_exception\u001B[38;5;241m=\u001B[39mpack_exception,\n\u001B[0;32m     89\u001B[0m     \u001B[38;5;241m*\u001B[39m\u001B[38;5;241m*\u001B[39mkwargs,\n\u001B[0;32m     90\u001B[0m )\n\u001B[0;32m     92\u001B[0m \u001B[38;5;66;03m# Cleanup pools associated to dead threads\u001B[39;00m\n\u001B[0;32m     93\u001B[0m \u001B[38;5;28;01mwith\u001B[39;00m pools_lock:\n",
      "File \u001B[1;32m~\\Miniconda3\\envs\\pyxem0.14.1\\lib\\site-packages\\dask\\local.py:497\u001B[0m, in \u001B[0;36mget_async\u001B[1;34m(submit, num_workers, dsk, result, cache, get_id, rerun_exceptions_locally, pack_exception, raise_exception, callbacks, dumps, loads, chunksize, **kwargs)\u001B[0m\n\u001B[0;32m    495\u001B[0m \u001B[38;5;28;01mwhile\u001B[39;00m state[\u001B[38;5;124m\"\u001B[39m\u001B[38;5;124mwaiting\u001B[39m\u001B[38;5;124m\"\u001B[39m] \u001B[38;5;129;01mor\u001B[39;00m state[\u001B[38;5;124m\"\u001B[39m\u001B[38;5;124mready\u001B[39m\u001B[38;5;124m\"\u001B[39m] \u001B[38;5;129;01mor\u001B[39;00m state[\u001B[38;5;124m\"\u001B[39m\u001B[38;5;124mrunning\u001B[39m\u001B[38;5;124m\"\u001B[39m]:\n\u001B[0;32m    496\u001B[0m     fire_tasks(chunksize)\n\u001B[1;32m--> 497\u001B[0m     \u001B[38;5;28;01mfor\u001B[39;00m key, res_info, failed \u001B[38;5;129;01min\u001B[39;00m \u001B[43mqueue_get\u001B[49m\u001B[43m(\u001B[49m\u001B[43mqueue\u001B[49m\u001B[43m)\u001B[49m\u001B[38;5;241m.\u001B[39mresult():\n\u001B[0;32m    498\u001B[0m         \u001B[38;5;28;01mif\u001B[39;00m failed:\n\u001B[0;32m    499\u001B[0m             exc, tb \u001B[38;5;241m=\u001B[39m loads(res_info)\n",
      "File \u001B[1;32m~\\Miniconda3\\envs\\pyxem0.14.1\\lib\\site-packages\\dask\\local.py:127\u001B[0m, in \u001B[0;36mqueue_get\u001B[1;34m(q)\u001B[0m\n\u001B[0;32m    125\u001B[0m \u001B[38;5;28;01mwhile\u001B[39;00m \u001B[38;5;28;01mTrue\u001B[39;00m:\n\u001B[0;32m    126\u001B[0m     \u001B[38;5;28;01mtry\u001B[39;00m:\n\u001B[1;32m--> 127\u001B[0m         \u001B[38;5;28;01mreturn\u001B[39;00m \u001B[43mq\u001B[49m\u001B[38;5;241;43m.\u001B[39;49m\u001B[43mget\u001B[49m\u001B[43m(\u001B[49m\u001B[43mblock\u001B[49m\u001B[38;5;241;43m=\u001B[39;49m\u001B[38;5;28;43;01mTrue\u001B[39;49;00m\u001B[43m,\u001B[49m\u001B[43m \u001B[49m\u001B[43mtimeout\u001B[49m\u001B[38;5;241;43m=\u001B[39;49m\u001B[38;5;241;43m0.1\u001B[39;49m\u001B[43m)\u001B[49m\n\u001B[0;32m    128\u001B[0m     \u001B[38;5;28;01mexcept\u001B[39;00m Empty:\n\u001B[0;32m    129\u001B[0m         \u001B[38;5;28;01mpass\u001B[39;00m\n",
      "File \u001B[1;32m~\\Miniconda3\\envs\\pyxem0.14.1\\lib\\queue.py:180\u001B[0m, in \u001B[0;36mQueue.get\u001B[1;34m(self, block, timeout)\u001B[0m\n\u001B[0;32m    178\u001B[0m         \u001B[38;5;28;01mif\u001B[39;00m remaining \u001B[38;5;241m<\u001B[39m\u001B[38;5;241m=\u001B[39m \u001B[38;5;241m0.0\u001B[39m:\n\u001B[0;32m    179\u001B[0m             \u001B[38;5;28;01mraise\u001B[39;00m Empty\n\u001B[1;32m--> 180\u001B[0m         \u001B[38;5;28;43mself\u001B[39;49m\u001B[38;5;241;43m.\u001B[39;49m\u001B[43mnot_empty\u001B[49m\u001B[38;5;241;43m.\u001B[39;49m\u001B[43mwait\u001B[49m\u001B[43m(\u001B[49m\u001B[43mremaining\u001B[49m\u001B[43m)\u001B[49m\n\u001B[0;32m    181\u001B[0m item \u001B[38;5;241m=\u001B[39m \u001B[38;5;28mself\u001B[39m\u001B[38;5;241m.\u001B[39m_get()\n\u001B[0;32m    182\u001B[0m \u001B[38;5;28mself\u001B[39m\u001B[38;5;241m.\u001B[39mnot_full\u001B[38;5;241m.\u001B[39mnotify()\n",
      "File \u001B[1;32m~\\Miniconda3\\envs\\pyxem0.14.1\\lib\\threading.py:324\u001B[0m, in \u001B[0;36mCondition.wait\u001B[1;34m(self, timeout)\u001B[0m\n\u001B[0;32m    322\u001B[0m \u001B[38;5;28;01melse\u001B[39;00m:\n\u001B[0;32m    323\u001B[0m     \u001B[38;5;28;01mif\u001B[39;00m timeout \u001B[38;5;241m>\u001B[39m \u001B[38;5;241m0\u001B[39m:\n\u001B[1;32m--> 324\u001B[0m         gotit \u001B[38;5;241m=\u001B[39m \u001B[43mwaiter\u001B[49m\u001B[38;5;241;43m.\u001B[39;49m\u001B[43macquire\u001B[49m\u001B[43m(\u001B[49m\u001B[38;5;28;43;01mTrue\u001B[39;49;00m\u001B[43m,\u001B[49m\u001B[43m \u001B[49m\u001B[43mtimeout\u001B[49m\u001B[43m)\u001B[49m\n\u001B[0;32m    325\u001B[0m     \u001B[38;5;28;01melse\u001B[39;00m:\n\u001B[0;32m    326\u001B[0m         gotit \u001B[38;5;241m=\u001B[39m waiter\u001B[38;5;241m.\u001B[39macquire(\u001B[38;5;28;01mFalse\u001B[39;00m)\n",
      "\u001B[1;31mKeyboardInterrupt\u001B[0m: "
     ]
    }
   ],
   "source": [
    "data = signal.max(axis=[0, 1, 2, 3]).data\n",
    "data.compute()\n",
    "print(data)"
   ]
  },
  {
   "cell_type": "code",
   "execution_count": null,
   "metadata": {
    "collapsed": false,
    "jupyter": {
     "outputs_hidden": false
    },
    "pycharm": {
     "is_executing": true,
     "name": "#%%\n"
    }
   },
   "outputs": [],
   "source": [
    "print(data)"
   ]
  },
  {
   "cell_type": "code",
   "execution_count": null,
   "metadata": {
    "collapsed": false,
    "jupyter": {
     "outputs_hidden": false
    },
    "pycharm": {
     "is_executing": true,
     "name": "#%%\n"
    }
   },
   "outputs": [],
   "source": [
    "print('test')"
   ]
  },
  {
   "cell_type": "code",
   "execution_count": 21,
   "metadata": {
    "collapsed": false,
    "jupyter": {
     "outputs_hidden": false
    },
    "pycharm": {
     "name": "#%%\n"
    }
   },
   "outputs": [
    {
     "data": {
      "text/plain": "<Axes manager, axes: (512, 512|128, 128)>\n            Name |   size |  index |  offset |   scale |  units \n================ | ====== | ====== | ======= | ======= | ====== \n               x |    512 |      0 |       0 |     2.3 |     nm \n               y |    512 |      0 |       0 |     2.3 |     nm \n---------------- | ------ | ------ | ------- | ------- | ------ \n              kx |    128 |      0 |    -1.2 |   0.019 | $A^{-1}$ \n              ky |    128 |      0 |    -1.2 |   0.019 | $A^{-1}$ ",
      "text/html": "<style>\ntable, th, td {\n\tborder: 1px solid black;\n\tborder-collapse: collapse;\n}\nth, td {\n\tpadding: 5px;\n}\n</style>\n<p><b>< Axes manager, axes: (512, 512|128, 128) ></b></p>\n<table style='width:100%'>\n\n<tr> \n<th>Navigation axis name</th> \n<th>size</th> \n<th>index</th> \n<th>offset</th> \n<th>scale</th> \n<th>units</th> </tr>\n<tr> \n<td>x</td> \n<td>512</td> \n<td>0</td> \n<td>0.0</td> \n<td>2.315</td> \n<td>nm</td> </tr>\n<tr> \n<td>y</td> \n<td>512</td> \n<td>0</td> \n<td>0.0</td> \n<td>2.315</td> \n<td>nm</td> </tr></table>\n<table style='width:100%'>\n\n<tr> \n<th>Signal axis name</th> \n<th>size</th> \n<th></th> \n<th>offset</th> \n<th>scale</th> \n<th>units</th> </tr>\n<tr> \n<td>kx</td> \n<td>128</td> \n<td></td> \n<td>-1.2138</td> \n<td>0.01904</td> \n<td>$A^{-1}$</td> </tr>\n<tr> \n<td>ky</td> \n<td>128</td> \n<td></td> \n<td>-1.2138</td> \n<td>0.01904</td> \n<td>$A^{-1}$</td> </tr></table>\n"
     },
     "execution_count": 21,
     "metadata": {},
     "output_type": "execute_result"
    }
   ],
   "source": [
    "signal.axes_manager"
   ]
  },
  {
   "cell_type": "code",
   "execution_count": 22,
   "metadata": {
    "collapsed": false,
    "jupyter": {
     "outputs_hidden": false
    },
    "pycharm": {
     "name": "#%%\n"
    }
   },
   "outputs": [
    {
     "name": "stdout",
     "output_type": "stream",
     "text": [
      "[########################################] | 100% Completed |  2min 46.9s\n"
     ]
    }
   ],
   "source": [
    "#image = (signal*(2**16-1)).mean(axis=[0, 1])\n",
    "#image = binned.mean(axis=[0, 1])\n",
    "image = preprocessed_signal.mean(axis=[0, 1])\n",
    "image.compute()"
   ]
  },
  {
   "cell_type": "code",
   "execution_count": 23,
   "metadata": {
    "collapsed": false,
    "jupyter": {
     "outputs_hidden": false
    },
    "pycharm": {
     "name": "#%%\n"
    }
   },
   "outputs": [],
   "source": [
    "im = image.deepcopy()"
   ]
  },
  {
   "cell_type": "code",
   "execution_count": 40,
   "metadata": {
    "collapsed": false,
    "jupyter": {
     "outputs_hidden": false
    },
    "pycharm": {
     "name": "#%%\n"
    }
   },
   "outputs": [
    {
     "name": "stderr",
     "output_type": "stream",
     "text": [
      "WARNING:hyperspy.misc.signal_tools:Axis calibration mismatch detected along axis 0. The calibration of signal 0 along this axis will be applied to all signals after stacking.\n"
     ]
    }
   ],
   "source": [
    "image.change_dtype('uint16')"
   ]
  },
  {
   "cell_type": "code",
   "execution_count": 55,
   "metadata": {
    "collapsed": false,
    "jupyter": {
     "outputs_hidden": false
    },
    "pycharm": {
     "name": "#%%\n"
    }
   },
   "outputs": [
    {
     "data": {
      "text/plain": [
       "65536"
      ]
     },
     "execution_count": 55,
     "metadata": {},
     "output_type": "execute_result"
    }
   ],
   "source": [
    "2**16"
   ]
  },
  {
   "cell_type": "code",
   "execution_count": 52,
   "metadata": {
    "collapsed": false,
    "jupyter": {
     "outputs_hidden": false
    },
    "pycharm": {
     "name": "#%%\n"
    }
   },
   "outputs": [
    {
     "data": {
      "text/plain": [
       "array([65106.0457243])"
      ]
     },
     "execution_count": 52,
     "metadata": {},
     "output_type": "execute_result"
    }
   ],
   "source": [
    "image.max(axis=[0, 1]).data"
   ]
  },
  {
   "cell_type": "code",
   "execution_count": 25,
   "metadata": {
    "collapsed": false,
    "jupyter": {
     "outputs_hidden": false
    },
    "pycharm": {
     "name": "#%%\n"
    }
   },
   "outputs": [
    {
     "name": "stdout",
     "output_type": "stream",
     "text": [
      "Minimum scattering vector: 0.004612922335229383 $A^{-1}$\n",
      "Maximum scattering vector: 0.7001057239470767 $A^{-1}$\n",
      "25\n"
     ]
    },
    {
     "data": {
      "text/plain": "<matplotlib.image.AxesImage at 0x2230d4bfa00>"
     },
     "execution_count": 25,
     "metadata": {},
     "output_type": "execute_result"
    }
   ],
   "source": [
    "a = 4.04\n",
    "minimum_r = 8 #\n",
    "cutoff_hkl = np.array([2, 2, 0]) #Make a mask with cutoff at a given HKL\n",
    "cuton_mrad = 4 #Make a mask that cutsoff everything up a certain mrad\n",
    "\n",
    "#Set up mask arrays\n",
    "nx, ny = image.axes_manager.signal_shape\n",
    "mask = np.zeros((nx, ny), dtype=bool)\n",
    "direct_beam_mask = np.zeros((nx, ny), dtype=bool)\n",
    "cutoff_mask = np.zeros((nx, ny), dtype=bool)\n",
    "\n",
    "#Setting cutoffs\n",
    "cutoff_g = np.sqrt(np.sum(cutoff_hkl**2 / a**2))\n",
    "cuton_k = cuton_mrad / 1000 / get_electron_wavelength(image.metadata.Acquisition_instrument.TEM.beam_energy/1000)\n",
    "print(f'Minimum scattering vector: {cuton_k} {image.axes_manager[0].units}\\nMaximum scattering vector: {cutoff_g} {image.axes_manager[0].units}')\n",
    "X, Y = np.meshgrid(image.axes_manager[0].axis, image.axes_manager[1].axis)\n",
    "#Set outer cutoff\n",
    "R = np.sqrt(X**2 + Y**2)\n",
    "cutoff_mask[R>=cutoff_g] = True\n",
    "#Set inner cutoff\n",
    "R = np.sqrt(X**2 + Y**2)\n",
    "direct_beam_mask[R<=cuton_k] = True\n",
    "\n",
    "#Mask reflections\n",
    "blob_kwargs = {\n",
    "    'min_sigma': 1,\n",
    "    'max_sigma': 15,\n",
    "    'num_sigma': 100,\n",
    "    'overlap': 0,\n",
    "    'threshold': 1.4E1,\n",
    "}\n",
    "\n",
    "# Look for blobs (reflections)\n",
    "blobs = blob_log(image.data, **blob_kwargs)\n",
    "print(len(blobs))\n",
    "xs, ys = np.arange(0, nx), np.arange(0, ny)\n",
    "X, Y = np.meshgrid(xs, ys)\n",
    "for blob in blobs:\n",
    "    y, x, r = blob  # x and y axes are flipped in hyperspy compared to numpy\n",
    "    r = np.sqrt(2) * r  # Scale blob radius to appear more like a real radius\n",
    "    r = max([minimum_r, r])  # Make sure that the radius is at least the specified minimum radius\n",
    "    R = np.sqrt((X - x) ** 2 + (Y - y) ** 2)\n",
    "    mask[R < r] = True\n",
    "\n",
    "fig, axes = plt.subplots(nrows=1, ncols=6, sharex=True, sharey=True)\n",
    "axes[0].imshow(image.data)\n",
    "axes[1].imshow(mask)\n",
    "axes[2].imshow(direct_beam_mask)\n",
    "axes[3].imshow(cutoff_mask)\n",
    "axes[4].imshow((image.data * ~(mask + direct_beam_mask))**0.256)\n",
    "axes[5].imshow((image.data * ~cutoff_mask)**0.256)"
   ]
  }
 ],
 "metadata": {
  "kernelspec": {
   "display_name": "Python 3 (ipykernel)",
   "language": "python",
   "name": "python3"
  },
  "language_info": {
   "codemirror_mode": {
    "name": "ipython",
    "version": 3
   },
   "file_extension": ".py",
   "mimetype": "text/x-python",
   "name": "python",
   "nbconvert_exporter": "python",
   "pygments_lexer": "ipython3",
   "version": "3.9.5"
  }
 },
 "nbformat": 4,
 "nbformat_minor": 4
}