{
 "cells": [
  {
   "cell_type": "code",
   "execution_count": 4,
   "outputs": [
    {
     "name": "stderr",
     "output_type": "stream",
     "text": [
      "WARNING:silx.opencl.common:Unable to import pyOpenCl. Please install it from: https://pypi.org/project/pyopencl\n"
     ]
    }
   ],
   "source": [
    "%matplotlib qt\n",
    "import matplotlib.pyplot as plt\n",
    "import hyperspy.api as hs\n",
    "import pyxem as pxm\n",
    "import numpy as np\n",
    "from pathlib import Path\n",
    "from diffsims.utils.sim_utils import get_electron_wavelength"
   ],
   "metadata": {
    "collapsed": false,
    "pycharm": {
     "name": "#%%\n"
    }
   }
  },
  {
   "cell_type": "code",
   "execution_count": 2,
   "outputs": [],
   "source": [
    "import numpy as np\n",
    "a = 4.04\n",
    "hkl = np.array([8, 0, 0])\n",
    "g = np.sqrt(np.sum(hkl**2/a**2))"
   ],
   "metadata": {
    "collapsed": false,
    "pycharm": {
     "name": "#%%\n"
    }
   }
  },
  {
   "cell_type": "code",
   "execution_count": 3,
   "outputs": [
    {
     "name": "stdout",
     "output_type": "stream",
     "text": [
      "1.9801980198019802\n"
     ]
    }
   ],
   "source": [
    "print(g)"
   ],
   "metadata": {
    "collapsed": false,
    "pycharm": {
     "name": "#%%\n"
    }
   }
  },
  {
   "cell_type": "code",
   "execution_count": 5,
   "outputs": [],
   "source": [
    "datapath = Path(r'C:\\Users\\emilc\\OneDrive - NTNU\\NORTEM\\Data\\2021_10_06_2xxx_24h_250C\\Preprocessed_data\\SPED_600x600x12_10x10_4p63x4p63_1deg_100Hz_CL12cm_NBD_alpha5_spot1p3_preprocessed.hspy')\n",
    "signal = hs.load(datapath, lazy=True)"
   ],
   "metadata": {
    "collapsed": false,
    "pycharm": {
     "name": "#%%\n"
    }
   }
  },
  {
   "cell_type": "code",
   "execution_count": 7,
   "outputs": [
    {
     "data": {
      "text/plain": "└── Diffraction\n    ├── cutoff = <LazySignal2D, title: <0.7001057239470767 $A^{-1}$ mask, dimensions: (|128, 128)>\n    ├── direct_beam = <LazySignal2D, title: >0.15949382751461458 $A^{-1}$ mask, dimensions: (|128, 128)>\n    └── reflections = <LazySignal2D, title: Reflection mask, dimensions: (|128, 128)>",
      "text/html": "<ul style=\"margin: 0px; list-style-position: outside;\">\n                    <details open>\n                    <summary style=\"display: list-item;\">\n                    <li style=\"display: inline;\">\n                    Diffraction\n                    </li></summary>\n                    \n    <ul style=\"margin: 0px; list-style-position: outside;\">\n    <li style='margin-left:1em; padding-left: 0.5em'>cutoff = &lt;LazySignal2D, title: &lt;0.7001057239470767 $A^{-1}$ mask, dimensions: (|128, 128)&gt;</li></ul>\n    \n    <ul style=\"margin: 0px; list-style-position: outside;\">\n    <li style='margin-left:1em; padding-left: 0.5em'>direct_beam = &lt;LazySignal2D, title: &gt;0.15949382751461458 $A^{-1}$ mask, dimensions: (|128, 128)&gt;</li></ul>\n    \n    <ul style=\"margin: 0px; list-style-position: outside;\">\n    <li style='margin-left:1em; padding-left: 0.5em'>reflections = &lt;LazySignal2D, title: Reflection mask, dimensions: (|128, 128)&gt;</li></ul>\n    </details></ul>"
     },
     "execution_count": 7,
     "metadata": {},
     "output_type": "execute_result"
    }
   ],
   "source": [
    "signal.metadata.Preprocessing.Masks"
   ],
   "metadata": {
    "collapsed": false,
    "pycharm": {
     "name": "#%%\n"
    }
   }
  },
  {
   "cell_type": "code",
   "execution_count": 12,
   "outputs": [],
   "source": [
    "mask = masks[0]"
   ],
   "metadata": {
    "collapsed": false,
    "pycharm": {
     "name": "#%%\n"
    }
   }
  },
  {
   "cell_type": "code",
   "execution_count": 17,
   "outputs": [
    {
     "data": {
      "text/plain": "<LazySignal2D, title: <0.7001057239470767 $A^{-1}$ mask, dimensions: (|128, 128)>",
      "text/html": "<table>\n    <tr>\n        <td>\n            <table>\n                <thead>\n                    <tr>\n                        <th> Title: </th>\n                        <td> <0.7001057239470767 $A^{-1}$ mask </td>\n                    </tr>\n                    <tr>\n                        <th> SignalType: </th>\n                        <td>  </td>\n                    </tr>\n                </thead>\n                <thead>\n                    <tr>\n                        <td>  </td>\n                        <th> Array </th>\n                        <th> Chunk </th>\n                    </tr>\n                </thead>\n                <tbody>\n                    \n                    <tr>\n                        <th> Bytes </th>\n                        <td> 16.00 kiB </td>\n                        <td> 8.00 kiB </td>\n                    </tr>\n                    \n                    <tr>\n                        <th> Shape </th>\n                        <td> (|128, 128) </td>\n                        <td> (|<b>128</b>,64) </td>\n                    </tr>\n                    <tr>\n                        <th> Count </th>\n                        <td> 3 Tasks </td>\n                        <td> 2 Chunks </td>\n                    </tr>\n                    <tr>\n                    <th> Type </th>\n                    <td> bool </td>\n                    <td> numpy.ndarray </td>\n                    </tr>\n                </tbody>\n            </table>\n        </td>\n        <td>\n            <table>\n                <thead>\n                    <tr>\n                        <th><p style=\"text-align:left;\">Navigation Axes</p>  </th>\n                        <th> <p style=\"text-align:left;\">Signal Axes</p> </th>\n                    </tr>\n                </thead>\n                <tbody>\n                    <tr>\n                        <td>  </td>\n                        <td> <svg width=\"170\" height=\"170\" style=\"stroke:rgb(0,0,0);stroke-width:1\" >\n\n  <!-- Horizontal lines -->\n  <line x1=\"0\" y1=\"0\" x2=\"120\" y2=\"0\" style=\"stroke-width:2\" />\n  <line x1=\"0\" y1=\"60\" x2=\"120\" y2=\"60\" />\n  <line x1=\"0\" y1=\"120\" x2=\"120\" y2=\"120\" style=\"stroke-width:2\" />\n\n  <!-- Vertical lines -->\n  <line x1=\"0\" y1=\"0\" x2=\"0\" y2=\"120\" style=\"stroke-width:2\" />\n  <line x1=\"120\" y1=\"0\" x2=\"120\" y2=\"120\" style=\"stroke-width:2\" />\n\n  <!-- Colored Rectangle -->\n  <polygon points=\"0.0,0.0 120.0,0.0 120.0,120.0 0.0,120.0\" style=\"fill:#ECB172A0;stroke-width:0\"/>\n\n  <!-- Text -->\n  <text x=\"60.000000\" y=\"140.000000\" font-size=\"1.0rem\" font-weight=\"100\" text-anchor=\"middle\" >128</text>\n  <text x=\"140.000000\" y=\"60.000000\" font-size=\"1.0rem\" font-weight=\"100\" text-anchor=\"middle\" transform=\"rotate(-90,140.000000,60.000000)\">128</text>\n</svg> </td>\n                    </tr>\n                </tbody>\n            </table>\n        </td>\n    </tr>\n</table>"
     },
     "execution_count": 17,
     "metadata": {},
     "output_type": "execute_result"
    }
   ],
   "source": [
    "mask[1]"
   ],
   "metadata": {
    "collapsed": false,
    "pycharm": {
     "name": "#%%\n"
    }
   }
  },
  {
   "cell_type": "code",
   "execution_count": 18,
   "outputs": [
    {
     "name": "stdout",
     "output_type": "stream",
     "text": [
      "[<LazySignal2D, title: <0.7001057239470767 $A^{-1}$ mask, dimensions: (|128, 128)>, <LazySignal2D, title: >0.15949382751461458 $A^{-1}$ mask, dimensions: (|128, 128)>, <LazySignal2D, title: Reflection mask, dimensions: (|128, 128)>]\n"
     ]
    }
   ],
   "source": [
    "masks = [mask[1] for mask in signal.metadata.Preprocessing.Masks.Diffraction]\n",
    "print(masks)"
   ],
   "metadata": {
    "collapsed": false,
    "pycharm": {
     "name": "#%%\n"
    }
   }
  },
  {
   "cell_type": "code",
   "execution_count": 30,
   "outputs": [
    {
     "ename": "AttributeError",
     "evalue": "diffraction",
     "output_type": "error",
     "traceback": [
      "\u001B[1;31m---------------------------------------------------------------------------\u001B[0m",
      "\u001B[1;31mAttributeError\u001B[0m                            Traceback (most recent call last)",
      "Input \u001B[1;32mIn [30]\u001B[0m, in \u001B[0;36m<cell line: 1>\u001B[1;34m()\u001B[0m\n\u001B[1;32m----> 1\u001B[0m \u001B[43msignal\u001B[49m\u001B[38;5;241;43m.\u001B[39;49m\u001B[43mmetadata\u001B[49m\u001B[38;5;241;43m.\u001B[39;49m\u001B[43mPreprocessing\u001B[49m\u001B[38;5;241;43m.\u001B[39;49m\u001B[43mMasks\u001B[49m\u001B[38;5;241;43m.\u001B[39;49m\u001B[43mdiffraction\u001B[49m\n",
      "File \u001B[1;32m~\\Miniconda3\\envs\\pyxem0.14.1\\lib\\site-packages\\hyperspy\\misc\\utils.py:453\u001B[0m, in \u001B[0;36mDictionaryTreeBrowser.__getattr__\u001B[1;34m(self, name)\u001B[0m\n\u001B[0;32m    451\u001B[0m     \u001B[38;5;28;01mreturn\u001B[39;00m \u001B[38;5;28mself\u001B[39m\u001B[38;5;241m.\u001B[39m\u001B[38;5;18m__dict__\u001B[39m[name][\u001B[38;5;124m\"\u001B[39m\u001B[38;5;124m_dtb_value_\u001B[39m\u001B[38;5;124m\"\u001B[39m]\n\u001B[0;32m    452\u001B[0m \u001B[38;5;28;01melse\u001B[39;00m:\n\u001B[1;32m--> 453\u001B[0m     \u001B[38;5;28;01mraise\u001B[39;00m \u001B[38;5;167;01mAttributeError\u001B[39;00m(name)\n",
      "\u001B[1;31mAttributeError\u001B[0m: diffraction"
     ]
    }
   ],
   "source": [
    "signal.metadata.Preprocessing.Masks.diffraction"
   ],
   "metadata": {
    "collapsed": false,
    "pycharm": {
     "name": "#%%\n"
    }
   }
  },
  {
   "cell_type": "code",
   "execution_count": 31,
   "outputs": [
    {
     "data": {
      "text/plain": "<matplotlib.image.AxesImage at 0x2ca9e84bc70>"
     },
     "execution_count": 31,
     "metadata": {},
     "output_type": "execute_result"
    }
   ],
   "source": [
    "fig, ax = plt.subplots()\n",
    "ax.imshow(diffmask)"
   ],
   "metadata": {
    "collapsed": false,
    "pycharm": {
     "name": "#%%\n"
    }
   }
  },
  {
   "cell_type": "code",
   "execution_count": 24,
   "outputs": [
    {
     "data": {
      "text/plain": "array([[ True,  True,  True, ...,  True,  True,  True],\n       [ True,  True,  True, ...,  True,  True,  True],\n       [ True,  True,  True, ...,  True,  True,  True],\n       ...,\n       [ True,  True,  True, ...,  True,  True,  True],\n       [ True,  True,  True, ...,  True,  True,  True],\n       [ True,  True,  True, ...,  True,  True,  True]])"
     },
     "execution_count": 24,
     "metadata": {},
     "output_type": "execute_result"
    }
   ],
   "source": [
    "diffmask"
   ],
   "metadata": {
    "collapsed": false,
    "pycharm": {
     "name": "#%%\n"
    }
   }
  },
  {
   "cell_type": "code",
   "execution_count": 2,
   "outputs": [
    {
     "name": "stderr",
     "output_type": "stream",
     "text": [
      "C:\\Users\\emilc\\Miniconda3\\envs\\pyxem0.14.1\\lib\\site-packages\\hyperspy\\misc\\utils.py:471: VisibleDeprecationWarning: Use of the `binned` attribute in metadata is going to be deprecated in v2.0. Set the `axis.is_binned` attribute instead. \n",
      "  warnings.warn(\n",
      "C:\\Users\\emilc\\Miniconda3\\envs\\pyxem0.14.1\\lib\\site-packages\\hyperspy\\io.py:560: VisibleDeprecationWarning: Loading old file version. The binned attribute has been moved from metadata.Signal to axis.is_binned. Setting this attribute for all signal axes instead.\n",
      "  warnings.warn('Loading old file version. The binned attribute '\n"
     ]
    }
   ],
   "source": [
    "datapath = Path(r'C:\\Users\\emilc\\OneDrive - NTNU\\NORTEM\\Data\\2021_10_06_2xxx_24h_250C\\Site2\\SPED_600x600x12_10x10_4p63x4p63_1deg_100Hz_CL12cm_NBD_alpha5_spot1p3.hspy')\n",
    "raw_signal = hs.load(datapath, lazy=True)\n",
    "preprocessed_signal = hs.load(datapath.with_name(f'{datapath.stem}_preprocessed.hspy'), lazy=True)"
   ],
   "metadata": {
    "collapsed": false,
    "pycharm": {
     "name": "#%%\n"
    }
   }
  },
  {
   "cell_type": "code",
   "execution_count": 3,
   "outputs": [],
   "source": [
    "shifts = preprocessed_signal.metadata.Preprocessing.Centering.Shifts\n",
    "raw_signal = raw_signal.inav[0:512, 0:512]\n",
    "raw_signal.shift_diffraction(shifts.isig[0], shifts.isig[1], inplace=True)"
   ],
   "metadata": {
    "collapsed": false,
    "pycharm": {
     "name": "#%%\n"
    }
   }
  },
  {
   "cell_type": "code",
   "execution_count": 14,
   "outputs": [
    {
     "name": "stdout",
     "output_type": "stream",
     "text": [
      "[########################################] | 100% Completed |  9min 30.1s\n"
     ]
    }
   ],
   "source": [
    "mean = raw_signal.mean(axis=[0, 1])\n",
    "mean.compute()"
   ],
   "metadata": {
    "collapsed": false,
    "pycharm": {
     "name": "#%%\n"
    }
   }
  },
  {
   "cell_type": "code",
   "execution_count": 15,
   "outputs": [
    {
     "data": {
      "text/plain": "[<hyperspy.drawing._widgets.line2d.Line2DWidget at 0x1e3825c39a0>,\n <hyperspy.drawing._widgets.line2d.Line2DWidget at 0x1e3fdca0250>]"
     },
     "execution_count": 15,
     "metadata": {},
     "output_type": "execute_result"
    }
   ],
   "source": [
    "mean.plot(norm='symlog')\n",
    "lines = {i: hs.roi.Line2DROI(0, 0, 0.1) for i in range(2)}\n",
    "[lines[line].add_widget(mean) for line in lines]"
   ],
   "metadata": {
    "collapsed": false,
    "pycharm": {
     "name": "#%%\n"
    }
   }
  },
  {
   "cell_type": "code",
   "execution_count": 19,
   "outputs": [
    {
     "name": "stdout",
     "output_type": "stream",
     "text": [
      "Line 0: (-0.9459047447218045, 0.5446118227186147) <-> (0.9554593381028329, -0.5541664160996431\n",
      "Line 1: (-0.5255026359565581, -0.9363501513407761) <-> (0.5637210094806715, 0.984123118245918\n"
     ]
    }
   ],
   "source": [
    "sep='\\n'\n",
    "print(sep.join([f'Line {line}: ({lines[line].x1}, {lines[line].y1}) <-> ({lines[line].x2}, {lines[line].y2}' for line in lines]))"
   ],
   "metadata": {
    "collapsed": false,
    "pycharm": {
     "name": "#%%\n"
    }
   }
  },
  {
   "cell_type": "code",
   "execution_count": 21,
   "outputs": [
    {
     "data": {
      "text/plain": "[[<hyperspy.drawing._widgets.vertical_line.VerticalLineWidget at 0x1e385a16140>,\n  <hyperspy.drawing._widgets.vertical_line.VerticalLineWidget at 0x1e3848c4f40>],\n [<hyperspy.drawing._widgets.vertical_line.VerticalLineWidget at 0x1e3848c52a0>,\n  <hyperspy.drawing._widgets.vertical_line.VerticalLineWidget at 0x1e3848c7bb0>]]"
     },
     "execution_count": 21,
     "metadata": {},
     "output_type": "execute_result"
    }
   ],
   "source": [
    "profiles = {line: lines[line](mean) for line in lines}\n",
    "[profiles[profile].plot(norm='log') for profile in profiles]\n",
    "points = {profile: [hs.roi.Point1DROI(0), hs.roi.Point1DROI(0)] for profile in profiles}\n",
    "[[point.add_widget(profiles[profile]) for point in points[profile]] for profile in profiles]"
   ],
   "metadata": {
    "collapsed": false,
    "pycharm": {
     "name": "#%%\n"
    }
   }
  },
  {
   "cell_type": "code",
   "execution_count": 23,
   "outputs": [
    {
     "name": "stdout",
     "output_type": "stream",
     "text": [
      "Profile 0 peaks: [0.1045723284022796, 2.081939992736294]\n",
      "Profile 1 peaks: [0.08528197052928965, 2.056243067206206]\n"
     ]
    }
   ],
   "source": [
    "sep='\\n'\n",
    "print(sep.join([f'Profile {profile} peaks: {[points[profile][i].value for i in range(len(points[profile]))]}' for profile in profiles]))"
   ],
   "metadata": {
    "collapsed": false,
    "pycharm": {
     "name": "#%%\n"
    }
   }
  },
  {
   "cell_type": "code",
   "execution_count": 28,
   "outputs": [
    {
     "data": {
      "text/plain": "2"
     },
     "execution_count": 28,
     "metadata": {},
     "output_type": "execute_result"
    }
   ],
   "source": [
    "len(points[0])"
   ],
   "metadata": {
    "collapsed": false,
    "pycharm": {
     "name": "#%%\n"
    }
   }
  },
  {
   "cell_type": "code",
   "execution_count": 33,
   "outputs": [
    {
     "name": "stdout",
     "output_type": "stream",
     "text": [
      "Profile 0 peak to peak distance: 207.99999999999997\n",
      "Profile 1 peak to peak distance: 208.00000000000003\n",
      "Profile 0 scale: 0.009520182787509521\n",
      "Profile 1 scale: 0.009520182787509518\n",
      "Mean calibration: 0.00952018278750952\n",
      "std calibration: 1.734723475976807e-18\n",
      "Using mean calibration as calibration: 0.00952\n",
      "Preprocessed signal is binned with scales [2.0, 2.0]\n",
      "Preprocessed signal has calibration [0.01904, 0.01904]\n"
     ]
    }
   ],
   "source": [
    "lengths = {profile: (np.max([points[profile][i].value for i in range(len(points[profile]))]) - np.min([points[profile][i].value for i in range(len(points[profile]))])) / profiles[profile].axes_manager[-1].scale for profile in profiles}\n",
    "\n",
    "sep = '\\n'\n",
    "print(sep.join([f'Profile {profile} peak to peak distance: {lengths[profile]}' for profile in profiles]))\n",
    "\n",
    "hkl_values = {profile: np.array([8, 0, 0]) for profile in profiles}\n",
    "a = 4.04\n",
    "g_values = {profile: np.sqrt(np.sum((hkl_values[profile]/a)**2)) for profile in profiles}\n",
    "scales = {profile: g_values[profile] / lengths[profile] for profile in profiles}\n",
    "sep='\\n'\n",
    "print(sep.join([f'Profile {profile} scale: {scales[profile]}' for profile in profiles]))\n",
    "\n",
    "print(f'Mean calibration: {np.mean(list(scales.values()))}')\n",
    "print(f'std calibration: {np.std(list(scales.values()))}')\n",
    "\n",
    "scale = np.round(np.mean(list(scales.values())), decimals=5)\n",
    "print(f'Using mean calibration as calibration: {scale:.05f}')\n",
    "\n",
    "binning_factors = [raw_signal.axes_manager.signal_shape[i]/preprocessed_signal.axes_manager.signal_shape[i] for i in range(2)]\n",
    "print(f'Preprocessed signal is binned with scales {binning_factors}')\n",
    "rescaled_scales = [scale*binning_factor for binning_factor in binning_factors]\n",
    "print(f'Preprocessed signal has calibration {rescaled_scales}')\n",
    "for i, scale in enumerate(rescaled_scales):\n",
    "    preprocessed_signal.axes_manager[preprocessed_signal.axes_manager.navigation_dimension+i].scale = scale"
   ],
   "metadata": {
    "collapsed": false,
    "pycharm": {
     "name": "#%%\n"
    }
   }
  },
  {
   "cell_type": "code",
   "execution_count": 34,
   "outputs": [
    {
     "data": {
      "text/plain": "<Axes manager, axes: (512, 512|128, 128)>\n            Name |   size |  index |  offset |   scale |  units \n================ | ====== | ====== | ======= | ======= | ====== \n               x |    512 |      0 |       0 |     4.6 |     nm \n               y |    512 |      0 |       0 |     4.6 |     nm \n---------------- | ------ | ------ | ------- | ------- | ------ \n              kx |    128 |      0 |    -1.2 |   0.019 | $A^{-1}$ \n              ky |    128 |      0 |    -1.2 |   0.019 | $A^{-1}$ ",
      "text/html": "<style>\ntable, th, td {\n\tborder: 1px solid black;\n\tborder-collapse: collapse;\n}\nth, td {\n\tpadding: 5px;\n}\n</style>\n<p><b>< Axes manager, axes: (512, 512|128, 128) ></b></p>\n<table style='width:100%'>\n\n<tr> \n<th>Navigation axis name</th> \n<th>size</th> \n<th>index</th> \n<th>offset</th> \n<th>scale</th> \n<th>units</th> </tr>\n<tr> \n<td>x</td> \n<td>512</td> \n<td>0</td> \n<td>0.0</td> \n<td>4.63</td> \n<td>nm</td> </tr>\n<tr> \n<td>y</td> \n<td>512</td> \n<td>0</td> \n<td>0.0</td> \n<td>4.63</td> \n<td>nm</td> </tr></table>\n<table style='width:100%'>\n\n<tr> \n<th>Signal axis name</th> \n<th>size</th> \n<th></th> \n<th>offset</th> \n<th>scale</th> \n<th>units</th> </tr>\n<tr> \n<td>kx</td> \n<td>128</td> \n<td></td> \n<td>-1.2138</td> \n<td>0.01904</td> \n<td>$A^{-1}$</td> </tr>\n<tr> \n<td>ky</td> \n<td>128</td> \n<td></td> \n<td>-1.2138</td> \n<td>0.01904</td> \n<td>$A^{-1}$</td> </tr></table>\n"
     },
     "execution_count": 34,
     "metadata": {},
     "output_type": "execute_result"
    }
   ],
   "source": [
    "preprocessed_signal.axes_manager"
   ],
   "metadata": {
    "collapsed": false,
    "pycharm": {
     "name": "#%%\n"
    }
   }
  },
  {
   "cell_type": "code",
   "execution_count": 4,
   "outputs": [],
   "source": [
    "from skimage.feature import blob_log"
   ],
   "metadata": {
    "collapsed": false,
    "pycharm": {
     "name": "#%%\n"
    }
   }
  },
  {
   "cell_type": "markdown",
   "source": [
    "## Mask reflections"
   ],
   "metadata": {
    "collapsed": false,
    "pycharm": {
     "name": "#%% md\n"
    }
   }
  },
  {
   "cell_type": "code",
   "execution_count": null,
   "outputs": [],
   "source": [],
   "metadata": {
    "collapsed": false,
    "pycharm": {
     "name": "#%%\n"
    }
   }
  },
  {
   "cell_type": "code",
   "execution_count": 5,
   "outputs": [],
   "source": [
    "binned = raw_signal.rebin(scale=(1, 1, 2, 2))"
   ],
   "metadata": {
    "collapsed": false,
    "pycharm": {
     "name": "#%%\n"
    }
   }
  },
  {
   "cell_type": "code",
   "execution_count": null,
   "outputs": [],
   "source": [
    "data = signal.max(axis=[0, 1, 2, 3]).data\n",
    "data.compute()\n",
    "print(data)"
   ],
   "metadata": {
    "collapsed": false,
    "pycharm": {
     "name": "#%%\n",
     "is_executing": true
    }
   }
  },
  {
   "cell_type": "code",
   "execution_count": null,
   "outputs": [],
   "source": [
    "print(data)"
   ],
   "metadata": {
    "collapsed": false,
    "pycharm": {
     "name": "#%%\n",
     "is_executing": true
    }
   }
  },
  {
   "cell_type": "code",
   "execution_count": null,
   "outputs": [],
   "source": [
    "print('test')"
   ],
   "metadata": {
    "collapsed": false,
    "pycharm": {
     "name": "#%%\n",
     "is_executing": true
    }
   }
  },
  {
   "cell_type": "code",
   "execution_count": null,
   "outputs": [],
   "source": [],
   "metadata": {
    "collapsed": false,
    "pycharm": {
     "name": "#%%\n"
    }
   }
  },
  {
   "cell_type": "code",
   "execution_count": 6,
   "outputs": [
    {
     "name": "stdout",
     "output_type": "stream",
     "text": [
      "[########################################] | 100% Completed |  8min 51.2s\n"
     ]
    }
   ],
   "source": [
    "#image = (signal*(2**16-1)).mean(axis=[0, 1])\n",
    "image = binned.mean(axis=[0, 1])\n",
    "image.compute()"
   ],
   "metadata": {
    "collapsed": false,
    "pycharm": {
     "name": "#%%\n"
    }
   }
  },
  {
   "cell_type": "code",
   "execution_count": 7,
   "outputs": [],
   "source": [
    "im = image.deepcopy()"
   ],
   "metadata": {
    "collapsed": false,
    "pycharm": {
     "name": "#%%\n"
    }
   }
  },
  {
   "cell_type": "code",
   "execution_count": 40,
   "outputs": [
    {
     "name": "stderr",
     "output_type": "stream",
     "text": [
      "WARNING:hyperspy.misc.signal_tools:Axis calibration mismatch detected along axis 0. The calibration of signal 0 along this axis will be applied to all signals after stacking.\n"
     ]
    }
   ],
   "source": [
    "image.change_dtype('uint16')"
   ],
   "metadata": {
    "collapsed": false,
    "pycharm": {
     "name": "#%%\n"
    }
   }
  },
  {
   "cell_type": "code",
   "execution_count": 55,
   "outputs": [
    {
     "data": {
      "text/plain": "65536"
     },
     "execution_count": 55,
     "metadata": {},
     "output_type": "execute_result"
    }
   ],
   "source": [
    "2**16"
   ],
   "metadata": {
    "collapsed": false,
    "pycharm": {
     "name": "#%%\n"
    }
   }
  },
  {
   "cell_type": "code",
   "execution_count": 52,
   "outputs": [
    {
     "data": {
      "text/plain": "array([65106.0457243])"
     },
     "execution_count": 52,
     "metadata": {},
     "output_type": "execute_result"
    }
   ],
   "source": [
    "image.max(axis=[0, 1]).data"
   ],
   "metadata": {
    "collapsed": false,
    "pycharm": {
     "name": "#%%\n"
    }
   }
  },
  {
   "cell_type": "code",
   "execution_count": 10,
   "outputs": [
    {
     "name": "stdout",
     "output_type": "stream",
     "text": [
      "Minimum scattering vector: 0.15949382751461458 $A^{-1}$\n",
      "Maximum scattering vector: 0.7001057239470767 $A^{-1}$\n",
      "25\n"
     ]
    },
    {
     "data": {
      "text/plain": "<matplotlib.image.AxesImage at 0x24b331019f0>"
     },
     "execution_count": 10,
     "metadata": {},
     "output_type": "execute_result"
    }
   ],
   "source": [
    "a = 4.04\n",
    "minimum_r = 8 #\n",
    "cutoff_hkl = np.array([2, 2, 0]) #Make a mask with cutoff at a given HKL\n",
    "cuton_mrad = 4 #Make a mask that cutsoff everything up a certain mrad\n",
    "\n",
    "#Set up mask arrays\n",
    "nx, ny = image.axes_manager.signal_shape\n",
    "mask = np.zeros((nx, ny), dtype=bool)\n",
    "direct_beam_mask = np.zeros((nx, ny), dtype=bool)\n",
    "cutoff_mask = np.zeros((nx, ny), dtype=bool)\n",
    "\n",
    "#Setting cutoffs\n",
    "cutoff_g = np.sqrt(np.sum(cutoff_hkl**2 / a**2))\n",
    "cuton_k = cuton_mrad / 1000 / get_electron_wavelength(image.metadata.Acquisition_instrument.TEM.beam_energy/1000)\n",
    "print(f'Minimum scattering vector: {cuton_k} {image.axes_manager[0].units}\\nMaximum scattering vector: {cutoff_g} {image.axes_manager[0].units}')\n",
    "X, Y = np.meshgrid(image.axes_manager[0].axis, image.axes_manager[1].axis)\n",
    "#Set outer cutoff\n",
    "R = np.sqrt(X**2 + Y**2)\n",
    "cutoff_mask[R>=cutoff_g] = True\n",
    "#Set inner cutoff\n",
    "R = np.sqrt(X**2 + Y**2)\n",
    "direct_beam_mask[R<=cuton_k] = True\n",
    "\n",
    "#Mask reflections\n",
    "blob_kwargs = {\n",
    "    'min_sigma': 1,\n",
    "    'max_sigma': 15,\n",
    "    'num_sigma': 100,\n",
    "    'overlap': 0,\n",
    "    'threshold': 1.5E1,\n",
    "}\n",
    "\n",
    "# Look for blobs (reflections)\n",
    "blobs = blob_log(image.data, **blob_kwargs)\n",
    "print(len(blobs))\n",
    "xs, ys = np.arange(0, nx), np.arange(0, ny)\n",
    "X, Y = np.meshgrid(xs, ys)\n",
    "for blob in blobs:\n",
    "    y, x, r = blob  # x and y axes are flipped in hyperspy compared to numpy\n",
    "    r = np.sqrt(2) * r  # Scale blob radius to appear more like a real radius\n",
    "    r = max([minimum_r, r])  # Make sure that the radius is at least the specified minimum radius\n",
    "    R = np.sqrt((X - x) ** 2 + (Y - y) ** 2)\n",
    "    mask[R < r] = True\n",
    "\n",
    "fig, axes = plt.subplots(nrows=1, ncols=6, sharex=True, sharey=True)\n",
    "axes[0].imshow(image.data)\n",
    "axes[1].imshow(mask)\n",
    "axes[2].imshow(direct_beam_mask)\n",
    "axes[3].imshow(cutoff_mask)\n",
    "axes[4].imshow((image.data * ~(mask + direct_beam_mask))**0.256)\n",
    "axes[5].imshow((image.data * ~cutoff_mask)**0.256)"
   ],
   "metadata": {
    "collapsed": false,
    "pycharm": {
     "name": "#%%\n"
    }
   }
  }
 ],
 "metadata": {
  "kernelspec": {
   "display_name": "Python 3",
   "language": "python",
   "name": "python3"
  },
  "language_info": {
   "codemirror_mode": {
    "name": "ipython",
    "version": 2
   },
   "file_extension": ".py",
   "mimetype": "text/x-python",
   "name": "python",
   "nbconvert_exporter": "python",
   "pygments_lexer": "ipython2",
   "version": "2.7.6"
  }
 },
 "nbformat": 4,
 "nbformat_minor": 0
}